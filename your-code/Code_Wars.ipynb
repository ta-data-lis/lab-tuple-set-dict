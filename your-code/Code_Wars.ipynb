{
 "cells": [
  {
   "cell_type": "code",
   "execution_count": 1,
   "id": "46afcbd9-f21d-4944-bbd8-075ea8d6bded",
   "metadata": {},
   "outputs": [],
   "source": [
    "# Build a function that returns an array of integers from n to 1 where n>0.\n",
    "\n",
    "# Example : n=5 --> [5,4,3,2,1]"
   ]
  },
  {
   "cell_type": "code",
   "execution_count": 2,
   "id": "a0b74fdb-54b6-4333-abd1-2d25d6cf3bbc",
   "metadata": {},
   "outputs": [],
   "source": [
    "def reverseseq(n):\n",
    "    return list(range(n, 0, -1))"
   ]
  },
  {
   "cell_type": "code",
   "execution_count": 5,
   "id": "aff5a530-15e2-42ac-aa04-279bf60ff0a6",
   "metadata": {},
   "outputs": [
    {
     "data": {
      "text/plain": [
       "[5, 4, 3, 2, 1]"
      ]
     },
     "execution_count": 5,
     "metadata": {},
     "output_type": "execute_result"
    }
   ],
   "source": [
    "reverseseq(5)"
   ]
  },
  {
   "cell_type": "code",
   "execution_count": 15,
   "id": "0b0f4134-ff80-4131-8952-75ff43903841",
   "metadata": {},
   "outputs": [
    {
     "data": {
      "text/plain": [
       "[10, 9, 8, 7, 6, 5, 4, 3, 2, 1, 0]"
      ]
     },
     "execution_count": 15,
     "metadata": {},
     "output_type": "execute_result"
    }
   ],
   "source": [
    "#range(start, stop, step)\n",
    "#start: Starting number of the sequence.\n",
    "#stop: Generate numbers up to, but NOT INCLUDING this number.\n",
    "#step: Difference between each number in the sequence.\n",
    "\n",
    "def reverse_seq(n):\n",
    "    return list(range(n, 0, -1))\n",
    "\n",
    "reverse_seq(10)"
   ]
  },
  {
   "cell_type": "code",
   "execution_count": 27,
   "id": "35b033a1-ce54-4298-93cd-545e1d4f9f24",
   "metadata": {},
   "outputs": [
    {
     "data": {
      "text/plain": [
       "230"
      ]
     },
     "execution_count": 27,
     "metadata": {},
     "output_type": "execute_result"
    }
   ],
   "source": [
    "# #After a hard quarter in the office you decide to get some rest on a vacation. \n",
    "# So you will book a flight for you and your girlfriend and try to leave all the mess behind you.\n",
    "# #You will need a rental car in order for you to get around in your vacation. \n",
    "# The manager of the car rental makes you some good offers.\n",
    "# #Every day you rent the car costs $40. If you rent the car for 7 or more days, you get $50 off your total. \n",
    "# Alternatively, if you rent the car for 3 or more days, you get $20 off your total.0\n",
    "# #Write a code that gives out the total amount for different days(d).\n",
    "\n",
    "def rental_car_cost(d):\n",
    "    daily_cost = 40\n",
    "    if d >= 7:\n",
    "        discount = 50\n",
    "    elif d >= 3:\n",
    "        discount = 20\n",
    "    return daily_cost * d - discount\n",
    "        \n",
    "    \n",
    "rental_car_cost(7)    "
   ]
  },
  {
   "cell_type": "code",
   "execution_count": null,
   "id": "7325f800-4b2e-486c-a6ff-9154560863b5",
   "metadata": {},
   "outputs": [],
   "source": []
  },
  {
   "cell_type": "code",
   "execution_count": null,
   "id": "8e21f548-3515-49e9-a740-f9ac2eea5bf6",
   "metadata": {},
   "outputs": [],
   "source": []
  }
 ],
 "metadata": {
  "kernelspec": {
   "display_name": "Python 3",
   "language": "python",
   "name": "python3"
  },
  "language_info": {
   "codemirror_mode": {
    "name": "ipython",
    "version": 3
   },
   "file_extension": ".py",
   "mimetype": "text/x-python",
   "name": "python",
   "nbconvert_exporter": "python",
   "pygments_lexer": "ipython3",
   "version": "3.8.8"
  }
 },
 "nbformat": 4,
 "nbformat_minor": 5
}
