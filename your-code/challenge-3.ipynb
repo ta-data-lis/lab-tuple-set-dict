{
 "cells": [
  {
   "cell_type": "markdown",
   "metadata": {},
   "source": [
    "## Challenge 3: Dictionaries\n",
    "\n",
    "In this challenge you will practice how to manipulate Python dictionaries. Before starting on this challenge, you are encouraged to review W3School's [Python Dictionary Examples and Methods](https://www.w3schools.com/python/python_dictionaries.asp).\n",
    "\n",
    "First thing you will practice is how to sort the keys in a dictionary. Unlike the list object, Python dictionary does not have a built-in *sort* method. You'll need to use FOR loops to to sort dictionaries either by key or by value.\n",
    "\n",
    "The dictionary below is a summary of the word frequency of Ed Sheeran's song *Shape of You*. Each key is a word in the lyrics and the value is the number of times that word appears in the lyrics."
   ]
  },
  {
   "cell_type": "code",
   "execution_count": 1,
   "metadata": {},
   "outputs": [],
   "source": [
    "word_freq = {'love': 25, 'conversation': 1, 'every': 6, \"we're\": 1, 'plate': 1, 'sour': 1, 'jukebox': 1, 'now': 11, 'taxi': 1, 'fast': 1, 'bag': 1, 'man': 1, 'push': 3, 'baby': 14, 'going': 1, 'you': 16, \"don't\": 2, 'one': 1, 'mind': 2, 'backseat': 1, 'friends': 1, 'then': 3, 'know': 2, 'take': 1, 'play': 1, 'okay': 1, 'so': 2, 'begin': 1, 'start': 2, 'over': 1, 'body': 17, 'boy': 2, 'just': 1, 'we': 7, 'are': 1, 'girl': 2, 'tell': 1, 'singing': 2, 'drinking': 1, 'put': 3, 'our': 1, 'where': 1, \"i'll\": 1, 'all': 1, \"isn't\": 1, 'make': 1, 'lover': 1, 'get': 1, 'radio': 1, 'give': 1, \"i'm\": 23, 'like': 10, 'can': 1, 'doing': 2, 'with': 22, 'club': 1, 'come': 37, 'it': 1, 'somebody': 2, 'handmade': 2, 'out': 1, 'new': 6, 'room': 3, 'chance': 1, 'follow': 6, 'in': 27, 'may': 2, 'brand': 6, 'that': 2, 'magnet': 3, 'up': 3, 'first': 1, 'and': 23, 'pull': 3, 'of': 6, 'table': 1, 'much': 2, 'last': 3, 'i': 6, 'thrifty': 1, 'grab': 2, 'was': 2, 'driver': 1, 'slow': 1, 'dance': 1, 'the': 18, 'say': 2, 'trust': 1, 'family': 1, 'week': 1, 'date': 1, 'me': 10, 'do': 3, 'waist': 2, 'smell': 3, 'day': 6, 'although': 3, 'your': 21, 'leave': 1, 'want': 2, \"let's\": 2, 'lead': 6, 'at': 1, 'hand': 1, 'how': 1, 'talk': 4, 'not': 2, 'eat': 1, 'falling': 3, 'about': 1, 'story': 1, 'sweet': 1, 'best': 1, 'crazy': 2, 'let': 1, 'too': 5, 'van': 1, 'shots': 1, 'go': 2, 'to': 2, 'a': 8, 'my': 33, 'is': 5, 'place': 1, 'find': 1, 'shape': 6, 'on': 40, 'kiss': 1, 'were': 3, 'night': 3, 'heart': 3, 'for': 3, 'discovering': 6, 'something': 6, 'be': 16, 'bedsheets': 3, 'fill': 2, 'hours': 2, 'stop': 1, 'bar': 1}"
   ]
  },
  {
   "cell_type": "markdown",
   "metadata": {},
   "source": [
    "#### Sort the keys of `word_freq` ascendingly.\n",
    "\n",
    "Please create a new dictionary called `word_freq2` based on `word_freq` with the keys sorted ascedingly.\n",
    "\n",
    "There are several ways to achieve that goal but many of the ways are beyond what we have covered so far in the course. There is one way that we'll describe employing what you have learned. Please feel free to use this way or any other way you want.\n",
    "\n",
    "1. First extract the keys of `word_freq` and convert it to a list called `keys`.\n",
    "\n",
    "1. Sort the `keys` list.\n",
    "\n",
    "1. Create an empty dictionary `word_freq2`.\n",
    "\n",
    "1. Use a FOR loop to iterate each value in `keys`. For each key iterated, find the corresponding value in `word_freq` and insert the key-value pair to `word_freq2`.\n",
    "\n",
    "Print out `word_freq2` to examine its keys and values. Your output should be:\n",
    "\n",
    "```python\n",
    "{'a': 8, 'about': 1, 'all': 1, 'although': 3, 'and': 23, 'are': 1, 'at': 1, 'baby': 14, 'backseat': 1, 'bag': 1, 'bar': 1, 'be': 16, 'bedsheets': 3, 'begin': 1, 'best': 1, 'body': 17, 'boy': 2, 'brand': 6, 'can': 1, 'chance': 1, 'club': 1, 'come': 37, 'conversation': 1, 'crazy': 2, 'dance': 1, 'date': 1, 'day': 6, 'discovering': 6, 'do': 3, 'doing': 2, \"don't\": 2, 'drinking': 1, 'driver': 1, 'eat': 1, 'every': 6, 'falling': 3, 'family': 1, 'fast': 1, 'fill': 2, 'find': 1, 'first': 1, 'follow': 6, 'for': 3, 'friends': 1, 'get': 1, 'girl': 2, 'give': 1, 'go': 2, 'going': 1, 'grab': 2, 'hand': 1, 'handmade': 2, 'heart': 3, 'hours': 2, 'how': 1, 'i': 6, \"i'll\": 1, \"i'm\": 23, 'in': 27, 'is': 5, \"isn't\": 1, 'it': 1, 'jukebox': 1, 'just': 1, 'kiss': 1, 'know': 2, 'last': 3, 'lead': 6, 'leave': 1, 'let': 1, \"let's\": 2, 'like': 10, 'love': 25, 'lover': 1, 'magnet': 3, 'make': 1, 'man': 1, 'may': 2, 'me': 10, 'mind': 2, 'much': 2, 'my': 33, 'new': 6, 'night': 3, 'not': 2, 'now': 11, 'of': 6, 'okay': 1, 'on': 40, 'one': 1, 'our': 1, 'out': 1, 'over': 1, 'place': 1, 'plate': 1, 'play': 1, 'pull': 3, 'push': 3, 'put': 3, 'radio': 1, 'room': 3, 'say': 2, 'shape': 6, 'shots': 1, 'singing': 2, 'slow': 1, 'smell': 3, 'so': 2, 'somebody': 2, 'something': 6, 'sour': 1, 'start': 2, 'stop': 1, 'story': 1, 'sweet': 1, 'table': 1, 'take': 1, 'talk': 4, 'taxi': 1, 'tell': 1, 'that': 2, 'the': 18, 'then': 3, 'thrifty': 1, 'to': 2, 'too': 5, 'trust': 1, 'up': 3, 'van': 1, 'waist': 2, 'want': 2, 'was': 2, 'we': 7, \"we're\": 1, 'week': 1, 'were': 3, 'where': 1, 'with': 22, 'you': 16, 'your': 21}\n",
    "```"
   ]
  },
  {
   "cell_type": "code",
   "execution_count": 2,
   "metadata": {},
   "outputs": [
    {
     "name": "stdout",
     "output_type": "stream",
     "text": [
      "dict_keys(['love', 'conversation', 'every', \"we're\", 'plate', 'sour', 'jukebox', 'now', 'taxi', 'fast', 'bag', 'man', 'push', 'baby', 'going', 'you', \"don't\", 'one', 'mind', 'backseat', 'friends', 'then', 'know', 'take', 'play', 'okay', 'so', 'begin', 'start', 'over', 'body', 'boy', 'just', 'we', 'are', 'girl', 'tell', 'singing', 'drinking', 'put', 'our', 'where', \"i'll\", 'all', \"isn't\", 'make', 'lover', 'get', 'radio', 'give', \"i'm\", 'like', 'can', 'doing', 'with', 'club', 'come', 'it', 'somebody', 'handmade', 'out', 'new', 'room', 'chance', 'follow', 'in', 'may', 'brand', 'that', 'magnet', 'up', 'first', 'and', 'pull', 'of', 'table', 'much', 'last', 'i', 'thrifty', 'grab', 'was', 'driver', 'slow', 'dance', 'the', 'say', 'trust', 'family', 'week', 'date', 'me', 'do', 'waist', 'smell', 'day', 'although', 'your', 'leave', 'want', \"let's\", 'lead', 'at', 'hand', 'how', 'talk', 'not', 'eat', 'falling', 'about', 'story', 'sweet', 'best', 'crazy', 'let', 'too', 'van', 'shots', 'go', 'to', 'a', 'my', 'is', 'place', 'find', 'shape', 'on', 'kiss', 'were', 'night', 'heart', 'for', 'discovering', 'something', 'be', 'bedsheets', 'fill', 'hours', 'stop', 'bar'])\n"
     ]
    }
   ],
   "source": [
    "keys=word_freq.keys()\n",
    "print(keys)"
   ]
  },
  {
   "cell_type": "code",
   "execution_count": null,
   "metadata": {},
   "outputs": [],
   "source": [
    "#Outra solução\n",
    "keys=list(word_freq.keys())\n",
    "print(keys)"
   ]
  },
  {
   "cell_type": "code",
   "execution_count": null,
   "metadata": {},
   "outputs": [],
   "source": [
    "#Outra solução\n",
    "keys=[]\n",
    "for x in word_freq.keys():\n",
    "    keys.append(x)\n",
    "\n",
    "print(keys)"
   ]
  },
  {
   "cell_type": "code",
   "execution_count": 3,
   "metadata": {},
   "outputs": [
    {
     "name": "stdout",
     "output_type": "stream",
     "text": [
      "['a', 'about', 'all', 'although', 'and', 'are', 'at', 'baby', 'backseat', 'bag', 'bar', 'be', 'bedsheets', 'begin', 'best', 'body', 'boy', 'brand', 'can', 'chance', 'club', 'come', 'conversation', 'crazy', 'dance', 'date', 'day', 'discovering', 'do', 'doing', \"don't\", 'drinking', 'driver', 'eat', 'every', 'falling', 'family', 'fast', 'fill', 'find', 'first', 'follow', 'for', 'friends', 'get', 'girl', 'give', 'go', 'going', 'grab', 'hand', 'handmade', 'heart', 'hours', 'how', 'i', \"i'll\", \"i'm\", 'in', 'is', \"isn't\", 'it', 'jukebox', 'just', 'kiss', 'know', 'last', 'lead', 'leave', 'let', \"let's\", 'like', 'love', 'lover', 'magnet', 'make', 'man', 'may', 'me', 'mind', 'much', 'my', 'new', 'night', 'not', 'now', 'of', 'okay', 'on', 'one', 'our', 'out', 'over', 'place', 'plate', 'play', 'pull', 'push', 'put', 'radio', 'room', 'say', 'shape', 'shots', 'singing', 'slow', 'smell', 'so', 'somebody', 'something', 'sour', 'start', 'stop', 'story', 'sweet', 'table', 'take', 'talk', 'taxi', 'tell', 'that', 'the', 'then', 'thrifty', 'to', 'too', 'trust', 'up', 'van', 'waist', 'want', 'was', 'we', \"we're\", 'week', 'were', 'where', 'with', 'you', 'your']\n"
     ]
    }
   ],
   "source": [
    "print(sorted(keys))"
   ]
  },
  {
   "cell_type": "code",
   "execution_count": 4,
   "metadata": {},
   "outputs": [
    {
     "name": "stdout",
     "output_type": "stream",
     "text": [
      "{'a': 8, 'about': 1, 'all': 1, 'although': 3, 'and': 23, 'are': 1, 'at': 1, 'baby': 14, 'backseat': 1, 'bag': 1, 'bar': 1, 'be': 16, 'bedsheets': 3, 'begin': 1, 'best': 1, 'body': 17, 'boy': 2, 'brand': 6, 'can': 1, 'chance': 1, 'club': 1, 'come': 37, 'conversation': 1, 'crazy': 2, 'dance': 1, 'date': 1, 'day': 6, 'discovering': 6, 'do': 3, 'doing': 2, \"don't\": 2, 'drinking': 1, 'driver': 1, 'eat': 1, 'every': 6, 'falling': 3, 'family': 1, 'fast': 1, 'fill': 2, 'find': 1, 'first': 1, 'follow': 6, 'for': 3, 'friends': 1, 'get': 1, 'girl': 2, 'give': 1, 'go': 2, 'going': 1, 'grab': 2, 'hand': 1, 'handmade': 2, 'heart': 3, 'hours': 2, 'how': 1, 'i': 6, \"i'll\": 1, \"i'm\": 23, 'in': 27, 'is': 5, \"isn't\": 1, 'it': 1, 'jukebox': 1, 'just': 1, 'kiss': 1, 'know': 2, 'last': 3, 'lead': 6, 'leave': 1, 'let': 1, \"let's\": 2, 'like': 10, 'love': 25, 'lover': 1, 'magnet': 3, 'make': 1, 'man': 1, 'may': 2, 'me': 10, 'mind': 2, 'much': 2, 'my': 33, 'new': 6, 'night': 3, 'not': 2, 'now': 11, 'of': 6, 'okay': 1, 'on': 40, 'one': 1, 'our': 1, 'out': 1, 'over': 1, 'place': 1, 'plate': 1, 'play': 1, 'pull': 3, 'push': 3, 'put': 3, 'radio': 1, 'room': 3, 'say': 2, 'shape': 6, 'shots': 1, 'singing': 2, 'slow': 1, 'smell': 3, 'so': 2, 'somebody': 2, 'something': 6, 'sour': 1, 'start': 2, 'stop': 1, 'story': 1, 'sweet': 1, 'table': 1, 'take': 1, 'talk': 4, 'taxi': 1, 'tell': 1, 'that': 2, 'the': 18, 'then': 3, 'thrifty': 1, 'to': 2, 'too': 5, 'trust': 1, 'up': 3, 'van': 1, 'waist': 2, 'want': 2, 'was': 2, 'we': 7, \"we're\": 1, 'week': 1, 'were': 3, 'where': 1, 'with': 22, 'you': 16, 'your': 21}\n"
     ]
    }
   ],
   "source": [
    "word_freq2={}\n",
    "\n",
    "for value in sorted(keys):\n",
    "    word_freq2[value]=word_freq.get(value)\n",
    "\n",
    "print(word_freq2)"
   ]
  },
  {
   "cell_type": "markdown",
   "metadata": {},
   "source": [
    "#### Sort the values of `word_freq` ascendingly.\n",
    "\n",
    "Sorting the values of a dictionary is more tricky than sorting the keys because a dictionary's values are not unique. Therefore you cannot use the same way you sorted dict keys to sort dict values.\n",
    "\n",
    "The way to sort a dict by value is to utilize the `sorted` and `operator.itemgetter` functions. The following code snippet is provided to you to try. It will give you a list of tuples in which each tuple contains the key and value of a dict item. And the list is sorted based on the dict value ([reference](http://thomas-cokelaer.info/blog/2017/12/how-to-sort-a-dictionary-by-values-in-python/)\n",
    ").\n",
    "\n",
    "```python\n",
    "import operator\n",
    "sorted_tups = sorted(word_freq.items(), key=operator.itemgetter(1))\n",
    "print(sorted_tups)\n",
    "```\n",
    "\n",
    "Therefore, the steps to sort `word_freq` by value are:\n",
    "\n",
    "* Using `sorted` and `operator.itemgetter`, obtain a list of tuples of the dict key-value pairs which is sorted on the value.\n",
    "\n",
    "* Create an empty dictionary named `word_freq2`.\n",
    "\n",
    "* Iterate the list of tuples. Insert each key-value pair into `word_freq2` as an object.\n",
    "\n",
    "Print `word_freq2` to confirm your dictionary has its values sorted. Your output should be:\n",
    "\n",
    "```python\n",
    "{'conversation': 1, \"we're\": 1, 'plate': 1, 'sour': 1, 'jukebox': 1, 'taxi': 1, 'fast': 1, 'bag': 1, 'man': 1, 'going': 1, 'one': 1, 'backseat': 1, 'friends': 1, 'take': 1, 'play': 1, 'okay': 1, 'begin': 1, 'over': 1, 'just': 1, 'are': 1, 'tell': 1, 'drinking': 1, 'our': 1, 'where': 1, \"i'll\": 1, 'all': 1, \"isn't\": 1, 'make': 1, 'lover': 1, 'get': 1, 'radio': 1, 'give': 1, 'can': 1, 'club': 1, 'it': 1, 'out': 1, 'chance': 1, 'first': 1, 'table': 1, 'thrifty': 1, 'driver': 1, 'slow': 1, 'dance': 1, 'trust': 1, 'family': 1, 'week': 1, 'date': 1, 'leave': 1, 'at': 1, 'hand': 1, 'how': 1, 'eat': 1, 'about': 1, 'story': 1, 'sweet': 1, 'best': 1, 'let': 1, 'van': 1, 'shots': 1, 'place': 1, 'find': 1, 'kiss': 1, 'stop': 1, 'bar': 1, \"don't\": 2, 'mind': 2, 'know': 2, 'so': 2, 'start': 2, 'boy': 2, 'girl': 2, 'singing': 2, 'doing': 2, 'somebody': 2, 'handmade': 2, 'may': 2, 'that': 2, 'much': 2, 'grab': 2, 'was': 2, 'say': 2, 'waist': 2, 'want': 2, \"let's\": 2, 'not': 2, 'crazy': 2, 'go': 2, 'to': 2, 'fill': 2, 'hours': 2, 'push': 3, 'then': 3, 'put': 3, 'room': 3, 'magnet': 3, 'up': 3, 'pull': 3, 'last': 3, 'do': 3, 'smell': 3, 'although': 3, 'falling': 3, 'were': 3, 'night': 3, 'heart': 3, 'for': 3, 'bedsheets': 3, 'talk': 4, 'too': 5, 'is': 5, 'every': 6, 'new': 6, 'follow': 6, 'brand': 6, 'of': 6, 'i': 6, 'day': 6, 'lead': 6, 'shape': 6, 'discovering': 6, 'something': 6, 'we': 7, 'a': 8, 'like': 10, 'me': 10, 'now': 11, 'baby': 14, 'you': 16, 'be': 16, 'body': 17, 'the': 18, 'your': 21, 'with': 22, \"i'm\": 23, 'and': 23, 'love': 25, 'in': 27, 'my': 33, 'come': 37, 'on': 40}\n",
    "```"
   ]
  },
  {
   "cell_type": "code",
   "execution_count": 19,
   "metadata": {},
   "outputs": [
    {
     "name": "stdout",
     "output_type": "stream",
     "text": [
      "[('conversation', 1), (\"we're\", 1), ('plate', 1), ('sour', 1), ('jukebox', 1), ('taxi', 1), ('fast', 1), ('bag', 1), ('man', 1), ('going', 1), ('one', 1), ('backseat', 1), ('friends', 1), ('take', 1), ('play', 1), ('okay', 1), ('begin', 1), ('over', 1), ('just', 1), ('are', 1), ('tell', 1), ('drinking', 1), ('our', 1), ('where', 1), (\"i'll\", 1), ('all', 1), (\"isn't\", 1), ('make', 1), ('lover', 1), ('get', 1), ('radio', 1), ('give', 1), ('can', 1), ('club', 1), ('it', 1), ('out', 1), ('chance', 1), ('first', 1), ('table', 1), ('thrifty', 1), ('driver', 1), ('slow', 1), ('dance', 1), ('trust', 1), ('family', 1), ('week', 1), ('date', 1), ('leave', 1), ('at', 1), ('hand', 1), ('how', 1), ('eat', 1), ('about', 1), ('story', 1), ('sweet', 1), ('best', 1), ('let', 1), ('van', 1), ('shots', 1), ('place', 1), ('find', 1), ('kiss', 1), ('stop', 1), ('bar', 1), (\"don't\", 2), ('mind', 2), ('know', 2), ('so', 2), ('start', 2), ('boy', 2), ('girl', 2), ('singing', 2), ('doing', 2), ('somebody', 2), ('handmade', 2), ('may', 2), ('that', 2), ('much', 2), ('grab', 2), ('was', 2), ('say', 2), ('waist', 2), ('want', 2), (\"let's\", 2), ('not', 2), ('crazy', 2), ('go', 2), ('to', 2), ('fill', 2), ('hours', 2), ('push', 3), ('then', 3), ('put', 3), ('room', 3), ('magnet', 3), ('up', 3), ('pull', 3), ('last', 3), ('do', 3), ('smell', 3), ('although', 3), ('falling', 3), ('were', 3), ('night', 3), ('heart', 3), ('for', 3), ('bedsheets', 3), ('talk', 4), ('too', 5), ('is', 5), ('every', 6), ('new', 6), ('follow', 6), ('brand', 6), ('of', 6), ('i', 6), ('day', 6), ('lead', 6), ('shape', 6), ('discovering', 6), ('something', 6), ('we', 7), ('a', 8), ('like', 10), ('me', 10), ('now', 11), ('baby', 14), ('you', 16), ('be', 16), ('body', 17), ('the', 18), ('your', 21), ('with', 22), (\"i'm\", 23), ('and', 23), ('love', 25), ('in', 27), ('my', 33), ('come', 37), ('on', 40)]\n",
      "{'conversation': 1, \"we're\": 1, 'plate': 1, 'sour': 1, 'jukebox': 1, 'taxi': 1, 'fast': 1, 'bag': 1, 'man': 1, 'going': 1, 'one': 1, 'backseat': 1, 'friends': 1, 'take': 1, 'play': 1, 'okay': 1, 'begin': 1, 'over': 1, 'just': 1, 'are': 1, 'tell': 1, 'drinking': 1, 'our': 1, 'where': 1, \"i'll\": 1, 'all': 1, \"isn't\": 1, 'make': 1, 'lover': 1, 'get': 1, 'radio': 1, 'give': 1, 'can': 1, 'club': 1, 'it': 1, 'out': 1, 'chance': 1, 'first': 1, 'table': 1, 'thrifty': 1, 'driver': 1, 'slow': 1, 'dance': 1, 'trust': 1, 'family': 1, 'week': 1, 'date': 1, 'leave': 1, 'at': 1, 'hand': 1, 'how': 1, 'eat': 1, 'about': 1, 'story': 1, 'sweet': 1, 'best': 1, 'let': 1, 'van': 1, 'shots': 1, 'place': 1, 'find': 1, 'kiss': 1, 'stop': 1, 'bar': 1, \"don't\": 2, 'mind': 2, 'know': 2, 'so': 2, 'start': 2, 'boy': 2, 'girl': 2, 'singing': 2, 'doing': 2, 'somebody': 2, 'handmade': 2, 'may': 2, 'that': 2, 'much': 2, 'grab': 2, 'was': 2, 'say': 2, 'waist': 2, 'want': 2, \"let's\": 2, 'not': 2, 'crazy': 2, 'go': 2, 'to': 2, 'fill': 2, 'hours': 2, 'push': 3, 'then': 3, 'put': 3, 'room': 3, 'magnet': 3, 'up': 3, 'pull': 3, 'last': 3, 'do': 3, 'smell': 3, 'although': 3, 'falling': 3, 'were': 3, 'night': 3, 'heart': 3, 'for': 3, 'bedsheets': 3, 'talk': 4, 'too': 5, 'is': 5, 'every': 6, 'new': 6, 'follow': 6, 'brand': 6, 'of': 6, 'i': 6, 'day': 6, 'lead': 6, 'shape': 6, 'discovering': 6, 'something': 6, 'we': 7, 'a': 8, 'like': 10, 'me': 10, 'now': 11, 'baby': 14, 'you': 16, 'be': 16, 'body': 17, 'the': 18, 'your': 21, 'with': 22, \"i'm\": 23, 'and': 23, 'love': 25, 'in': 27, 'my': 33, 'come': 37, 'on': 40}\n"
     ]
    }
   ],
   "source": [
    "import operator\n",
    "sorted_tups = sorted(word_freq.items(), key=operator.itemgetter(1))\n",
    "print(sorted_tups)\n",
    "\n",
    "\n",
    "def convert(tup,di):\n",
    "    di=dict(tup)\n",
    "    return di\n",
    "\n",
    "print(convert(sorted_tups,word_freq2))\n"
   ]
  },
  {
   "cell_type": "code",
   "execution_count": 13,
   "metadata": {},
   "outputs": [
    {
     "name": "stdout",
     "output_type": "stream",
     "text": [
      "[('conversation', 1), (\"we're\", 1), ('plate', 1), ('sour', 1), ('jukebox', 1), ('taxi', 1), ('fast', 1), ('bag', 1), ('man', 1), ('going', 1), ('one', 1), ('backseat', 1), ('friends', 1), ('take', 1), ('play', 1), ('okay', 1), ('begin', 1), ('over', 1), ('just', 1), ('are', 1), ('tell', 1), ('drinking', 1), ('our', 1), ('where', 1), (\"i'll\", 1), ('all', 1), (\"isn't\", 1), ('make', 1), ('lover', 1), ('get', 1), ('radio', 1), ('give', 1), ('can', 1), ('club', 1), ('it', 1), ('out', 1), ('chance', 1), ('first', 1), ('table', 1), ('thrifty', 1), ('driver', 1), ('slow', 1), ('dance', 1), ('trust', 1), ('family', 1), ('week', 1), ('date', 1), ('leave', 1), ('at', 1), ('hand', 1), ('how', 1), ('eat', 1), ('about', 1), ('story', 1), ('sweet', 1), ('best', 1), ('let', 1), ('van', 1), ('shots', 1), ('place', 1), ('find', 1), ('kiss', 1), ('stop', 1), ('bar', 1), (\"don't\", 2), ('mind', 2), ('know', 2), ('so', 2), ('start', 2), ('boy', 2), ('girl', 2), ('singing', 2), ('doing', 2), ('somebody', 2), ('handmade', 2), ('may', 2), ('that', 2), ('much', 2), ('grab', 2), ('was', 2), ('say', 2), ('waist', 2), ('want', 2), (\"let's\", 2), ('not', 2), ('crazy', 2), ('go', 2), ('to', 2), ('fill', 2), ('hours', 2), ('push', 3), ('then', 3), ('put', 3), ('room', 3), ('magnet', 3), ('up', 3), ('pull', 3), ('last', 3), ('do', 3), ('smell', 3), ('although', 3), ('falling', 3), ('were', 3), ('night', 3), ('heart', 3), ('for', 3), ('bedsheets', 3), ('talk', 4), ('too', 5), ('is', 5), ('every', 6), ('new', 6), ('follow', 6), ('brand', 6), ('of', 6), ('i', 6), ('day', 6), ('lead', 6), ('shape', 6), ('discovering', 6), ('something', 6), ('we', 7), ('a', 8), ('like', 10), ('me', 10), ('now', 11), ('baby', 14), ('you', 16), ('be', 16), ('body', 17), ('the', 18), ('your', 21), ('with', 22), (\"i'm\", 23), ('and', 23), ('love', 25), ('in', 27), ('my', 33), ('come', 37), ('on', 40)]\n",
      "{'conversation': [1], \"we're\": [1], 'plate': [1], 'sour': [1], 'jukebox': [1], 'taxi': [1], 'fast': [1], 'bag': [1], 'man': [1], 'going': [1], 'one': [1], 'backseat': [1], 'friends': [1], 'take': [1], 'play': [1], 'okay': [1], 'begin': [1], 'over': [1], 'just': [1], 'are': [1], 'tell': [1], 'drinking': [1], 'our': [1], 'where': [1], \"i'll\": [1], 'all': [1], \"isn't\": [1], 'make': [1], 'lover': [1], 'get': [1], 'radio': [1], 'give': [1], 'can': [1], 'club': [1], 'it': [1], 'out': [1], 'chance': [1], 'first': [1], 'table': [1], 'thrifty': [1], 'driver': [1], 'slow': [1], 'dance': [1], 'trust': [1], 'family': [1], 'week': [1], 'date': [1], 'leave': [1], 'at': [1], 'hand': [1], 'how': [1], 'eat': [1], 'about': [1], 'story': [1], 'sweet': [1], 'best': [1], 'let': [1], 'van': [1], 'shots': [1], 'place': [1], 'find': [1], 'kiss': [1], 'stop': [1], 'bar': [1], \"don't\": [2], 'mind': [2], 'know': [2], 'so': [2], 'start': [2], 'boy': [2], 'girl': [2], 'singing': [2], 'doing': [2], 'somebody': [2], 'handmade': [2], 'may': [2], 'that': [2], 'much': [2], 'grab': [2], 'was': [2], 'say': [2], 'waist': [2], 'want': [2], \"let's\": [2], 'not': [2], 'crazy': [2], 'go': [2], 'to': [2], 'fill': [2], 'hours': [2], 'push': [3], 'then': [3], 'put': [3], 'room': [3], 'magnet': [3], 'up': [3], 'pull': [3], 'last': [3], 'do': [3], 'smell': [3], 'although': [3], 'falling': [3], 'were': [3], 'night': [3], 'heart': [3], 'for': [3], 'bedsheets': [3], 'talk': [4], 'too': [5], 'is': [5], 'every': [6], 'new': [6], 'follow': [6], 'brand': [6], 'of': [6], 'i': [6], 'day': [6], 'lead': [6], 'shape': [6], 'discovering': [6], 'something': [6], 'we': [7], 'a': [8], 'like': [10], 'me': [10], 'now': [11], 'baby': [14], 'you': [16], 'be': [16], 'body': [17], 'the': [18], 'your': [21], 'with': [22], \"i'm\": [23], 'and': [23], 'love': [25], 'in': [27], 'my': [33], 'come': [37], 'on': [40]}\n"
     ]
    }
   ],
   "source": [
    "#OUTRA SOLUÇÃO, porém o output é ligeiramente diferente\n",
    "\n",
    "import operator\n",
    "sorted_tups = sorted(word_freq.items(), key=operator.itemgetter(1))\n",
    "print(sorted_tups)\n",
    "\n",
    "word_freq2={}\n",
    "\n",
    "for word, value in sorted_tups:\n",
    "    word_freq2.setdefault(word,[]).append(value)\n",
    "\n",
    "print(word_freq2)\n"
   ]
  },
  {
   "cell_type": "markdown",
   "metadata": {},
   "source": [
    "#### Convert `word_freq` into Pandas dataframes\n",
    "\n",
    "In your future work, you may need to convert Python dictionaries to Pandas dataframes. So let's practice this by converting `word_freq`.\n",
    "\n",
    "**First, import the `pandas` library.**"
   ]
  },
  {
   "cell_type": "code",
   "execution_count": 14,
   "metadata": {},
   "outputs": [],
   "source": [
    "import pandas as pd"
   ]
  },
  {
   "cell_type": "markdown",
   "metadata": {},
   "source": [
    "**Then, use the `pd.DataFrame()` constructor to convert `word_freq` into a dataframe.**\n",
    "\n",
    "Here's a [reference](https://stackoverflow.com/questions/18837262/convert-python-dict-into-a-dataframe) to show you how to accomplish this. Also name the two columns of the dataframe as `word` and `freq`.\n",
    "\n",
    "Assign the converted value to a variable called `df`. The first few rows of `df` should look like this:\n",
    "\n",
    "![df](df.png)"
   ]
  },
  {
   "cell_type": "code",
   "execution_count": 23,
   "metadata": {},
   "outputs": [
    {
     "data": {
      "text/html": [
       "<div>\n",
       "<style scoped>\n",
       "    .dataframe tbody tr th:only-of-type {\n",
       "        vertical-align: middle;\n",
       "    }\n",
       "\n",
       "    .dataframe tbody tr th {\n",
       "        vertical-align: top;\n",
       "    }\n",
       "\n",
       "    .dataframe thead th {\n",
       "        text-align: right;\n",
       "    }\n",
       "</style>\n",
       "<table border=\"1\" class=\"dataframe\">\n",
       "  <thead>\n",
       "    <tr style=\"text-align: right;\">\n",
       "      <th></th>\n",
       "      <th>word</th>\n",
       "      <th>freq</th>\n",
       "    </tr>\n",
       "  </thead>\n",
       "  <tbody>\n",
       "    <tr>\n",
       "      <th>0</th>\n",
       "      <td>love</td>\n",
       "      <td>25</td>\n",
       "    </tr>\n",
       "    <tr>\n",
       "      <th>1</th>\n",
       "      <td>conversation</td>\n",
       "      <td>1</td>\n",
       "    </tr>\n",
       "    <tr>\n",
       "      <th>2</th>\n",
       "      <td>every</td>\n",
       "      <td>6</td>\n",
       "    </tr>\n",
       "    <tr>\n",
       "      <th>3</th>\n",
       "      <td>we're</td>\n",
       "      <td>1</td>\n",
       "    </tr>\n",
       "    <tr>\n",
       "      <th>4</th>\n",
       "      <td>plate</td>\n",
       "      <td>1</td>\n",
       "    </tr>\n",
       "    <tr>\n",
       "      <th>...</th>\n",
       "      <td>...</td>\n",
       "      <td>...</td>\n",
       "    </tr>\n",
       "    <tr>\n",
       "      <th>135</th>\n",
       "      <td>bedsheets</td>\n",
       "      <td>3</td>\n",
       "    </tr>\n",
       "    <tr>\n",
       "      <th>136</th>\n",
       "      <td>fill</td>\n",
       "      <td>2</td>\n",
       "    </tr>\n",
       "    <tr>\n",
       "      <th>137</th>\n",
       "      <td>hours</td>\n",
       "      <td>2</td>\n",
       "    </tr>\n",
       "    <tr>\n",
       "      <th>138</th>\n",
       "      <td>stop</td>\n",
       "      <td>1</td>\n",
       "    </tr>\n",
       "    <tr>\n",
       "      <th>139</th>\n",
       "      <td>bar</td>\n",
       "      <td>1</td>\n",
       "    </tr>\n",
       "  </tbody>\n",
       "</table>\n",
       "<p>140 rows × 2 columns</p>\n",
       "</div>"
      ],
      "text/plain": [
       "             word  freq\n",
       "0            love    25\n",
       "1    conversation     1\n",
       "2           every     6\n",
       "3           we're     1\n",
       "4           plate     1\n",
       "..            ...   ...\n",
       "135     bedsheets     3\n",
       "136          fill     2\n",
       "137         hours     2\n",
       "138          stop     1\n",
       "139           bar     1\n",
       "\n",
       "[140 rows x 2 columns]"
      ]
     },
     "execution_count": 23,
     "metadata": {},
     "output_type": "execute_result"
    }
   ],
   "source": [
    "df=pd.DataFrame(word_freq.items(), columns=['word', 'freq'])\n",
    "df"
   ]
  },
  {
   "cell_type": "markdown",
   "metadata": {},
   "source": [
    "With the Pandas DataFrame, you can sort the values easily with the built-in method `sort_values` ([reference](https://pandas.pydata.org/pandas-docs/stable/generated/pandas.DataFrame.sort_values.html)).\n",
    "\n",
    "#### Sort `df` ascendingly based on column `word`."
   ]
  },
  {
   "cell_type": "code",
   "execution_count": 24,
   "metadata": {},
   "outputs": [
    {
     "data": {
      "text/html": [
       "<div>\n",
       "<style scoped>\n",
       "    .dataframe tbody tr th:only-of-type {\n",
       "        vertical-align: middle;\n",
       "    }\n",
       "\n",
       "    .dataframe tbody tr th {\n",
       "        vertical-align: top;\n",
       "    }\n",
       "\n",
       "    .dataframe thead th {\n",
       "        text-align: right;\n",
       "    }\n",
       "</style>\n",
       "<table border=\"1\" class=\"dataframe\">\n",
       "  <thead>\n",
       "    <tr style=\"text-align: right;\">\n",
       "      <th></th>\n",
       "      <th>word</th>\n",
       "      <th>freq</th>\n",
       "    </tr>\n",
       "  </thead>\n",
       "  <tbody>\n",
       "    <tr>\n",
       "      <th>120</th>\n",
       "      <td>a</td>\n",
       "      <td>8</td>\n",
       "    </tr>\n",
       "    <tr>\n",
       "      <th>109</th>\n",
       "      <td>about</td>\n",
       "      <td>1</td>\n",
       "    </tr>\n",
       "    <tr>\n",
       "      <th>43</th>\n",
       "      <td>all</td>\n",
       "      <td>1</td>\n",
       "    </tr>\n",
       "    <tr>\n",
       "      <th>96</th>\n",
       "      <td>although</td>\n",
       "      <td>3</td>\n",
       "    </tr>\n",
       "    <tr>\n",
       "      <th>72</th>\n",
       "      <td>and</td>\n",
       "      <td>23</td>\n",
       "    </tr>\n",
       "    <tr>\n",
       "      <th>...</th>\n",
       "      <td>...</td>\n",
       "      <td>...</td>\n",
       "    </tr>\n",
       "    <tr>\n",
       "      <th>128</th>\n",
       "      <td>were</td>\n",
       "      <td>3</td>\n",
       "    </tr>\n",
       "    <tr>\n",
       "      <th>41</th>\n",
       "      <td>where</td>\n",
       "      <td>1</td>\n",
       "    </tr>\n",
       "    <tr>\n",
       "      <th>54</th>\n",
       "      <td>with</td>\n",
       "      <td>22</td>\n",
       "    </tr>\n",
       "    <tr>\n",
       "      <th>15</th>\n",
       "      <td>you</td>\n",
       "      <td>16</td>\n",
       "    </tr>\n",
       "    <tr>\n",
       "      <th>97</th>\n",
       "      <td>your</td>\n",
       "      <td>21</td>\n",
       "    </tr>\n",
       "  </tbody>\n",
       "</table>\n",
       "<p>140 rows × 2 columns</p>\n",
       "</div>"
      ],
      "text/plain": [
       "         word  freq\n",
       "120         a     8\n",
       "109     about     1\n",
       "43        all     1\n",
       "96   although     3\n",
       "72        and    23\n",
       "..        ...   ...\n",
       "128      were     3\n",
       "41      where     1\n",
       "54       with    22\n",
       "15        you    16\n",
       "97       your    21\n",
       "\n",
       "[140 rows x 2 columns]"
      ]
     },
     "execution_count": 24,
     "metadata": {},
     "output_type": "execute_result"
    }
   ],
   "source": [
    "df.sort_values(by='word')\n"
   ]
  },
  {
   "cell_type": "markdown",
   "metadata": {},
   "source": [
    "#### Sort `df` ascendingly based on column `freq`."
   ]
  },
  {
   "cell_type": "code",
   "execution_count": 25,
   "metadata": {},
   "outputs": [
    {
     "data": {
      "text/html": [
       "<div>\n",
       "<style scoped>\n",
       "    .dataframe tbody tr th:only-of-type {\n",
       "        vertical-align: middle;\n",
       "    }\n",
       "\n",
       "    .dataframe tbody tr th {\n",
       "        vertical-align: top;\n",
       "    }\n",
       "\n",
       "    .dataframe thead th {\n",
       "        text-align: right;\n",
       "    }\n",
       "</style>\n",
       "<table border=\"1\" class=\"dataframe\">\n",
       "  <thead>\n",
       "    <tr style=\"text-align: right;\">\n",
       "      <th></th>\n",
       "      <th>word</th>\n",
       "      <th>freq</th>\n",
       "    </tr>\n",
       "  </thead>\n",
       "  <tbody>\n",
       "    <tr>\n",
       "      <th>139</th>\n",
       "      <td>bar</td>\n",
       "      <td>1</td>\n",
       "    </tr>\n",
       "    <tr>\n",
       "      <th>114</th>\n",
       "      <td>let</td>\n",
       "      <td>1</td>\n",
       "    </tr>\n",
       "    <tr>\n",
       "      <th>116</th>\n",
       "      <td>van</td>\n",
       "      <td>1</td>\n",
       "    </tr>\n",
       "    <tr>\n",
       "      <th>60</th>\n",
       "      <td>out</td>\n",
       "      <td>1</td>\n",
       "    </tr>\n",
       "    <tr>\n",
       "      <th>57</th>\n",
       "      <td>it</td>\n",
       "      <td>1</td>\n",
       "    </tr>\n",
       "    <tr>\n",
       "      <th>...</th>\n",
       "      <td>...</td>\n",
       "      <td>...</td>\n",
       "    </tr>\n",
       "    <tr>\n",
       "      <th>0</th>\n",
       "      <td>love</td>\n",
       "      <td>25</td>\n",
       "    </tr>\n",
       "    <tr>\n",
       "      <th>65</th>\n",
       "      <td>in</td>\n",
       "      <td>27</td>\n",
       "    </tr>\n",
       "    <tr>\n",
       "      <th>121</th>\n",
       "      <td>my</td>\n",
       "      <td>33</td>\n",
       "    </tr>\n",
       "    <tr>\n",
       "      <th>56</th>\n",
       "      <td>come</td>\n",
       "      <td>37</td>\n",
       "    </tr>\n",
       "    <tr>\n",
       "      <th>126</th>\n",
       "      <td>on</td>\n",
       "      <td>40</td>\n",
       "    </tr>\n",
       "  </tbody>\n",
       "</table>\n",
       "<p>140 rows × 2 columns</p>\n",
       "</div>"
      ],
      "text/plain": [
       "     word  freq\n",
       "139   bar     1\n",
       "114   let     1\n",
       "116   van     1\n",
       "60    out     1\n",
       "57     it     1\n",
       "..    ...   ...\n",
       "0    love    25\n",
       "65     in    27\n",
       "121    my    33\n",
       "56   come    37\n",
       "126    on    40\n",
       "\n",
       "[140 rows x 2 columns]"
      ]
     },
     "execution_count": 25,
     "metadata": {},
     "output_type": "execute_result"
    }
   ],
   "source": [
    "df.sort_values(by='freq')\n"
   ]
  },
  {
   "cell_type": "code",
   "execution_count": 33,
   "metadata": {},
   "outputs": [
    {
     "name": "stdout",
     "output_type": "stream",
     "text": [
      "{'word': {0: 'love', 1: 'conversation', 2: 'every', 3: \"we're\", 4: 'plate', 5: 'sour', 6: 'jukebox', 7: 'now', 8: 'taxi', 9: 'fast', 10: 'bag', 11: 'man', 12: 'push', 13: 'baby', 14: 'going', 15: 'you', 16: \"don't\", 17: 'one', 18: 'mind', 19: 'backseat', 20: 'friends', 21: 'then', 22: 'know', 23: 'take', 24: 'play', 25: 'okay', 26: 'so', 27: 'begin', 28: 'start', 29: 'over', 30: 'body', 31: 'boy', 32: 'just', 33: 'we', 34: 'are', 35: 'girl', 36: 'tell', 37: 'singing', 38: 'drinking', 39: 'put', 40: 'our', 41: 'where', 42: \"i'll\", 43: 'all', 44: \"isn't\", 45: 'make', 46: 'lover', 47: 'get', 48: 'radio', 49: 'give', 50: \"i'm\", 51: 'like', 52: 'can', 53: 'doing', 54: 'with', 55: 'club', 56: 'come', 57: 'it', 58: 'somebody', 59: 'handmade', 60: 'out', 61: 'new', 62: 'room', 63: 'chance', 64: 'follow', 65: 'in', 66: 'may', 67: 'brand', 68: 'that', 69: 'magnet', 70: 'up', 71: 'first', 72: 'and', 73: 'pull', 74: 'of', 75: 'table', 76: 'much', 77: 'last', 78: 'i', 79: 'thrifty', 80: 'grab', 81: 'was', 82: 'driver', 83: 'slow', 84: 'dance', 85: 'the', 86: 'say', 87: 'trust', 88: 'family', 89: 'week', 90: 'date', 91: 'me', 92: 'do', 93: 'waist', 94: 'smell', 95: 'day', 96: 'although', 97: 'your', 98: 'leave', 99: 'want', 100: \"let's\", 101: 'lead', 102: 'at', 103: 'hand', 104: 'how', 105: 'talk', 106: 'not', 107: 'eat', 108: 'falling', 109: 'about', 110: 'story', 111: 'sweet', 112: 'best', 113: 'crazy', 114: 'let', 115: 'too', 116: 'van', 117: 'shots', 118: 'go', 119: 'to', 120: 'a', 121: 'my', 122: 'is', 123: 'place', 124: 'find', 125: 'shape', 126: 'on', 127: 'kiss', 128: 'were', 129: 'night', 130: 'heart', 131: 'for', 132: 'discovering', 133: 'something', 134: 'be', 135: 'bedsheets', 136: 'fill', 137: 'hours', 138: 'stop', 139: 'bar'}, 'freq': {0: 25, 1: 1, 2: 6, 3: 1, 4: 1, 5: 1, 6: 1, 7: 11, 8: 1, 9: 1, 10: 1, 11: 1, 12: 3, 13: 14, 14: 1, 15: 16, 16: 2, 17: 1, 18: 2, 19: 1, 20: 1, 21: 3, 22: 2, 23: 1, 24: 1, 25: 1, 26: 2, 27: 1, 28: 2, 29: 1, 30: 17, 31: 2, 32: 1, 33: 7, 34: 1, 35: 2, 36: 1, 37: 2, 38: 1, 39: 3, 40: 1, 41: 1, 42: 1, 43: 1, 44: 1, 45: 1, 46: 1, 47: 1, 48: 1, 49: 1, 50: 23, 51: 10, 52: 1, 53: 2, 54: 22, 55: 1, 56: 37, 57: 1, 58: 2, 59: 2, 60: 1, 61: 6, 62: 3, 63: 1, 64: 6, 65: 27, 66: 2, 67: 6, 68: 2, 69: 3, 70: 3, 71: 1, 72: 23, 73: 3, 74: 6, 75: 1, 76: 2, 77: 3, 78: 6, 79: 1, 80: 2, 81: 2, 82: 1, 83: 1, 84: 1, 85: 18, 86: 2, 87: 1, 88: 1, 89: 1, 90: 1, 91: 10, 92: 3, 93: 2, 94: 3, 95: 6, 96: 3, 97: 21, 98: 1, 99: 2, 100: 2, 101: 6, 102: 1, 103: 1, 104: 1, 105: 4, 106: 2, 107: 1, 108: 3, 109: 1, 110: 1, 111: 1, 112: 1, 113: 2, 114: 1, 115: 5, 116: 1, 117: 1, 118: 2, 119: 2, 120: 8, 121: 33, 122: 5, 123: 1, 124: 1, 125: 6, 126: 40, 127: 1, 128: 3, 129: 3, 130: 3, 131: 3, 132: 6, 133: 6, 134: 16, 135: 3, 136: 2, 137: 2, 138: 1, 139: 1}}\n"
     ]
    }
   ],
   "source": [
    "#Convertendo o data frame para um dict de novo\n",
    "new_dic=df.to_dict()\n",
    "print(new_dic)"
   ]
  },
  {
   "cell_type": "code",
   "execution_count": 34,
   "metadata": {},
   "outputs": [
    {
     "name": "stdout",
     "output_type": "stream",
     "text": [
      "[{'word': 'love', 'freq': 25}, {'word': 'conversation', 'freq': 1}, {'word': 'every', 'freq': 6}, {'word': \"we're\", 'freq': 1}, {'word': 'plate', 'freq': 1}, {'word': 'sour', 'freq': 1}, {'word': 'jukebox', 'freq': 1}, {'word': 'now', 'freq': 11}, {'word': 'taxi', 'freq': 1}, {'word': 'fast', 'freq': 1}, {'word': 'bag', 'freq': 1}, {'word': 'man', 'freq': 1}, {'word': 'push', 'freq': 3}, {'word': 'baby', 'freq': 14}, {'word': 'going', 'freq': 1}, {'word': 'you', 'freq': 16}, {'word': \"don't\", 'freq': 2}, {'word': 'one', 'freq': 1}, {'word': 'mind', 'freq': 2}, {'word': 'backseat', 'freq': 1}, {'word': 'friends', 'freq': 1}, {'word': 'then', 'freq': 3}, {'word': 'know', 'freq': 2}, {'word': 'take', 'freq': 1}, {'word': 'play', 'freq': 1}, {'word': 'okay', 'freq': 1}, {'word': 'so', 'freq': 2}, {'word': 'begin', 'freq': 1}, {'word': 'start', 'freq': 2}, {'word': 'over', 'freq': 1}, {'word': 'body', 'freq': 17}, {'word': 'boy', 'freq': 2}, {'word': 'just', 'freq': 1}, {'word': 'we', 'freq': 7}, {'word': 'are', 'freq': 1}, {'word': 'girl', 'freq': 2}, {'word': 'tell', 'freq': 1}, {'word': 'singing', 'freq': 2}, {'word': 'drinking', 'freq': 1}, {'word': 'put', 'freq': 3}, {'word': 'our', 'freq': 1}, {'word': 'where', 'freq': 1}, {'word': \"i'll\", 'freq': 1}, {'word': 'all', 'freq': 1}, {'word': \"isn't\", 'freq': 1}, {'word': 'make', 'freq': 1}, {'word': 'lover', 'freq': 1}, {'word': 'get', 'freq': 1}, {'word': 'radio', 'freq': 1}, {'word': 'give', 'freq': 1}, {'word': \"i'm\", 'freq': 23}, {'word': 'like', 'freq': 10}, {'word': 'can', 'freq': 1}, {'word': 'doing', 'freq': 2}, {'word': 'with', 'freq': 22}, {'word': 'club', 'freq': 1}, {'word': 'come', 'freq': 37}, {'word': 'it', 'freq': 1}, {'word': 'somebody', 'freq': 2}, {'word': 'handmade', 'freq': 2}, {'word': 'out', 'freq': 1}, {'word': 'new', 'freq': 6}, {'word': 'room', 'freq': 3}, {'word': 'chance', 'freq': 1}, {'word': 'follow', 'freq': 6}, {'word': 'in', 'freq': 27}, {'word': 'may', 'freq': 2}, {'word': 'brand', 'freq': 6}, {'word': 'that', 'freq': 2}, {'word': 'magnet', 'freq': 3}, {'word': 'up', 'freq': 3}, {'word': 'first', 'freq': 1}, {'word': 'and', 'freq': 23}, {'word': 'pull', 'freq': 3}, {'word': 'of', 'freq': 6}, {'word': 'table', 'freq': 1}, {'word': 'much', 'freq': 2}, {'word': 'last', 'freq': 3}, {'word': 'i', 'freq': 6}, {'word': 'thrifty', 'freq': 1}, {'word': 'grab', 'freq': 2}, {'word': 'was', 'freq': 2}, {'word': 'driver', 'freq': 1}, {'word': 'slow', 'freq': 1}, {'word': 'dance', 'freq': 1}, {'word': 'the', 'freq': 18}, {'word': 'say', 'freq': 2}, {'word': 'trust', 'freq': 1}, {'word': 'family', 'freq': 1}, {'word': 'week', 'freq': 1}, {'word': 'date', 'freq': 1}, {'word': 'me', 'freq': 10}, {'word': 'do', 'freq': 3}, {'word': 'waist', 'freq': 2}, {'word': 'smell', 'freq': 3}, {'word': 'day', 'freq': 6}, {'word': 'although', 'freq': 3}, {'word': 'your', 'freq': 21}, {'word': 'leave', 'freq': 1}, {'word': 'want', 'freq': 2}, {'word': \"let's\", 'freq': 2}, {'word': 'lead', 'freq': 6}, {'word': 'at', 'freq': 1}, {'word': 'hand', 'freq': 1}, {'word': 'how', 'freq': 1}, {'word': 'talk', 'freq': 4}, {'word': 'not', 'freq': 2}, {'word': 'eat', 'freq': 1}, {'word': 'falling', 'freq': 3}, {'word': 'about', 'freq': 1}, {'word': 'story', 'freq': 1}, {'word': 'sweet', 'freq': 1}, {'word': 'best', 'freq': 1}, {'word': 'crazy', 'freq': 2}, {'word': 'let', 'freq': 1}, {'word': 'too', 'freq': 5}, {'word': 'van', 'freq': 1}, {'word': 'shots', 'freq': 1}, {'word': 'go', 'freq': 2}, {'word': 'to', 'freq': 2}, {'word': 'a', 'freq': 8}, {'word': 'my', 'freq': 33}, {'word': 'is', 'freq': 5}, {'word': 'place', 'freq': 1}, {'word': 'find', 'freq': 1}, {'word': 'shape', 'freq': 6}, {'word': 'on', 'freq': 40}, {'word': 'kiss', 'freq': 1}, {'word': 'were', 'freq': 3}, {'word': 'night', 'freq': 3}, {'word': 'heart', 'freq': 3}, {'word': 'for', 'freq': 3}, {'word': 'discovering', 'freq': 6}, {'word': 'something', 'freq': 6}, {'word': 'be', 'freq': 16}, {'word': 'bedsheets', 'freq': 3}, {'word': 'fill', 'freq': 2}, {'word': 'hours', 'freq': 2}, {'word': 'stop', 'freq': 1}, {'word': 'bar', 'freq': 1}]\n"
     ]
    }
   ],
   "source": [
    "#teste\n",
    "\n",
    "new_dic2=df.to_dict('records')\n",
    "print(new_dic2)"
   ]
  },
  {
   "cell_type": "code",
   "execution_count": 35,
   "metadata": {},
   "outputs": [
    {
     "name": "stdout",
     "output_type": "stream",
     "text": [
      "{'index': [0, 1, 2, 3, 4, 5, 6, 7, 8, 9, 10, 11, 12, 13, 14, 15, 16, 17, 18, 19, 20, 21, 22, 23, 24, 25, 26, 27, 28, 29, 30, 31, 32, 33, 34, 35, 36, 37, 38, 39, 40, 41, 42, 43, 44, 45, 46, 47, 48, 49, 50, 51, 52, 53, 54, 55, 56, 57, 58, 59, 60, 61, 62, 63, 64, 65, 66, 67, 68, 69, 70, 71, 72, 73, 74, 75, 76, 77, 78, 79, 80, 81, 82, 83, 84, 85, 86, 87, 88, 89, 90, 91, 92, 93, 94, 95, 96, 97, 98, 99, 100, 101, 102, 103, 104, 105, 106, 107, 108, 109, 110, 111, 112, 113, 114, 115, 116, 117, 118, 119, 120, 121, 122, 123, 124, 125, 126, 127, 128, 129, 130, 131, 132, 133, 134, 135, 136, 137, 138, 139], 'columns': ['word', 'freq'], 'data': [['love', 25], ['conversation', 1], ['every', 6], [\"we're\", 1], ['plate', 1], ['sour', 1], ['jukebox', 1], ['now', 11], ['taxi', 1], ['fast', 1], ['bag', 1], ['man', 1], ['push', 3], ['baby', 14], ['going', 1], ['you', 16], [\"don't\", 2], ['one', 1], ['mind', 2], ['backseat', 1], ['friends', 1], ['then', 3], ['know', 2], ['take', 1], ['play', 1], ['okay', 1], ['so', 2], ['begin', 1], ['start', 2], ['over', 1], ['body', 17], ['boy', 2], ['just', 1], ['we', 7], ['are', 1], ['girl', 2], ['tell', 1], ['singing', 2], ['drinking', 1], ['put', 3], ['our', 1], ['where', 1], [\"i'll\", 1], ['all', 1], [\"isn't\", 1], ['make', 1], ['lover', 1], ['get', 1], ['radio', 1], ['give', 1], [\"i'm\", 23], ['like', 10], ['can', 1], ['doing', 2], ['with', 22], ['club', 1], ['come', 37], ['it', 1], ['somebody', 2], ['handmade', 2], ['out', 1], ['new', 6], ['room', 3], ['chance', 1], ['follow', 6], ['in', 27], ['may', 2], ['brand', 6], ['that', 2], ['magnet', 3], ['up', 3], ['first', 1], ['and', 23], ['pull', 3], ['of', 6], ['table', 1], ['much', 2], ['last', 3], ['i', 6], ['thrifty', 1], ['grab', 2], ['was', 2], ['driver', 1], ['slow', 1], ['dance', 1], ['the', 18], ['say', 2], ['trust', 1], ['family', 1], ['week', 1], ['date', 1], ['me', 10], ['do', 3], ['waist', 2], ['smell', 3], ['day', 6], ['although', 3], ['your', 21], ['leave', 1], ['want', 2], [\"let's\", 2], ['lead', 6], ['at', 1], ['hand', 1], ['how', 1], ['talk', 4], ['not', 2], ['eat', 1], ['falling', 3], ['about', 1], ['story', 1], ['sweet', 1], ['best', 1], ['crazy', 2], ['let', 1], ['too', 5], ['van', 1], ['shots', 1], ['go', 2], ['to', 2], ['a', 8], ['my', 33], ['is', 5], ['place', 1], ['find', 1], ['shape', 6], ['on', 40], ['kiss', 1], ['were', 3], ['night', 3], ['heart', 3], ['for', 3], ['discovering', 6], ['something', 6], ['be', 16], ['bedsheets', 3], ['fill', 2], ['hours', 2], ['stop', 1], ['bar', 1]]}\n"
     ]
    }
   ],
   "source": [
    "#teste\n",
    "\n",
    "new_dic3=df.to_dict('split')\n",
    "print(new_dic3)"
   ]
  },
  {
   "cell_type": "code",
   "execution_count": 36,
   "metadata": {},
   "outputs": [
    {
     "name": "stdout",
     "output_type": "stream",
     "text": [
      "{0: {'word': 'love', 'freq': 25}, 1: {'word': 'conversation', 'freq': 1}, 2: {'word': 'every', 'freq': 6}, 3: {'word': \"we're\", 'freq': 1}, 4: {'word': 'plate', 'freq': 1}, 5: {'word': 'sour', 'freq': 1}, 6: {'word': 'jukebox', 'freq': 1}, 7: {'word': 'now', 'freq': 11}, 8: {'word': 'taxi', 'freq': 1}, 9: {'word': 'fast', 'freq': 1}, 10: {'word': 'bag', 'freq': 1}, 11: {'word': 'man', 'freq': 1}, 12: {'word': 'push', 'freq': 3}, 13: {'word': 'baby', 'freq': 14}, 14: {'word': 'going', 'freq': 1}, 15: {'word': 'you', 'freq': 16}, 16: {'word': \"don't\", 'freq': 2}, 17: {'word': 'one', 'freq': 1}, 18: {'word': 'mind', 'freq': 2}, 19: {'word': 'backseat', 'freq': 1}, 20: {'word': 'friends', 'freq': 1}, 21: {'word': 'then', 'freq': 3}, 22: {'word': 'know', 'freq': 2}, 23: {'word': 'take', 'freq': 1}, 24: {'word': 'play', 'freq': 1}, 25: {'word': 'okay', 'freq': 1}, 26: {'word': 'so', 'freq': 2}, 27: {'word': 'begin', 'freq': 1}, 28: {'word': 'start', 'freq': 2}, 29: {'word': 'over', 'freq': 1}, 30: {'word': 'body', 'freq': 17}, 31: {'word': 'boy', 'freq': 2}, 32: {'word': 'just', 'freq': 1}, 33: {'word': 'we', 'freq': 7}, 34: {'word': 'are', 'freq': 1}, 35: {'word': 'girl', 'freq': 2}, 36: {'word': 'tell', 'freq': 1}, 37: {'word': 'singing', 'freq': 2}, 38: {'word': 'drinking', 'freq': 1}, 39: {'word': 'put', 'freq': 3}, 40: {'word': 'our', 'freq': 1}, 41: {'word': 'where', 'freq': 1}, 42: {'word': \"i'll\", 'freq': 1}, 43: {'word': 'all', 'freq': 1}, 44: {'word': \"isn't\", 'freq': 1}, 45: {'word': 'make', 'freq': 1}, 46: {'word': 'lover', 'freq': 1}, 47: {'word': 'get', 'freq': 1}, 48: {'word': 'radio', 'freq': 1}, 49: {'word': 'give', 'freq': 1}, 50: {'word': \"i'm\", 'freq': 23}, 51: {'word': 'like', 'freq': 10}, 52: {'word': 'can', 'freq': 1}, 53: {'word': 'doing', 'freq': 2}, 54: {'word': 'with', 'freq': 22}, 55: {'word': 'club', 'freq': 1}, 56: {'word': 'come', 'freq': 37}, 57: {'word': 'it', 'freq': 1}, 58: {'word': 'somebody', 'freq': 2}, 59: {'word': 'handmade', 'freq': 2}, 60: {'word': 'out', 'freq': 1}, 61: {'word': 'new', 'freq': 6}, 62: {'word': 'room', 'freq': 3}, 63: {'word': 'chance', 'freq': 1}, 64: {'word': 'follow', 'freq': 6}, 65: {'word': 'in', 'freq': 27}, 66: {'word': 'may', 'freq': 2}, 67: {'word': 'brand', 'freq': 6}, 68: {'word': 'that', 'freq': 2}, 69: {'word': 'magnet', 'freq': 3}, 70: {'word': 'up', 'freq': 3}, 71: {'word': 'first', 'freq': 1}, 72: {'word': 'and', 'freq': 23}, 73: {'word': 'pull', 'freq': 3}, 74: {'word': 'of', 'freq': 6}, 75: {'word': 'table', 'freq': 1}, 76: {'word': 'much', 'freq': 2}, 77: {'word': 'last', 'freq': 3}, 78: {'word': 'i', 'freq': 6}, 79: {'word': 'thrifty', 'freq': 1}, 80: {'word': 'grab', 'freq': 2}, 81: {'word': 'was', 'freq': 2}, 82: {'word': 'driver', 'freq': 1}, 83: {'word': 'slow', 'freq': 1}, 84: {'word': 'dance', 'freq': 1}, 85: {'word': 'the', 'freq': 18}, 86: {'word': 'say', 'freq': 2}, 87: {'word': 'trust', 'freq': 1}, 88: {'word': 'family', 'freq': 1}, 89: {'word': 'week', 'freq': 1}, 90: {'word': 'date', 'freq': 1}, 91: {'word': 'me', 'freq': 10}, 92: {'word': 'do', 'freq': 3}, 93: {'word': 'waist', 'freq': 2}, 94: {'word': 'smell', 'freq': 3}, 95: {'word': 'day', 'freq': 6}, 96: {'word': 'although', 'freq': 3}, 97: {'word': 'your', 'freq': 21}, 98: {'word': 'leave', 'freq': 1}, 99: {'word': 'want', 'freq': 2}, 100: {'word': \"let's\", 'freq': 2}, 101: {'word': 'lead', 'freq': 6}, 102: {'word': 'at', 'freq': 1}, 103: {'word': 'hand', 'freq': 1}, 104: {'word': 'how', 'freq': 1}, 105: {'word': 'talk', 'freq': 4}, 106: {'word': 'not', 'freq': 2}, 107: {'word': 'eat', 'freq': 1}, 108: {'word': 'falling', 'freq': 3}, 109: {'word': 'about', 'freq': 1}, 110: {'word': 'story', 'freq': 1}, 111: {'word': 'sweet', 'freq': 1}, 112: {'word': 'best', 'freq': 1}, 113: {'word': 'crazy', 'freq': 2}, 114: {'word': 'let', 'freq': 1}, 115: {'word': 'too', 'freq': 5}, 116: {'word': 'van', 'freq': 1}, 117: {'word': 'shots', 'freq': 1}, 118: {'word': 'go', 'freq': 2}, 119: {'word': 'to', 'freq': 2}, 120: {'word': 'a', 'freq': 8}, 121: {'word': 'my', 'freq': 33}, 122: {'word': 'is', 'freq': 5}, 123: {'word': 'place', 'freq': 1}, 124: {'word': 'find', 'freq': 1}, 125: {'word': 'shape', 'freq': 6}, 126: {'word': 'on', 'freq': 40}, 127: {'word': 'kiss', 'freq': 1}, 128: {'word': 'were', 'freq': 3}, 129: {'word': 'night', 'freq': 3}, 130: {'word': 'heart', 'freq': 3}, 131: {'word': 'for', 'freq': 3}, 132: {'word': 'discovering', 'freq': 6}, 133: {'word': 'something', 'freq': 6}, 134: {'word': 'be', 'freq': 16}, 135: {'word': 'bedsheets', 'freq': 3}, 136: {'word': 'fill', 'freq': 2}, 137: {'word': 'hours', 'freq': 2}, 138: {'word': 'stop', 'freq': 1}, 139: {'word': 'bar', 'freq': 1}}\n"
     ]
    }
   ],
   "source": [
    "#teste\n",
    "\n",
    "new_dic3=df.to_dict('index')\n",
    "print(new_dic3)"
   ]
  },
  {
   "cell_type": "code",
   "execution_count": null,
   "metadata": {},
   "outputs": [],
   "source": []
  }
 ],
 "metadata": {
  "kernelspec": {
   "display_name": "Python 3 (ipykernel)",
   "language": "python",
   "name": "python3"
  },
  "language_info": {
   "codemirror_mode": {
    "name": "ipython",
    "version": 3
   },
   "file_extension": ".py",
   "mimetype": "text/x-python",
   "name": "python",
   "nbconvert_exporter": "python",
   "pygments_lexer": "ipython3",
   "version": "3.8.12"
  }
 },
 "nbformat": 4,
 "nbformat_minor": 2
}
