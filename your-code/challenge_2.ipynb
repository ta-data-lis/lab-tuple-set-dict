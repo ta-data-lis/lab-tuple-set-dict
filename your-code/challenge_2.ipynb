{
  "nbformat": 4,
  "nbformat_minor": 0,
  "metadata": {
    "kernelspec": {
      "display_name": "Python 3",
      "language": "python",
      "name": "python3"
    },
    "language_info": {
      "codemirror_mode": {
        "name": "ipython",
        "version": 3
      },
      "file_extension": ".py",
      "mimetype": "text/x-python",
      "name": "python",
      "nbconvert_exporter": "python",
      "pygments_lexer": "ipython3",
      "version": "3.7.4"
    },
    "colab": {
      "name": "challenge-2.ipynb",
      "provenance": [],
      "collapsed_sections": []
    }
  },
  "cells": [
    {
      "cell_type": "markdown",
      "metadata": {
        "id": "m1CAoBHh-C55"
      },
      "source": [
        "## Challenge 2: Sets\n",
        "\n",
        "There are a lot to learn about Python Sets and the information presented in the lesson is limited due to its length. To learn Python Sets in depth you are strongly encouraged to review the W3Schools tutorial on [Python Sets Examples and Methods](https://www.w3schools.com/python/python_sets.asp) before you work on this lab. Some difficult questions in this lab have their solutions in the W3Schools tutorial.\n",
        "\n",
        "#### First, import the Python `random` libary"
      ]
    },
    {
      "cell_type": "code",
      "metadata": {
        "id": "QfWTxBm6-C6G"
      },
      "source": [
        "import random"
      ],
      "execution_count": null,
      "outputs": []
    },
    {
      "cell_type": "markdown",
      "metadata": {
        "id": "o5I5H-KJ-C6J"
      },
      "source": [
        "#### 1 - In the cell below, create a list named `sample_list_1` with 80 random values. \n",
        "\n",
        "Requirements:\n",
        "\n",
        "* Each value is an integer falling between 0 and 100.\n",
        "* Each value in the list is unique.\n",
        "\n",
        "Print `sample_list_1` to review its values\n",
        "\n",
        "*Hint: use `random.sample` ([reference](https://docs.python.org/3/library/random.html#random.sample)).*"
      ]
    },
    {
      "cell_type": "code",
      "metadata": {
        "id": "XI6MRWXm-C6K",
        "colab": {
          "base_uri": "https://localhost:8080/"
        },
        "outputId": "71a168ed-4f01-4efc-8a8b-5f691ae83049"
      },
      "source": [
        "sample_list_1 = random.sample(range(100), k=80)\n",
        "sample_list_1"
      ],
      "execution_count": null,
      "outputs": [
        {
          "output_type": "execute_result",
          "data": {
            "text/plain": [
              "[65,\n",
              " 13,\n",
              " 44,\n",
              " 9,\n",
              " 57,\n",
              " 33,\n",
              " 29,\n",
              " 23,\n",
              " 92,\n",
              " 42,\n",
              " 56,\n",
              " 3,\n",
              " 16,\n",
              " 80,\n",
              " 41,\n",
              " 39,\n",
              " 21,\n",
              " 2,\n",
              " 43,\n",
              " 86,\n",
              " 85,\n",
              " 67,\n",
              " 38,\n",
              " 54,\n",
              " 22,\n",
              " 71,\n",
              " 96,\n",
              " 84,\n",
              " 25,\n",
              " 7,\n",
              " 77,\n",
              " 20,\n",
              " 58,\n",
              " 99,\n",
              " 24,\n",
              " 89,\n",
              " 19,\n",
              " 91,\n",
              " 50,\n",
              " 68,\n",
              " 4,\n",
              " 72,\n",
              " 0,\n",
              " 28,\n",
              " 66,\n",
              " 31,\n",
              " 5,\n",
              " 63,\n",
              " 48,\n",
              " 75,\n",
              " 45,\n",
              " 59,\n",
              " 17,\n",
              " 1,\n",
              " 60,\n",
              " 79,\n",
              " 40,\n",
              " 98,\n",
              " 94,\n",
              " 8,\n",
              " 34,\n",
              " 51,\n",
              " 26,\n",
              " 88,\n",
              " 78,\n",
              " 95,\n",
              " 46,\n",
              " 87,\n",
              " 27,\n",
              " 74,\n",
              " 82,\n",
              " 61,\n",
              " 62,\n",
              " 36,\n",
              " 14,\n",
              " 11,\n",
              " 12,\n",
              " 76,\n",
              " 69,\n",
              " 81]"
            ]
          },
          "metadata": {},
          "execution_count": 25
        }
      ]
    },
    {
      "cell_type": "markdown",
      "metadata": {
        "id": "iP8m99Fu-C6M"
      },
      "source": [
        "#### 2 - Convert `sample_list_1` to a set called `set1`. Print the length of the set. Is its length still 80?"
      ]
    },
    {
      "cell_type": "code",
      "metadata": {
        "colab": {
          "base_uri": "https://localhost:8080/"
        },
        "id": "lc6WY3Dn-C6M",
        "outputId": "6e52058c-9bfb-46a5-cbbf-8f6c286cd9d8"
      },
      "source": [
        "set1 = set(sample_list_1)\n",
        "\n",
        "print(len(set1))\n"
      ],
      "execution_count": null,
      "outputs": [
        {
          "output_type": "stream",
          "name": "stdout",
          "text": [
            "80\n"
          ]
        }
      ]
    },
    {
      "cell_type": "markdown",
      "metadata": {
        "id": "I1Tp6iPm-C6O"
      },
      "source": [
        "#### 3 - Create another list named `sample_list_2` with 80 random values.\n",
        "\n",
        "Requirements:\n",
        "\n",
        "* Each value is an integer falling between 0 and 100.\n",
        "* The values in the list don't have to be unique.\n",
        "\n",
        "*Hint: Use a FOR loop.*"
      ]
    },
    {
      "cell_type": "code",
      "metadata": {
        "colab": {
          "base_uri": "https://localhost:8080/"
        },
        "id": "WUtUXGjg-C6Q",
        "outputId": "1fead843-dad1-4571-a028-2d591f574710"
      },
      "source": [
        "\n",
        "sample_list_2 = []\n",
        "\n",
        "for number in range(80):\n",
        "  rand = random.sample(range(100),1)\n",
        "  sample_list_2 += rand\n",
        "\n",
        "\n",
        "sample_list_2"
      ],
      "execution_count": null,
      "outputs": [
        {
          "output_type": "execute_result",
          "data": {
            "text/plain": [
              "[26,\n",
              " 59,\n",
              " 23,\n",
              " 76,\n",
              " 98,\n",
              " 86,\n",
              " 95,\n",
              " 29,\n",
              " 60,\n",
              " 90,\n",
              " 10,\n",
              " 97,\n",
              " 36,\n",
              " 77,\n",
              " 60,\n",
              " 20,\n",
              " 28,\n",
              " 85,\n",
              " 71,\n",
              " 4,\n",
              " 4,\n",
              " 68,\n",
              " 70,\n",
              " 98,\n",
              " 21,\n",
              " 30,\n",
              " 93,\n",
              " 72,\n",
              " 43,\n",
              " 15,\n",
              " 32,\n",
              " 95,\n",
              " 94,\n",
              " 94,\n",
              " 80,\n",
              " 16,\n",
              " 26,\n",
              " 53,\n",
              " 69,\n",
              " 11,\n",
              " 15,\n",
              " 84,\n",
              " 60,\n",
              " 68,\n",
              " 99,\n",
              " 1,\n",
              " 66,\n",
              " 46,\n",
              " 3,\n",
              " 99,\n",
              " 61,\n",
              " 41,\n",
              " 28,\n",
              " 28,\n",
              " 41,\n",
              " 56,\n",
              " 36,\n",
              " 48,\n",
              " 51,\n",
              " 65,\n",
              " 90,\n",
              " 97,\n",
              " 17,\n",
              " 56,\n",
              " 45,\n",
              " 88,\n",
              " 97,\n",
              " 68,\n",
              " 0,\n",
              " 76,\n",
              " 42,\n",
              " 87,\n",
              " 12,\n",
              " 71,\n",
              " 60,\n",
              " 73,\n",
              " 57,\n",
              " 84,\n",
              " 21,\n",
              " 29]"
            ]
          },
          "metadata": {},
          "execution_count": 33
        }
      ]
    },
    {
      "cell_type": "markdown",
      "metadata": {
        "id": "oIg7vo6F-C6S"
      },
      "source": [
        "#### 4 - Convert `sample_list_2` to a set called `set2`. Print the length of the set. Is its length still 80?"
      ]
    },
    {
      "cell_type": "code",
      "metadata": {
        "id": "KmbeMNwO-C6T",
        "colab": {
          "base_uri": "https://localhost:8080/"
        },
        "outputId": "8b95e7ba-88c4-4d7f-8e5b-75d911bc75c8"
      },
      "source": [
        "set2 = set(sample_list_2)\n",
        "print(len(set2))\n"
      ],
      "execution_count": null,
      "outputs": [
        {
          "output_type": "stream",
          "name": "stdout",
          "text": [
            "55\n"
          ]
        }
      ]
    },
    {
      "cell_type": "markdown",
      "metadata": {
        "id": "WCOAJtyS-C6U"
      },
      "source": [
        "#### 5 - Identify the elements present in `set1` but not in `set2`. Assign the elements to a new set named `set3`."
      ]
    },
    {
      "cell_type": "code",
      "metadata": {
        "id": "TWzn-i7P-C6V",
        "colab": {
          "base_uri": "https://localhost:8080/"
        },
        "outputId": "9ced512f-25b3-4378-fc4e-a6cdb0e6f83e"
      },
      "source": [
        "set3 = set1.difference(set2)\n",
        "print(set3)"
      ],
      "execution_count": null,
      "outputs": [
        {
          "output_type": "stream",
          "name": "stdout",
          "text": [
            "{5, 7, 8, 9, 13, 14, 19, 22, 24, 25, 27, 31, 33, 34, 38, 39, 40, 44, 50, 54, 58, 62, 63, 67, 74, 75, 78, 79, 81, 82, 89, 91, 92, 96}\n"
          ]
        }
      ]
    },
    {
      "cell_type": "markdown",
      "metadata": {
        "id": "hDtAXqFY-C6W"
      },
      "source": [
        "#### 6 - Identify the elements present in `set2` but not in `set1`. Assign the elements to a new set named `set4`."
      ]
    },
    {
      "cell_type": "code",
      "metadata": {
        "id": "Q9_LrxGl-C6W",
        "colab": {
          "base_uri": "https://localhost:8080/"
        },
        "outputId": "8533aec3-5cbf-4e6d-fd30-a886e3caa84e"
      },
      "source": [
        "set4 = set2.difference(set1)\n",
        "\n",
        "set4\n"
      ],
      "execution_count": null,
      "outputs": [
        {
          "output_type": "execute_result",
          "data": {
            "text/plain": [
              "{10, 15, 30, 32, 53, 70, 73, 90, 93, 97}"
            ]
          },
          "metadata": {},
          "execution_count": 53
        }
      ]
    },
    {
      "cell_type": "markdown",
      "metadata": {
        "id": "MhcjGCBD-C6X"
      },
      "source": [
        "#### 7 - Now Identify the elements shared between `set1` and `set2`. Assign the elements to a new set named `set5`."
      ]
    },
    {
      "cell_type": "code",
      "metadata": {
        "id": "WXnB13gC-C6X",
        "colab": {
          "base_uri": "https://localhost:8080/"
        },
        "outputId": "ae9bd36b-308e-4b35-a04a-9ece7ff38d12"
      },
      "source": [
        "set5 = set1.intersection(set2)\n",
        "print(set5)"
      ],
      "execution_count": null,
      "outputs": [
        {
          "output_type": "stream",
          "name": "stdout",
          "text": [
            "{0, 1, 3, 4, 11, 12, 16, 17, 20, 21, 23, 26, 28, 29, 36, 41, 42, 43, 45, 46, 48, 51, 56, 57, 59, 60, 61, 65, 66, 68, 69, 71, 72, 76, 77, 80, 84, 85, 86, 87, 88, 94, 95, 98, 99}\n"
          ]
        }
      ]
    },
    {
      "cell_type": "markdown",
      "metadata": {
        "id": "iPO3jWQV-C6Y"
      },
      "source": [
        "#### 8 - Create an empty set called `set6`."
      ]
    },
    {
      "cell_type": "code",
      "metadata": {
        "id": "nnevs-P9-C6Y",
        "colab": {
          "base_uri": "https://localhost:8080/"
        },
        "outputId": "b1c9768f-d5a8-46b3-e8e3-70754cdc2f3c"
      },
      "source": [
        "set6 = set()\n",
        "print(type(set6))"
      ],
      "execution_count": null,
      "outputs": [
        {
          "output_type": "stream",
          "name": "stdout",
          "text": [
            "<class 'set'>\n"
          ]
        }
      ]
    },
    {
      "cell_type": "markdown",
      "metadata": {
        "id": "CokgIu3d-C6Z"
      },
      "source": [
        "#### 9 - Add `set3` and `set5` to `set6` using the Python Set `update` method."
      ]
    },
    {
      "cell_type": "code",
      "metadata": {
        "id": "eG5BFcRe-C6a",
        "colab": {
          "base_uri": "https://localhost:8080/"
        },
        "outputId": "2e24c2ca-d7c7-482f-8e79-049d0241f12e"
      },
      "source": [
        "set6.update(set5)\n",
        "set6.update(set3)\n",
        "print(set6)"
      ],
      "execution_count": null,
      "outputs": [
        {
          "output_type": "stream",
          "name": "stdout",
          "text": [
            "{0, 1, 3, 4, 5, 7, 8, 9, 11, 12, 13, 14, 16, 17, 19, 20, 21, 22, 23, 24, 25, 26, 27, 28, 29, 31, 33, 34, 36, 38, 39, 40, 41, 42, 43, 44, 45, 46, 48, 50, 51, 54, 56, 57, 58, 59, 60, 61, 62, 63, 65, 66, 67, 68, 69, 71, 72, 74, 75, 76, 77, 78, 79, 80, 81, 82, 84, 85, 86, 87, 88, 89, 91, 92, 94, 95, 96, 98, 99}\n"
          ]
        }
      ]
    },
    {
      "cell_type": "markdown",
      "metadata": {
        "id": "yPUKjm_D-C6a"
      },
      "source": [
        "#### 10 - Check if `set1` and `set6` are equal."
      ]
    },
    {
      "cell_type": "code",
      "metadata": {
        "id": "wvIiyke--C6b",
        "colab": {
          "base_uri": "https://localhost:8080/"
        },
        "outputId": "ede547c7-6e1d-46bd-a581-754bb0ab1f6c"
      },
      "source": [
        "set1 == set6\n"
      ],
      "execution_count": null,
      "outputs": [
        {
          "output_type": "execute_result",
          "data": {
            "text/plain": [
              "True"
            ]
          },
          "metadata": {},
          "execution_count": 67
        }
      ]
    },
    {
      "cell_type": "markdown",
      "metadata": {
        "id": "Cz-NOwh--C6b"
      },
      "source": [
        "#### 11 - Check if `set1` contains `set2` using the Python Set `issubset` method. Then check if `set1` contains `set3`.*"
      ]
    },
    {
      "cell_type": "code",
      "metadata": {
        "id": "FduwAh7w-C6c",
        "colab": {
          "base_uri": "https://localhost:8080/"
        },
        "outputId": "6acdb282-0732-4e50-9ba8-f0ce55774f53"
      },
      "source": [
        "print(set2.issubset(set1))\n",
        "set3.issubset(set1)"
      ],
      "execution_count": null,
      "outputs": [
        {
          "output_type": "stream",
          "name": "stdout",
          "text": [
            "False\n"
          ]
        },
        {
          "output_type": "execute_result",
          "data": {
            "text/plain": [
              "True"
            ]
          },
          "metadata": {},
          "execution_count": 70
        }
      ]
    },
    {
      "cell_type": "markdown",
      "metadata": {
        "id": "8_Xv8Ysu-C6c"
      },
      "source": [
        "#### 12 -Using the Python Set `union` method, aggregate `set3`, `set4`, and `set5`. Then aggregate `set1` and `set2`. \n",
        "\n",
        "#### Check if the aggregated values are equal."
      ]
    },
    {
      "cell_type": "code",
      "metadata": {
        "id": "q-dvLz04-C6d",
        "colab": {
          "base_uri": "https://localhost:8080/"
        },
        "outputId": "d64fd25f-4394-486b-dc5c-6cf3c768bd56"
      },
      "source": [
        "set7 = set3.union(set4,set5)  \n",
        "print(set7)\n",
        "set8 = set1.union(set2)\n",
        "\n",
        "set7 == set8"
      ],
      "execution_count": null,
      "outputs": [
        {
          "output_type": "stream",
          "name": "stdout",
          "text": [
            "{0, 1, 3, 4, 5, 7, 8, 9, 10, 11, 12, 13, 14, 15, 16, 17, 19, 20, 21, 22, 23, 24, 25, 26, 27, 28, 29, 30, 31, 32, 33, 34, 36, 38, 39, 40, 41, 42, 43, 44, 45, 46, 48, 50, 51, 53, 54, 56, 57, 58, 59, 60, 61, 62, 63, 65, 66, 67, 68, 69, 70, 71, 72, 73, 74, 75, 76, 77, 78, 79, 80, 81, 82, 84, 85, 86, 87, 88, 89, 90, 91, 92, 93, 94, 95, 96, 97, 98, 99}\n"
          ]
        },
        {
          "output_type": "execute_result",
          "data": {
            "text/plain": [
              "True"
            ]
          },
          "metadata": {},
          "execution_count": 73
        }
      ]
    },
    {
      "cell_type": "markdown",
      "metadata": {
        "id": "sRDZRcUO-C6d"
      },
      "source": [
        "#### 13 -Using the `pop` method, remove the first element from `set1`."
      ]
    },
    {
      "cell_type": "code",
      "metadata": {
        "id": "_9BCUkS7-C6d",
        "colab": {
          "base_uri": "https://localhost:8080/"
        },
        "outputId": "8ef548e5-4e02-4093-fb30-4339c410377f"
      },
      "source": [
        "newlist = list(set1)\n",
        "\n",
        "newlist.pop(0)\n",
        "newset = set(newlist)\n",
        "print(newset)"
      ],
      "execution_count": null,
      "outputs": [
        {
          "output_type": "stream",
          "name": "stdout",
          "text": [
            "{4, 5, 7, 8, 9, 11, 12, 13, 14, 16, 17, 19, 20, 21, 22, 23, 24, 25, 26, 27, 28, 29, 31, 33, 34, 36, 38, 39, 40, 41, 42, 43, 44, 45, 46, 48, 50, 51, 54, 56, 57, 58, 59, 60, 61, 62, 63, 65, 66, 67, 68, 69, 71, 72, 74, 75, 76, 77, 78, 79, 80, 81, 82, 84, 85, 86, 87, 88, 89, 91, 92, 94, 95, 96, 98, 99}\n"
          ]
        }
      ]
    },
    {
      "cell_type": "markdown",
      "metadata": {
        "id": "gN-_1XSE-C6e"
      },
      "source": [
        "#### 14 -Remove every element in the following list from `set1` if they are present in the set. Print the remaining elements.\n",
        "\n",
        "```\n",
        "list_to_remove = [1, 9, 11, 19, 21, 29, 31, 39, 41, 49, 51, 59, 61, 69, 71, 79, 81, 89, 91, 99]\n",
        "```"
      ]
    },
    {
      "cell_type": "code",
      "metadata": {
        "id": "0QTp7FXP-C6f",
        "colab": {
          "base_uri": "https://localhost:8080/"
        },
        "outputId": "571d6b2d-7752-4a0d-93da-8c2e787f0ff5"
      },
      "source": [
        "list_to_remove = [1, 9, 11, 19, 21, 29, 31, 39, 41, 49, 51, 59, 61, 69, 71, 79, 81, 89, 91, 99]\n",
        "\n",
        "setlist = set(list_to_remove)\n",
        "\n",
        "removedset1 = set1.difference(setlist)\n",
        "\n",
        "print(removedset1)\n",
        "\n"
      ],
      "execution_count": null,
      "outputs": [
        {
          "output_type": "stream",
          "name": "stdout",
          "text": [
            "{3, 4, 5, 7, 8, 12, 13, 14, 16, 17, 20, 22, 23, 24, 25, 26, 27, 28, 33, 34, 36, 38, 40, 42, 43, 44, 45, 46, 48, 50, 54, 56, 57, 58, 60, 62, 63, 65, 66, 67, 68, 72, 74, 75, 76, 77, 78, 80, 82, 84, 85, 86, 87, 88, 92, 94, 95, 96, 98}\n"
          ]
        }
      ]
    },
    {
      "cell_type": "markdown",
      "metadata": {
        "id": "w-oOxVqw-C6f"
      },
      "source": [
        "#### 15 -The objective of this lab is to provide you a overview of manipulating sets in Python and how they can be integrated within a real usecase\n",
        "#### For the exercises below it's strongly advised to quickly check this link: https://docs.python.org/2/library/sets.html#sets.Set\n",
        "#### Imagine you need to create the grocery list for your family! Below you will see a list of items each family member wants. There will be repetitions because this family has the habbit of each time they notice something is missing to write it down. The problem is that they don't really talk to each other and therefore some items in the list are repeated. With the collection of questions below you will see how they solve repetion and create a grocery list with unique elements.\n",
        "\n"
      ]
    },
    {
      "cell_type": "code",
      "metadata": {
        "id": "eTxMKK8q-C6g"
      },
      "source": [
        "father_list = ['garlic', 'watermelon', 'toilet paper', 'yogurt', 'onions', 'gums', 'flour', 'cucumber', 'watermelon', 'yogurt', 'garlic']\n",
        "\n",
        "mother_list = []\n",
        "\n",
        "Jo_list = ['blueberries', 'sugar', 'watermelon', 'gums', 'tomatoes', 'yogurt', 'juice', 'milk', 'onions', 'garlic', 'cucumber', 'sugar', 'blueberries', 'gums', 'yogurt']\n",
        "\n",
        "Carlos_list = ['tomatoes', 'water', 'onions', 'blueberries', 'garlic', 'flour', 'cherries', 'tomatoes', 'onions', 'water', 'tomatoes', 'toilet paper']\n",
        "\n",
        "Mattia_list = []\n",
        "\n",
        "\n"
      ],
      "execution_count": null,
      "outputs": []
    },
    {
      "cell_type": "markdown",
      "metadata": {
        "id": "edndeSzD-C6g"
      },
      "source": [
        "#### 15.1- As you can see there are items repeated in each list. Creat a sequence of iterable elements with dintinct items that each family member wants. You can do it in two different ways. Assign each one (set) to a variable with the name of the family member (ex: father_set)."
      ]
    },
    {
      "cell_type": "code",
      "metadata": {
        "id": "P2KTuQ-I-C6h",
        "colab": {
          "base_uri": "https://localhost:8080/"
        },
        "outputId": "a1acaa23-fb7f-4e8c-b3fc-6bc9064def1c"
      },
      "source": [
        "father_set = set(father_list)\n",
        "jo_set = set(Jo_list)\n",
        "carlos_set = set(Carlos_list)\n",
        "\n",
        "familyunique = father_set.union(jo_set, carlos_set)\n",
        "print(familyunique)"
      ],
      "execution_count": null,
      "outputs": [
        {
          "output_type": "stream",
          "name": "stdout",
          "text": [
            "{'cherries', 'blueberries', 'tomatoes', 'milk', 'yogurt', 'toilet paper', 'sugar', 'water', 'onions', 'flour', 'watermelon', 'garlic', 'gums', 'cucumber', 'juice'}\n"
          ]
        }
      ]
    },
    {
      "cell_type": "markdown",
      "metadata": {
        "id": "okCcNeGq-C6h"
      },
      "source": [
        "#### 15.2- Q: Mattia wants the same items that his brother Carlos and his sister Jo but doesn't want anything they both want.\n",
        "\n",
        "##### Hint: check out the documentation for `x.symmetric_difference(y)`."
      ]
    },
    {
      "cell_type": "code",
      "metadata": {
        "id": "xqpjxkix-C6i",
        "colab": {
          "base_uri": "https://localhost:8080/"
        },
        "outputId": "1f60a7ee-00f8-42a6-d432-6321c1254ebb"
      },
      "source": [
        "mattia_set = set()\n",
        "\n",
        "mattia_set = jo_set.symmetric_difference(carlos_set)\n",
        "\n",
        "mattia_set"
      ],
      "execution_count": null,
      "outputs": [
        {
          "output_type": "execute_result",
          "data": {
            "text/plain": [
              "{'cherries',\n",
              " 'cucumber',\n",
              " 'flour',\n",
              " 'gums',\n",
              " 'juice',\n",
              " 'milk',\n",
              " 'sugar',\n",
              " 'toilet paper',\n",
              " 'water',\n",
              " 'watermelon',\n",
              " 'yogurt'}"
            ]
          },
          "metadata": {},
          "execution_count": 132
        }
      ]
    },
    {
      "cell_type": "markdown",
      "metadata": {
        "id": "5_O8nu4j-C6i"
      },
      "source": [
        "#### 15.3- The line of code below  will  generate a list of random elements from a collection of items, with replacement. Run it and from it create a sequence of unique elements and assign it to the variable mother.\n"
      ]
    },
    {
      "cell_type": "code",
      "metadata": {
        "id": "jFwkFbTb-C6i",
        "colab": {
          "base_uri": "https://localhost:8080/"
        },
        "outputId": "f361eaa0-d765-4e56-d236-917bb90a8925"
      },
      "source": [
        "import random\n",
        "items = ['milk', 'water', 'chocolate', 'blueberries', 'shampoo', 'flour', 'bread', 'sugar', 'watermelon', 'vinegar', 'tomatoes', 'yogurt', 'juice', 'gums', 'onions', 'garlic', 'cucumber', 'mushrooms', 'toilet paper', 'oranges', 'deodorant', 'cherries']\n",
        "\n",
        "mother_list = random.choices(items,k = 10) # https://docs.python.org/3/library/random.html\n",
        "\n",
        "print(mother_list)"
      ],
      "execution_count": null,
      "outputs": [
        {
          "output_type": "stream",
          "name": "stdout",
          "text": [
            "['gums', 'yogurt', 'oranges', 'onions', 'blueberries', 'mushrooms', 'cucumber', 'gums', 'cherries', 'watermelon']\n"
          ]
        }
      ]
    },
    {
      "cell_type": "code",
      "metadata": {
        "id": "p82eHa0d-C6j",
        "colab": {
          "base_uri": "https://localhost:8080/"
        },
        "outputId": "2292f732-7ca4-4c15-eebf-eb8169fa7c59"
      },
      "source": [
        "mother_set = set(mother_list)\n",
        "mother_set\n"
      ],
      "execution_count": null,
      "outputs": [
        {
          "output_type": "execute_result",
          "data": {
            "text/plain": [
              "{'blueberries',\n",
              " 'cherries',\n",
              " 'cucumber',\n",
              " 'gums',\n",
              " 'mushrooms',\n",
              " 'onions',\n",
              " 'oranges',\n",
              " 'watermelon',\n",
              " 'yogurt'}"
            ]
          },
          "metadata": {},
          "execution_count": 134
        }
      ]
    },
    {
      "cell_type": "markdown",
      "metadata": {
        "id": "ww5uyECc-C6j"
      },
      "source": [
        "#### 15.4- Before leaving the house to the grocery store the father found a lot of toilet paper, so the mother decided to remove it from the items needed to be bought. Use the `.discard()` method to remove from each set created before the 'toilet paper'. \n",
        "\n",
        "#### Hint: Try to first create a list contaning the variables of each set created before, then loop through them and remove the unecessary item. \n",
        "\n",
        "##### Note: The`.discard()` method will remove and update the set without the need of reassignment.\n",
        "\n"
      ]
    },
    {
      "cell_type": "code",
      "metadata": {
        "id": "9o4Kg0jM-C6k",
        "colab": {
          "base_uri": "https://localhost:8080/"
        },
        "outputId": "21524c55-0f40-4a38-c62f-9a2b0942cc3e"
      },
      "source": [
        "list2 = [father_set,mother_set,jo_set,carlos_set,mattia_set]\n",
        "\n",
        "\n",
        "for element in list2:\n",
        "  \n",
        "    element.discard('toilet paper')\n",
        "\n",
        "list2\n",
        "\n"
      ],
      "execution_count": null,
      "outputs": [
        {
          "output_type": "execute_result",
          "data": {
            "text/plain": [
              "[{'cucumber', 'flour', 'garlic', 'gums', 'onions', 'watermelon', 'yogurt'},\n",
              " {'blueberries',\n",
              "  'cherries',\n",
              "  'cucumber',\n",
              "  'gums',\n",
              "  'mushrooms',\n",
              "  'onions',\n",
              "  'oranges',\n",
              "  'watermelon',\n",
              "  'yogurt'},\n",
              " {'blueberries',\n",
              "  'cucumber',\n",
              "  'garlic',\n",
              "  'gums',\n",
              "  'juice',\n",
              "  'milk',\n",
              "  'onions',\n",
              "  'sugar',\n",
              "  'tomatoes',\n",
              "  'watermelon',\n",
              "  'yogurt'},\n",
              " {'blueberries', 'cherries', 'flour', 'garlic', 'onions', 'tomatoes', 'water'},\n",
              " {'cherries',\n",
              "  'cucumber',\n",
              "  'flour',\n",
              "  'gums',\n",
              "  'juice',\n",
              "  'milk',\n",
              "  'sugar',\n",
              "  'water',\n",
              "  'watermelon',\n",
              "  'yogurt'}]"
            ]
          },
          "metadata": {},
          "execution_count": 135
        }
      ]
    },
    {
      "cell_type": "markdown",
      "metadata": {
        "id": "RXR6dKr4-C6k"
      },
      "source": [
        "#### 15.5- Create a set with all the groceries needed to be bought for the house (no repetitions)."
      ]
    },
    {
      "cell_type": "code",
      "metadata": {
        "id": "2IbNaJ2k-C6k",
        "colab": {
          "base_uri": "https://localhost:8080/"
        },
        "outputId": "dc15439b-6d1e-4beb-e2ff-759a58b44d34"
      },
      "source": [
        "all_groceries = familyunique.union(mattia_set,mother_set)\n",
        "\n",
        "all_groceries.discard('toilet paper')\n",
        "all_groceries"
      ],
      "execution_count": null,
      "outputs": [
        {
          "output_type": "execute_result",
          "data": {
            "text/plain": [
              "{'blueberries',\n",
              " 'cherries',\n",
              " 'cucumber',\n",
              " 'flour',\n",
              " 'garlic',\n",
              " 'gums',\n",
              " 'juice',\n",
              " 'milk',\n",
              " 'mushrooms',\n",
              " 'onions',\n",
              " 'oranges',\n",
              " 'sugar',\n",
              " 'tomatoes',\n",
              " 'water',\n",
              " 'watermelon',\n",
              " 'yogurt'}"
            ]
          },
          "metadata": {},
          "execution_count": 136
        }
      ]
    },
    {
      "cell_type": "markdown",
      "metadata": {
        "id": "d0cWBzGa-C6k"
      },
      "source": [
        "#### 15.6- The Father said that he could only buy five items this time. So he decided to arbitraly pick wich ones to buy this time.\n",
        "\n",
        "##### Hint: use the `.pop()` method."
      ]
    },
    {
      "cell_type": "code",
      "metadata": {
        "id": "pQS1Y69t-C6l",
        "colab": {
          "base_uri": "https://localhost:8080/"
        },
        "outputId": "9fb2905c-3541-4400-d64a-902cb3202b3d"
      },
      "source": [
        "print(father_set.pop())\n",
        "\n",
        "father_set\n",
        "    \n",
        "\n",
        "\n"
      ],
      "execution_count": null,
      "outputs": [
        {
          "output_type": "stream",
          "name": "stdout",
          "text": [
            "watermelon\n"
          ]
        },
        {
          "output_type": "execute_result",
          "data": {
            "text/plain": [
              "{'flour', 'garlic', 'gums', 'onions', 'yogurt'}"
            ]
          },
          "metadata": {},
          "execution_count": 138
        }
      ]
    },
    {
      "cell_type": "code",
      "metadata": {
        "id": "FcaKIU-sX_z5"
      },
      "source": [
        ""
      ],
      "execution_count": null,
      "outputs": []
    }
  ]
}