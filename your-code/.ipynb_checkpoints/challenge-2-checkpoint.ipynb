{
 "cells": [
  {
   "cell_type": "markdown",
   "metadata": {},
   "source": [
    "## Challenge 2: Sets\n",
    "\n",
    "There are a lot to learn about Python Sets and the information presented in the lesson is limited due to its length. To learn Python Sets in depth you are strongly encouraged to review the W3Schools tutorial on [Python Sets Examples and Methods](https://www.w3schools.com/python/python_sets.asp) before you work on this lab. Some difficult questions in this lab have their solutions in the W3Schools tutorial.\n",
    "\n",
    "#### First, import the Python `random` libary"
   ]
  },
  {
   "cell_type": "code",
   "execution_count": 1,
   "metadata": {},
   "outputs": [],
   "source": [
    "import random"
   ]
  },
  {
   "cell_type": "markdown",
   "metadata": {},
   "source": [
    "#### 1 - In the cell below, create a list named `sample_list_1` with 80 random values. \n",
    "\n",
    "Requirements:\n",
    "\n",
    "* Each value is an integer falling between 0 and 100.\n",
    "* Each value in the list is unique.\n",
    "\n",
    "Print `sample_list_1` to review its values\n",
    "\n",
    "*Hint: use `random.sample` ([reference](https://docs.python.org/3/library/random.html#random.sample)).*"
   ]
  },
  {
   "cell_type": "code",
   "execution_count": 2,
   "metadata": {},
   "outputs": [
    {
     "name": "stdout",
     "output_type": "stream",
     "text": [
      "[17, 89, 92, 13, 35, 87, 94, 41, 70, 76, 22, 65, 60, 18, 30, 52, 91, 39, 55, 54, 74, 82, 2, 90, 31, 97, 42, 77, 9, 48, 11, 67, 85, 72, 37, 15, 57, 46, 33, 73, 44, 28, 51, 99, 50, 34, 45, 36, 98, 27, 62, 59, 7, 83, 100, 38, 5, 26, 75, 0, 81, 25, 8, 93, 68, 61, 16, 12, 40, 86, 63, 19, 80, 43, 96, 56, 58, 66, 88, 32]\n"
     ]
    }
   ],
   "source": [
    "sample_list_1=random.sample(range(0,101), k=80)\n",
    "print(sample_list_1)\n"
   ]
  },
  {
   "cell_type": "markdown",
   "metadata": {},
   "source": [
    "#### 2 - Convert `sample_list_1` to a set called `set1`. Print the length of the set. Is its length still 80?"
   ]
  },
  {
   "cell_type": "code",
   "execution_count": 3,
   "metadata": {},
   "outputs": [
    {
     "name": "stdout",
     "output_type": "stream",
     "text": [
      "<class 'set'>\n",
      "80\n",
      "{0, 2, 5, 7, 8, 9, 11, 12, 13, 15, 16, 17, 18, 19, 22, 25, 26, 27, 28, 30, 31, 32, 33, 34, 35, 36, 37, 38, 39, 40, 41, 42, 43, 44, 45, 46, 48, 50, 51, 52, 54, 55, 56, 57, 58, 59, 60, 61, 62, 63, 65, 66, 67, 68, 70, 72, 73, 74, 75, 76, 77, 80, 81, 82, 83, 85, 86, 87, 88, 89, 90, 91, 92, 93, 94, 96, 97, 98, 99, 100}\n"
     ]
    }
   ],
   "source": [
    "set1=set(sample_list_1)\n",
    "print(type(set1))\n",
    "print(len(set1))\n",
    "print(set1)"
   ]
  },
  {
   "cell_type": "markdown",
   "metadata": {},
   "source": [
    "#### 3 - Create another list named `sample_list_2` with 80 random values.\n",
    "\n",
    "Requirements:\n",
    "\n",
    "* Each value is an integer falling between 0 and 100.\n",
    "* The values in the list don't have to be unique.\n",
    "\n",
    "*Hint: Use a FOR loop.*"
   ]
  },
  {
   "cell_type": "code",
   "execution_count": 4,
   "metadata": {},
   "outputs": [
    {
     "name": "stdout",
     "output_type": "stream",
     "text": [
      "[78, 9, 68, 88, 36, 40, 65, 77, 62, 8, 57, 3, 63, 75, 5, 47, 49, 81, 78, 21, 16, 86, 94, 32, 86, 95, 74, 28, 13, 51, 56, 45, 52, 16, 71, 50, 84, 0, 68, 21, 87, 92, 89, 74, 98, 55, 5, 71, 20, 47, 60, 93, 1, 8, 52, 21, 97, 33, 42, 53, 80, 95, 43, 66, 0, 20, 101, 28, 100, 50, 15, 47, 73, 2, 15, 98, 90, 48, 49, 0]\n"
     ]
    }
   ],
   "source": [
    "sample_list_2=[]\n",
    "\n",
    "for i in range(0,101):\n",
    "    x=random.randint(0,101)\n",
    "    if len(sample_list_2)<80:\n",
    "        sample_list_2.append(x)\n",
    "    else:\n",
    "        break\n",
    "        \n",
    "print(sample_list_2)\n",
    "\n"
   ]
  },
  {
   "cell_type": "markdown",
   "metadata": {},
   "source": [
    "#### 4 - Convert `sample_list_2` to a set called `set2`. Print the length of the set. Is its length still 80?"
   ]
  },
  {
   "cell_type": "code",
   "execution_count": 5,
   "metadata": {},
   "outputs": [
    {
     "name": "stdout",
     "output_type": "stream",
     "text": [
      "<class 'set'>\n",
      "58\n",
      "{0, 1, 2, 3, 5, 8, 9, 13, 15, 16, 20, 21, 28, 32, 33, 36, 40, 42, 43, 45, 47, 48, 49, 50, 51, 52, 53, 55, 56, 57, 60, 62, 63, 65, 66, 68, 71, 73, 74, 75, 77, 78, 80, 81, 84, 86, 87, 88, 89, 90, 92, 93, 94, 95, 97, 98, 100, 101}\n"
     ]
    }
   ],
   "source": [
    "set2=set(sample_list_2)\n",
    "print(type(set2))\n",
    "print(len(set2))\n",
    "print(set2)\n"
   ]
  },
  {
   "cell_type": "markdown",
   "metadata": {},
   "source": [
    "#### 5 - Identify the elements present in `set1` but not in `set2`. Assign the elements to a new set named `set3`."
   ]
  },
  {
   "cell_type": "code",
   "execution_count": 6,
   "metadata": {},
   "outputs": [
    {
     "name": "stdout",
     "output_type": "stream",
     "text": [
      "{7, 11, 12, 17, 18, 19, 22, 25, 26, 27, 30, 31, 34, 35, 37, 38, 39, 41, 44, 46, 54, 58, 59, 61, 67, 70, 72, 76, 82, 83, 85, 91, 96, 99}\n"
     ]
    }
   ],
   "source": [
    "set3=set1.difference(set2)\n",
    "print(set3)\n"
   ]
  },
  {
   "cell_type": "markdown",
   "metadata": {},
   "source": [
    "#### 6 - Identify the elements present in `set2` but not in `set1`. Assign the elements to a new set named `set4`."
   ]
  },
  {
   "cell_type": "code",
   "execution_count": 7,
   "metadata": {},
   "outputs": [
    {
     "name": "stdout",
     "output_type": "stream",
     "text": [
      "{1, 3, 101, 71, 78, 47, 49, 20, 21, 53, 84, 95}\n"
     ]
    }
   ],
   "source": [
    "set4=set2.difference(set1)\n",
    "print(set4)\n"
   ]
  },
  {
   "cell_type": "markdown",
   "metadata": {},
   "source": [
    "#### 7 - Now Identify the elements shared between `set1` and `set2`. Assign the elements to a new set named `set5`."
   ]
  },
  {
   "cell_type": "code",
   "execution_count": 8,
   "metadata": {},
   "outputs": [
    {
     "name": "stdout",
     "output_type": "stream",
     "text": [
      "{0, 2, 5, 8, 9, 13, 15, 16, 28, 32, 33, 36, 40, 42, 43, 45, 48, 50, 51, 52, 55, 56, 57, 60, 62, 63, 65, 66, 68, 73, 74, 75, 77, 80, 81, 86, 87, 88, 89, 90, 92, 93, 94, 97, 98, 100}\n"
     ]
    }
   ],
   "source": [
    "set5=set1.intersection(set2)\n",
    "print(set5)\n"
   ]
  },
  {
   "cell_type": "markdown",
   "metadata": {},
   "source": [
    "#### 8 - Create an empty set called `set6`."
   ]
  },
  {
   "cell_type": "code",
   "execution_count": 9,
   "metadata": {},
   "outputs": [
    {
     "name": "stdout",
     "output_type": "stream",
     "text": [
      "<class 'set'>\n"
     ]
    }
   ],
   "source": [
    "set6=[]\n",
    "set6=set(set6)\n",
    "print(type(set6))\n"
   ]
  },
  {
   "cell_type": "markdown",
   "metadata": {},
   "source": [
    "#### 9 - Add `set3` and `set5` to `set6` using the Python Set `update` method."
   ]
  },
  {
   "cell_type": "code",
   "execution_count": 10,
   "metadata": {},
   "outputs": [
    {
     "name": "stdout",
     "output_type": "stream",
     "text": [
      "{0, 2, 5, 7, 8, 9, 11, 12, 13, 15, 16, 17, 18, 19, 22, 25, 26, 27, 28, 30, 31, 32, 33, 34, 35, 36, 37, 38, 39, 40, 41, 42, 43, 44, 45, 46, 48, 50, 51, 52, 54, 55, 56, 57, 58, 59, 60, 61, 62, 63, 65, 66, 67, 68, 70, 72, 73, 74, 75, 76, 77, 80, 81, 82, 83, 85, 86, 87, 88, 89, 90, 91, 92, 93, 94, 96, 97, 98, 99, 100}\n"
     ]
    }
   ],
   "source": [
    "set6=set3.copy()\n",
    "set6.update(set5)\n",
    "print(set6)\n"
   ]
  },
  {
   "cell_type": "code",
   "execution_count": null,
   "metadata": {},
   "outputs": [],
   "source": [
    "set3.update(set5)\n",
    "set6.update(set3)\n",
    "print(set6)\n",
    "#entretanto aqui alterei o set 3, logo não vou rodar essa solução"
   ]
  },
  {
   "cell_type": "markdown",
   "metadata": {},
   "source": [
    "#### 10 - Check if `set1` and `set6` are equal."
   ]
  },
  {
   "cell_type": "code",
   "execution_count": 11,
   "metadata": {},
   "outputs": [
    {
     "data": {
      "text/plain": [
       "True"
      ]
     },
     "execution_count": 11,
     "metadata": {},
     "output_type": "execute_result"
    }
   ],
   "source": [
    "set1==set6\n"
   ]
  },
  {
   "cell_type": "code",
   "execution_count": 12,
   "metadata": {},
   "outputs": [
    {
     "name": "stdout",
     "output_type": "stream",
     "text": [
      "{0, 2, 5, 7, 8, 9, 11, 12, 13, 15, 16, 17, 18, 19, 22, 25, 26, 27, 28, 30, 31, 32, 33, 34, 35, 36, 37, 38, 39, 40, 41, 42, 43, 44, 45, 46, 48, 50, 51, 52, 54, 55, 56, 57, 58, 59, 60, 61, 62, 63, 65, 66, 67, 68, 70, 72, 73, 74, 75, 76, 77, 80, 81, 82, 83, 85, 86, 87, 88, 89, 90, 91, 92, 93, 94, 96, 97, 98, 99, 100}\n"
     ]
    }
   ],
   "source": [
    "print(set1)"
   ]
  },
  {
   "cell_type": "markdown",
   "metadata": {},
   "source": [
    "#### 11 - Check if `set1` contains `set2` using the Python Set `issubset` method. Then check if `set1` contains `set3`.*"
   ]
  },
  {
   "cell_type": "code",
   "execution_count": 13,
   "metadata": {},
   "outputs": [
    {
     "name": "stdout",
     "output_type": "stream",
     "text": [
      "False\n",
      "True\n"
     ]
    }
   ],
   "source": [
    "print(set2.issubset(set1))\n",
    "print(set3.issubset(set1))\n"
   ]
  },
  {
   "cell_type": "markdown",
   "metadata": {},
   "source": [
    "#### 12 -Using the Python Set `union` method, aggregate `set3`, `set4`, and `set5`. Then aggregate `set1` and `set2`. \n",
    "\n",
    "#### Check if the aggregated values are equal."
   ]
  },
  {
   "cell_type": "code",
   "execution_count": 14,
   "metadata": {},
   "outputs": [
    {
     "name": "stdout",
     "output_type": "stream",
     "text": [
      "{0, 1, 2, 3, 5, 7, 8, 9, 11, 12, 13, 15, 16, 17, 18, 19, 20, 21, 22, 25, 26, 27, 28, 30, 31, 32, 33, 34, 35, 36, 37, 38, 39, 40, 41, 42, 43, 44, 45, 46, 47, 48, 49, 50, 51, 52, 53, 54, 55, 56, 57, 58, 59, 60, 61, 62, 63, 65, 66, 67, 68, 70, 71, 72, 73, 74, 75, 76, 77, 78, 80, 81, 82, 83, 84, 85, 86, 87, 88, 89, 90, 91, 92, 93, 94, 95, 96, 97, 98, 99, 100, 101}\n",
      "{0, 1, 2, 3, 5, 7, 8, 9, 11, 12, 13, 15, 16, 17, 18, 19, 20, 21, 22, 25, 26, 27, 28, 30, 31, 32, 33, 34, 35, 36, 37, 38, 39, 40, 41, 42, 43, 44, 45, 46, 47, 48, 49, 50, 51, 52, 53, 54, 55, 56, 57, 58, 59, 60, 61, 62, 63, 65, 66, 67, 68, 70, 71, 72, 73, 74, 75, 76, 77, 78, 80, 81, 82, 83, 84, 85, 86, 87, 88, 89, 90, 91, 92, 93, 94, 95, 96, 97, 98, 99, 100, 101}\n"
     ]
    },
    {
     "data": {
      "text/plain": [
       "True"
      ]
     },
     "execution_count": 14,
     "metadata": {},
     "output_type": "execute_result"
    }
   ],
   "source": [
    "x=set3.union(set4)\n",
    "y=x.union(set5)\n",
    "print(y)\n",
    "\n",
    "z=set1.union(set2)\n",
    "print(z)\n",
    "\n",
    "y==z"
   ]
  },
  {
   "cell_type": "markdown",
   "metadata": {},
   "source": [
    "#### 13 -Using the `pop` method, remove the first element from `set1`."
   ]
  },
  {
   "cell_type": "code",
   "execution_count": 15,
   "metadata": {},
   "outputs": [
    {
     "name": "stdout",
     "output_type": "stream",
     "text": [
      "{0, 2, 5, 7, 8, 9, 11, 12, 13, 15, 16, 17, 18, 19, 22, 25, 26, 27, 28, 30, 31, 32, 33, 34, 35, 36, 37, 38, 39, 40, 41, 42, 43, 44, 45, 46, 48, 50, 51, 52, 54, 55, 56, 57, 58, 59, 60, 61, 62, 63, 65, 66, 67, 68, 70, 72, 73, 74, 75, 76, 77, 80, 81, 82, 83, 85, 86, 87, 88, 89, 90, 91, 92, 93, 94, 96, 97, 98, 99, 100}\n"
     ]
    }
   ],
   "source": [
    "print(set1)"
   ]
  },
  {
   "cell_type": "code",
   "execution_count": 16,
   "metadata": {},
   "outputs": [
    {
     "name": "stdout",
     "output_type": "stream",
     "text": [
      "0\n",
      "[2, 5, 7, 8, 9, 11, 12, 13, 15, 16, 17, 18, 19, 22, 25, 26, 27, 28, 30, 31, 32, 33, 34, 35, 36, 37, 38, 39, 40, 41, 42, 43, 44, 45, 46, 48, 50, 51, 52, 54, 55, 56, 57, 58, 59, 60, 61, 62, 63, 65, 66, 67, 68, 70, 72, 73, 74, 75, 76, 77, 80, 81, 82, 83, 85, 86, 87, 88, 89, 90, 91, 92, 93, 94, 96, 97, 98, 99, 100]\n",
      "<class 'set'>\n",
      "{2, 5, 7, 8, 9, 11, 12, 13, 15, 16, 17, 18, 19, 22, 25, 26, 27, 28, 30, 31, 32, 33, 34, 35, 36, 37, 38, 39, 40, 41, 42, 43, 44, 45, 46, 48, 50, 51, 52, 54, 55, 56, 57, 58, 59, 60, 61, 62, 63, 65, 66, 67, 68, 70, 72, 73, 74, 75, 76, 77, 80, 81, 82, 83, 85, 86, 87, 88, 89, 90, 91, 92, 93, 94, 96, 97, 98, 99, 100}\n"
     ]
    }
   ],
   "source": [
    "set1_lista=list(set1)\n",
    "removed=set1_lista.pop(0)\n",
    "print(removed)\n",
    "print(set1_lista)\n",
    "set1=set(set1_lista)\n",
    "print(type(set1))\n",
    "print(set1)"
   ]
  },
  {
   "cell_type": "markdown",
   "metadata": {},
   "source": [
    "#### 14 -Remove every element in the following list from `set1` if they are present in the set. Print the remaining elements.\n",
    "\n",
    "```\n",
    "list_to_remove = [1, 9, 11, 19, 21, 29, 31, 39, 41, 49, 51, 59, 61, 69, 71, 79, 81, 89, 91, 99]\n",
    "```"
   ]
  },
  {
   "cell_type": "code",
   "execution_count": null,
   "metadata": {},
   "outputs": [],
   "source": [
    "#Outra solução, porém menos bonita, logo não vou rodar\n",
    "#list_to_remove = [1, 9, 11, 19, 21, 29, 31, 39, 41, 49, 51, 59, 61, 69, 71, 79, 81, 89, 91, 99]\n",
    "#set_list_to_remove=set(list_to_remove)\n",
    "#x=set1.intersection(set_list_to_remove)\n",
    "#print(x)\n",
    "#x_lista=list(x)\n",
    "#print(x_lista)\n",
    "#print(type(x_lista))\n",
    "\n",
    "#for element in x_lista:\n",
    "#    set1_lista.remove(element)\n",
    "#print(set1_lista)"
   ]
  },
  {
   "cell_type": "code",
   "execution_count": 17,
   "metadata": {},
   "outputs": [
    {
     "name": "stdout",
     "output_type": "stream",
     "text": [
      "[2, 5, 7, 8, 12, 13, 15, 16, 17, 18, 22, 25, 26, 27, 28, 30, 32, 33, 34, 35, 36, 37, 38, 40, 42, 43, 44, 45, 46, 48, 50, 52, 54, 55, 56, 57, 58, 60, 62, 63, 65, 66, 67, 68, 70, 72, 73, 74, 75, 76, 77, 80, 82, 83, 85, 86, 87, 88, 90, 92, 93, 94, 96, 97, 98, 100]\n"
     ]
    }
   ],
   "source": [
    "list_to_remove = [1, 9, 11, 19, 21, 29, 31, 39, 41, 49, 51, 59, 61, 69, 71, 79, 81, 89, 91, 99]\n",
    "\n",
    "for element in list_to_remove:\n",
    "    if element in set1_lista:\n",
    "        set1_lista.remove(element)\n",
    "print(set1_lista)\n",
    "    "
   ]
  },
  {
   "cell_type": "markdown",
   "metadata": {},
   "source": [
    "#### 15 -The objective of this lab is to provide you a overview of manipulating sets in Python and how they can be integrated within a real usecase\n",
    "#### For the exercises below it's strongly advised to quickly check this link: https://docs.python.org/2/library/sets.html#sets.Set\n",
    "#### Imagine you need to create the grocery list for your family! Below you will see a list of items each family member wants. There will be repetitions because this family has the habbit of each time they notice something is missing to write it down. The problem is that they don't really talk to each other and therefore some items in the list are repeated. With the collection of questions below you will see how they solve repetion and create a grocery list with unique elements.\n",
    "\n"
   ]
  },
  {
   "cell_type": "code",
   "execution_count": 18,
   "metadata": {},
   "outputs": [],
   "source": [
    "father_list = ['garlic', 'watermelon', 'toilet paper', 'yogurt', 'onions', 'gums', 'flour', 'cucumber', 'watermelon', 'yogurt', 'garlic']\n",
    "\n",
    "mother_list = []\n",
    "\n",
    "Jo_list = ['blueberries', 'sugar', 'watermelon', 'gums', 'tomatoes', 'yogurt', 'juice', 'milk', 'onions', 'garlic', 'cucumber', 'sugar', 'blueberries', 'gums', 'yogurt']\n",
    "\n",
    "Carlos_list = ['tomatoes', 'water', 'onions', 'blueberries', 'garlic', 'flour', 'cherries', 'tomatoes', 'onions', 'water', 'tomatoes', 'toilet paper']\n",
    "\n",
    "Mattia_list = []\n",
    "\n",
    "\n"
   ]
  },
  {
   "cell_type": "markdown",
   "metadata": {},
   "source": [
    "#### 15.1- As you can see there are items repeated in each list. Creat a sequence of iterable elements with dintinct items that each family member wants. You can do it in two different ways. Assign each one (set) to a variable with the name of the family member (ex: father_set)."
   ]
  },
  {
   "cell_type": "code",
   "execution_count": 19,
   "metadata": {},
   "outputs": [
    {
     "name": "stdout",
     "output_type": "stream",
     "text": [
      "['garlic', 'watermelon', 'toilet paper', 'yogurt', 'onions', 'gums', 'flour', 'cucumber', 'watermelon', 'yogurt', 'garlic', 'blueberries', 'sugar', 'watermelon', 'gums', 'tomatoes', 'yogurt', 'juice', 'milk', 'onions', 'garlic', 'cucumber', 'sugar', 'blueberries', 'gums', 'yogurt', 'tomatoes', 'water', 'onions', 'blueberries', 'garlic', 'flour', 'cherries', 'tomatoes', 'onions', 'water', 'tomatoes', 'toilet paper']\n",
      "['cucumber', 'cherries', 'yogurt', 'sugar', 'juice', 'toilet paper', 'garlic', 'onions', 'watermelon', 'water', 'blueberries', 'gums', 'milk', 'tomatoes', 'flour']\n",
      "15\n",
      "['blueberries', 'cherries', 'cucumber', 'flour', 'garlic', 'gums', 'juice', 'milk', 'onions', 'sugar', 'toilet paper', 'tomatoes', 'water', 'watermelon', 'yogurt']\n"
     ]
    }
   ],
   "source": [
    "#Solução 1\n",
    "\n",
    "total_items=father_list+Jo_list+Carlos_list\n",
    "print(total_items)\n",
    "\n",
    "\n",
    "def get_unique_items(total_items):\n",
    "    \n",
    "    list_of_unique_items = []\n",
    "    unique_items = set(total_items)\n",
    "    \n",
    "    for item in unique_items:\n",
    "        list_of_unique_items.append(item)\n",
    "        \n",
    "    return list_of_unique_items\n",
    "\n",
    "\n",
    "print(get_unique_items(total_items))\n",
    "\n",
    "\n",
    "#apenas para confirmar que as duas soluções dão a mesma resposta:\n",
    "\n",
    "print(len(get_unique_items(total_items)))\n",
    "\n",
    "x=sorted((get_unique_items(total_items)))\n",
    "print(x)"
   ]
  },
  {
   "cell_type": "code",
   "execution_count": 20,
   "metadata": {},
   "outputs": [
    {
     "name": "stdout",
     "output_type": "stream",
     "text": [
      "{'cherries', 'juice', 'toilet paper', 'blueberries', 'milk', 'tomatoes', 'flour', 'cucumber', 'yogurt', 'sugar', 'garlic', 'watermelon', 'onions', 'water', 'gums'}\n",
      "15\n",
      "['blueberries', 'cherries', 'cucumber', 'flour', 'garlic', 'gums', 'juice', 'milk', 'onions', 'sugar', 'toilet paper', 'tomatoes', 'water', 'watermelon', 'yogurt']\n"
     ]
    },
    {
     "data": {
      "text/plain": [
       "True"
      ]
     },
     "execution_count": 20,
     "metadata": {},
     "output_type": "execute_result"
    }
   ],
   "source": [
    "#Solução 2\n",
    "father_set=set(father_list)\n",
    "Jo_set=set(Jo_list)\n",
    "Carlos_set=set(Carlos_list)\n",
    "\n",
    "father_set1=father_set.copy()\n",
    "father_set1.update(Jo_set)\n",
    "father_set1.update(Carlos_set)\n",
    "\n",
    "print(father_set1)\n",
    "\n",
    "#apenas para confirmar que as duas soluções dão a mesma resposta:\n",
    "\n",
    "print(len(father_set1))\n",
    "\n",
    "total_items=list(father_set1)\n",
    "print(sorted(total_items))\n",
    "\n",
    "sorted(total_items)==x"
   ]
  },
  {
   "cell_type": "markdown",
   "metadata": {},
   "source": [
    "#### 15.2- Q: Mattia wants the same items that his brother Carlos and his sister Jo but doesn't want anything they both want.\n",
    "\n",
    "##### Hint: check out the documentation for `x.symmetric_difference(y)`."
   ]
  },
  {
   "cell_type": "code",
   "execution_count": 21,
   "metadata": {},
   "outputs": [
    {
     "name": "stdout",
     "output_type": "stream",
     "text": [
      "{'cucumber', 'cherries', 'yogurt', 'sugar', 'juice', 'watermelon', 'toilet paper', 'water', 'gums', 'milk', 'flour'}\n"
     ]
    }
   ],
   "source": [
    "Mattia_set=set(Mattia_list)\n",
    "Mattia_set=Carlos_set.symmetric_difference(Jo_set)\n",
    "print(Mattia_set)\n"
   ]
  },
  {
   "cell_type": "markdown",
   "metadata": {},
   "source": [
    "#### 15.3- The line of code below  will  generate a list of random elements from a collection of items, with replacement. Run it and from it create a sequence of unique elements and assign it to the variable mother.\n"
   ]
  },
  {
   "cell_type": "code",
   "execution_count": 22,
   "metadata": {},
   "outputs": [
    {
     "name": "stdout",
     "output_type": "stream",
     "text": [
      "['blueberries', 'juice', 'milk', 'juice', 'mushrooms', 'onions', 'onions', 'gums', 'sugar', 'sugar']\n"
     ]
    }
   ],
   "source": [
    "import random\n",
    "items = ['milk', 'water', 'chocolate', 'blueberries', 'shampoo', 'flour', 'bread', 'sugar', 'watermelon', 'vinegar', 'tomatoes', 'yogurt', 'juice', 'gums', 'onions', 'garlic', 'cucumber', 'mushrooms', 'toilet paper', 'oranges', 'deodorant', 'cherries']\n",
    "\n",
    "mother_list = random.choices(items,k = 10) # https://docs.python.org/3/library/random.html\n",
    "\n",
    "print(mother_list)"
   ]
  },
  {
   "cell_type": "code",
   "execution_count": 23,
   "metadata": {},
   "outputs": [
    {
     "name": "stdout",
     "output_type": "stream",
     "text": [
      "{'mushrooms', 'juice', 'sugar', 'onions', 'blueberries', 'gums', 'milk'}\n"
     ]
    }
   ],
   "source": [
    "mother_set=set(mother_list)\n",
    "print(mother_set)\n"
   ]
  },
  {
   "cell_type": "markdown",
   "metadata": {},
   "source": [
    "#### 15.4- Before leaving the house to the grocery store the father found a lot of toilet paper, so the mother decided to remove it from the items needed to be bought. Use the `.discard()` method to remove from each set created before the 'toilet paper'. \n",
    "\n",
    "#### Hint: Try to first create a list contaning the variables of each set created before, then loop through them and remove the unecessary item. \n",
    "\n",
    "##### Note: The`.discard()` method will remove and update the set without the need of reassignment.\n",
    "\n"
   ]
  },
  {
   "cell_type": "code",
   "execution_count": 24,
   "metadata": {},
   "outputs": [
    {
     "name": "stdout",
     "output_type": "stream",
     "text": [
      "{'cucumber', 'cherries', 'yogurt', 'mushrooms', 'juice', 'sugar', 'toilet paper', 'garlic', 'onions', 'watermelon', 'water', 'blueberries', 'gums', 'milk', 'tomatoes', 'flour'}\n",
      "{'cucumber', 'cherries', 'yogurt', 'mushrooms', 'juice', 'sugar', 'garlic', 'onions', 'watermelon', 'water', 'blueberries', 'gums', 'milk', 'tomatoes', 'flour'}\n"
     ]
    }
   ],
   "source": [
    "new_total_items=father_list+mother_list+Jo_list+Mattia_list+Carlos_list\n",
    "new_total_items_set=set(new_total_items)\n",
    "print(new_total_items_set)\n",
    "new_total_items_set.discard('toilet paper')\n",
    "print(new_total_items_set)"
   ]
  },
  {
   "cell_type": "markdown",
   "metadata": {},
   "source": [
    "#### 15.5- Create a set with all the groceries needed to be bought for the house (no repetitions)."
   ]
  },
  {
   "cell_type": "code",
   "execution_count": 25,
   "metadata": {},
   "outputs": [
    {
     "name": "stdout",
     "output_type": "stream",
     "text": [
      "{'cucumber', 'cherries', 'yogurt', 'mushrooms', 'juice', 'sugar', 'garlic', 'onions', 'watermelon', 'water', 'blueberries', 'gums', 'milk', 'tomatoes', 'flour'}\n",
      "15\n"
     ]
    }
   ],
   "source": [
    "print(new_total_items_set)\n",
    "print(len(new_total_items_set))"
   ]
  },
  {
   "cell_type": "markdown",
   "metadata": {},
   "source": [
    "#### 15.6- The Father said that he could only buy five items this time. So he decided to arbitraly pick wich ones to buy this time.\n",
    "\n",
    "##### Hint: use the `.pop()` method."
   ]
  },
  {
   "cell_type": "code",
   "execution_count": 26,
   "metadata": {},
   "outputs": [
    {
     "name": "stdout",
     "output_type": "stream",
     "text": [
      "{'blueberries', 'gums', 'milk', 'tomatoes', 'flour'}\n"
     ]
    }
   ],
   "source": [
    "while len(new_total_items_set)>5:\n",
    "    new_total_items_set.pop()\n",
    "    \n",
    "print(new_total_items_set)"
   ]
  },
  {
   "cell_type": "code",
   "execution_count": null,
   "metadata": {},
   "outputs": [],
   "source": [
    "#OUTRA SOLUÇÃO tendo output uma lista (Felipe)\n",
    "\n",
    "#new_list = []\n",
    "\n",
    "#while len(new_total_items_set)>5:\n",
    "#new_list.append(new_total_items_set.pop())\n",
    "\n"
   ]
  },
  {
   "cell_type": "code",
   "execution_count": null,
   "metadata": {},
   "outputs": [],
   "source": [
    "#new_total_items_set.pop()\n",
    "#print(new_total_items_set)\n",
    "\n",
    "#mandando rodar 10 vezes, 10 itens são eliminados aleatoriamente, restando 5, porém essa solução é bem menos prática"
   ]
  }
 ],
 "metadata": {
  "kernelspec": {
   "display_name": "Python 3 (ipykernel)",
   "language": "python",
   "name": "python3"
  },
  "language_info": {
   "codemirror_mode": {
    "name": "ipython",
    "version": 3
   },
   "file_extension": ".py",
   "mimetype": "text/x-python",
   "name": "python",
   "nbconvert_exporter": "python",
   "pygments_lexer": "ipython3",
   "version": "3.8.12"
  }
 },
 "nbformat": 4,
 "nbformat_minor": 2
}
