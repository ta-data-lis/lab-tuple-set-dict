{
 "cells": [
  {
   "cell_type": "markdown",
   "metadata": {},
   "source": [
    "## Challenge 2: Sets\n",
    "\n",
    "There are a lot to learn about Python Sets and the information presented in the lesson is limited due to its length. To learn Python Sets in depth you are strongly encouraged to review the W3Schools tutorial on [Python Sets Examples and Methods](https://www.w3schools.com/python/python_sets.asp) before you work on this lab. Some difficult questions in this lab have their solutions in the W3Schools tutorial.\n",
    "\n",
    "#### First, import the Python `random` libary"
   ]
  },
  {
   "cell_type": "code",
   "execution_count": 1,
   "metadata": {},
   "outputs": [],
   "source": [
    "import random\n"
   ]
  },
  {
   "cell_type": "markdown",
   "metadata": {},
   "source": [
    "#### In the cell below, create a list named `sample_list_1` with 80 random values. \n",
    "\n",
    "Requirements:\n",
    "\n",
    "* Each value is an integer falling between 0 and 100.\n",
    "* Each value in the list is unique.\n",
    "\n",
    "Print `sample_list_1` to review its values\n",
    "\n",
    "*Hint: use `random.sample` ([reference](https://docs.python.org/3/library/random.html#random.sample)).*"
   ]
  },
  {
   "cell_type": "code",
   "execution_count": 2,
   "metadata": {},
   "outputs": [
    {
     "name": "stdout",
     "output_type": "stream",
     "text": [
      "[86, 13, 12, 93, 50, 2, 15, 72, 71, 98, 4, 33, 63, 34, 11, 99, 27, 57, 19, 42, 44, 84, 37, 43, 45, 74, 28, 82, 56, 69, 95, 35, 14, 83, 3, 47, 66, 5, 41, 8, 58, 89, 81, 49, 55, 22, 90, 85, 62, 48, 39, 94, 1, 87, 70, 32, 36, 59, 6, 18, 61, 97, 68, 31, 76, 10, 60, 73, 23, 96, 26, 77, 0, 25, 88, 24, 38, 40, 64, 17]\n",
      "86 1\n",
      "13 1\n",
      "12 1\n",
      "93 1\n",
      "50 1\n",
      "2 1\n",
      "15 1\n",
      "72 1\n",
      "71 1\n",
      "98 1\n",
      "4 1\n",
      "33 1\n",
      "63 1\n",
      "34 1\n",
      "11 1\n",
      "99 1\n",
      "27 1\n",
      "57 1\n",
      "19 1\n",
      "42 1\n",
      "44 1\n",
      "84 1\n",
      "37 1\n",
      "43 1\n",
      "45 1\n",
      "74 1\n",
      "28 1\n",
      "82 1\n",
      "56 1\n",
      "69 1\n",
      "95 1\n",
      "35 1\n",
      "14 1\n",
      "83 1\n",
      "3 1\n",
      "47 1\n",
      "66 1\n",
      "5 1\n",
      "41 1\n",
      "8 1\n",
      "58 1\n",
      "89 1\n",
      "81 1\n",
      "49 1\n",
      "55 1\n",
      "22 1\n",
      "90 1\n",
      "85 1\n",
      "62 1\n",
      "48 1\n",
      "39 1\n",
      "94 1\n",
      "1 1\n",
      "87 1\n",
      "70 1\n",
      "32 1\n",
      "36 1\n",
      "59 1\n",
      "6 1\n",
      "18 1\n",
      "61 1\n",
      "97 1\n",
      "68 1\n",
      "31 1\n",
      "76 1\n",
      "10 1\n",
      "60 1\n",
      "73 1\n",
      "23 1\n",
      "96 1\n",
      "26 1\n",
      "77 1\n",
      "0 1\n",
      "25 1\n",
      "88 1\n",
      "24 1\n",
      "38 1\n",
      "40 1\n",
      "64 1\n",
      "17 1\n"
     ]
    }
   ],
   "source": [
    "# Your code here\n",
    "sample_list_1 = random.sample(range(0, 100), 80)\n",
    "\n",
    "print(sample_list_1)\n",
    "\n",
    "#check if there are 80 values\n",
    "len(sample_list_1)\n",
    "\n",
    "#check if there's any duplicate value\n",
    "for num in sample_list_1:\n",
    "    print(num,sample_list_1.count(num))"
   ]
  },
  {
   "cell_type": "markdown",
   "metadata": {},
   "source": [
    "#### Convert `sample_list_1` to a set called `set1`. Print the length of the set. Is its length still 80?"
   ]
  },
  {
   "cell_type": "code",
   "execution_count": 3,
   "metadata": {},
   "outputs": [
    {
     "name": "stdout",
     "output_type": "stream",
     "text": [
      "{0, 1, 2, 3, 4, 5, 6, 8, 10, 11, 12, 13, 14, 15, 17, 18, 19, 22, 23, 24, 25, 26, 27, 28, 31, 32, 33, 34, 35, 36, 37, 38, 39, 40, 41, 42, 43, 44, 45, 47, 48, 49, 50, 55, 56, 57, 58, 59, 60, 61, 62, 63, 64, 66, 68, 69, 70, 71, 72, 73, 74, 76, 77, 81, 82, 83, 84, 85, 86, 87, 88, 89, 90, 93, 94, 95, 96, 97, 98, 99}\n"
     ]
    }
   ],
   "source": [
    "# Your code here\n",
    "set1 = set(sample_list_1)\n",
    "\n",
    "print(set1)\n"
   ]
  },
  {
   "cell_type": "markdown",
   "metadata": {},
   "source": [
    "#### Create another list named `sample_list_2` with 80 random values.\n",
    "\n",
    "Requirements:\n",
    "\n",
    "* Each value is an integer falling between 0 and 100.\n",
    "* The values in the list don't have to be unique.\n",
    "\n",
    "*Hint: Use a FOR loop.*"
   ]
  },
  {
   "cell_type": "code",
   "execution_count": 4,
   "metadata": {},
   "outputs": [
    {
     "name": "stdout",
     "output_type": "stream",
     "text": [
      "[89, 57, 58, 71, 35, 99, 38, 66, 36, 93, 42, 68, 22, 80, 55, 76, 33, 60, 97, 67, 5, 61, 61, 2, 18, 13, 80, 56, 38, 16, 54, 78, 3, 35, 24, 81, 30, 94, 75, 42, 96, 34, 5, 53, 38, 68, 26, 72, 39, 52, 21, 64, 85, 42, 66, 64, 34, 97, 69, 66, 70, 71, 42, 27, 8, 77, 18, 45, 3, 39, 19, 39, 0, 48, 46, 79, 26, 21, 88, 87, 86, 58, 26, 13, 19, 34, 90, 57, 90, 28, 10, 7, 64, 91, 41, 8, 12, 24, 84, 81]\n",
      "89 1\n",
      "57 2\n",
      "58 2\n",
      "71 2\n",
      "35 2\n",
      "99 1\n",
      "38 3\n",
      "66 3\n",
      "36 1\n",
      "93 1\n",
      "42 4\n",
      "68 2\n",
      "22 1\n",
      "80 2\n",
      "55 1\n",
      "76 1\n",
      "33 1\n",
      "60 1\n",
      "97 2\n",
      "67 1\n",
      "5 2\n",
      "61 2\n",
      "61 2\n",
      "2 1\n",
      "18 2\n",
      "13 2\n",
      "80 2\n",
      "56 1\n",
      "38 3\n",
      "16 1\n",
      "54 1\n",
      "78 1\n",
      "3 2\n",
      "35 2\n",
      "24 2\n",
      "81 2\n",
      "30 1\n",
      "94 1\n",
      "75 1\n",
      "42 4\n",
      "96 1\n",
      "34 3\n",
      "5 2\n",
      "53 1\n",
      "38 3\n",
      "68 2\n",
      "26 3\n",
      "72 1\n",
      "39 3\n",
      "52 1\n",
      "21 2\n",
      "64 3\n",
      "85 1\n",
      "42 4\n",
      "66 3\n",
      "64 3\n",
      "34 3\n",
      "97 2\n",
      "69 1\n",
      "66 3\n",
      "70 1\n",
      "71 2\n",
      "42 4\n",
      "27 1\n",
      "8 2\n",
      "77 1\n",
      "18 2\n",
      "45 1\n",
      "3 2\n",
      "39 3\n",
      "19 2\n",
      "39 3\n",
      "0 1\n",
      "48 1\n",
      "46 1\n",
      "79 1\n",
      "26 3\n",
      "21 2\n",
      "88 1\n",
      "87 1\n",
      "86 1\n",
      "58 2\n",
      "26 3\n",
      "13 2\n",
      "19 2\n",
      "34 3\n",
      "90 2\n",
      "57 2\n",
      "90 2\n",
      "28 1\n",
      "10 1\n",
      "7 1\n",
      "64 3\n",
      "91 1\n",
      "41 1\n",
      "8 2\n",
      "12 1\n",
      "24 2\n",
      "84 1\n",
      "81 2\n"
     ]
    }
   ],
   "source": [
    "# Your code here\n",
    "sample_list_2 = [] \n",
    "\n",
    "valor = random.choice(range(0,100))\n",
    "valor\n",
    "\n",
    "for item in range(0,100):\n",
    "    sample_list_2.append(random.choice(range(0,100)))\n",
    "    \n",
    "print(sample_list_2)\n",
    "\n",
    "len(sample_list_2)\n",
    "\n",
    "#check if there's any duplicate value\n",
    "for num in sample_list_2:\n",
    "    print(num,sample_list_2.count(num))"
   ]
  },
  {
   "cell_type": "markdown",
   "metadata": {},
   "source": [
    "#### Convert `sample_list_2` to a set called `set2`. Print the length of the set. Is its length still 80?"
   ]
  },
  {
   "cell_type": "code",
   "execution_count": 5,
   "metadata": {},
   "outputs": [
    {
     "name": "stdout",
     "output_type": "stream",
     "text": [
      "{0, 2, 3, 5, 7, 8, 10, 12, 13, 16, 18, 19, 21, 22, 24, 26, 27, 28, 30, 33, 34, 35, 36, 38, 39, 41, 42, 45, 46, 48, 52, 53, 54, 55, 56, 57, 58, 60, 61, 64, 66, 67, 68, 69, 70, 71, 72, 75, 76, 77, 78, 79, 80, 81, 84, 85, 86, 87, 88, 89, 90, 91, 93, 94, 96, 97, 99}\n"
     ]
    },
    {
     "data": {
      "text/plain": [
       "67"
      ]
     },
     "execution_count": 5,
     "metadata": {},
     "output_type": "execute_result"
    }
   ],
   "source": [
    "# Your code here\n",
    "set2 =  set(sample_list_2)\n",
    "\n",
    "print(set2)\n",
    "\n",
    "# Lenght isn't 80\n",
    "len(set2)"
   ]
  },
  {
   "cell_type": "markdown",
   "metadata": {},
   "source": [
    "#### Identify the elements present in `set1` but not in `set2`. Assign the elements to a new set named `set3`."
   ]
  },
  {
   "cell_type": "code",
   "execution_count": 6,
   "metadata": {},
   "outputs": [
    {
     "name": "stdout",
     "output_type": "stream",
     "text": [
      "{1, 4, 6, 11, 14, 15, 17, 23, 25, 31, 32, 37, 40, 43, 44, 47, 49, 50, 59, 62, 63, 73, 74, 82, 83, 95, 98}\n"
     ]
    }
   ],
   "source": [
    "# Your code here\n",
    "\n",
    "set3 = set1.difference(set2)\n",
    "\n",
    "print(set3)\n"
   ]
  },
  {
   "cell_type": "markdown",
   "metadata": {},
   "source": [
    "#### Identify the elements present in `set2` but not in `set1`. Assign the elements to a new set named `set4`."
   ]
  },
  {
   "cell_type": "code",
   "execution_count": 7,
   "metadata": {},
   "outputs": [
    {
     "name": "stdout",
     "output_type": "stream",
     "text": [
      "{67, 7, 75, 46, 78, 16, 79, 80, 52, 21, 53, 54, 91, 30}\n"
     ]
    }
   ],
   "source": [
    "# Your code here\n",
    "\n",
    "set4 = set2.difference(set1)\n",
    "\n",
    "print(set4)"
   ]
  },
  {
   "cell_type": "markdown",
   "metadata": {},
   "source": [
    "#### Now Identify the elements shared between `set1` and `set2`. Assign the elements to a new set named `set5`."
   ]
  },
  {
   "cell_type": "code",
   "execution_count": 8,
   "metadata": {},
   "outputs": [
    {
     "name": "stdout",
     "output_type": "stream",
     "text": [
      "{0, 2, 3, 5, 8, 10, 12, 13, 18, 19, 22, 24, 26, 27, 28, 33, 34, 35, 36, 38, 39, 41, 42, 45, 48, 55, 56, 57, 58, 60, 61, 64, 66, 68, 69, 70, 71, 72, 76, 77, 81, 84, 85, 86, 87, 88, 89, 90, 93, 94, 96, 97, 99}\n"
     ]
    }
   ],
   "source": [
    "# Your code here\n",
    "\n",
    "set5 = set1.intersection(set2)\n",
    "\n",
    "print(set5)"
   ]
  },
  {
   "cell_type": "markdown",
   "metadata": {},
   "source": [
    "#### What is the relationship among the following values:\n",
    "\n",
    "* len(set1)\n",
    "* len(set2)\n",
    "* len(set3)\n",
    "* len(set4)\n",
    "* len(set5)\n",
    "\n",
    "Use a math formular to represent that relationship. Test your formular with Python code."
   ]
  },
  {
   "cell_type": "code",
   "execution_count": 9,
   "metadata": {},
   "outputs": [],
   "source": [
    "# Your code here\n"
   ]
  },
  {
   "cell_type": "markdown",
   "metadata": {},
   "source": [
    "#### Create an empty set called `set6`."
   ]
  },
  {
   "cell_type": "code",
   "execution_count": 10,
   "metadata": {},
   "outputs": [],
   "source": [
    "# Your code here\n",
    "\n",
    "set6 = set()"
   ]
  },
  {
   "cell_type": "markdown",
   "metadata": {},
   "source": [
    "#### Add `set3` and `set5` to `set6` using the Python Set `update` method."
   ]
  },
  {
   "cell_type": "code",
   "execution_count": 11,
   "metadata": {},
   "outputs": [
    {
     "name": "stdout",
     "output_type": "stream",
     "text": [
      "{0, 1, 2, 3, 4, 5, 6, 8, 10, 11, 12, 13, 14, 15, 17, 18, 19, 22, 23, 24, 25, 26, 27, 28, 31, 32, 33, 34, 35, 36, 37, 38, 39, 40, 41, 42, 43, 44, 45, 47, 48, 49, 50, 55, 56, 57, 58, 59, 60, 61, 62, 63, 64, 66, 68, 69, 70, 71, 72, 73, 74, 76, 77, 81, 82, 83, 84, 85, 86, 87, 88, 89, 90, 93, 94, 95, 96, 97, 98, 99}\n"
     ]
    }
   ],
   "source": [
    "# Your code here\n",
    "\n",
    "set6.update(set3, set5, set6)\n",
    "\n",
    "print(set6)"
   ]
  },
  {
   "cell_type": "markdown",
   "metadata": {},
   "source": [
    "#### Check if `set1` and `set6` are equal."
   ]
  },
  {
   "cell_type": "code",
   "execution_count": 12,
   "metadata": {},
   "outputs": [
    {
     "name": "stdout",
     "output_type": "stream",
     "text": [
      "ok\n",
      "set()\n"
     ]
    }
   ],
   "source": [
    "# Your code here\n",
    "if set1 == set6:\n",
    "    print(\"ok\")\n",
    "else:\n",
    "    print(\"not equal\")\n",
    "\n",
    "#check differences between sets\n",
    "print(set1.difference(set6))\n"
   ]
  },
  {
   "cell_type": "markdown",
   "metadata": {},
   "source": [
    "#### Check if `set1` contains `set2` using the Python Set `issubset` method. Then check if `set1` contains `set3`.*"
   ]
  },
  {
   "cell_type": "code",
   "execution_count": 13,
   "metadata": {},
   "outputs": [
    {
     "name": "stdout",
     "output_type": "stream",
     "text": [
      "False\n",
      "False\n"
     ]
    }
   ],
   "source": [
    "# Your code here\n",
    "\n",
    "print(set1.issubset(set2))\n",
    "print(set1.issubset(set3))"
   ]
  },
  {
   "cell_type": "markdown",
   "metadata": {},
   "source": [
    "#### Using the Python Set `union` method, aggregate `set3`, `set4`, and `set5`. Then aggregate `set1` and `set2`. \n",
    "\n",
    "#### Check if the aggregated values are equal."
   ]
  },
  {
   "cell_type": "code",
   "execution_count": 14,
   "metadata": {},
   "outputs": [
    {
     "name": "stdout",
     "output_type": "stream",
     "text": [
      "{0, 1, 2, 3, 4, 5, 6, 7, 8, 10, 11, 12, 13, 14, 15, 16, 17, 18, 19, 21, 22, 23, 24, 25, 26, 27, 28, 30, 31, 32, 33, 34, 35, 36, 37, 38, 39, 40, 41, 42, 43, 44, 45, 46, 47, 48, 49, 50, 52, 53, 54, 55, 56, 57, 58, 59, 60, 61, 62, 63, 64, 66, 67, 68, 69, 70, 71, 72, 73, 74, 75, 76, 77, 78, 79, 80, 81, 82, 83, 84, 85, 86, 87, 88, 89, 90, 91, 93, 94, 95, 96, 97, 98, 99}\n",
      "{0, 1, 2, 3, 4, 5, 6, 7, 8, 10, 11, 12, 13, 14, 15, 16, 17, 18, 19, 21, 22, 23, 24, 25, 26, 27, 28, 30, 31, 32, 33, 34, 35, 36, 37, 38, 39, 40, 41, 42, 43, 44, 45, 46, 47, 48, 49, 50, 52, 53, 54, 55, 56, 57, 58, 59, 60, 61, 62, 63, 64, 66, 67, 68, 69, 70, 71, 72, 73, 74, 75, 76, 77, 78, 79, 80, 81, 82, 83, 84, 85, 86, 87, 88, 89, 90, 91, 93, 94, 95, 96, 97, 98, 99}\n"
     ]
    }
   ],
   "source": [
    "# Your code here\n",
    "\n",
    "print(set.union(set3, set4, set5))\n",
    "\n",
    "print(set.union(set1, set2))"
   ]
  },
  {
   "cell_type": "markdown",
   "metadata": {},
   "source": [
    "#### Using the `pop` method, remove the first element from `set1`."
   ]
  },
  {
   "cell_type": "code",
   "execution_count": 15,
   "metadata": {},
   "outputs": [
    {
     "data": {
      "text/plain": [
       "0"
      ]
     },
     "execution_count": 15,
     "metadata": {},
     "output_type": "execute_result"
    }
   ],
   "source": [
    "# Your code here\n",
    "\n",
    "set1.pop()"
   ]
  },
  {
   "cell_type": "markdown",
   "metadata": {},
   "source": [
    "#### Remove every element in the following list from `set1` if they are present in the set. Print the remaining elements.\n",
    "\n",
    "```\n",
    "list_to_remove = [1, 9, 11, 19, 21, 29, 31, 39, 41, 49, 51, 59, 61, 69, 71, 79, 81, 89, 91, 99]\n",
    "```"
   ]
  },
  {
   "cell_type": "code",
   "execution_count": 17,
   "metadata": {},
   "outputs": [
    {
     "name": "stdout",
     "output_type": "stream",
     "text": [
      "{2, 3, 4, 5, 6, 8, 10, 12, 13, 14, 15, 17, 18, 22, 23, 24, 25, 26, 27, 28, 32, 33, 34, 35, 36, 37, 38, 40, 42, 43, 44, 45, 47, 48, 50, 55, 56, 57, 58, 60, 62, 63, 64, 66, 68, 70, 72, 73, 74, 76, 77, 82, 83, 84, 85, 86, 87, 88, 90, 93, 94, 95, 96, 97, 98}\n"
     ]
    }
   ],
   "source": [
    "# Your code here\n",
    "\n",
    "list_to_remove = [1, 9, 11, 19, 21, 29, 31, 39, 41, 49, 51, 59, 61, 69, 71, 79, 81, 89, 91, 99]\n",
    "\n",
    "#Is there any value set1 that match list_to_remove? \n",
    "\n",
    "set1.intersection(list_to_remove)\n",
    "\n",
    "\n",
    "for num in set1.intersection(list_to_remove):\n",
    "    set1.remove(num)\n",
    "print(set1)\n",
    "\n"
   ]
  }
 ],
 "metadata": {
  "kernelspec": {
   "display_name": "Python 3",
   "language": "python",
   "name": "python3"
  },
  "language_info": {
   "codemirror_mode": {
    "name": "ipython",
    "version": 3
   },
   "file_extension": ".py",
   "mimetype": "text/x-python",
   "name": "python",
   "nbconvert_exporter": "python",
   "pygments_lexer": "ipython3",
   "version": "3.6.5"
  }
 },
 "nbformat": 4,
 "nbformat_minor": 2
}
