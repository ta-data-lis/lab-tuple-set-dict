{
 "cells": [
  {
   "cell_type": "markdown",
   "metadata": {},
   "source": [
    "## Challenge 2: Sets\n",
    "\n",
    "There are a lot to learn about Python Sets and the information presented in the lesson is limited due to its length. To learn Python Sets in depth you are strongly encouraged to review the W3Schools tutorial on [Python Sets Examples and Methods](https://www.w3schools.com/python/python_sets.asp) before you work on this lab. Some difficult questions in this lab have their solutions in the W3Schools tutorial.\n",
    "\n",
    "#### First, import the Python `random` libary"
   ]
  },
  {
   "cell_type": "code",
   "execution_count": 1,
   "metadata": {},
   "outputs": [],
   "source": [
    "import random"
   ]
  },
  {
   "cell_type": "markdown",
   "metadata": {},
   "source": [
    "#### 1 - In the cell below, create a list named `sample_list_1` with 80 random values. \n",
    "\n",
    "Requirements:\n",
    "\n",
    "* Each value is an integer falling between 0 and 100.\n",
    "* Each value in the list is unique.\n",
    "\n",
    "Print `sample_list_1` to review its values\n",
    "\n",
    "*Hint: use `random.sample` ([reference](https://docs.python.org/3/library/random.html#random.sample)).*"
   ]
  },
  {
   "cell_type": "code",
   "execution_count": 2,
   "metadata": {},
   "outputs": [
    {
     "name": "stdout",
     "output_type": "stream",
     "text": [
      "[36, 92, 17, 81, 50, 82, 78, 94, 40, 20, 42, 80, 76, 48, 32, 39, 96, 0, 10, 67, 15, 77, 54, 63, 25, 90, 74, 31, 72, 11, 84, 4, 16, 23, 73, 98, 85, 18, 2, 52, 8, 55, 43, 38, 7, 51, 58, 6, 71, 29, 57, 46, 45, 68, 34, 65, 62, 28, 3, 89, 13, 79, 60, 41, 30, 99, 22, 44, 83, 66, 14, 49, 93, 95, 87, 1, 33, 56, 21, 12]\n"
     ]
    }
   ],
   "source": [
    "# Your code here\n",
    "list1 = list(range(0,100))\n",
    "sample_list_1 = random.sample(list1,80)\n",
    "print(sample_list_1)"
   ]
  },
  {
   "cell_type": "code",
   "execution_count": 3,
   "metadata": {},
   "outputs": [
    {
     "data": {
      "text/plain": [
       "{36: 1,\n",
       " 92: 1,\n",
       " 17: 1,\n",
       " 81: 1,\n",
       " 50: 1,\n",
       " 82: 1,\n",
       " 78: 1,\n",
       " 94: 1,\n",
       " 40: 1,\n",
       " 20: 1,\n",
       " 42: 1,\n",
       " 80: 1,\n",
       " 76: 1,\n",
       " 48: 1,\n",
       " 32: 1,\n",
       " 39: 1,\n",
       " 96: 1,\n",
       " 0: 1,\n",
       " 10: 1,\n",
       " 67: 1,\n",
       " 15: 1,\n",
       " 77: 1,\n",
       " 54: 1,\n",
       " 63: 1,\n",
       " 25: 1,\n",
       " 90: 1,\n",
       " 74: 1,\n",
       " 31: 1,\n",
       " 72: 1,\n",
       " 11: 1,\n",
       " 84: 1,\n",
       " 4: 1,\n",
       " 16: 1,\n",
       " 23: 1,\n",
       " 73: 1,\n",
       " 98: 1,\n",
       " 85: 1,\n",
       " 18: 1,\n",
       " 2: 1,\n",
       " 52: 1,\n",
       " 8: 1,\n",
       " 55: 1,\n",
       " 43: 1,\n",
       " 38: 1,\n",
       " 7: 1,\n",
       " 51: 1,\n",
       " 58: 1,\n",
       " 6: 1,\n",
       " 71: 1,\n",
       " 29: 1,\n",
       " 57: 1,\n",
       " 46: 1,\n",
       " 45: 1,\n",
       " 68: 1,\n",
       " 34: 1,\n",
       " 65: 1,\n",
       " 62: 1,\n",
       " 28: 1,\n",
       " 3: 1,\n",
       " 89: 1,\n",
       " 13: 1,\n",
       " 79: 1,\n",
       " 60: 1,\n",
       " 41: 1,\n",
       " 30: 1,\n",
       " 99: 1,\n",
       " 22: 1,\n",
       " 44: 1,\n",
       " 83: 1,\n",
       " 66: 1,\n",
       " 14: 1,\n",
       " 49: 1,\n",
       " 93: 1,\n",
       " 95: 1,\n",
       " 87: 1,\n",
       " 1: 1,\n",
       " 33: 1,\n",
       " 56: 1,\n",
       " 21: 1,\n",
       " 12: 1}"
      ]
     },
     "execution_count": 3,
     "metadata": {},
     "output_type": "execute_result"
    }
   ],
   "source": [
    "{number : sample_list_1.count(number) for number in sample_list_1 }"
   ]
  },
  {
   "cell_type": "markdown",
   "metadata": {},
   "source": [
    "#### 2 - Convert `sample_list_1` to a set called `set1`. Print the length of the set. Is its length still 80?"
   ]
  },
  {
   "cell_type": "code",
   "execution_count": 4,
   "metadata": {},
   "outputs": [
    {
     "name": "stdout",
     "output_type": "stream",
     "text": [
      "{0, 1, 2, 3, 4, 6, 7, 8, 10, 11, 12, 13, 14, 15, 16, 17, 18, 20, 21, 22, 23, 25, 28, 29, 30, 31, 32, 33, 34, 36, 38, 39, 40, 41, 42, 43, 44, 45, 46, 48, 49, 50, 51, 52, 54, 55, 56, 57, 58, 60, 62, 63, 65, 66, 67, 68, 71, 72, 73, 74, 76, 77, 78, 79, 80, 81, 82, 83, 84, 85, 87, 89, 90, 92, 93, 94, 95, 96, 98, 99}\n"
     ]
    },
    {
     "data": {
      "text/plain": [
       "80"
      ]
     },
     "execution_count": 4,
     "metadata": {},
     "output_type": "execute_result"
    }
   ],
   "source": [
    "# Your code here\n",
    "set1 = set(sample_list_1)\n",
    "\n",
    "print(set1)\n",
    "\n",
    "len(set1)\n",
    "\n",
    "#yes, the lenght is still 80"
   ]
  },
  {
   "cell_type": "markdown",
   "metadata": {},
   "source": [
    "#### 3 - Create another list named `sample_list_2` with 80 random values.\n",
    "\n",
    "Requirements:\n",
    "\n",
    "* Each value is an integer falling between 0 and 100.\n",
    "* The values in the list don't have to be unique.\n",
    "\n",
    "*Hint: Use a FOR loop.*"
   ]
  },
  {
   "cell_type": "code",
   "execution_count": 5,
   "metadata": {},
   "outputs": [
    {
     "name": "stdout",
     "output_type": "stream",
     "text": [
      "[35, 48, 17, 32, 41, 64, 19, 76, 29, 49, 63, 25, 64, 0, 49, 72, 53, 71, 53, 62, 61, 37, 36, 75, 79, 14, 24, 72, 98, 43, 25, 18, 1, 30, 42, 27, 59, 75, 39, 51, 57, 30, 4, 91, 61, 33, 52, 16, 58, 68, 100, 33, 98, 27, 35, 86, 69, 69, 47, 42, 60, 38, 42, 16, 1, 51, 69, 7, 35, 29, 98, 7, 53, 35, 40, 41, 28, 49, 72, 47]\n"
     ]
    },
    {
     "data": {
      "text/plain": [
       "80"
      ]
     },
     "execution_count": 5,
     "metadata": {},
     "output_type": "execute_result"
    }
   ],
   "source": [
    "# Your code here\n",
    "sample_list_2 = []\n",
    "\n",
    "for i in range(80):\n",
    "    sample_list_2.append(random.randint(0,100))\n",
    "print(sample_list_2)\n",
    "len(sample_list_2)"
   ]
  },
  {
   "cell_type": "code",
   "execution_count": 6,
   "metadata": {},
   "outputs": [
    {
     "data": {
      "text/plain": [
       "{35: 4,\n",
       " 48: 1,\n",
       " 17: 1,\n",
       " 32: 1,\n",
       " 41: 2,\n",
       " 64: 2,\n",
       " 19: 1,\n",
       " 76: 1,\n",
       " 29: 2,\n",
       " 49: 3,\n",
       " 63: 1,\n",
       " 25: 2,\n",
       " 0: 1,\n",
       " 72: 3,\n",
       " 53: 3,\n",
       " 71: 1,\n",
       " 62: 1,\n",
       " 61: 2,\n",
       " 37: 1,\n",
       " 36: 1,\n",
       " 75: 2,\n",
       " 79: 1,\n",
       " 14: 1,\n",
       " 24: 1,\n",
       " 98: 3,\n",
       " 43: 1,\n",
       " 18: 1,\n",
       " 1: 2,\n",
       " 30: 2,\n",
       " 42: 3,\n",
       " 27: 2,\n",
       " 59: 1,\n",
       " 39: 1,\n",
       " 51: 2,\n",
       " 57: 1,\n",
       " 4: 1,\n",
       " 91: 1,\n",
       " 33: 2,\n",
       " 52: 1,\n",
       " 16: 2,\n",
       " 58: 1,\n",
       " 68: 1,\n",
       " 100: 1,\n",
       " 86: 1,\n",
       " 69: 3,\n",
       " 47: 2,\n",
       " 60: 1,\n",
       " 38: 1,\n",
       " 7: 2,\n",
       " 40: 1,\n",
       " 28: 1}"
      ]
     },
     "execution_count": 6,
     "metadata": {},
     "output_type": "execute_result"
    }
   ],
   "source": [
    "{number : sample_list_2.count(number) for number in sample_list_2 }"
   ]
  },
  {
   "cell_type": "markdown",
   "metadata": {},
   "source": [
    "#### 4 - Convert `sample_list_2` to a set called `set2`. Print the length of the set. Is its length still 80?"
   ]
  },
  {
   "cell_type": "code",
   "execution_count": 7,
   "metadata": {},
   "outputs": [
    {
     "name": "stdout",
     "output_type": "stream",
     "text": [
      "{0, 1, 4, 7, 14, 16, 17, 18, 19, 24, 25, 27, 28, 29, 30, 32, 33, 35, 36, 37, 38, 39, 40, 41, 42, 43, 47, 48, 49, 51, 52, 53, 57, 58, 59, 60, 61, 62, 63, 64, 68, 69, 71, 72, 75, 76, 79, 86, 91, 98, 100}\n"
     ]
    },
    {
     "data": {
      "text/plain": [
       "51"
      ]
     },
     "execution_count": 7,
     "metadata": {},
     "output_type": "execute_result"
    }
   ],
   "source": [
    "# Your code here\n",
    "set2 = set(sample_list_2)\n",
    "print(set2)\n",
    "len(set2)\n",
    "#lenght of the set is 52 and all the repeated number were consolidated/removed"
   ]
  },
  {
   "cell_type": "markdown",
   "metadata": {},
   "source": [
    "#### 5 - Identify the elements present in `set1` but not in `set2`. Assign the elements to a new set named `set3`."
   ]
  },
  {
   "cell_type": "code",
   "execution_count": 8,
   "metadata": {},
   "outputs": [
    {
     "name": "stdout",
     "output_type": "stream",
     "text": [
      "{2, 3, 6, 8, 10, 11, 12, 13, 15, 20, 21, 22, 23, 31, 34, 44, 45, 46, 50, 54, 55, 56, 65, 66, 67, 73, 74, 77, 78, 80, 81, 82, 83, 84, 85, 87, 89, 90, 92, 93, 94, 95, 96, 99}\n"
     ]
    }
   ],
   "source": [
    "# Your code here\n",
    "set3 = set1 - set2\n",
    "print(set3)"
   ]
  },
  {
   "cell_type": "markdown",
   "metadata": {},
   "source": [
    "#### 6 - Identify the elements present in `set2` but not in `set1`. Assign the elements to a new set named `set4`."
   ]
  },
  {
   "cell_type": "code",
   "execution_count": 9,
   "metadata": {},
   "outputs": [
    {
     "name": "stdout",
     "output_type": "stream",
     "text": [
      "{64, 35, 100, 37, 69, 59, 91, 75, 47, 19, 53, 86, 24, 27, 61}\n"
     ]
    }
   ],
   "source": [
    "# Your code here\n",
    "set4 = set2 - set1\n",
    "print(set4)"
   ]
  },
  {
   "cell_type": "markdown",
   "metadata": {},
   "source": [
    "#### 7 - Now Identify the elements shared between `set1` and `set2`. Assign the elements to a new set named `set5`."
   ]
  },
  {
   "cell_type": "code",
   "execution_count": 10,
   "metadata": {},
   "outputs": [
    {
     "name": "stdout",
     "output_type": "stream",
     "text": [
      "{0, 1, 4, 7, 14, 16, 17, 18, 25, 28, 29, 30, 32, 33, 36, 38, 39, 40, 41, 42, 43, 48, 49, 51, 52, 57, 58, 60, 62, 63, 68, 71, 72, 76, 79, 98}\n"
     ]
    }
   ],
   "source": [
    "# Your code here\n",
    "set5 = set1.intersection(set2)\n",
    "print(set5)"
   ]
  },
  {
   "cell_type": "markdown",
   "metadata": {},
   "source": [
    "#### 8 - Create an empty set called `set6`."
   ]
  },
  {
   "cell_type": "code",
   "execution_count": 11,
   "metadata": {},
   "outputs": [],
   "source": [
    "# Your code here\n",
    "set6 = {}"
   ]
  },
  {
   "cell_type": "markdown",
   "metadata": {},
   "source": [
    "#### 9 - Add `set3` and `set5` to `set6` using the Python Set `update` method."
   ]
  },
  {
   "cell_type": "code",
   "execution_count": 12,
   "metadata": {},
   "outputs": [
    {
     "name": "stdout",
     "output_type": "stream",
     "text": [
      "{0, 1, 2, 3, 4, 6, 7, 8, 10, 11, 12, 13, 14, 15, 16, 17, 18, 20, 21, 22, 23, 25, 28, 29, 30, 31, 32, 33, 34, 36, 38, 39, 40, 41, 42, 43, 44, 45, 46, 48, 49, 50, 51, 52, 54, 55, 56, 57, 58, 60, 62, 63, 65, 66, 67, 68, 71, 72, 73, 74, 76, 77, 78, 79, 80, 81, 82, 83, 84, 85, 87, 89, 90, 92, 93, 94, 95, 96, 98, 99}\n"
     ]
    }
   ],
   "source": [
    "# Your code here\n",
    "set6 = set(list(set3) + list(set5))\n",
    "print(set6)"
   ]
  },
  {
   "cell_type": "markdown",
   "metadata": {},
   "source": [
    "#### 10 - Check if `set1` and `set6` are equal."
   ]
  },
  {
   "cell_type": "code",
   "execution_count": 13,
   "metadata": {},
   "outputs": [
    {
     "data": {
      "text/plain": [
       "True"
      ]
     },
     "execution_count": 13,
     "metadata": {},
     "output_type": "execute_result"
    }
   ],
   "source": [
    "# Your code here\n",
    "set1 == set6"
   ]
  },
  {
   "cell_type": "markdown",
   "metadata": {},
   "source": [
    "#### 11 - Check if `set1` contains `set2` using the Python Set `issubset` method. Then check if `set1` contains `set3`.*"
   ]
  },
  {
   "cell_type": "code",
   "execution_count": 14,
   "metadata": {},
   "outputs": [
    {
     "name": "stdout",
     "output_type": "stream",
     "text": [
      "False\n",
      "True\n"
     ]
    }
   ],
   "source": [
    "# Your code here\n",
    "print(set2.issubset(set1))\n",
    "print(set3.issubset(set1))"
   ]
  },
  {
   "cell_type": "markdown",
   "metadata": {},
   "source": [
    "#### 12 -Using the Python Set `union` method, aggregate `set3`, `set4`, and `set5`. Then aggregate `set1` and `set2`. \n",
    "\n",
    "#### Check if the aggregated values are equal."
   ]
  },
  {
   "cell_type": "code",
   "execution_count": 15,
   "metadata": {},
   "outputs": [
    {
     "data": {
      "text/plain": [
       "True"
      ]
     },
     "execution_count": 15,
     "metadata": {},
     "output_type": "execute_result"
    }
   ],
   "source": [
    "# Your code here\n",
    "set7 = set3.union(set4)\n",
    "set8 = set7.union(set5)\n",
    "\n",
    "set9 = set1.union(set2)\n",
    "\n",
    "set8 == set9"
   ]
  },
  {
   "cell_type": "markdown",
   "metadata": {},
   "source": [
    "#### 13 -Using the `pop` method, remove the first element from `set1`."
   ]
  },
  {
   "cell_type": "code",
   "execution_count": 16,
   "metadata": {},
   "outputs": [
    {
     "name": "stdout",
     "output_type": "stream",
     "text": [
      "{0, 1, 2, 3, 4, 6, 7, 8, 10, 11, 12, 13, 14, 15, 16, 17, 18, 20, 21, 22, 23, 25, 28, 29, 30, 31, 32, 33, 34, 36, 38, 39, 40, 41, 42, 43, 44, 45, 46, 48, 49, 50, 51, 52, 54, 55, 56, 57, 58, 60, 62, 63, 65, 66, 67, 68, 71, 72, 73, 74, 76, 77, 78, 79, 80, 81, 82, 83, 84, 85, 87, 89, 90, 92, 93, 94, 95, 96, 98, 99}\n"
     ]
    }
   ],
   "source": [
    "# Your code here\n",
    "print(set1)"
   ]
  },
  {
   "cell_type": "code",
   "execution_count": 17,
   "metadata": {},
   "outputs": [
    {
     "name": "stdout",
     "output_type": "stream",
     "text": [
      "{1, 2, 3, 4, 6, 7, 8, 10, 11, 12, 13, 14, 15, 16, 17, 18, 20, 21, 22, 23, 25, 28, 29, 30, 31, 32, 33, 34, 36, 38, 39, 40, 41, 42, 43, 44, 45, 46, 48, 49, 50, 51, 52, 54, 55, 56, 57, 58, 60, 62, 63, 65, 66, 67, 68, 71, 72, 73, 74, 76, 77, 78, 79, 80, 81, 82, 83, 84, 85, 87, 89, 90, 92, 93, 94, 95, 96, 98, 99}\n"
     ]
    }
   ],
   "source": [
    "set1.pop()\n",
    "print(set1)"
   ]
  },
  {
   "cell_type": "markdown",
   "metadata": {},
   "source": [
    "#### 14 -Remove every element in the following list from `set1` if they are present in the set. Print the remaining elements.\n",
    "\n",
    "```\n",
    "list_to_remove = [1, 9, 11, 19, 21, 29, 31, 39, 41, 49, 51, 59, 61, 69, 71, 79, 81, 89, 91, 99]\n",
    "```"
   ]
  },
  {
   "cell_type": "code",
   "execution_count": 20,
   "metadata": {},
   "outputs": [
    {
     "name": "stdout",
     "output_type": "stream",
     "text": [
      "{2, 3, 4, 6, 7, 8, 10, 12, 13, 14, 15, 16, 17, 18, 20, 22, 23, 25, 28, 30, 32, 33, 34, 36, 38, 40, 42, 43, 44, 45, 46, 48, 50, 52, 54, 55, 56, 57, 58, 60, 62, 63, 65, 66, 67, 68, 72, 73, 74, 76, 77, 78, 80, 82, 83, 84, 85, 87, 90, 92, 93, 94, 95, 96, 98}\n"
     ]
    }
   ],
   "source": [
    "\n",
    "# Your code here\n",
    "\n",
    "list_to_remove = [1, 9, 11, 19, 21, 29, 31, 39, 41, 49, 51, 59, 61, 69, 71, 79, 81, 89, 91, 99]\n",
    "\n",
    "set10 = set1 - set(list_to_remove)\n",
    "print(set10)"
   ]
  },
  {
   "cell_type": "markdown",
   "metadata": {},
   "source": [
    "#### 15 -The objective of this lab is to provide you a overview of manipulating sets in Python and how they can be integrated within a real usecase\n",
    "#### For the exercises below it's strongly advised to quickly check this link: https://docs.python.org/2/library/sets.html#sets.Set\n",
    "#### Imagine you need to create the grocery list for your family! Below you will see a list of items each family member wants. There will be repetitions because this family has the habbit of each time they notice something is missing to write it down. The problem is that they don't really talk to each other and therefore some items in the list are repeated. With the collection of questions below you will see how they solve repetion and create a grocery list with unique elements.\n",
    "\n"
   ]
  },
  {
   "cell_type": "code",
   "execution_count": 21,
   "metadata": {},
   "outputs": [],
   "source": [
    "father_list = ['garlic', 'watermelon', 'toilet paper', 'yogurt', 'onions', 'gums', 'flour', 'cucumber', 'watermelon', 'yogurt', 'garlic']\n",
    "\n",
    "mother_list = []\n",
    "\n",
    "Jo_list = ['blueberries', 'sugar', 'watermelon', 'gums', 'tomatoes', 'yogurt', 'juice', 'milk', 'onions', 'garlic', 'cucumber', 'sugar', 'blueberries', 'gums', 'yogurt']\n",
    "\n",
    "Carlos_list = ['tomatoes', 'water', 'onions', 'blueberries', 'garlic', 'flour', 'cherries', 'tomatoes', 'onions', 'water', 'tomatoes', 'toilet paper']\n",
    "\n",
    "Mattia_list = []\n",
    "\n",
    "\n"
   ]
  },
  {
   "cell_type": "markdown",
   "metadata": {},
   "source": [
    "#### 15.1- As you can see there are items repeated in each list. Creat a sequence of iterable elements with dintinct items that each family member wants. You can do it in two different ways. Assign each one (set) to a variable with the name of the family member (ex: father_set)."
   ]
  },
  {
   "cell_type": "code",
   "execution_count": 22,
   "metadata": {},
   "outputs": [],
   "source": [
    "# Your code here\n",
    "father_set = set(father_list)\n",
    "Jo_set = set(Jo_list)\n",
    "Carlos_set= set(Carlos_list)\n",
    "mother_set= set(mother_list)\n",
    "Mattia_set = set(Mattia_list)"
   ]
  },
  {
   "cell_type": "markdown",
   "metadata": {},
   "source": [
    "#### 15.2- Q: Mattia wants the same items that his brother Carlos and his sister Jo but doesn't want anything they both want.\n",
    "\n",
    "##### Hint: check out the documentation for `x.symmetric_difference(y)`."
   ]
  },
  {
   "cell_type": "code",
   "execution_count": 36,
   "metadata": {},
   "outputs": [
    {
     "name": "stdout",
     "output_type": "stream",
     "text": [
      "{'yogurt', 'flour', 'milk', 'water', 'gums', 'sugar', 'juice', 'cucumber', 'watermelon', 'cherries'}\n"
     ]
    }
   ],
   "source": [
    "# Your code here\n",
    "Mattia_set = Carlos_set.symmetric_difference(Jo_set)\n",
    "Mattia_list =list(Mattia_set)\n",
    "print(Mattia_set)"
   ]
  },
  {
   "cell_type": "markdown",
   "metadata": {},
   "source": [
    "#### 15.3- The line of code below  will  generate a list of random elements from a collection of items, with replacement. Run it and from it create a sequence of unique elements and assign it to the variable mother.\n"
   ]
  },
  {
   "cell_type": "code",
   "execution_count": 27,
   "metadata": {},
   "outputs": [
    {
     "name": "stdout",
     "output_type": "stream",
     "text": [
      "['shampoo', 'shampoo', 'bread', 'juice', 'yogurt', 'garlic', 'bread', 'watermelon', 'juice', 'flour']\n"
     ]
    }
   ],
   "source": [
    "import random\n",
    "items = ['milk', 'water', 'chocolate', 'blueberries', 'shampoo', 'flour', 'bread', 'sugar', 'watermelon', 'vinegar', 'tomatoes', 'yogurt', 'juice', 'gums', 'onions', 'garlic', 'cucumber', 'mushrooms', 'toilet paper', 'oranges', 'deodorant', 'cherries']\n",
    "\n",
    "mother_list = random.choices(items,k = 10) # https://docs.python.org/3/library/random.html\n",
    "\n",
    "print(mother_list)"
   ]
  },
  {
   "cell_type": "code",
   "execution_count": 28,
   "metadata": {},
   "outputs": [
    {
     "name": "stdout",
     "output_type": "stream",
     "text": [
      "{'yogurt', 'watermelon', 'shampoo', 'flour', 'juice', 'bread', 'garlic'}\n"
     ]
    }
   ],
   "source": [
    "# Your code here\n",
    "mother_set = set(mother_list)\n",
    "print(mother_set)"
   ]
  },
  {
   "cell_type": "markdown",
   "metadata": {},
   "source": [
    "#### 15.4- Before leaving the house to the grocery store the father found a lot of toilet paper, so the mother decided to remove it from the items needed to be bought. Use the `.discard()` method to remove from each set created before the 'toilet paper'. \n",
    "\n",
    "#### Hint: Try to first create a list contaning the variables of each set created before, then loop through them and remove the unecessary item. \n",
    "\n",
    "##### Note: The`.discard()` method will remove and update the set without the need of reassignment.\n",
    "\n"
   ]
  },
  {
   "cell_type": "code",
   "execution_count": 29,
   "metadata": {},
   "outputs": [
    {
     "name": "stdout",
     "output_type": "stream",
     "text": [
      "{'yogurt', 'watermelon', 'shampoo', 'flour', 'juice', 'bread', 'garlic'}\n",
      "{'yogurt', 'watermelon', 'flour', 'onions', 'gums', 'cucumber', 'garlic'}\n",
      "{'tomatoes', 'garlic', 'blueberries', 'yogurt', 'milk', 'gums', 'onions', 'sugar', 'juice', 'cucumber', 'watermelon'}\n",
      "{'tomatoes', 'blueberries', 'flour', 'water', 'onions', 'garlic', 'cherries'}\n",
      "{'yogurt', 'flour', 'milk', 'water', 'gums', 'sugar', 'juice', 'cucumber', 'watermelon', 'cherries'}\n"
     ]
    }
   ],
   "source": [
    "# Your code here\n",
    "grocery_list = [mother_set, father_set ,Jo_set ,Carlos_set ,Mattia_set]\n",
    "\n",
    "for name_set in grocery_list:\n",
    "    name_set.discard(\"toilet paper\")\n",
    "    print(name_set)"
   ]
  },
  {
   "cell_type": "markdown",
   "metadata": {},
   "source": [
    "#### 15.5- Create a set with all the groceries needed to be bought for the house (no repetitions)."
   ]
  },
  {
   "cell_type": "code",
   "execution_count": 43,
   "metadata": {},
   "outputs": [
    {
     "name": "stdout",
     "output_type": "stream",
     "text": [
      "{'tomatoes', 'toilet paper', 'yogurt', 'blueberries', 'watermelon', 'shampoo', 'flour', 'milk', 'water', 'onions', 'gums', 'sugar', 'juice', 'bread', 'cucumber', 'garlic', 'cherries'}\n"
     ]
    }
   ],
   "source": [
    "# Your code here\n",
    "\n",
    "total_list =[]\n",
    "grocery_list1 = [mother_list, father_list ,Jo_list ,Carlos_list ,Mattia_list]\n",
    "for gro_list in grocery_list1:\n",
    "    total_list += gro_list\n",
    "\n",
    "total_set= set(total_list)\n",
    "print(total_set)"
   ]
  },
  {
   "cell_type": "markdown",
   "metadata": {},
   "source": [
    "#### 15.6- The Father said that he could only buy five items this time. So he decided to arbitraly pick wich ones to buy this time.\n",
    "\n",
    "##### Hint: use the `.pop()` method."
   ]
  },
  {
   "cell_type": "code",
   "execution_count": 42,
   "metadata": {},
   "outputs": [
    {
     "name": "stdout",
     "output_type": "stream",
     "text": [
      "{'juice', 'bread', 'cucumber', 'garlic', 'cherries'}\n"
     ]
    }
   ],
   "source": [
    "# Your code here\n",
    "for item in list(total_set):\n",
    "    if len(list(total_set)) > 5:\n",
    "        total_set.pop()\n",
    "    else:\n",
    "        continue\n",
    "print(total_set)"
   ]
  },
  {
   "cell_type": "code",
   "execution_count": null,
   "metadata": {},
   "outputs": [],
   "source": []
  }
 ],
 "metadata": {
  "kernelspec": {
   "display_name": "Python 3 (ipykernel)",
   "language": "python",
   "name": "python3"
  },
  "language_info": {
   "codemirror_mode": {
    "name": "ipython",
    "version": 3
   },
   "file_extension": ".py",
   "mimetype": "text/x-python",
   "name": "python",
   "nbconvert_exporter": "python",
   "pygments_lexer": "ipython3",
   "version": "3.9.7"
  }
 },
 "nbformat": 4,
 "nbformat_minor": 2
}
