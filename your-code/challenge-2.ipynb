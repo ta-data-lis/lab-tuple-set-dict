{
 "cells": [
  {
   "cell_type": "markdown",
   "metadata": {},
   "source": [
    "## Challenge 2: Sets\n",
    "\n",
    "There are a lot to learn about Python Sets and the information presented in the lesson is limited due to its length. To learn Python Sets in depth you are strongly encouraged to review the W3Schools tutorial on [Python Sets Examples and Methods](https://www.w3schools.com/python/python_sets.asp) before you work on this lab. Some difficult questions in this lab have their solutions in the W3Schools tutorial.\n",
    "\n",
    "#### First, import the Python `random` libary"
   ]
  },
  {
   "cell_type": "code",
   "execution_count": 1,
   "metadata": {},
   "outputs": [],
   "source": [
    "import random"
   ]
  },
  {
   "cell_type": "markdown",
   "metadata": {},
   "source": [
    "#### 1 - In the cell below, create a list named `sample_list_1` with 80 random values. \n",
    "\n",
    "Requirements:\n",
    "\n",
    "* Each value is an integer falling between 0 and 100.\n",
    "* Each value in the list is unique.\n",
    "\n",
    "Print `sample_list_1` to review its values\n",
    "\n",
    "*Hint: use `random.sample` ([reference](https://docs.python.org/3/library/random.html#random.sample)).*"
   ]
  },
  {
   "cell_type": "code",
   "execution_count": 13,
   "metadata": {},
   "outputs": [
    {
     "name": "stdout",
     "output_type": "stream",
     "text": [
      "[517, 529, 13, 902, 395, 448, 998, 267, 607, 772, 518, 454, 881, 758, 95, 594, 887, 650, 924, 757, 739, 680, 551, 204, 898, 48, 645, 0, 585, 403, 955, 549, 661, 419, 261, 307, 3, 393, 865, 664, 951, 656, 89, 340, 205, 791, 483, 246, 967, 613, 80, 485, 178, 712, 569, 76, 919, 647, 891, 198, 158, 710, 376, 961, 319, 227, 46, 347, 938, 157, 236, 23, 536, 195, 782, 575, 417, 859, 707, 926]\n"
     ]
    }
   ],
   "source": [
    "# Your code here\n",
    "\n",
    "sample_list_1 = random.sample(range(0, 999), 80)\n",
    "print(sample_list_1)"
   ]
  },
  {
   "cell_type": "markdown",
   "metadata": {},
   "source": [
    "#### 2 - Convert `sample_list_1` to a set called `set1`. Print the length of the set. Is its length still 80?"
   ]
  },
  {
   "cell_type": "code",
   "execution_count": 15,
   "metadata": {},
   "outputs": [
    {
     "name": "stdout",
     "output_type": "stream",
     "text": [
      "{0, 3, 517, 518, 13, 529, 23, 536, 549, 551, 46, 48, 569, 575, 585, 76, 80, 594, 89, 95, 607, 613, 645, 647, 650, 656, 661, 664, 157, 158, 680, 178, 195, 707, 198, 710, 712, 204, 205, 739, 227, 236, 757, 758, 246, 772, 261, 267, 782, 791, 307, 319, 340, 347, 859, 865, 881, 887, 376, 891, 898, 902, 393, 395, 403, 919, 924, 926, 417, 419, 938, 951, 955, 448, 961, 454, 967, 483, 485, 998}\n",
      "True\n"
     ]
    }
   ],
   "source": [
    "# Your code here\n",
    "\n",
    "set1 = set(sample_list_1)\n",
    "print(set1)\n",
    "\n",
    "print(len(set1) == len(sample_list_1))"
   ]
  },
  {
   "cell_type": "markdown",
   "metadata": {},
   "source": [
    "#### 3 - Create another list named `sample_list_2` with 80 random values.\n",
    "\n",
    "Requirements:\n",
    "\n",
    "* Each value is an integer falling between 0 and 100.\n",
    "* The values in the list don't have to be unique.\n",
    "\n",
    "*Hint: Use a FOR loop.*"
   ]
  },
  {
   "cell_type": "code",
   "execution_count": 17,
   "metadata": {},
   "outputs": [
    {
     "name": "stdout",
     "output_type": "stream",
     "text": [
      "[46, 13, 84, 64, 32, 17, 80, 55, 23, 71, 0, 24, 38, 83, 39, 21, 9, 87, 43, 41, 72, 95, 70, 37, 54, 47, 2, 93, 59, 16, 74, 18, 27, 82, 60, 33, 90, 96, 11, 97, 67, 94, 44, 25, 30, 86, 99, 20, 58, 10, 28, 42, 7, 81, 36, 15, 35, 91, 69, 1, 98, 63, 92, 62, 51, 85, 89, 77, 79, 88, 22, 40, 73, 5, 19, 45, 6, 12, 56, 78]\n"
     ]
    }
   ],
   "source": [
    "# Your code here\n",
    "\n",
    "sample_list_2 = random.sample(range(0, 100), 80)\n",
    "print(sample_list_2)\n"
   ]
  },
  {
   "cell_type": "markdown",
   "metadata": {},
   "source": [
    "#### 4 - Convert `sample_list_2` to a set called `set2`. Print the length of the set. Is its length still 80?"
   ]
  },
  {
   "cell_type": "code",
   "execution_count": 19,
   "metadata": {},
   "outputs": [
    {
     "name": "stdout",
     "output_type": "stream",
     "text": [
      "{0, 1, 2, 5, 6, 7, 9, 10, 11, 12, 13, 15, 16, 17, 18, 19, 20, 21, 22, 23, 24, 25, 27, 28, 30, 32, 33, 35, 36, 37, 38, 39, 40, 41, 42, 43, 44, 45, 46, 47, 51, 54, 55, 56, 58, 59, 60, 62, 63, 64, 67, 69, 70, 71, 72, 73, 74, 77, 78, 79, 80, 81, 82, 83, 84, 85, 86, 87, 88, 89, 90, 91, 92, 93, 94, 95, 96, 97, 98, 99}\n"
     ]
    },
    {
     "data": {
      "text/plain": [
       "True"
      ]
     },
     "execution_count": 19,
     "metadata": {},
     "output_type": "execute_result"
    }
   ],
   "source": [
    "# Your code here\n",
    "set2 = set(sample_list_2)\n",
    "print(set2)\n",
    "\n",
    "len(sample_list_2) == len(set2) #still the same which would mean there are unique values only"
   ]
  },
  {
   "cell_type": "markdown",
   "metadata": {},
   "source": [
    "#### 5 - Identify the elements present in `set1` but not in `set2`. Assign the elements to a new set named `set3`."
   ]
  },
  {
   "cell_type": "code",
   "execution_count": 28,
   "metadata": {},
   "outputs": [
    {
     "name": "stdout",
     "output_type": "stream",
     "text": [
      "{898, 3, 772, 517, 518, 645, 647, 261, 650, 267, 902, 393, 782, 395, 656, 529, 403, 661, 791, 536, 664, 919, 924, 157, 158, 926, 417, 419, 549, 551, 680, 938, 48, 178, 307, 951, 569, 955, 575, 319, 448, 961, 195, 707, 198, 710, 712, 585, 454, 967, 76, 204, 205, 594, 340, 347, 859, 607, 865, 739, 227, 613, 483, 485, 998, 236, 887, 881, 757, 758, 246, 376, 891}\n"
     ]
    }
   ],
   "source": [
    "# Your code here\n",
    "set3 = set()\n",
    "\n",
    "for i in set1:\n",
    "    if i not in set2:\n",
    "        set3.add(i)\n",
    "    else:\n",
    "        continue\n",
    "print(set3)\n",
    "\n"
   ]
  },
  {
   "cell_type": "markdown",
   "metadata": {},
   "source": [
    "#### 6 - Identify the elements present in `set2` but not in `set1`. Assign the elements to a new set named `set4`."
   ]
  },
  {
   "cell_type": "code",
   "execution_count": 29,
   "metadata": {},
   "outputs": [
    {
     "name": "stdout",
     "output_type": "stream",
     "text": [
      "{1, 2, 5, 6, 7, 9, 10, 11, 12, 15, 16, 17, 18, 19, 20, 21, 22, 24, 25, 27, 28, 30, 32, 33, 35, 36, 37, 38, 39, 40, 41, 42, 43, 44, 45, 47, 51, 54, 55, 56, 58, 59, 60, 62, 63, 64, 67, 69, 70, 71, 72, 73, 74, 77, 78, 79, 81, 82, 83, 84, 85, 86, 87, 88, 90, 91, 92, 93, 94, 96, 97, 98, 99}\n"
     ]
    }
   ],
   "source": [
    "# Your code here\n",
    "\n",
    "set4 = set()\n",
    "\n",
    "for i in set2:\n",
    "    if i not in set1:\n",
    "        set4.add(i)\n",
    "    else:\n",
    "        continue\n",
    "print(set4)"
   ]
  },
  {
   "cell_type": "markdown",
   "metadata": {},
   "source": [
    "#### 7 - Now Identify the elements shared between `set1` and `set2`. Assign the elements to a new set named `set5`."
   ]
  },
  {
   "cell_type": "code",
   "execution_count": 30,
   "metadata": {},
   "outputs": [
    {
     "name": "stdout",
     "output_type": "stream",
     "text": [
      "{0, 13, 46, 80, 23, 89, 95}\n"
     ]
    }
   ],
   "source": [
    "# Your code here\n",
    "set5 = set()\n",
    "\n",
    "for i in set1:\n",
    "    if i in set2:\n",
    "        set5.add(i)\n",
    "    else:\n",
    "        continue\n",
    "print(set5)"
   ]
  },
  {
   "cell_type": "markdown",
   "metadata": {},
   "source": [
    "#### 8 - Create an empty set called `set6`."
   ]
  },
  {
   "cell_type": "code",
   "execution_count": null,
   "metadata": {},
   "outputs": [],
   "source": [
    "# Your code here\n",
    "set6 = set()"
   ]
  },
  {
   "cell_type": "markdown",
   "metadata": {},
   "source": [
    "#### 9 - Add `set3` and `set5` to `set6` using the Python Set `update` method."
   ]
  },
  {
   "cell_type": "code",
   "execution_count": 37,
   "metadata": {},
   "outputs": [
    {
     "name": "stdout",
     "output_type": "stream",
     "text": [
      "None\n"
     ]
    }
   ],
   "source": [
    "# Your code here\n",
    "\n",
    "set6 = set3.update(set5)\n",
    "print(set6)\n"
   ]
  },
  {
   "cell_type": "markdown",
   "metadata": {},
   "source": [
    "#### 10 - Check if `set1` and `set6` are equal."
   ]
  },
  {
   "cell_type": "code",
   "execution_count": 39,
   "metadata": {},
   "outputs": [
    {
     "data": {
      "text/plain": [
       "False"
      ]
     },
     "execution_count": 39,
     "metadata": {},
     "output_type": "execute_result"
    }
   ],
   "source": [
    "# Your code here\n",
    "set1 == set6"
   ]
  },
  {
   "cell_type": "markdown",
   "metadata": {},
   "source": [
    "#### 11 - Check if `set1` contains `set2` using the Python Set `issubset` method. Then check if `set1` contains `set3`.*"
   ]
  },
  {
   "cell_type": "code",
   "execution_count": 44,
   "metadata": {},
   "outputs": [
    {
     "name": "stdout",
     "output_type": "stream",
     "text": [
      "False\n",
      "True\n"
     ]
    }
   ],
   "source": [
    "# Your code here\n",
    "print(set1.issubset(set2))\n",
    "print(set1.issubset(set3))"
   ]
  },
  {
   "cell_type": "markdown",
   "metadata": {},
   "source": [
    "#### 12 -Using the Python Set `union` method, aggregate `set3`, `set4`, and `set5`. Then aggregate `set1` and `set2`. \n",
    "\n",
    "#### Check if the aggregated values are equal."
   ]
  },
  {
   "cell_type": "code",
   "execution_count": 49,
   "metadata": {},
   "outputs": [
    {
     "name": "stdout",
     "output_type": "stream",
     "text": [
      "{0, 1, 2, 3, 517, 518, 5, 6, 7, 9, 10, 11, 13, 12, 15, 16, 529, 17, 18, 19, 20, 21, 23, 536, 22, 24, 25, 27, 28, 30, 32, 33, 35, 36, 549, 37, 551, 38, 39, 40, 41, 42, 43, 46, 44, 48, 45, 47, 51, 54, 55, 56, 569, 58, 59, 60, 62, 575, 63, 64, 67, 69, 70, 71, 72, 585, 73, 74, 76, 77, 78, 79, 80, 81, 594, 82, 83, 84, 85, 86, 87, 89, 88, 90, 91, 92, 93, 607, 95, 94, 96, 97, 98, 613, 99, 645, 647, 650, 656, 661, 664, 157, 158, 680, 178, 195, 707, 198, 710, 712, 204, 205, 739, 227, 236, 757, 758, 246, 772, 261, 267, 782, 791, 307, 319, 340, 347, 859, 865, 881, 887, 376, 891, 898, 902, 393, 395, 403, 919, 924, 926, 417, 419, 938, 951, 955, 448, 961, 454, 967, 483, 485, 998}\n",
      "\n",
      "{0, 1, 2, 3, 517, 518, 5, 6, 7, 9, 10, 11, 13, 12, 15, 16, 529, 17, 18, 19, 20, 21, 23, 536, 22, 24, 25, 27, 28, 30, 32, 33, 35, 36, 549, 37, 551, 38, 39, 40, 41, 42, 43, 46, 44, 48, 45, 47, 51, 54, 55, 56, 569, 58, 59, 60, 62, 575, 63, 64, 67, 69, 70, 71, 72, 585, 73, 74, 76, 77, 78, 79, 80, 81, 594, 82, 83, 84, 85, 86, 87, 89, 88, 90, 91, 92, 93, 95, 607, 94, 96, 97, 98, 613, 99, 645, 647, 650, 656, 661, 664, 157, 158, 680, 178, 195, 707, 198, 710, 712, 204, 205, 739, 227, 236, 757, 758, 246, 772, 261, 267, 782, 791, 307, 319, 340, 347, 859, 865, 881, 887, 376, 891, 898, 902, 393, 395, 403, 919, 924, 926, 417, 419, 938, 951, 955, 448, 961, 454, 967, 483, 485, 998}\n"
     ]
    }
   ],
   "source": [
    "# Your code here\n",
    "z = set3.union(set4,set5) \n",
    "print(z)\n",
    "print('')\n",
    "y = set1.union(set2)\n",
    "print(y)"
   ]
  },
  {
   "cell_type": "markdown",
   "metadata": {},
   "source": [
    "#### 13 -Using the `pop` method, remove the first element from `set1`."
   ]
  },
  {
   "cell_type": "code",
   "execution_count": 58,
   "metadata": {},
   "outputs": [
    {
     "name": "stdout",
     "output_type": "stream",
     "text": [
      "{518, 13, 529, 23, 536, 549, 551, 46, 48, 569, 575, 585, 76, 80, 594, 89, 95, 607, 613, 645, 647, 650, 656, 661, 664, 157, 158, 680, 178, 195, 707, 198, 710, 712, 204, 205, 739, 227, 236, 757, 758, 246, 772, 261, 267, 782, 791, 307, 319, 340, 347, 859, 865, 881, 887, 376, 891, 898, 902, 393, 395, 403, 919, 924, 926, 417, 419, 938, 951, 955, 448, 961, 454, 967, 483, 485, 998}\n",
      "{13, 529, 23, 536, 549, 551, 46, 48, 569, 575, 585, 76, 80, 594, 89, 95, 607, 613, 645, 647, 650, 656, 661, 664, 157, 158, 680, 178, 195, 707, 198, 710, 712, 204, 205, 739, 227, 236, 757, 758, 246, 772, 261, 267, 782, 791, 307, 319, 340, 347, 859, 865, 881, 887, 376, 891, 898, 902, 393, 395, 403, 919, 924, 926, 417, 419, 938, 951, 955, 448, 961, 454, 967, 483, 485, 998}\n"
     ]
    }
   ],
   "source": [
    "# Your code here\n",
    "print(set1)\n",
    "set1.pop()\n",
    "print(set1)\n",
    "\n",
    "#pop() removes a random element from the set\n"
   ]
  },
  {
   "cell_type": "markdown",
   "metadata": {},
   "source": [
    "#### 14 -Remove every element in the following list from `set1` if they are present in the set. Print the remaining elements.\n",
    "\n",
    "```\n",
    "list_to_remove = [1, 9, 11, 19, 21, 29, 31, 39, 41, 49, 51, 59, 61, 69, 71, 79, 81, 89, 91, 99]\n",
    "```"
   ]
  },
  {
   "cell_type": "code",
   "execution_count": 61,
   "metadata": {},
   "outputs": [
    {
     "name": "stdout",
     "output_type": "stream",
     "text": [
      "89\n"
     ]
    }
   ],
   "source": [
    "# Your code here\n",
    "list_to_remove = [1, 9, 11, 19, 21, 29, 31, 39, 41, 49, 51, 59, 61, 69, 71, 79, 81, 89, 91, 99]\n",
    "\n",
    "for i in list_to_remove:\n",
    "    if i in set1:\n",
    "        print(i)\n"
   ]
  },
  {
   "cell_type": "markdown",
   "metadata": {},
   "source": [
    "#### 15 -The objective of this lab is to provide you a overview of manipulating sets in Python and how they can be integrated within a real usecase\n",
    "#### For the exercises below it's strongly advised to quickly check this link: https://docs.python.org/2/library/sets.html#sets.Set\n",
    "#### Imagine you need to create the grocery list for your family! Below you will see a list of items each family member wants. There will be repetitions because this family has the habbit of each time they notice something is missing to write it down. The problem is that they don't really talk to each other and therefore some items in the list are repeated. With the collection of questions below you will see how they solve repetion and create a grocery list with unique elements.\n",
    "\n"
   ]
  },
  {
   "cell_type": "code",
   "execution_count": 62,
   "metadata": {},
   "outputs": [],
   "source": [
    "father_list = ['garlic', 'watermelon', 'toilet paper', 'yogurt', 'onions', 'gums', 'flour', 'cucumber', 'watermelon', 'yogurt', 'garlic']\n",
    "\n",
    "mother_list = []\n",
    "\n",
    "Jo_list = ['blueberries', 'sugar', 'watermelon', 'gums', 'tomatoes', 'yogurt', 'juice', 'milk', 'onions', 'garlic', 'cucumber', 'sugar', 'blueberries', 'gums', 'yogurt']\n",
    "\n",
    "Carlos_list = ['tomatoes', 'water', 'onions', 'blueberries', 'garlic', 'flour', 'cherries', 'tomatoes', 'onions', 'water', 'tomatoes', 'toilet paper']\n",
    "\n",
    "Mattia_list = []\n",
    "\n",
    "\n"
   ]
  },
  {
   "cell_type": "markdown",
   "metadata": {},
   "source": [
    "#### 15.1- As you can see there are items repeated in each list. Creat a sequence of iterable elements with dintinct items that each family member wants. You can do it in two different ways. Assign each one (set) to a variable with the name of the family member (ex: father_set)."
   ]
  },
  {
   "cell_type": "code",
   "execution_count": 72,
   "metadata": {},
   "outputs": [
    {
     "name": "stdout",
     "output_type": "stream",
     "text": [
      "{'yogurt', 'flour', 'garlic', 'watermelon', 'cucumber', 'toilet paper', 'onions', 'gums'}\n"
     ]
    }
   ],
   "source": [
    "# Your code here\n",
    "\n",
    "father = set(father_list)\n",
    "mother = set(mother_list)\n",
    "jo = set(Jo_list)\n",
    "carlos = set(Carlos_list)\n",
    "mattia = set(Mattia_list)\n",
    "\n",
    "print(father)\n"
   ]
  },
  {
   "cell_type": "markdown",
   "metadata": {},
   "source": [
    "#### 15.2- Q: Mattia wants the same items that his brother Carlos and his sister Jo but doesn't want anything they both want.\n",
    "\n",
    "##### Hint: check out the documentation for `x.symmetric_difference(y)`."
   ]
  },
  {
   "cell_type": "code",
   "execution_count": 77,
   "metadata": {},
   "outputs": [
    {
     "name": "stdout",
     "output_type": "stream",
     "text": [
      "set()\n",
      "{'cherries', 'flour', 'garlic', 'blueberries', 'water', 'toilet paper', 'onions', 'tomatoes'}\n",
      "{'yogurt', 'sugar', 'juice', 'garlic', 'blueberries', 'watermelon', 'cucumber', 'milk', 'onions', 'gums', 'tomatoes'}\n",
      "\n",
      "Mattia list:  {'yogurt', 'cherries', 'sugar', 'juice', 'flour', 'water', 'watermelon', 'cucumber', 'milk', 'toilet paper', 'gums'}\n"
     ]
    }
   ],
   "source": [
    "# Your code here\n",
    "print(mattia)\n",
    "print(carlos)\n",
    "print(jo)\n",
    "print('')\n",
    "\n",
    "diff = jo.symmetric_difference(carlos)\n",
    "print('Mattia list: ',diff)\n",
    "\n",
    "\n"
   ]
  },
  {
   "cell_type": "markdown",
   "metadata": {},
   "source": [
    "#### 15.3- The line of code below  will  generate a list of random elements from a collection of items, with replacement. Run it and from it create a sequence of unique elements and assign it to the variable mother.\n"
   ]
  },
  {
   "cell_type": "code",
   "execution_count": 85,
   "metadata": {},
   "outputs": [
    {
     "name": "stdout",
     "output_type": "stream",
     "text": [
      "['chocolate', 'deodorant', 'tomatoes', 'blueberries', 'shampoo', 'blueberries', 'mushrooms', 'gums', 'chocolate', 'juice']\n"
     ]
    }
   ],
   "source": [
    "import random\n",
    "items = ['milk', 'water', 'chocolate', 'blueberries', 'shampoo', 'flour', 'bread', 'sugar', 'watermelon', 'vinegar', 'tomatoes', 'yogurt', 'juice', 'gums', 'onions', 'garlic', 'cucumber', 'mushrooms', 'toilet paper', 'oranges', 'deodorant', 'cherries']\n",
    "\n",
    "mother_list = random.choices(items,k = 10) # https://docs.python.org/3/library/random.html\n",
    "\n",
    "print(mother_list)"
   ]
  },
  {
   "cell_type": "code",
   "execution_count": 95,
   "metadata": {},
   "outputs": [
    {
     "name": "stdout",
     "output_type": "stream",
     "text": [
      "{'chocolate', 'deodorant', 'juice', 'blueberries', 'mushrooms', 'shampoo', 'gums', 'tomatoes'}\n"
     ]
    }
   ],
   "source": [
    "# Your code here\n",
    "\n",
    "mother = set(mother_list)\n",
    "print(mother)\n"
   ]
  },
  {
   "cell_type": "markdown",
   "metadata": {},
   "source": [
    "#### 15.4- Before leaving the house to the grocery store the father found a lot of toilet paper, so the mother decided to remove it from the items needed to be bought. Use the `.discard()` method to remove from each set created before the 'toilet paper'. \n",
    "\n",
    "#### Hint: Try to first create a list contaning the variables of each set created before, then loop through them and remove the unecessary item. \n",
    "\n",
    "##### Note: The`.discard()` method will remove and update the set without the need of reassignment.\n",
    "\n"
   ]
  },
  {
   "cell_type": "code",
   "execution_count": 96,
   "metadata": {},
   "outputs": [
    {
     "name": "stdout",
     "output_type": "stream",
     "text": [
      "{'cherries', 'flour', 'garlic', 'blueberries', 'water', 'onions', 'tomatoes'}\n"
     ]
    }
   ],
   "source": [
    "# Your code here\n",
    "\n",
    "carlos.discard('toilet paper')\n",
    "print(carlos)"
   ]
  },
  {
   "cell_type": "markdown",
   "metadata": {},
   "source": [
    "#### 15.5- Create a set with all the groceries needed to be bought for the house (no repetitions)."
   ]
  },
  {
   "cell_type": "code",
   "execution_count": null,
   "metadata": {},
   "outputs": [],
   "source": [
    "# Your code here\n",
    "\n"
   ]
  },
  {
   "cell_type": "markdown",
   "metadata": {},
   "source": [
    "#### 15.6- The Father said that he could only buy five items this time. So he decided to arbitraly pick wich ones to buy this time.\n",
    "\n",
    "##### Hint: use the `.pop()` method."
   ]
  },
  {
   "cell_type": "code",
   "execution_count": null,
   "metadata": {},
   "outputs": [],
   "source": [
    "# Your code here\n",
    "\n"
   ]
  }
 ],
 "metadata": {
  "kernelspec": {
   "display_name": "Python 3 (ipykernel)",
   "language": "python",
   "name": "python3"
  },
  "language_info": {
   "codemirror_mode": {
    "name": "ipython",
    "version": 3
   },
   "file_extension": ".py",
   "mimetype": "text/x-python",
   "name": "python",
   "nbconvert_exporter": "python",
   "pygments_lexer": "ipython3",
   "version": "3.9.7"
  }
 },
 "nbformat": 4,
 "nbformat_minor": 2
}
