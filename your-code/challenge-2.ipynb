{
 "cells": [
  {
   "cell_type": "markdown",
   "metadata": {},
   "source": [
    "## Challenge 2: Sets\n",
    "\n",
    "There are a lot to learn about Python Sets and the information presented in the lesson is limited due to its length. To learn Python Sets in depth you are strongly encouraged to review the W3Schools tutorial on [Python Sets Examples and Methods](https://www.w3schools.com/python/python_sets.asp) before you work on this lab. Some difficult questions in this lab have their solutions in the W3Schools tutorial.\n",
    "\n",
    "#### First, import the Python `random` libary"
   ]
  },
  {
   "cell_type": "code",
   "execution_count": 3,
   "metadata": {},
   "outputs": [],
   "source": [
    "import random"
   ]
  },
  {
   "cell_type": "markdown",
   "metadata": {},
   "source": [
    "#### 1 - In the cell below, create a list named `sample_list_1` with 80 random values. \n",
    "\n",
    "Requirements:\n",
    "\n",
    "* Each value is an integer falling between 0 and 100.\n",
    "* Each value in the list is unique.\n",
    "\n",
    "Print `sample_list_1` to review its values\n",
    "\n",
    "*Hint: use `random.sample` ([reference](https://docs.python.org/3/library/random.html#random.sample)).*"
   ]
  },
  {
   "cell_type": "code",
   "execution_count": 4,
   "metadata": {},
   "outputs": [
    {
     "data": {
      "text/plain": [
       "[39,\n",
       " 22,\n",
       " 75,\n",
       " 1,\n",
       " 94,\n",
       " 43,\n",
       " 52,\n",
       " 34,\n",
       " 26,\n",
       " 51,\n",
       " 81,\n",
       " 82,\n",
       " 45,\n",
       " 80,\n",
       " 72,\n",
       " 69,\n",
       " 84,\n",
       " 15,\n",
       " 78,\n",
       " 76,\n",
       " 68,\n",
       " 38,\n",
       " 99,\n",
       " 18,\n",
       " 27,\n",
       " 56,\n",
       " 44,\n",
       " 48,\n",
       " 71,\n",
       " 41,\n",
       " 36,\n",
       " 5,\n",
       " 32,\n",
       " 8,\n",
       " 42,\n",
       " 4,\n",
       " 98,\n",
       " 47,\n",
       " 37,\n",
       " 88,\n",
       " 31,\n",
       " 2,\n",
       " 62,\n",
       " 16,\n",
       " 61,\n",
       " 86,\n",
       " 33,\n",
       " 3,\n",
       " 92,\n",
       " 17,\n",
       " 60,\n",
       " 20,\n",
       " 28,\n",
       " 100,\n",
       " 91,\n",
       " 25,\n",
       " 66,\n",
       " 83,\n",
       " 65,\n",
       " 93,\n",
       " 13,\n",
       " 53,\n",
       " 59,\n",
       " 14,\n",
       " 87,\n",
       " 63,\n",
       " 97,\n",
       " 29,\n",
       " 7,\n",
       " 40,\n",
       " 90,\n",
       " 77,\n",
       " 9,\n",
       " 67,\n",
       " 21,\n",
       " 30,\n",
       " 79,\n",
       " 57,\n",
       " 64,\n",
       " 55]"
      ]
     },
     "execution_count": 4,
     "metadata": {},
     "output_type": "execute_result"
    }
   ],
   "source": [
    "# Your code here\n",
    "sample_range = list(range(1, 101))\n",
    "\n",
    "sample_list_1= random.sample(sample_range, k=80)\n",
    "sample_list_1\n",
    "#len(sample_list_1)\n",
    "#sample_list_1= random.sample(0,100,k=80)"
   ]
  },
  {
   "cell_type": "markdown",
   "metadata": {},
   "source": [
    "#### 2 - Convert `sample_list_1` to a set called `set1`. Print the length of the set. Is its length still 80?"
   ]
  },
  {
   "cell_type": "code",
   "execution_count": 5,
   "metadata": {},
   "outputs": [
    {
     "data": {
      "text/plain": [
       "True"
      ]
     },
     "execution_count": 5,
     "metadata": {},
     "output_type": "execute_result"
    }
   ],
   "source": [
    "# Your code here\n",
    "\n",
    "set1=set(sample_list_1)\n",
    "len(set1)\n",
    "\n",
    "len(sample_list_1) == len(set1)"
   ]
  },
  {
   "cell_type": "markdown",
   "metadata": {},
   "source": [
    "#### 3 - Create another list named `sample_list_2` with 80 random values.\n",
    "\n",
    "Requirements:\n",
    "\n",
    "* Each value is an integer falling between 0 and 100.\n",
    "* The values in the list don't have to be unique.\n",
    "\n",
    "*Hint: Use a FOR loop.*"
   ]
  },
  {
   "cell_type": "code",
   "execution_count": 6,
   "metadata": {},
   "outputs": [
    {
     "data": {
      "text/plain": [
       "[63,\n",
       " 69,\n",
       " 85,\n",
       " 62,\n",
       " 48,\n",
       " 41,\n",
       " 36,\n",
       " 47,\n",
       " 9,\n",
       " 7,\n",
       " 25,\n",
       " 78,\n",
       " 37,\n",
       " 45,\n",
       " 32,\n",
       " 54,\n",
       " 83,\n",
       " 73,\n",
       " 90,\n",
       " 78,\n",
       " 95,\n",
       " 74,\n",
       " 92,\n",
       " 78,\n",
       " 15,\n",
       " 26,\n",
       " 99,\n",
       " 3,\n",
       " 99,\n",
       " 66,\n",
       " 69,\n",
       " 65,\n",
       " 61,\n",
       " 34,\n",
       " 26,\n",
       " 36,\n",
       " 48,\n",
       " 50,\n",
       " 36,\n",
       " 17,\n",
       " 48,\n",
       " 90,\n",
       " 44,\n",
       " 84,\n",
       " 80,\n",
       " 93,\n",
       " 40,\n",
       " 31,\n",
       " 96,\n",
       " 25,\n",
       " 18,\n",
       " 97,\n",
       " 31,\n",
       " 10,\n",
       " 19,\n",
       " 52,\n",
       " 53,\n",
       " 99,\n",
       " 38,\n",
       " 90,\n",
       " 57,\n",
       " 31,\n",
       " 68,\n",
       " 17,\n",
       " 5,\n",
       " 96,\n",
       " 96,\n",
       " 9,\n",
       " 41,\n",
       " 49,\n",
       " 66,\n",
       " 82,\n",
       " 66,\n",
       " 76,\n",
       " 17,\n",
       " 39,\n",
       " 48,\n",
       " 29,\n",
       " 77,\n",
       " 2]"
      ]
     },
     "execution_count": 6,
     "metadata": {},
     "output_type": "execute_result"
    }
   ],
   "source": [
    "# Your code here\n",
    "sample_list_2 = []\n",
    "\n",
    "sample_list_2 = [random.randrange(1,100, 1) for i in range(80)]\n",
    "sample_list_2"
   ]
  },
  {
   "cell_type": "markdown",
   "metadata": {},
   "source": [
    "#### 4 - Convert `sample_list_2` to a set called `set2`. Print the length of the set. Is its length still 80?"
   ]
  },
  {
   "cell_type": "code",
   "execution_count": 7,
   "metadata": {},
   "outputs": [
    {
     "data": {
      "text/plain": [
       "56"
      ]
     },
     "execution_count": 7,
     "metadata": {},
     "output_type": "execute_result"
    }
   ],
   "source": [
    "# Your code here\n",
    "set2= set(sample_list_2)\n",
    "len(set(sample_list_2))  #No the length is 62"
   ]
  },
  {
   "cell_type": "markdown",
   "metadata": {},
   "source": [
    "#### 5 - Identify the elements present in `set1` but not in `set2`. Assign the elements to a new set named `set3`."
   ]
  },
  {
   "cell_type": "code",
   "execution_count": 8,
   "metadata": {},
   "outputs": [
    {
     "name": "stdout",
     "output_type": "stream",
     "text": [
      "[1, 4, 8, 13, 14, 16, 20, 21, 22, 27, 28, 30, 33, 42, 43, 51, 55, 56, 59, 60, 64, 67, 71, 72, 75, 79, 81, 86, 87, 88, 91, 94, 98, 100]\n"
     ]
    }
   ],
   "source": [
    "# Your code here\n",
    "set3= []\n",
    "\n",
    "[set3.append(number) for number in set1 if number not in set2]\n",
    "\n",
    "# for number in set1:\n",
    "#     if number not in set2:\n",
    "#         set3.append(number)\n",
    "#     else:\n",
    "#         continue\n",
    "print(set3)"
   ]
  },
  {
   "cell_type": "markdown",
   "metadata": {},
   "source": [
    "#### 6 - Identify the elements present in `set2` but not in `set1`. Assign the elements to a new set named `set4`."
   ]
  },
  {
   "cell_type": "code",
   "execution_count": 9,
   "metadata": {},
   "outputs": [
    {
     "name": "stdout",
     "output_type": "stream",
     "text": [
      "[10, 19, 49, 50, 54, 73, 74, 85, 95, 96]\n"
     ]
    }
   ],
   "source": [
    "# Your code here\n",
    "set4= []\n",
    "\n",
    "[set4.append(number2) for number2 in set2 if number2 not in set1]\n",
    "print(set4)"
   ]
  },
  {
   "cell_type": "markdown",
   "metadata": {},
   "source": [
    "#### 7 - Now Identify the elements shared between `set1` and `set2`. Assign the elements to a new set named `set5`."
   ]
  },
  {
   "cell_type": "code",
   "execution_count": 10,
   "metadata": {},
   "outputs": [
    {
     "name": "stdout",
     "output_type": "stream",
     "text": [
      "[10, 19, 49, 50, 54, 73, 74, 85, 95, 96]\n"
     ]
    }
   ],
   "source": [
    "# Your code here\n",
    "set5= []\n",
    "\n",
    "[set5.append(number3) for number3 in set1 if number3 not in set2]\n",
    "print(set4)"
   ]
  },
  {
   "cell_type": "markdown",
   "metadata": {},
   "source": [
    "#### 8 - Create an empty set called `set6`."
   ]
  },
  {
   "cell_type": "code",
   "execution_count": 11,
   "metadata": {},
   "outputs": [],
   "source": [
    "# Your code here\n",
    "set6 = []"
   ]
  },
  {
   "cell_type": "markdown",
   "metadata": {},
   "source": [
    "#### 9 - Add `set3` and `set5` to `set6` using the Python Set `update` method."
   ]
  },
  {
   "cell_type": "code",
   "execution_count": 13,
   "metadata": {},
   "outputs": [
    {
     "data": {
      "text/plain": [
       "[1,\n",
       " 4,\n",
       " 8,\n",
       " 13,\n",
       " 14,\n",
       " 16,\n",
       " 20,\n",
       " 21,\n",
       " 22,\n",
       " 27,\n",
       " 28,\n",
       " 30,\n",
       " 33,\n",
       " 42,\n",
       " 43,\n",
       " 51,\n",
       " 55,\n",
       " 56,\n",
       " 59,\n",
       " 60,\n",
       " 64,\n",
       " 67,\n",
       " 71,\n",
       " 72,\n",
       " 75,\n",
       " 79,\n",
       " 81,\n",
       " 86,\n",
       " 87,\n",
       " 88,\n",
       " 91,\n",
       " 94,\n",
       " 98,\n",
       " 100,\n",
       " 1,\n",
       " 4,\n",
       " 8,\n",
       " 13,\n",
       " 14,\n",
       " 16,\n",
       " 20,\n",
       " 21,\n",
       " 22,\n",
       " 27,\n",
       " 28,\n",
       " 30,\n",
       " 33,\n",
       " 42,\n",
       " 43,\n",
       " 51,\n",
       " 55,\n",
       " 56,\n",
       " 59,\n",
       " 60,\n",
       " 64,\n",
       " 67,\n",
       " 71,\n",
       " 72,\n",
       " 75,\n",
       " 79,\n",
       " 81,\n",
       " 86,\n",
       " 87,\n",
       " 88,\n",
       " 91,\n",
       " 94,\n",
       " 98,\n",
       " 100]"
      ]
     },
     "execution_count": 13,
     "metadata": {},
     "output_type": "execute_result"
    }
   ],
   "source": [
    "# Your code here\n",
    "set6 = set3 + set5\n",
    "set6"
   ]
  },
  {
   "cell_type": "markdown",
   "metadata": {},
   "source": [
    "#### 10 - Check if `set1` and `set6` are equal."
   ]
  },
  {
   "cell_type": "code",
   "execution_count": 14,
   "metadata": {},
   "outputs": [
    {
     "data": {
      "text/plain": [
       "False"
      ]
     },
     "execution_count": 14,
     "metadata": {},
     "output_type": "execute_result"
    }
   ],
   "source": [
    "# Your code here\n",
    "set1 == set6"
   ]
  },
  {
   "cell_type": "markdown",
   "metadata": {},
   "source": [
    "#### 11 - Check if `set1` contains `set2` using the Python Set `issubset` method. Then check if `set1` contains `set3`.*"
   ]
  },
  {
   "cell_type": "code",
   "execution_count": 21,
   "metadata": {},
   "outputs": [
    {
     "data": {
      "text/plain": [
       "True"
      ]
     },
     "execution_count": 21,
     "metadata": {},
     "output_type": "execute_result"
    }
   ],
   "source": [
    "# Your code here\n",
    "set1.issubset(set2)  #False\n",
    "\n",
    "set(set3).issubset(set1)  #true"
   ]
  },
  {
   "cell_type": "markdown",
   "metadata": {},
   "source": [
    "#### 12 -Using the Python Set `union` method, aggregate `set3`, `set4`, and `set5`. Then aggregate `set1` and `set2`. \n",
    "\n",
    "#### Check if the aggregated values are equal."
   ]
  },
  {
   "cell_type": "code",
   "execution_count": 23,
   "metadata": {},
   "outputs": [
    {
     "data": {
      "text/plain": [
       "False"
      ]
     },
     "execution_count": 23,
     "metadata": {},
     "output_type": "execute_result"
    }
   ],
   "source": [
    "# Your code here\n",
    "set1.union(set2)==set(set3).union(set4).union(set5)"
   ]
  },
  {
   "cell_type": "markdown",
   "metadata": {},
   "source": [
    "#### 13 -Using the `pop` method, remove the first element from `set1`."
   ]
  },
  {
   "cell_type": "code",
   "execution_count": 25,
   "metadata": {},
   "outputs": [
    {
     "data": {
      "text/plain": [
       "{2,\n",
       " 3,\n",
       " 4,\n",
       " 5,\n",
       " 7,\n",
       " 8,\n",
       " 9,\n",
       " 13,\n",
       " 14,\n",
       " 15,\n",
       " 16,\n",
       " 17,\n",
       " 18,\n",
       " 20,\n",
       " 21,\n",
       " 22,\n",
       " 25,\n",
       " 26,\n",
       " 27,\n",
       " 28,\n",
       " 29,\n",
       " 30,\n",
       " 31,\n",
       " 32,\n",
       " 33,\n",
       " 34,\n",
       " 36,\n",
       " 37,\n",
       " 38,\n",
       " 39,\n",
       " 40,\n",
       " 41,\n",
       " 42,\n",
       " 43,\n",
       " 44,\n",
       " 45,\n",
       " 47,\n",
       " 48,\n",
       " 51,\n",
       " 52,\n",
       " 53,\n",
       " 55,\n",
       " 56,\n",
       " 57,\n",
       " 59,\n",
       " 60,\n",
       " 61,\n",
       " 62,\n",
       " 63,\n",
       " 64,\n",
       " 65,\n",
       " 66,\n",
       " 67,\n",
       " 68,\n",
       " 69,\n",
       " 71,\n",
       " 72,\n",
       " 75,\n",
       " 76,\n",
       " 77,\n",
       " 78,\n",
       " 79,\n",
       " 80,\n",
       " 81,\n",
       " 82,\n",
       " 83,\n",
       " 84,\n",
       " 86,\n",
       " 87,\n",
       " 88,\n",
       " 90,\n",
       " 91,\n",
       " 92,\n",
       " 93,\n",
       " 94,\n",
       " 97,\n",
       " 98,\n",
       " 99,\n",
       " 100}"
      ]
     },
     "execution_count": 25,
     "metadata": {},
     "output_type": "execute_result"
    }
   ],
   "source": [
    "# Your code here\n",
    "set1\n",
    "\n",
    "set1.pop()\n",
    "set1"
   ]
  },
  {
   "cell_type": "markdown",
   "metadata": {},
   "source": [
    "#### 14 -Remove every element in the following list from `set1` if they are present in the set. Print the remaining elements.\n",
    "\n",
    "```\n",
    "list_to_remove = [1, 9, 11, 19, 21, 29, 31, 39, 41, 49, 51, 59, 61, 69, 71, 79, 81, 89, 91, 99]\n",
    "```"
   ]
  },
  {
   "cell_type": "code",
   "execution_count": 32,
   "metadata": {},
   "outputs": [
    {
     "name": "stdout",
     "output_type": "stream",
     "text": [
      "{69, 71, 9, 79, 81, 21, 91, 29, 31, 99, 39, 41, 51, 59, 61}\n"
     ]
    }
   ],
   "source": [
    "# Your code here\n",
    "list_to_remove = [1, 9, 11, 19, 21, 29, 31, 39, 41, 49, 51, 59, 61, 69, 71, 79, 81, 89, 91, 99]\n",
    "list_to_set = []\n",
    "list_to_set=[ number for number in set1  if number not in list_to_remove]   #in list comprehension\n",
    "\n",
    "#for number in set1:\n",
    " #   if number not in list_to_remove:\n",
    "  #      list_to_set.append(number)\n",
    "\n",
    "dif=set1.difference(list_to_set)\n",
    "print(dif)"
   ]
  },
  {
   "cell_type": "markdown",
   "metadata": {},
   "source": [
    "#### 15 -The objective of this lab is to provide you a overview of manipulating sets in Python and how they can be integrated within a real usecase\n",
    "#### For the exercises below it's strongly advised to quickly check this link: https://docs.python.org/2/library/sets.html#sets.Set\n",
    "#### Imagine you need to create the grocery list for your family! Below you will see a list of items each family member wants. There will be repetitions because this family has the habbit of each time they notice something is missing to write it down. The problem is that they don't really talk to each other and therefore some items in the list are repeated. With the collection of questions below you will see how they solve repetion and create a grocery list with unique elements.\n",
    "\n"
   ]
  },
  {
   "cell_type": "code",
   "execution_count": 33,
   "metadata": {},
   "outputs": [],
   "source": [
    "father_list = ['garlic', 'watermelon', 'toilet paper', 'yogurt', 'onions', 'gums', 'flour', 'cucumber', 'watermelon', 'yogurt', 'garlic']\n",
    "\n",
    "mother_list = []\n",
    "\n",
    "Jo_list = ['blueberries', 'sugar', 'watermelon', 'gums', 'tomatoes', 'yogurt', 'juice', 'milk', 'onions', 'garlic', 'cucumber', 'sugar', 'blueberries', 'gums', 'yogurt']\n",
    "\n",
    "Carlos_list = ['tomatoes', 'water', 'onions', 'blueberries', 'garlic', 'flour', 'cherries', 'tomatoes', 'onions', 'water', 'tomatoes', 'toilet paper']\n",
    "\n",
    "Mattia_list = []\n",
    "\n",
    "\n"
   ]
  },
  {
   "cell_type": "markdown",
   "metadata": {},
   "source": [
    "#### 15.1- As you can see there are items repeated in each list. Creat a sequence of iterable elements with dintinct items that each family member wants. You can do it in two different ways. Assign each one (set) to a variable with the name of the family member (ex: father_set)."
   ]
  },
  {
   "cell_type": "code",
   "execution_count": 43,
   "metadata": {},
   "outputs": [],
   "source": [
    "# Your code here\n",
    "father_set= set(father_list)\n",
    "mother_set= set(mother_list)\n",
    "Jo_set = set(Jo_list)\n",
    "Carlos_set = set(Carlos_list)\n",
    "Mattia_set = set(Mattia_list)"
   ]
  },
  {
   "cell_type": "markdown",
   "metadata": {},
   "source": [
    "#### 15.2- Q: Mattia wants the same items that his brother Carlos and his sister Jo but doesn't want anything they both want.\n",
    "\n",
    "##### Hint: check out the documentation for `x.symmetric_difference(y)`."
   ]
  },
  {
   "cell_type": "code",
   "execution_count": 44,
   "metadata": {},
   "outputs": [
    {
     "name": "stdout",
     "output_type": "stream",
     "text": [
      "{'yogurt', 'cucumber', 'cherries', 'gums', 'sugar', 'toilet paper', 'watermelon', 'water', 'juice', 'flour', 'milk'}\n"
     ]
    }
   ],
   "source": [
    "# Your code here\n",
    "Mattia_set= Jo_set.symmetric_difference(Carlos_set)\n",
    "print(Mattia_set)"
   ]
  },
  {
   "cell_type": "markdown",
   "metadata": {},
   "source": [
    "#### 15.3- The line of code below  will  generate a list of random elements from a collection of items, with replacement. Run it and from it create a sequence of unique elements and assign it to the variable mother.\n"
   ]
  },
  {
   "cell_type": "code",
   "execution_count": 46,
   "metadata": {},
   "outputs": [
    {
     "name": "stdout",
     "output_type": "stream",
     "text": [
      "['mushrooms', 'gums', 'milk', 'watermelon', 'sugar', 'chocolate', 'garlic', 'milk', 'juice', 'shampoo']\n"
     ]
    }
   ],
   "source": [
    "import random\n",
    "items = ['milk', 'water', 'chocolate', 'blueberries', 'shampoo', 'flour', 'bread', 'sugar', 'watermelon', 'vinegar', 'tomatoes', 'yogurt', 'juice', 'gums', 'onions', 'garlic', 'cucumber', 'mushrooms', 'toilet paper', 'oranges', 'deodorant', 'cherries']\n",
    "\n",
    "mother_list = random.choices(items,k = 10) # https://docs.python.org/3/library/random.html\n",
    "\n",
    "print(mother_list)"
   ]
  },
  {
   "cell_type": "code",
   "execution_count": 48,
   "metadata": {},
   "outputs": [
    {
     "data": {
      "text/plain": [
       "{'chocolate',\n",
       " 'garlic',\n",
       " 'gums',\n",
       " 'juice',\n",
       " 'milk',\n",
       " 'mushrooms',\n",
       " 'shampoo',\n",
       " 'sugar',\n",
       " 'watermelon'}"
      ]
     },
     "execution_count": 48,
     "metadata": {},
     "output_type": "execute_result"
    }
   ],
   "source": [
    "# Your code here\n",
    "mother_set=set(mother_list)\n",
    "mother_set"
   ]
  },
  {
   "cell_type": "markdown",
   "metadata": {},
   "source": [
    "#### 15.4- Before leaving the house to the grocery store the father found a lot of toilet paper, so the mother decided to remove it from the items needed to be bought. Use the `.discard()` method to remove from each set created before the 'toilet paper'. \n",
    "\n",
    "#### Hint: Try to first create a list contaning the variables of each set created before, then loop through them and remove the unecessary item. \n",
    "\n",
    "##### Note: The`.discard()` method will remove and update the set without the need of reassignment.\n",
    "\n"
   ]
  },
  {
   "cell_type": "code",
   "execution_count": 55,
   "metadata": {},
   "outputs": [
    {
     "name": "stdout",
     "output_type": "stream",
     "text": [
      "['cucumber', 'cherries', 'gums', 'toilet paper', 'garlic', 'tomatoes', 'water', 'juice', 'flour', 'yogurt', 'chocolate', 'mushrooms', 'shampoo', 'watermelon', 'onions', 'sugar', 'blueberries', 'milk']\n",
      "{'yogurt', 'cucumber', 'gums', 'watermelon', 'onions', 'garlic', 'flour'}\n"
     ]
    }
   ],
   "source": [
    "# Your code here\n",
    "father_set= set(father_list)\n",
    "mother_set= set(mother_list)\n",
    "Jo_set = set(Jo_list)\n",
    "Carlos_set = set(Carlos_list)\n",
    "Mattia_set = set(Mattia_list)\n",
    "\n",
    "list_junction = list(father_set.union(mother_set).union(Jo_set).union(Carlos_set).union(Mattia_set))\n",
    "print(list_junction)\n",
    "\n",
    "for product in list_junction:\n",
    "    if product == \"toilet paper\":\n",
    "        father_set.discard(product)\n",
    "        mother_set.discard(product)\n",
    "        Jo_set.discard(product)\n",
    "        Carlos_set.discard(product)\n",
    "        Mattia_set.discard(product)\n",
    "        \n",
    "#"
   ]
  },
  {
   "cell_type": "markdown",
   "metadata": {},
   "source": [
    "#### 15.5- Create a set with all the groceries needed to be bought for the house (no repetitions)."
   ]
  },
  {
   "cell_type": "code",
   "execution_count": 57,
   "metadata": {},
   "outputs": [
    {
     "data": {
      "text/plain": [
       "{'blueberries',\n",
       " 'cherries',\n",
       " 'chocolate',\n",
       " 'cucumber',\n",
       " 'flour',\n",
       " 'garlic',\n",
       " 'gums',\n",
       " 'juice',\n",
       " 'milk',\n",
       " 'mushrooms',\n",
       " 'onions',\n",
       " 'shampoo',\n",
       " 'sugar',\n",
       " 'toilet paper',\n",
       " 'tomatoes',\n",
       " 'water',\n",
       " 'watermelon',\n",
       " 'yogurt'}"
      ]
     },
     "execution_count": 57,
     "metadata": {},
     "output_type": "execute_result"
    }
   ],
   "source": [
    "# Your code here\n",
    "\n",
    "set_junction = set(list_junction)\n",
    "set_junction"
   ]
  },
  {
   "cell_type": "markdown",
   "metadata": {},
   "source": [
    "#### 15.6- The Father said that he could only buy five items this time. So he decided to arbitraly pick wich ones to buy this time.\n",
    "\n",
    "##### Hint: use the `.pop()` method."
   ]
  },
  {
   "cell_type": "code",
   "execution_count": 59,
   "metadata": {},
   "outputs": [
    {
     "name": "stdout",
     "output_type": "stream",
     "text": [
      "['flour', 'garlic', 'gums', 'onions', 'garlic']\n"
     ]
    }
   ],
   "source": [
    "# Your code here\n",
    "\n",
    "father_list = random.choices(list(father_set),k = 5)\n",
    "print(father_list)"
   ]
  },
  {
   "cell_type": "code",
   "execution_count": null,
   "metadata": {},
   "outputs": [],
   "source": []
  }
 ],
 "metadata": {
  "kernelspec": {
   "display_name": "Python 3",
   "language": "python",
   "name": "python3"
  },
  "language_info": {
   "codemirror_mode": {
    "name": "ipython",
    "version": 3
   },
   "file_extension": ".py",
   "mimetype": "text/x-python",
   "name": "python",
   "nbconvert_exporter": "python",
   "pygments_lexer": "ipython3",
   "version": "3.8.8"
  }
 },
 "nbformat": 4,
 "nbformat_minor": 2
}
