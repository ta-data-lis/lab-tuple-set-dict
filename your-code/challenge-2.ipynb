{
 "cells": [
  {
   "cell_type": "markdown",
   "metadata": {},
   "source": [
    "## Challenge 2: Sets\n",
    "\n",
    "There are a lot to learn about Python Sets and the information presented in the lesson is limited due to its length. To learn Python Sets in depth you are strongly encouraged to review the W3Schools tutorial on [Python Sets Examples and Methods](https://www.w3schools.com/python/python_sets.asp) before you work on this lab. Some difficult questions in this lab have their solutions in the W3Schools tutorial.\n",
    "\n",
    "#### First, import the Python `random` libary"
   ]
  },
  {
   "cell_type": "code",
   "execution_count": 2,
   "metadata": {},
   "outputs": [],
   "source": [
    "import random\n"
   ]
  },
  {
   "cell_type": "markdown",
   "metadata": {},
   "source": [
    "#### In the cell below, create a list named `sample_list_1` with 80 random values. \n",
    "\n",
    "Requirements:\n",
    "\n",
    "* Each value is an integer falling between 0 and 100.\n",
    "* Each value in the list is unique.\n",
    "\n",
    "Print `sample_list_1` to review its values\n",
    "\n",
    "*Hint: use `random.sample` ([reference](https://docs.python.org/3/library/random.html#random.sample)).*"
   ]
  },
  {
   "cell_type": "code",
   "execution_count": 3,
   "metadata": {},
   "outputs": [
    {
     "name": "stdout",
     "output_type": "stream",
     "text": [
      "[32, 30, 49, 57, 78, 76, 58, 26, 12, 22, 56, 63, 86, 19, 6, 68, 54, 87, 92, 41, 7, 35, 73, 82, 16, 85, 67, 42, 28, 9, 33, 27, 84, 14, 97, 55, 25, 70, 74, 90, 36, 50, 96, 81, 80, 48, 69, 59, 8, 95, 51, 77, 71, 99, 40, 31, 46, 60, 13, 53, 21, 83, 79, 1, 38, 29, 65, 20, 4, 98, 17, 3, 10, 11, 47, 0, 94, 75, 93, 34]\n",
      "32 1\n",
      "30 1\n",
      "49 1\n",
      "57 1\n",
      "78 1\n",
      "76 1\n",
      "58 1\n",
      "26 1\n",
      "12 1\n",
      "22 1\n",
      "56 1\n",
      "63 1\n",
      "86 1\n",
      "19 1\n",
      "6 1\n",
      "68 1\n",
      "54 1\n",
      "87 1\n",
      "92 1\n",
      "41 1\n",
      "7 1\n",
      "35 1\n",
      "73 1\n",
      "82 1\n",
      "16 1\n",
      "85 1\n",
      "67 1\n",
      "42 1\n",
      "28 1\n",
      "9 1\n",
      "33 1\n",
      "27 1\n",
      "84 1\n",
      "14 1\n",
      "97 1\n",
      "55 1\n",
      "25 1\n",
      "70 1\n",
      "74 1\n",
      "90 1\n",
      "36 1\n",
      "50 1\n",
      "96 1\n",
      "81 1\n",
      "80 1\n",
      "48 1\n",
      "69 1\n",
      "59 1\n",
      "8 1\n",
      "95 1\n",
      "51 1\n",
      "77 1\n",
      "71 1\n",
      "99 1\n",
      "40 1\n",
      "31 1\n",
      "46 1\n",
      "60 1\n",
      "13 1\n",
      "53 1\n",
      "21 1\n",
      "83 1\n",
      "79 1\n",
      "1 1\n",
      "38 1\n",
      "29 1\n",
      "65 1\n",
      "20 1\n",
      "4 1\n",
      "98 1\n",
      "17 1\n",
      "3 1\n",
      "10 1\n",
      "11 1\n",
      "47 1\n",
      "0 1\n",
      "94 1\n",
      "75 1\n",
      "93 1\n",
      "34 1\n"
     ]
    }
   ],
   "source": [
    "# Your code here\n",
    "sample_list_1 = random.sample(range(0, 100), 80)\n",
    "\n",
    "print(sample_list_1)\n",
    "\n",
    "#check if there are 80 values\n",
    "len(sample_list_1)\n",
    "\n",
    "#check if there's any duplicate value\n",
    "for num in sample_list_1:\n",
    "    print(num,sample_list_1.count(num))"
   ]
  },
  {
   "cell_type": "markdown",
   "metadata": {},
   "source": [
    "#### Convert `sample_list_1` to a set called `set1`. Print the length of the set. Is its length still 80?"
   ]
  },
  {
   "cell_type": "code",
   "execution_count": 4,
   "metadata": {},
   "outputs": [
    {
     "name": "stdout",
     "output_type": "stream",
     "text": [
      "{0, 1, 3, 4, 6, 7, 8, 9, 10, 11, 12, 13, 14, 16, 17, 19, 20, 21, 22, 25, 26, 27, 28, 29, 30, 31, 32, 33, 34, 35, 36, 38, 40, 41, 42, 46, 47, 48, 49, 50, 51, 53, 54, 55, 56, 57, 58, 59, 60, 63, 65, 67, 68, 69, 70, 71, 73, 74, 75, 76, 77, 78, 79, 80, 81, 82, 83, 84, 85, 86, 87, 90, 92, 93, 94, 95, 96, 97, 98, 99}\n"
     ]
    }
   ],
   "source": [
    "# Your code here\n",
    "set1 = set(sample_list_1)\n",
    "\n",
    "print(set1)\n"
   ]
  },
  {
   "cell_type": "markdown",
   "metadata": {},
   "source": [
    "#### Create another list named `sample_list_2` with 80 random values.\n",
    "\n",
    "Requirements:\n",
    "\n",
    "* Each value is an integer falling between 0 and 100.\n",
    "* The values in the list don't have to be unique.\n",
    "\n",
    "*Hint: Use a FOR loop.*"
   ]
  },
  {
   "cell_type": "code",
   "execution_count": 5,
   "metadata": {},
   "outputs": [
    {
     "name": "stdout",
     "output_type": "stream",
     "text": [
      "[42, 5, 98, 57, 55, 34, 38, 82, 23, 85, 93, 87, 45, 89, 1, 18, 32, 38, 10, 43, 21, 67, 97, 80, 27, 61, 89, 21, 82, 83, 41, 79, 49, 81, 77, 22, 89, 49, 21, 28, 57, 57, 45, 14, 2, 44, 78, 90, 57, 50, 9, 96, 63, 58, 55, 29, 20, 13, 25, 11, 3, 62, 45, 13, 14, 4, 87, 39, 49, 0, 17, 52, 89, 52, 14, 72, 54, 35, 78, 26, 5, 4, 90, 15, 38, 42, 55, 81, 41, 81, 92, 31, 40, 99, 32, 36, 76, 44, 97, 5]\n",
      "42 2\n",
      "5 3\n",
      "98 1\n",
      "57 4\n",
      "55 3\n",
      "34 1\n",
      "38 3\n",
      "82 2\n",
      "23 1\n",
      "85 1\n",
      "93 1\n",
      "87 2\n",
      "45 3\n",
      "89 4\n",
      "1 1\n",
      "18 1\n",
      "32 2\n",
      "38 3\n",
      "10 1\n",
      "43 1\n",
      "21 3\n",
      "67 1\n",
      "97 2\n",
      "80 1\n",
      "27 1\n",
      "61 1\n",
      "89 4\n",
      "21 3\n",
      "82 2\n",
      "83 1\n",
      "41 2\n",
      "79 1\n",
      "49 3\n",
      "81 3\n",
      "77 1\n",
      "22 1\n",
      "89 4\n",
      "49 3\n",
      "21 3\n",
      "28 1\n",
      "57 4\n",
      "57 4\n",
      "45 3\n",
      "14 3\n",
      "2 1\n",
      "44 2\n",
      "78 2\n",
      "90 2\n",
      "57 4\n",
      "50 1\n",
      "9 1\n",
      "96 1\n",
      "63 1\n",
      "58 1\n",
      "55 3\n",
      "29 1\n",
      "20 1\n",
      "13 2\n",
      "25 1\n",
      "11 1\n",
      "3 1\n",
      "62 1\n",
      "45 3\n",
      "13 2\n",
      "14 3\n",
      "4 2\n",
      "87 2\n",
      "39 1\n",
      "49 3\n",
      "0 1\n",
      "17 1\n",
      "52 2\n",
      "89 4\n",
      "52 2\n",
      "14 3\n",
      "72 1\n",
      "54 1\n",
      "35 1\n",
      "78 2\n",
      "26 1\n",
      "5 3\n",
      "4 2\n",
      "90 2\n",
      "15 1\n",
      "38 3\n",
      "42 2\n",
      "55 3\n",
      "81 3\n",
      "41 2\n",
      "81 3\n",
      "92 1\n",
      "31 1\n",
      "40 1\n",
      "99 1\n",
      "32 2\n",
      "36 1\n",
      "76 1\n",
      "44 2\n",
      "97 2\n",
      "5 3\n"
     ]
    }
   ],
   "source": [
    "# Your code here\n",
    "sample_list_2 = [] \n",
    "\n",
    "valor = random.choice(range(0,100))\n",
    "valor\n",
    "\n",
    "for item in range(0,100):\n",
    "    sample_list_2.append(random.choice(range(0,100)))\n",
    "    \n",
    "print(sample_list_2)\n",
    "\n",
    "len(sample_list_2)\n",
    "\n",
    "#check if there's any duplicate value\n",
    "for num in sample_list_2:\n",
    "    print(num,sample_list_2.count(num))"
   ]
  },
  {
   "cell_type": "markdown",
   "metadata": {},
   "source": [
    "#### Convert `sample_list_2` to a set called `set2`. Print the length of the set. Is its length still 80?"
   ]
  },
  {
   "cell_type": "code",
   "execution_count": 6,
   "metadata": {},
   "outputs": [
    {
     "name": "stdout",
     "output_type": "stream",
     "text": [
      "{0, 1, 2, 3, 4, 5, 9, 10, 11, 13, 14, 15, 17, 18, 20, 21, 22, 23, 25, 26, 27, 28, 29, 31, 32, 34, 35, 36, 38, 39, 40, 41, 42, 43, 44, 45, 49, 50, 52, 54, 55, 57, 58, 61, 62, 63, 67, 72, 76, 77, 78, 79, 80, 81, 82, 83, 85, 87, 89, 90, 92, 93, 96, 97, 98, 99}\n"
     ]
    },
    {
     "data": {
      "text/plain": [
       "66"
      ]
     },
     "execution_count": 6,
     "metadata": {},
     "output_type": "execute_result"
    }
   ],
   "source": [
    "# Your code here\n",
    "set2 =  set(sample_list_2)\n",
    "\n",
    "print(set2)\n",
    "\n",
    "# Lenght isn't 80\n",
    "len(set2)"
   ]
  },
  {
   "cell_type": "markdown",
   "metadata": {},
   "source": [
    "#### Identify the elements present in `set1` but not in `set2`. Assign the elements to a new set named `set3`."
   ]
  },
  {
   "cell_type": "code",
   "execution_count": 7,
   "metadata": {},
   "outputs": [
    {
     "name": "stdout",
     "output_type": "stream",
     "text": [
      "{6, 7, 8, 12, 16, 19, 30, 33, 46, 47, 48, 51, 53, 56, 59, 60, 65, 68, 69, 70, 71, 73, 74, 75, 84, 86, 94, 95}\n"
     ]
    }
   ],
   "source": [
    "# Your code here\n",
    "\n",
    "set3 = set1.difference(set2)\n",
    "\n",
    "print(set3)\n"
   ]
  },
  {
   "cell_type": "markdown",
   "metadata": {},
   "source": [
    "#### Identify the elements present in `set2` but not in `set1`. Assign the elements to a new set named `set4`."
   ]
  },
  {
   "cell_type": "code",
   "execution_count": 8,
   "metadata": {},
   "outputs": [
    {
     "name": "stdout",
     "output_type": "stream",
     "text": [
      "{2, 5, 39, 72, 43, 44, 45, 15, 18, 52, 23, 89, 61, 62}\n"
     ]
    }
   ],
   "source": [
    "# Your code here\n",
    "\n",
    "set4 = set2.difference(set1)\n",
    "\n",
    "print(set4)"
   ]
  },
  {
   "cell_type": "markdown",
   "metadata": {},
   "source": [
    "#### Now Identify the elements shared between `set1` and `set2`. Assign the elements to a new set named `set5`."
   ]
  },
  {
   "cell_type": "code",
   "execution_count": 9,
   "metadata": {},
   "outputs": [
    {
     "name": "stdout",
     "output_type": "stream",
     "text": [
      "{0, 1, 3, 4, 9, 10, 11, 13, 14, 17, 20, 21, 22, 25, 26, 27, 28, 29, 31, 32, 34, 35, 36, 38, 40, 41, 42, 49, 50, 54, 55, 57, 58, 63, 67, 76, 77, 78, 79, 80, 81, 82, 83, 85, 87, 90, 92, 93, 96, 97, 98, 99}\n"
     ]
    }
   ],
   "source": [
    "# Your code here\n",
    "\n",
    "set5 = set1.intersection(set2)\n",
    "\n",
    "print(set5)"
   ]
  },
  {
   "cell_type": "markdown",
   "metadata": {},
   "source": [
    "#### What is the relationship among the following values:\n",
    "\n",
    "* len(set1)\n",
    "* len(set2)\n",
    "* len(set3)\n",
    "* len(set4)\n",
    "* len(set5)\n",
    "\n",
    "Use a math formular to represent that relationship. Test your formular with Python code."
   ]
  },
  {
   "cell_type": "code",
   "execution_count": 11,
   "metadata": {
    "scrolled": true
   },
   "outputs": [
    {
     "name": "stdout",
     "output_type": "stream",
     "text": [
      "True\n"
     ]
    }
   ],
   "source": [
    "# Your code here\n",
    "\n",
    "print(len(set1) + len(set2) - len(set5) == len(set3) + len(set4) + len(set5))\n",
    "\n"
   ]
  },
  {
   "cell_type": "markdown",
   "metadata": {},
   "source": [
    "#### Create an empty set called `set6`."
   ]
  },
  {
   "cell_type": "code",
   "execution_count": 12,
   "metadata": {},
   "outputs": [],
   "source": [
    "# Your code here\n",
    "\n",
    "set6 = set()"
   ]
  },
  {
   "cell_type": "markdown",
   "metadata": {},
   "source": [
    "#### Add `set3` and `set5` to `set6` using the Python Set `update` method."
   ]
  },
  {
   "cell_type": "code",
   "execution_count": 13,
   "metadata": {},
   "outputs": [
    {
     "name": "stdout",
     "output_type": "stream",
     "text": [
      "{0, 1, 3, 4, 6, 7, 8, 9, 10, 11, 12, 13, 14, 16, 17, 19, 20, 21, 22, 25, 26, 27, 28, 29, 30, 31, 32, 33, 34, 35, 36, 38, 40, 41, 42, 46, 47, 48, 49, 50, 51, 53, 54, 55, 56, 57, 58, 59, 60, 63, 65, 67, 68, 69, 70, 71, 73, 74, 75, 76, 77, 78, 79, 80, 81, 82, 83, 84, 85, 86, 87, 90, 92, 93, 94, 95, 96, 97, 98, 99}\n"
     ]
    }
   ],
   "source": [
    "# Your code here\n",
    "\n",
    "set6.update(set3, set5, set6)\n",
    "\n",
    "print(set6)"
   ]
  },
  {
   "cell_type": "markdown",
   "metadata": {},
   "source": [
    "#### Check if `set1` and `set6` are equal."
   ]
  },
  {
   "cell_type": "code",
   "execution_count": 14,
   "metadata": {},
   "outputs": [
    {
     "name": "stdout",
     "output_type": "stream",
     "text": [
      "ok\n",
      "set()\n"
     ]
    }
   ],
   "source": [
    "# Your code here\n",
    "if set1 == set6:\n",
    "    print(\"ok\")\n",
    "else:\n",
    "    print(\"not equal\")\n",
    "\n",
    "#check differences between sets\n",
    "print(set1.difference(set6))\n"
   ]
  },
  {
   "cell_type": "markdown",
   "metadata": {},
   "source": [
    "#### Check if `set1` contains `set2` using the Python Set `issubset` method. Then check if `set1` contains `set3`.*"
   ]
  },
  {
   "cell_type": "code",
   "execution_count": 15,
   "metadata": {},
   "outputs": [
    {
     "name": "stdout",
     "output_type": "stream",
     "text": [
      "False\n",
      "False\n"
     ]
    }
   ],
   "source": [
    "# Your code here\n",
    "\n",
    "print(set1.issubset(set2))\n",
    "print(set1.issubset(set3))"
   ]
  },
  {
   "cell_type": "markdown",
   "metadata": {},
   "source": [
    "#### Using the Python Set `union` method, aggregate `set3`, `set4`, and `set5`. Then aggregate `set1` and `set2`. \n",
    "\n",
    "#### Check if the aggregated values are equal."
   ]
  },
  {
   "cell_type": "code",
   "execution_count": 16,
   "metadata": {},
   "outputs": [
    {
     "name": "stdout",
     "output_type": "stream",
     "text": [
      "{0, 1, 2, 3, 4, 5, 6, 7, 8, 9, 10, 11, 12, 13, 14, 15, 16, 17, 18, 19, 20, 21, 22, 23, 25, 26, 27, 28, 29, 30, 31, 32, 33, 34, 35, 36, 38, 39, 40, 41, 42, 43, 44, 45, 46, 47, 48, 49, 50, 51, 52, 53, 54, 55, 56, 57, 58, 59, 60, 61, 62, 63, 65, 67, 68, 69, 70, 71, 72, 73, 74, 75, 76, 77, 78, 79, 80, 81, 82, 83, 84, 85, 86, 87, 89, 90, 92, 93, 94, 95, 96, 97, 98, 99}\n",
      "{0, 1, 2, 3, 4, 5, 6, 7, 8, 9, 10, 11, 12, 13, 14, 15, 16, 17, 18, 19, 20, 21, 22, 23, 25, 26, 27, 28, 29, 30, 31, 32, 33, 34, 35, 36, 38, 39, 40, 41, 42, 43, 44, 45, 46, 47, 48, 49, 50, 51, 52, 53, 54, 55, 56, 57, 58, 59, 60, 61, 62, 63, 65, 67, 68, 69, 70, 71, 72, 73, 74, 75, 76, 77, 78, 79, 80, 81, 82, 83, 84, 85, 86, 87, 89, 90, 92, 93, 94, 95, 96, 97, 98, 99}\n"
     ]
    }
   ],
   "source": [
    "# Your code here\n",
    "\n",
    "print(set.union(set3, set4, set5))\n",
    "\n",
    "print(set.union(set1, set2))"
   ]
  },
  {
   "cell_type": "markdown",
   "metadata": {},
   "source": [
    "#### Using the `pop` method, remove the first element from `set1`."
   ]
  },
  {
   "cell_type": "code",
   "execution_count": 17,
   "metadata": {},
   "outputs": [
    {
     "data": {
      "text/plain": [
       "0"
      ]
     },
     "execution_count": 17,
     "metadata": {},
     "output_type": "execute_result"
    }
   ],
   "source": [
    "# Your code here\n",
    "\n",
    "set1.pop()"
   ]
  },
  {
   "cell_type": "markdown",
   "metadata": {},
   "source": [
    "#### Remove every element in the following list from `set1` if they are present in the set. Print the remaining elements.\n",
    "\n",
    "```\n",
    "list_to_remove = [1, 9, 11, 19, 21, 29, 31, 39, 41, 49, 51, 59, 61, 69, 71, 79, 81, 89, 91, 99]\n",
    "```"
   ]
  },
  {
   "cell_type": "code",
   "execution_count": 18,
   "metadata": {},
   "outputs": [
    {
     "name": "stdout",
     "output_type": "stream",
     "text": [
      "{3, 4, 6, 7, 8, 10, 12, 13, 14, 16, 17, 20, 22, 25, 26, 27, 28, 30, 32, 33, 34, 35, 36, 38, 40, 42, 46, 47, 48, 50, 53, 54, 55, 56, 57, 58, 60, 63, 65, 67, 68, 70, 73, 74, 75, 76, 77, 78, 80, 82, 83, 84, 85, 86, 87, 90, 92, 93, 94, 95, 96, 97, 98}\n"
     ]
    }
   ],
   "source": [
    "# Your code here\n",
    "\n",
    "list_to_remove = [1, 9, 11, 19, 21, 29, 31, 39, 41, 49, 51, 59, 61, 69, 71, 79, 81, 89, 91, 99]\n",
    "\n",
    "#Is there any value set1 that match list_to_remove? \n",
    "\n",
    "set1.intersection(list_to_remove)\n",
    "\n",
    "\n",
    "for num in set1.intersection(list_to_remove):\n",
    "    set1.remove(num)\n",
    "print(set1)\n",
    "\n"
   ]
  },
  {
   "cell_type": "code",
   "execution_count": null,
   "metadata": {},
   "outputs": [],
   "source": []
  }
 ],
 "metadata": {
  "kernelspec": {
   "display_name": "Python 3",
   "language": "python",
   "name": "python3"
  },
  "language_info": {
   "codemirror_mode": {
    "name": "ipython",
    "version": 3
   },
   "file_extension": ".py",
   "mimetype": "text/x-python",
   "name": "python",
   "nbconvert_exporter": "python",
   "pygments_lexer": "ipython3",
   "version": "3.6.5"
  }
 },
 "nbformat": 4,
 "nbformat_minor": 2
}
