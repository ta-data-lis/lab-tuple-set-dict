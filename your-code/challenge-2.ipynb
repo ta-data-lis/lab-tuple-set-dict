{
 "cells": [
  {
   "cell_type": "markdown",
   "metadata": {},
   "source": [
    "## Challenge 2: Sets\n",
    "\n",
    "There are a lot to learn about Python Sets and the information presented in the lesson is limited due to its length. To learn Python Sets in depth you are strongly encouraged to review the W3Schools tutorial on [Python Sets Examples and Methods](https://www.w3schools.com/python/python_sets.asp) before you work on this lab. Some difficult questions in this lab have their solutions in the W3Schools tutorial.\n",
    "\n",
    "#### First, import the Python `random` libary"
   ]
  },
  {
   "cell_type": "code",
   "execution_count": 47,
   "metadata": {},
   "outputs": [],
   "source": [
    "import random"
   ]
  },
  {
   "cell_type": "markdown",
   "metadata": {},
   "source": [
    "#### 1 - In the cell below, create a list named `sample_list_1` with 80 random values. \n",
    "\n",
    "Requirements:\n",
    "\n",
    "* Each value is an integer falling between 0 and 100.\n",
    "* Each value in the list is unique.\n",
    "\n",
    "Print `sample_list_1` to review its values\n",
    "\n",
    "*Hint: use `random.sample` ([reference](https://docs.python.org/3/library/random.html#random.sample)).*"
   ]
  },
  {
   "cell_type": "code",
   "execution_count": 48,
   "metadata": {},
   "outputs": [
    {
     "name": "stdout",
     "output_type": "stream",
     "text": [
      "[60, 63, 98, 71, 87, 11, 12, 10, 62, 15, 36, 67, 88, 42, 59, 83, 48, 46, 79, 57, 68, 97, 80, 35, 89, 70, 90, 44, 54, 78, 28, 32, 47, 6, 74, 49, 96, 76, 5, 13, 55, 37, 27, 93, 17, 4, 18, 22, 38, 14, 75, 9, 81, 94, 72, 99, 50, 58, 66, 26, 2, 34, 64, 20, 43, 19, 3, 91, 0, 61, 8, 30, 16, 29, 25, 52, 23, 40, 95, 73]\n"
     ]
    }
   ],
   "source": [
    "# Your code here\n",
    "sample_list_1 = random.sample(range(100),k=80)\n",
    "print(sample_list_1)\n",
    "\n",
    "##random.sample already provides unique values according to documentations so not test for repeat values"
   ]
  },
  {
   "cell_type": "markdown",
   "metadata": {},
   "source": [
    "#### 2 - Convert `sample_list_1` to a set called `set1`. Print the length of the set. Is its length still 80?"
   ]
  },
  {
   "cell_type": "code",
   "execution_count": 49,
   "metadata": {},
   "outputs": [
    {
     "name": "stdout",
     "output_type": "stream",
     "text": [
      "The length of set1 is 80\n"
     ]
    }
   ],
   "source": [
    "# Your code here\n",
    "set1 = set(sample_list_1)\n",
    "print(\"The length of set1 is\", len(set1))"
   ]
  },
  {
   "cell_type": "markdown",
   "metadata": {},
   "source": [
    "#### 3 - Create another list named `sample_list_2` with 80 random values.\n",
    "\n",
    "Requirements:\n",
    "\n",
    "* Each value is an integer falling between 0 and 100.\n",
    "* The values in the list don't have to be unique.\n",
    "\n",
    "*Hint: Use a FOR loop.*"
   ]
  },
  {
   "cell_type": "code",
   "execution_count": 50,
   "metadata": {},
   "outputs": [
    {
     "name": "stdout",
     "output_type": "stream",
     "text": [
      "[16, 79, 72, 36, 44, 2, 72, 6, 3, 70, 25, 95, 44, 96, 34, 78, 56, 30, 24, 95, 9, 36, 55, 80, 32, 74, 2, 40, 86, 68, 86, 69, 60, 46, 52, 78, 16, 99, 63, 84, 22, 44, 3, 90, 69, 86, 70, 29, 57, 93, 18, 90, 77, 95, 69, 63, 41, 12, 84, 28, 48, 32, 83, 17, 51, 28, 65, 36, 76, 75, 78, 96, 3, 45, 15, 60, 62, 49, 32, 17]\n"
     ]
    }
   ],
   "source": [
    "sample_list_2 = []\n",
    "for i in range(80):\n",
    "    value = random.randint(0, 100)\n",
    "    sample_list_2.append(value)\n",
    "\n",
    "print(sample_list_2)\n"
   ]
  },
  {
   "cell_type": "markdown",
   "metadata": {},
   "source": [
    "#### 4 - Convert `sample_list_2` to a set called `set2`. Print the length of the set. Is its length still 80?"
   ]
  },
  {
   "cell_type": "code",
   "execution_count": 51,
   "metadata": {},
   "outputs": [
    {
     "name": "stdout",
     "output_type": "stream",
     "text": [
      "The length of set2 is 80\n"
     ]
    }
   ],
   "source": [
    "# Your code here\n",
    "set2 = set(sample_list_2)\n",
    "print(\"The length of set2 is\", len(set1))"
   ]
  },
  {
   "cell_type": "markdown",
   "metadata": {},
   "source": [
    "#### 5 - Identify the elements present in `set1` but not in `set2`. Assign the elements to a new set named `set3`."
   ]
  },
  {
   "cell_type": "code",
   "execution_count": 52,
   "metadata": {},
   "outputs": [
    {
     "name": "stdout",
     "output_type": "stream",
     "text": [
      "{0, 4, 5, 8, 10, 11, 13, 14, 19, 20, 23, 26, 27, 35, 37, 38, 42, 43, 47, 50, 54, 58, 59, 61, 64, 66, 67, 71, 73, 81, 87, 88, 89, 91, 94, 97, 98}\n"
     ]
    }
   ],
   "source": [
    "set3 = set1 - set2\n",
    "print(set3)\n",
    "#If we substract the elements from set2 from set1 we will get the set3 elements"
   ]
  },
  {
   "cell_type": "markdown",
   "metadata": {},
   "source": [
    "#### 6 - Identify the elements present in `set2` but not in `set1`. Assign the elements to a new set named `set4`."
   ]
  },
  {
   "cell_type": "code",
   "execution_count": 53,
   "metadata": {},
   "outputs": [
    {
     "name": "stdout",
     "output_type": "stream",
     "text": [
      "{65, 69, 41, 45, 77, 51, 84, 86, 24, 56}\n"
     ]
    }
   ],
   "source": [
    "set4 = set2 - set1\n",
    "print(set4)\n",
    "#Same as above, but the other way around"
   ]
  },
  {
   "cell_type": "markdown",
   "metadata": {},
   "source": [
    "#### 7 - Now Identify the elements shared between `set1` and `set2`. Assign the elements to a new set named `set5`."
   ]
  },
  {
   "cell_type": "code",
   "execution_count": 54,
   "metadata": {},
   "outputs": [
    {
     "name": "stdout",
     "output_type": "stream",
     "text": [
      "{2, 3, 6, 9, 12, 15, 16, 17, 18, 22, 25, 28, 29, 30, 32, 34, 36, 40, 44, 46, 48, 49, 52, 55, 57, 60, 62, 63, 68, 70, 72, 74, 75, 76, 78, 79, 80, 83, 90, 93, 95, 96, 99}\n"
     ]
    }
   ],
   "source": [
    "set5 = set1 & set2\n",
    "print(set5)\n",
    "#We can use & to intersect both, avoiding repeated values"
   ]
  },
  {
   "cell_type": "markdown",
   "metadata": {},
   "source": [
    "#### 8 - Create an empty set called `set6`."
   ]
  },
  {
   "cell_type": "code",
   "execution_count": 55,
   "metadata": {},
   "outputs": [],
   "source": [
    "set6 = set()"
   ]
  },
  {
   "cell_type": "markdown",
   "metadata": {},
   "source": [
    "#### 9 - Add `set3` and `set5` to `set6` using the Python Set `update` method."
   ]
  },
  {
   "cell_type": "code",
   "execution_count": 56,
   "metadata": {},
   "outputs": [
    {
     "name": "stdout",
     "output_type": "stream",
     "text": [
      "{0, 2, 3, 4, 5, 6, 8, 9, 10, 11, 12, 13, 14, 15, 16, 17, 18, 19, 20, 22, 23, 25, 26, 27, 28, 29, 30, 32, 34, 35, 36, 37, 38, 40, 42, 43, 44, 46, 47, 48, 49, 50, 52, 54, 55, 57, 58, 59, 60, 61, 62, 63, 64, 66, 67, 68, 70, 71, 72, 73, 74, 75, 76, 78, 79, 80, 81, 83, 87, 88, 89, 90, 91, 93, 94, 95, 96, 97, 98, 99}\n"
     ]
    }
   ],
   "source": [
    "set6.update(set3)\n",
    "set6.update(set5)\n",
    "print(set6)"
   ]
  },
  {
   "cell_type": "markdown",
   "metadata": {},
   "source": [
    "#### 10 - Check if `set1` and `set6` are equal."
   ]
  },
  {
   "cell_type": "code",
   "execution_count": 57,
   "metadata": {},
   "outputs": [
    {
     "name": "stdout",
     "output_type": "stream",
     "text": [
      "Equal\n"
     ]
    }
   ],
   "source": [
    "if set1 == set6:\n",
    "    print(\"Equal\")\n",
    "else:\n",
    "    print(\"Not Equal\")\n"
   ]
  },
  {
   "cell_type": "markdown",
   "metadata": {},
   "source": [
    "#### 11 - Check if `set1` contains `set2` using the Python Set `issubset` method. Then check if `set1` contains `set3`.*"
   ]
  },
  {
   "cell_type": "code",
   "execution_count": 58,
   "metadata": {},
   "outputs": [
    {
     "name": "stdout",
     "output_type": "stream",
     "text": [
      "Set1 does not contain Set2\n",
      "Set1 contains Set3\n"
     ]
    }
   ],
   "source": [
    "if set2.issubset(set1):\n",
    "    print(\"Set1 contains Set2\")\n",
    "else:\n",
    "    print(\"Set1 does not contain Set2\")\n",
    "\n",
    "if set3.issubset(set1):\n",
    "    print(\"Set1 contains Set3\")\n",
    "else:\n",
    "    print(\"Set1 does not contain Set3\")"
   ]
  },
  {
   "cell_type": "markdown",
   "metadata": {},
   "source": [
    "#### 12 -Using the Python Set `union` method, aggregate `set3`, `set4`, and `set5`. Then aggregate `set1` and `set2`. \n",
    "\n",
    "#### Check if the aggregated values are equal."
   ]
  },
  {
   "cell_type": "code",
   "execution_count": 59,
   "metadata": {},
   "outputs": [
    {
     "name": "stdout",
     "output_type": "stream",
     "text": [
      "These two sets are equal\n"
     ]
    }
   ],
   "source": [
    "set3_4_5 = set3.union(set4).union(set5)\n",
    "set1_2 = set1.union(set2)\n",
    "\n",
    "if set3_4_5 == set1_2:\n",
    "    print(\"These two sets are equal\")\n",
    "else:\n",
    "    print(\"These two sets are not equal.\")\n"
   ]
  },
  {
   "cell_type": "markdown",
   "metadata": {},
   "source": [
    "#### 13 -Using the `pop` method, remove the first element from `set1`."
   ]
  },
  {
   "cell_type": "code",
   "execution_count": 60,
   "metadata": {},
   "outputs": [
    {
     "data": {
      "text/plain": [
       "0"
      ]
     },
     "execution_count": 60,
     "metadata": {},
     "output_type": "execute_result"
    }
   ],
   "source": [
    "set1.pop()\n"
   ]
  },
  {
   "cell_type": "markdown",
   "metadata": {},
   "source": [
    "#### 14 -Remove every element in the following list from `set1` if they are present in the set. Print the remaining elements.\n",
    "\n",
    "```\n",
    "list_to_remove = [1, 9, 11, 19, 21, 29, 31, 39, 41, 49, 51, 59, 61, 69, 71, 79, 81, 89, 91, 99]\n",
    "```"
   ]
  },
  {
   "cell_type": "code",
   "execution_count": 61,
   "metadata": {},
   "outputs": [
    {
     "name": "stdout",
     "output_type": "stream",
     "text": [
      "{2, 3, 4, 5, 6, 8, 10, 12, 13, 14, 15, 16, 17, 18, 20, 22, 23, 25, 26, 27, 28, 30, 32, 34, 35, 36, 37, 38, 40, 42, 43, 44, 46, 47, 48, 50, 52, 54, 55, 57, 58, 60, 62, 63, 64, 66, 67, 68, 70, 72, 73, 74, 75, 76, 78, 80, 83, 87, 88, 90, 93, 94, 95, 96, 97, 98}\n"
     ]
    }
   ],
   "source": [
    "list_to_remove = [1, 9, 11, 19, 21, 29, 31, 39, 41, 49, 51, 59, 61, 69, 71, 79, 81, 89, 91, 99]\n",
    "\n",
    "for item in list_to_remove:\n",
    "    if item in set1:\n",
    "        set1.remove(item)\n",
    "\n",
    "print(set1)\n"
   ]
  },
  {
   "cell_type": "markdown",
   "metadata": {},
   "source": [
    "#### 15 -The objective of this lab is to provide you a overview of manipulating sets in Python and how they can be integrated within a real usecase\n",
    "#### For the exercises below it's strongly advised to quickly check this link: https://docs.python.org/2/library/sets.html#sets.Set\n",
    "#### Imagine you need to create the grocery list for your family! Below you will see a list of items each family member wants. There will be repetitions because this family has the habbit of each time they notice something is missing to write it down. The problem is that they don't really talk to each other and therefore some items in the list are repeated. With the collection of questions below you will see how they solve repetion and create a grocery list with unique elements.\n",
    "\n"
   ]
  },
  {
   "cell_type": "code",
   "execution_count": 62,
   "metadata": {},
   "outputs": [],
   "source": [
    "father_list = ['garlic', 'watermelon', 'toilet paper', 'yogurt', 'onions', 'gums', 'flour', 'cucumber', 'watermelon', 'yogurt', 'garlic']\n",
    "\n",
    "mother_list = []\n",
    "\n",
    "Jo_list = ['blueberries', 'sugar', 'watermelon', 'gums', 'tomatoes', 'yogurt', 'juice', 'milk', 'onions', 'garlic', 'cucumber', 'sugar', 'blueberries', 'gums', 'yogurt']\n",
    "\n",
    "Carlos_list = ['tomatoes', 'water', 'onions', 'blueberries', 'garlic', 'flour', 'cherries', 'tomatoes', 'onions', 'water', 'tomatoes', 'toilet paper']\n",
    "\n",
    "Mattia_list = []\n",
    "\n",
    "\n"
   ]
  },
  {
   "cell_type": "markdown",
   "metadata": {},
   "source": [
    "#### 15.1- As you can see there are items repeated in each list. Creat a sequence of iterable elements with dintinct items that each family member wants. You can do it in two different ways. Assign each one (set) to a variable with the name of the family member (ex: father_set)."
   ]
  },
  {
   "cell_type": "code",
   "execution_count": 63,
   "metadata": {},
   "outputs": [
    {
     "name": "stdout",
     "output_type": "stream",
     "text": [
      "{'garlic', 'watermelon', 'toilet paper', 'onions', 'yogurt', 'flour', 'cucumber', 'gums'}\n",
      "set()\n",
      "{'sugar', 'garlic', 'tomatoes', 'watermelon', 'blueberries', 'juice', 'yogurt', 'onions', 'milk', 'cucumber', 'gums'}\n",
      "{'garlic', 'cherries', 'tomatoes', 'toilet paper', 'blueberries', 'onions', 'flour', 'water'}\n",
      "set()\n"
     ]
    }
   ],
   "source": [
    "father_set = set(father_list)\n",
    "print(father_set)\n",
    "\n",
    "mother_set = set(mother_list)\n",
    "print(mother_set)\n",
    "\n",
    "Jo_set = set(Jo_list)\n",
    "print(Jo_set)\n",
    "\n",
    "Carlos_set = set(Carlos_list)\n",
    "print(Carlos_set)\n",
    "\n",
    "Mattia_set = set(Mattia_list)\n",
    "print(Mattia_set)"
   ]
  },
  {
   "cell_type": "markdown",
   "metadata": {},
   "source": [
    "#### 15.2- Q: Mattia wants the same items that his brother Carlos and his sister Jo but doesn't want anything they both want.\n",
    "\n",
    "##### Hint: check out the documentation for `x.symmetric_difference(y)`."
   ]
  },
  {
   "cell_type": "code",
   "execution_count": 64,
   "metadata": {},
   "outputs": [
    {
     "name": "stdout",
     "output_type": "stream",
     "text": [
      "{'sugar', 'cherries', 'watermelon', 'toilet paper', 'juice', 'yogurt', 'flour', 'water', 'milk', 'cucumber', 'gums'}\n"
     ]
    }
   ],
   "source": [
    "new_set = Carlos_set.symmetric_difference(Jo_set)\n",
    "Mattia_set = new_set.difference(Carlos_set.intersection(Jo_set))\n",
    "print(Mattia_set)"
   ]
  },
  {
   "cell_type": "markdown",
   "metadata": {},
   "source": [
    "#### 15.3- The line of code below  will  generate a list of random elements from a collection of items, with replacement. Run it and from it create a sequence of unique elements and assign it to the variable mother.\n"
   ]
  },
  {
   "cell_type": "code",
   "execution_count": 65,
   "metadata": {},
   "outputs": [
    {
     "name": "stdout",
     "output_type": "stream",
     "text": [
      "['deodorant', 'yogurt', 'shampoo', 'milk', 'juice', 'juice', 'milk', 'mushrooms', 'yogurt', 'tomatoes']\n"
     ]
    }
   ],
   "source": [
    "import random\n",
    "items = ['milk', 'water', 'chocolate', 'blueberries', 'shampoo', 'flour', 'bread', 'sugar', 'watermelon', 'vinegar', 'tomatoes', 'yogurt', 'juice', 'gums', 'onions', 'garlic', 'cucumber', 'mushrooms', 'toilet paper', 'oranges', 'deodorant', 'cherries']\n",
    "\n",
    "mother_list = random.choices(items,k = 10) # https://docs.python.org/3/library/random.html\n",
    "\n",
    "print(mother_list)"
   ]
  },
  {
   "cell_type": "code",
   "execution_count": 74,
   "metadata": {},
   "outputs": [
    {
     "name": "stdout",
     "output_type": "stream",
     "text": [
      "{'tomatoes', 'juice', 'yogurt', 'milk', 'deodorant', 'shampoo', 'mushrooms'}\n"
     ]
    }
   ],
   "source": [
    "mother_set = set(mother_list)\n",
    "\n",
    "print(mother_set)"
   ]
  },
  {
   "cell_type": "markdown",
   "metadata": {},
   "source": [
    "#### 15.4- Before leaving the house to the grocery store the father found a lot of toilet paper, so the mother decided to remove it from the items needed to be bought. Use the `.discard()` method to remove from each set created before the 'toilet paper'. \n",
    "\n",
    "#### Hint: Try to first create a list contaning the variables of each set created before, then loop through them and remove the unecessary item. \n",
    "\n",
    "##### Note: The`.discard()` method will remove and update the set without the need of reassignment.\n",
    "\n"
   ]
  },
  {
   "cell_type": "code",
   "execution_count": 76,
   "metadata": {},
   "outputs": [],
   "source": [
    "# Collect sets into a list\n",
    "sets_list = [father_set, mother_set, Jo_set, Carlos_set, Mattia_set]"
   ]
  },
  {
   "cell_type": "code",
   "execution_count": 77,
   "metadata": {},
   "outputs": [
    {
     "name": "stdout",
     "output_type": "stream",
     "text": [
      "{'garlic', 'watermelon', 'onions', 'yogurt', 'flour', 'cucumber', 'gums'}\n",
      "{'tomatoes', 'juice', 'yogurt', 'milk', 'deodorant', 'shampoo', 'mushrooms'}\n",
      "{'sugar', 'garlic', 'tomatoes', 'watermelon', 'blueberries', 'juice', 'yogurt', 'onions', 'milk', 'cucumber', 'gums'}\n",
      "{'garlic', 'cherries', 'tomatoes', 'blueberries', 'onions', 'flour', 'water'}\n",
      "{'sugar', 'cherries', 'watermelon', 'juice', 'yogurt', 'flour', 'water', 'milk', 'cucumber', 'gums'}\n"
     ]
    }
   ],
   "source": [
    "# Remove 'toilet paper' from each set\n",
    "for my_set in sets_list:\n",
    "    my_set.discard('toilet paper')\n",
    "\n",
    "# Print the updated sets\n",
    "print(father_set)\n",
    "print(mother_set)\n",
    "print(Jo_set)\n",
    "print(Carlos_set)\n",
    "print(Mattia_set)"
   ]
  },
  {
   "cell_type": "markdown",
   "metadata": {},
   "source": [
    "#### 15.5- Create a set with all the groceries needed to be bought for the house (no repetitions)."
   ]
  },
  {
   "cell_type": "code",
   "execution_count": 79,
   "metadata": {},
   "outputs": [
    {
     "name": "stdout",
     "output_type": "stream",
     "text": [
      "{'tomatoes', 'deodorant', 'shampoo', 'sugar', 'garlic', 'cherries', 'watermelon', 'onions', 'juice', 'yogurt', 'blueberries', 'flour', 'water', 'milk', 'cucumber', 'gums', 'mushrooms'}\n"
     ]
    }
   ],
   "source": [
    "groceries = father_set.union(mother_set, Jo_set, Carlos_set, Mattia_set)\n",
    "print(groceries)"
   ]
  },
  {
   "cell_type": "markdown",
   "metadata": {},
   "source": [
    "#### 15.6- The Father said that he could only buy five items this time. So he decided to arbitraly pick wich ones to buy this time.\n",
    "\n",
    "##### Hint: use the `.pop()` method."
   ]
  },
  {
   "cell_type": "code",
   "execution_count": 80,
   "metadata": {},
   "outputs": [
    {
     "name": "stdout",
     "output_type": "stream",
     "text": [
      "{'sugar', 'garlic', 'tomatoes', 'deodorant', 'shampoo'}\n"
     ]
    }
   ],
   "source": [
    "five_items = set()\n",
    "for i in range(5):\n",
    "    item = groceries.pop()\n",
    "    five_items.add(item)\n",
    "\n",
    "print(five_items)\n"
   ]
  },
  {
   "cell_type": "code",
   "execution_count": null,
   "metadata": {},
   "outputs": [],
   "source": []
  }
 ],
 "metadata": {
  "kernelspec": {
   "display_name": "Python 3",
   "language": "python",
   "name": "python3"
  },
  "language_info": {
   "codemirror_mode": {
    "name": "ipython",
    "version": 3
   },
   "file_extension": ".py",
   "mimetype": "text/x-python",
   "name": "python",
   "nbconvert_exporter": "python",
   "pygments_lexer": "ipython3",
   "version": "3.10.7"
  },
  "vscode": {
   "interpreter": {
    "hash": "721db305ef1fd1fc91cdf20e400af694a949fe540ac5f48c160f31c7e384879d"
   }
  }
 },
 "nbformat": 4,
 "nbformat_minor": 2
}
