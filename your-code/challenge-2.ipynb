{
 "cells": [
  {
   "cell_type": "markdown",
   "metadata": {},
   "source": [
    "## Challenge 2: Sets\n",
    "\n",
    "There are a lot to learn about Python Sets and the information presented in the lesson is limited due to its length. To learn Python Sets in depth you are strongly encouraged to review the W3Schools tutorial on [Python Sets Examples and Methods](https://www.w3schools.com/python/python_sets.asp) before you work on this lab. Some difficult questions in this lab have their solutions in the W3Schools tutorial.\n",
    "\n",
    "#### First, import the Python `random` libary"
   ]
  },
  {
   "cell_type": "code",
   "execution_count": 1,
   "metadata": {},
   "outputs": [],
   "source": [
    "import random"
   ]
  },
  {
   "cell_type": "markdown",
   "metadata": {},
   "source": [
    "#### 1 - In the cell below, create a list named `sample_list_1` with 80 random values. \n",
    "\n",
    "Requirements:\n",
    "\n",
    "* Each value is an integer falling between 0 and 100.\n",
    "* Each value in the list is unique.\n",
    "\n",
    "Print `sample_list_1` to review its values\n",
    "\n",
    "*Hint: use `random.sample` ([reference](https://docs.python.org/3/library/random.html#random.sample)).*"
   ]
  },
  {
   "cell_type": "code",
   "execution_count": 2,
   "metadata": {},
   "outputs": [
    {
     "name": "stdout",
     "output_type": "stream",
     "text": [
      "[6, 84, 50, 63, 2, 36, 89, 31, 61, 48, 58, 4, 90, 13, 55, 39, 23, 44, 64, 78, 51, 62, 7, 79, 19, 41, 32, 70, 34, 65, 22, 0, 27, 28, 94, 80, 59, 18, 24, 21, 40, 92, 5, 43, 82, 37, 25, 97, 57, 99, 60, 76, 11, 15, 3, 93, 33, 52, 35, 38, 29, 98, 95, 16, 75, 66, 74, 77, 88, 72, 69, 96, 85, 56, 81, 9, 10, 26, 87, 71]\n"
     ]
    }
   ],
   "source": [
    "# Your code here\n",
    "\n",
    "sample_list_1 = random.sample(range(0,100), 80)\n",
    "print(sample_list_1)"
   ]
  },
  {
   "cell_type": "markdown",
   "metadata": {},
   "source": [
    "#### 2 - Convert `sample_list_1` to a set called `set1`. Print the length of the set. Is its length still 80?"
   ]
  },
  {
   "cell_type": "code",
   "execution_count": 3,
   "metadata": {},
   "outputs": [
    {
     "data": {
      "text/plain": [
       "80"
      ]
     },
     "execution_count": 3,
     "metadata": {},
     "output_type": "execute_result"
    }
   ],
   "source": [
    "# Your code here\n",
    "set1 = set((sample_list_1))\n",
    "len(set1)"
   ]
  },
  {
   "cell_type": "markdown",
   "metadata": {},
   "source": [
    "#### 3 - Create another list named `sample_list_2` with 80 random values.\n",
    "\n",
    "Requirements:\n",
    "\n",
    "* Each value is an integer falling between 0 and 100.\n",
    "* The values in the list don't have to be unique.\n",
    "\n",
    "*Hint: Use a FOR loop.*"
   ]
  },
  {
   "cell_type": "code",
   "execution_count": 4,
   "metadata": {},
   "outputs": [
    {
     "name": "stdout",
     "output_type": "stream",
     "text": [
      "[28, 59, 74, 89, 4, 79, 47, 0, 6, 4, 49, 79, 70, 88, 72, 75, 20, 51, 97, 33, 81, 24, 10, 16, 70, 1, 17, 54, 77, 30, 11, 96, 27, 17, 31, 5, 53, 42, 46, 11, 33, 80, 16, 72, 23, 8, 32, 11, 84, 85, 31, 82, 20, 94, 61, 82, 89, 92, 86, 68, 53, 71, 32, 99, 6, 33, 30, 91, 85, 41, 26, 78, 25, 44, 81, 24, 59, 0, 83, 94]\n"
     ]
    }
   ],
   "source": [
    "# Your code here\n",
    "#lst2 = [num for num in range(0,100)]\n",
    "sample_list_2 = []  # creating an empty list\n",
    "\n",
    "for i in range(80):   ## specifying how many time to iterate\n",
    "    sample_list_2.append(random.randint(0,100))   # append the random values in empty list\n",
    "print(sample_list_2)\n"
   ]
  },
  {
   "cell_type": "markdown",
   "metadata": {},
   "source": [
    "#### 4 - Convert `sample_list_2` to a set called `set2`. Print the length of the set. Is its length still 80?"
   ]
  },
  {
   "cell_type": "code",
   "execution_count": 5,
   "metadata": {},
   "outputs": [
    {
     "data": {
      "text/plain": [
       "56"
      ]
     },
     "execution_count": 5,
     "metadata": {},
     "output_type": "execute_result"
    }
   ],
   "source": [
    "# Your code here\n",
    "set2 = set((sample_list_2))\n",
    "len(set2)\n",
    "\n",
    "# -->>>> The sample_list_2 doesnot contains unique value so when we convert its in to set. The set length becomes less than its original list. "
   ]
  },
  {
   "cell_type": "markdown",
   "metadata": {},
   "source": [
    "#### 5 - Identify the elements present in `set1` but not in `set2`. Assign the elements to a new set named `set3`."
   ]
  },
  {
   "cell_type": "code",
   "execution_count": 6,
   "metadata": {},
   "outputs": [
    {
     "name": "stdout",
     "output_type": "stream",
     "text": [
      "{2, 3, 7, 9, 13, 15, 18, 19, 21, 22, 29, 34, 35, 36, 37, 38, 39, 40, 43, 48, 50, 52, 55, 56, 57, 58, 60, 62, 63, 64, 65, 66, 69, 76, 87, 90, 93, 95, 98}\n"
     ]
    }
   ],
   "source": [
    "# Your code here\n",
    "set3 = set1.difference(set2)\n",
    "print(set3)"
   ]
  },
  {
   "cell_type": "markdown",
   "metadata": {},
   "source": [
    "#### 6 - Identify the elements present in `set2` but not in `set1`. Assign the elements to a new set named `set4`."
   ]
  },
  {
   "cell_type": "code",
   "execution_count": 7,
   "metadata": {},
   "outputs": [
    {
     "data": {
      "text/plain": [
       "{1, 8, 17, 20, 30, 42, 46, 47, 49, 53, 54, 68, 83, 86, 91}"
      ]
     },
     "execution_count": 7,
     "metadata": {},
     "output_type": "execute_result"
    }
   ],
   "source": [
    "# Your code here\n",
    "set4 = set2.difference(set1)\n",
    "set4"
   ]
  },
  {
   "cell_type": "markdown",
   "metadata": {},
   "source": [
    "#### 7 - Now Identify the elements shared between `set1` and `set2`. Assign the elements to a new set named `set5`."
   ]
  },
  {
   "cell_type": "code",
   "execution_count": 8,
   "metadata": {},
   "outputs": [
    {
     "name": "stdout",
     "output_type": "stream",
     "text": [
      "{0, 4, 5, 6, 10, 11, 16, 23, 24, 25, 26, 27, 28, 31, 32, 33, 41, 44, 51, 59, 61, 70, 71, 72, 74, 75, 77, 78, 79, 80, 81, 82, 84, 85, 88, 89, 92, 94, 96, 97, 99}\n"
     ]
    }
   ],
   "source": [
    "# Your code here\n",
    "set5 = set1.intersection(set2)\n",
    "print(set5)"
   ]
  },
  {
   "cell_type": "markdown",
   "metadata": {},
   "source": [
    "#### 8 - Create an empty set called `set6`."
   ]
  },
  {
   "cell_type": "code",
   "execution_count": 9,
   "metadata": {},
   "outputs": [
    {
     "data": {
      "text/plain": [
       "set"
      ]
     },
     "execution_count": 9,
     "metadata": {},
     "output_type": "execute_result"
    }
   ],
   "source": [
    "# Your code here\n",
    "set6 = set(())\n",
    "type(set6)\n"
   ]
  },
  {
   "cell_type": "markdown",
   "metadata": {},
   "source": [
    "#### 9 - Add `set3` and `set5` to `set6` using the Python Set `update` method."
   ]
  },
  {
   "cell_type": "code",
   "execution_count": 10,
   "metadata": {},
   "outputs": [
    {
     "name": "stdout",
     "output_type": "stream",
     "text": [
      "{0, 2, 3, 4, 5, 6, 7, 9, 10, 11, 13, 15, 16, 18, 19, 21, 22, 23, 24, 25, 26, 27, 28, 29, 31, 32, 33, 34, 35, 36, 37, 38, 39, 40, 41, 43, 44, 48, 50, 51, 52, 55, 56, 57, 58, 59, 60, 61, 62, 63, 64, 65, 66, 69, 70, 71, 72, 74, 75, 76, 77, 78, 79, 80, 81, 82, 84, 85, 87, 88, 89, 90, 92, 93, 94, 95, 96, 97, 98, 99}\n"
     ]
    }
   ],
   "source": [
    "# Your code here\n",
    "set6.update((set3))\n",
    "set6.update((set5))\n",
    "print(set6)\n",
    "\n"
   ]
  },
  {
   "cell_type": "markdown",
   "metadata": {},
   "source": [
    "#### 10 - Check if `set1` and `set6` are equal."
   ]
  },
  {
   "cell_type": "code",
   "execution_count": 11,
   "metadata": {},
   "outputs": [
    {
     "data": {
      "text/plain": [
       "set()"
      ]
     },
     "execution_count": 11,
     "metadata": {},
     "output_type": "execute_result"
    }
   ],
   "source": [
    "# Your code here\n",
    "set1.difference(set6)\n",
    "# Both set are equal"
   ]
  },
  {
   "cell_type": "markdown",
   "metadata": {},
   "source": [
    "#### 11 - Check if `set1` contains `set2` using the Python Set `issubset` method. Then check if `set1` contains `set3`.*"
   ]
  },
  {
   "cell_type": "code",
   "execution_count": 12,
   "metadata": {},
   "outputs": [
    {
     "name": "stdout",
     "output_type": "stream",
     "text": [
      "False\n",
      "True\n"
     ]
    }
   ],
   "source": [
    "# Your code here\n",
    "print(set2.issubset(set1))\n",
    "print(set3.issubset(set1))\n"
   ]
  },
  {
   "cell_type": "markdown",
   "metadata": {},
   "source": [
    "#### 12 -Using the Python Set `union` method, aggregate `set3`, `set4`, and `set5`. Then aggregate `set1` and `set2`. \n",
    "\n",
    "#### Check if the aggregated values are equal."
   ]
  },
  {
   "cell_type": "code",
   "execution_count": 13,
   "metadata": {},
   "outputs": [
    {
     "name": "stdout",
     "output_type": "stream",
     "text": [
      "{0, 1, 2, 3, 4, 5, 6, 7, 8, 9, 10, 11, 13, 15, 16, 17, 18, 19, 20, 21, 22, 23, 24, 25, 26, 27, 28, 29, 30, 31, 32, 33, 34, 35, 36, 37, 38, 39, 40, 41, 42, 43, 44, 46, 47, 48, 49, 50, 51, 52, 53, 54, 55, 56, 57, 58, 59, 60, 61, 62, 63, 64, 65, 66, 68, 69, 70, 71, 72, 74, 75, 76, 77, 78, 79, 80, 81, 82, 83, 84, 85, 86, 87, 88, 89, 90, 91, 92, 93, 94, 95, 96, 97, 98, 99}\n",
      "{0, 1, 2, 3, 4, 5, 6, 7, 8, 9, 10, 11, 13, 15, 16, 17, 18, 19, 20, 21, 22, 23, 24, 25, 26, 27, 28, 29, 30, 31, 32, 33, 34, 35, 36, 37, 38, 39, 40, 41, 42, 43, 44, 46, 47, 48, 49, 50, 51, 52, 53, 54, 55, 56, 57, 58, 59, 60, 61, 62, 63, 64, 65, 66, 68, 69, 70, 71, 72, 74, 75, 76, 77, 78, 79, 80, 81, 82, 83, 84, 85, 86, 87, 88, 89, 90, 91, 92, 93, 94, 95, 96, 97, 98, 99}\n",
      "True\n"
     ]
    }
   ],
   "source": [
    "# Your code here : ->>> using set union and  boolean operator\n",
    "print((set3.union(set4,set5)))\n",
    "print((set1.union(set2)))\n",
    "print((set3.union(set4,set5)) == (set1.union(set2)))"
   ]
  },
  {
   "cell_type": "markdown",
   "metadata": {},
   "source": [
    "#### 13 -Using the `pop` method, remove the first element from `set1`."
   ]
  },
  {
   "cell_type": "code",
   "execution_count": 14,
   "metadata": {},
   "outputs": [
    {
     "data": {
      "text/plain": [
       "{2,\n",
       " 3,\n",
       " 4,\n",
       " 5,\n",
       " 6,\n",
       " 7,\n",
       " 9,\n",
       " 10,\n",
       " 11,\n",
       " 13,\n",
       " 15,\n",
       " 16,\n",
       " 18,\n",
       " 19,\n",
       " 21,\n",
       " 22,\n",
       " 23,\n",
       " 24,\n",
       " 25,\n",
       " 26,\n",
       " 27,\n",
       " 28,\n",
       " 29,\n",
       " 31,\n",
       " 32,\n",
       " 33,\n",
       " 34,\n",
       " 35,\n",
       " 36,\n",
       " 37,\n",
       " 38,\n",
       " 39,\n",
       " 40,\n",
       " 41,\n",
       " 43,\n",
       " 44,\n",
       " 48,\n",
       " 50,\n",
       " 51,\n",
       " 52,\n",
       " 55,\n",
       " 56,\n",
       " 57,\n",
       " 58,\n",
       " 59,\n",
       " 60,\n",
       " 61,\n",
       " 62,\n",
       " 63,\n",
       " 64,\n",
       " 65,\n",
       " 66,\n",
       " 69,\n",
       " 70,\n",
       " 71,\n",
       " 72,\n",
       " 74,\n",
       " 75,\n",
       " 76,\n",
       " 77,\n",
       " 78,\n",
       " 79,\n",
       " 80,\n",
       " 81,\n",
       " 82,\n",
       " 84,\n",
       " 85,\n",
       " 87,\n",
       " 88,\n",
       " 89,\n",
       " 90,\n",
       " 92,\n",
       " 93,\n",
       " 94,\n",
       " 95,\n",
       " 96,\n",
       " 97,\n",
       " 98,\n",
       " 99}"
      ]
     },
     "execution_count": 14,
     "metadata": {},
     "output_type": "execute_result"
    }
   ],
   "source": [
    "# Your code here\n",
    "# since set's are unordered and pop methon will remove any element from set. \n",
    "# To remove specific item using pop method we can convert set in to list and pop the first item and again convert into set. \n",
    "lst = list(set1)\n",
    "lst.pop(0)\n",
    "set1 = set(lst)\n",
    "set1"
   ]
  },
  {
   "cell_type": "markdown",
   "metadata": {},
   "source": [
    "#### 14 -Remove every element in the following list from `set1` if they are present in the set. Print the remaining elements.\n",
    "\n",
    "```\n",
    "list_to_remove = [1, 9, 11, 19, 21, 29, 31, 39, 41, 49, 51, 59, 61, 69, 71, 79, 81, 89, 91, 99]\n",
    "```"
   ]
  },
  {
   "cell_type": "code",
   "execution_count": 15,
   "metadata": {},
   "outputs": [
    {
     "ename": "KeyError",
     "evalue": "1",
     "output_type": "error",
     "traceback": [
      "\u001b[1;31m---------------------------------------------------------------------------\u001b[0m",
      "\u001b[1;31mKeyError\u001b[0m                                  Traceback (most recent call last)",
      "\u001b[1;32m~\\AppData\\Local\\Temp\\ipykernel_27440\\2456564552.py\u001b[0m in \u001b[0;36m<module>\u001b[1;34m\u001b[0m\n\u001b[0;32m      3\u001b[0m \u001b[1;31m# Alternative to remove we can use \"discard\" which will remove the item if it is in the set without causing any error.\u001b[0m\u001b[1;33m\u001b[0m\u001b[1;33m\u001b[0m\u001b[0m\n\u001b[0;32m      4\u001b[0m \u001b[1;32mfor\u001b[0m \u001b[0melem\u001b[0m \u001b[1;32min\u001b[0m \u001b[0mlist_to_remove\u001b[0m\u001b[1;33m:\u001b[0m\u001b[1;33m\u001b[0m\u001b[1;33m\u001b[0m\u001b[0m\n\u001b[1;32m----> 5\u001b[1;33m     \u001b[0mset1\u001b[0m\u001b[1;33m.\u001b[0m\u001b[0mremove\u001b[0m\u001b[1;33m(\u001b[0m\u001b[0melem\u001b[0m\u001b[1;33m)\u001b[0m\u001b[1;33m\u001b[0m\u001b[1;33m\u001b[0m\u001b[0m\n\u001b[0m\u001b[0;32m      6\u001b[0m \u001b[0mprint\u001b[0m\u001b[1;33m(\u001b[0m\u001b[0mset1\u001b[0m\u001b[1;33m)\u001b[0m\u001b[1;33m\u001b[0m\u001b[1;33m\u001b[0m\u001b[0m\n",
      "\u001b[1;31mKeyError\u001b[0m: 1"
     ]
    }
   ],
   "source": [
    "list_to_remove = [1,9,11,19,21,29,31,39,41,49,51,59,61,69,71,79,81,89,91,99]\n",
    "# To remove specific item form set we can use \"remove\" but if the items is not in the list it will cause error. \n",
    "# Alternative to remove we can use \"discard\" which will remove the item if it is in the set without causing any error. \n",
    "for elem in list_to_remove:\n",
    "    set1.remove(elem)\n",
    "print(set1)"
   ]
  },
  {
   "cell_type": "code",
   "execution_count": 16,
   "metadata": {},
   "outputs": [
    {
     "name": "stdout",
     "output_type": "stream",
     "text": [
      "{2, 3, 4, 5, 6, 7, 10, 13, 15, 16, 18, 22, 23, 24, 25, 26, 27, 28, 32, 33, 34, 35, 36, 37, 38, 40, 43, 44, 48, 50, 52, 55, 56, 57, 58, 60, 62, 63, 64, 65, 66, 70, 72, 74, 75, 76, 77, 78, 80, 82, 84, 85, 87, 88, 90, 92, 93, 94, 95, 96, 97, 98}\n"
     ]
    }
   ],
   "source": [
    "# Your code here\n",
    "for elem in list_to_remove:\n",
    "    set1.discard(elem)\n",
    "print(set1)"
   ]
  },
  {
   "cell_type": "markdown",
   "metadata": {},
   "source": [
    "#### 15 -The objective of this lab is to provide you a overview of manipulating sets in Python and how they can be integrated within a real usecase\n",
    "#### For the exercises below it's strongly advised to quickly check this link: https://docs.python.org/2/library/sets.html#sets.Set\n",
    "#### Imagine you need to create the grocery list for your family! Below you will see a list of items each family member wants. There will be repetitions because this family has the habbit of each time they notice something is missing to write it down. The problem is that they don't really talk to each other and therefore some items in the list are repeated. With the collection of questions below you will see how they solve repetion and create a grocery list with unique elements.\n",
    "\n"
   ]
  },
  {
   "cell_type": "code",
   "execution_count": 17,
   "metadata": {},
   "outputs": [],
   "source": [
    "father_list = ['garlic', 'watermelon', 'toilet paper', 'yogurt', 'onions', 'gums', 'flour', 'cucumber', 'watermelon', 'yogurt', 'garlic']\n",
    "\n",
    "mother_list = []\n",
    "\n",
    "Jo_list = ['blueberries', 'sugar', 'watermelon', 'gums', 'tomatoes', 'yogurt', 'juice', 'milk', 'onions', 'garlic', 'cucumber', 'sugar', 'blueberries', 'gums', 'yogurt']\n",
    "\n",
    "Carlos_list = ['tomatoes', 'water', 'onions', 'blueberries', 'garlic', 'flour', 'cherries', 'tomatoes', 'onions', 'water', 'tomatoes', 'toilet paper']\n",
    "\n",
    "Mattia_list = []\n",
    "\n",
    "\n"
   ]
  },
  {
   "cell_type": "markdown",
   "metadata": {},
   "source": [
    "#### 15.1- As you can see there are items repeated in each list. Creat a sequence of iterable elements with dintinct items that each family member wants. You can do it in two different ways. Assign each one (set) to a variable with the name of the family member (ex: father_set)."
   ]
  },
  {
   "cell_type": "code",
   "execution_count": 18,
   "metadata": {},
   "outputs": [],
   "source": [
    "# Your code here\n",
    "father_set = set(father_list)\n",
    "mother_set = set(mother_list)\n",
    "Jo_set = set(Jo_list)\n",
    "Carlos_set = set(Carlos_list)\n",
    "Mattia_set = set(Mattia_list)"
   ]
  },
  {
   "cell_type": "markdown",
   "metadata": {},
   "source": [
    "#### 15.2- Q: Mattia wants the same items that his brother Carlos and his sister Jo but doesn't want anything they both want.\n",
    "\n",
    "##### Hint: check out the documentation for `x.symmetric_difference(y)`."
   ]
  },
  {
   "cell_type": "code",
   "execution_count": 19,
   "metadata": {},
   "outputs": [
    {
     "name": "stdout",
     "output_type": "stream",
     "text": [
      "{'yogurt', 'cucumber', 'watermelon', 'juice', 'flour', 'sugar', 'water', 'cherries', 'toilet paper', 'gums', 'milk'}\n"
     ]
    }
   ],
   "source": [
    "# Your code here\n",
    "Mattia_set = Carlos_set.symmetric_difference(Jo_set)\n",
    "print(Mattia_set)"
   ]
  },
  {
   "cell_type": "markdown",
   "metadata": {},
   "source": [
    "#### 15.3- The line of code below  will  generate a list of random elements from a collection of items, with replacement. Run it and from it create a sequence of unique elements and assign it to the variable mother.\n"
   ]
  },
  {
   "cell_type": "code",
   "execution_count": 20,
   "metadata": {},
   "outputs": [
    {
     "name": "stdout",
     "output_type": "stream",
     "text": [
      "['bread', 'garlic', 'mushrooms', 'tomatoes', 'deodorant', 'blueberries', 'flour', 'juice', 'yogurt', 'vinegar']\n"
     ]
    }
   ],
   "source": [
    "import random\n",
    "items = ['milk', 'water', 'chocolate', 'blueberries', 'shampoo', 'flour', 'bread', 'sugar', 'watermelon', 'vinegar', 'tomatoes', 'yogurt', 'juice', 'gums', 'onions', 'garlic', 'cucumber', 'mushrooms', 'toilet paper', 'oranges', 'deodorant', 'cherries']\n",
    "\n",
    "mother_list = random.choices(items,k = 10) # https://docs.python.org/3/library/random.html\n",
    "\n",
    "print(mother_list)"
   ]
  },
  {
   "cell_type": "code",
   "execution_count": 21,
   "metadata": {},
   "outputs": [
    {
     "name": "stdout",
     "output_type": "stream",
     "text": [
      "{'blueberries', 'tomatoes', 'garlic', 'yogurt', 'juice', 'vinegar', 'flour', 'deodorant', 'mushrooms', 'bread'}\n"
     ]
    }
   ],
   "source": [
    "# Your code here\n",
    "mother_set = set(mother_list)\n",
    "print(mother_set)"
   ]
  },
  {
   "cell_type": "markdown",
   "metadata": {},
   "source": [
    "#### 15.4- Before leaving the house to the grocery store the father found a lot of toilet paper, so the mother decided to remove it from the items needed to be bought. Use the `.discard()` method to remove from each set created before the 'toilet paper'. \n",
    "\n",
    "#### Hint: Try to first create a list contaning the variables of each set created before, then loop through them and remove the unecessary item. \n",
    "\n",
    "##### Note: The`.discard()` method will remove and update the set without the need of reassignment.\n",
    "\n"
   ]
  },
  {
   "cell_type": "code",
   "execution_count": 22,
   "metadata": {},
   "outputs": [
    {
     "name": "stdout",
     "output_type": "stream",
     "text": [
      "{'yogurt', 'garlic', 'cucumber', 'watermelon', 'onions', 'flour', 'gums'}\n",
      "{'blueberries', 'tomatoes', 'garlic', 'yogurt', 'juice', 'vinegar', 'flour', 'deodorant', 'mushrooms', 'bread'}\n",
      "{'blueberries', 'tomatoes', 'yogurt', 'garlic', 'cucumber', 'watermelon', 'juice', 'onions', 'sugar', 'gums', 'milk'}\n",
      "{'blueberries', 'tomatoes', 'garlic', 'onions', 'flour', 'water', 'cherries'}\n",
      "{'yogurt', 'cucumber', 'watermelon', 'juice', 'flour', 'sugar', 'water', 'cherries', 'gums', 'milk'}\n"
     ]
    }
   ],
   "source": [
    "# Your code here\n",
    "list_variable = [father_set, mother_set, Jo_set, Carlos_set, Mattia_set]\n",
    "for lst in list_variable:\n",
    "    lst.discard(\"toilet paper\")\n",
    "\n",
    "print(father_set)\n",
    "print(mother_set)\n",
    "print(Jo_set)\n",
    "print(Carlos_set)\n",
    "print(Mattia_set)\n"
   ]
  },
  {
   "cell_type": "markdown",
   "metadata": {},
   "source": [
    "#### 15.5- Create a set with all the groceries needed to be bought for the house (no repetitions)."
   ]
  },
  {
   "cell_type": "code",
   "execution_count": 23,
   "metadata": {},
   "outputs": [
    {
     "name": "stdout",
     "output_type": "stream",
     "text": [
      "{'yogurt', 'blueberries', 'garlic', 'watermelon', 'juice', 'vinegar', 'water', 'gums', 'milk', 'bread', 'tomatoes', 'cucumber', 'onions', 'flour', 'sugar', 'deodorant', 'mushrooms', 'cherries'}\n"
     ]
    }
   ],
   "source": [
    "# Your code here\n",
    "house_list = set.union(father_set, mother_set, Jo_set, Carlos_set, Mattia_set)\n",
    "print(house_list)"
   ]
  },
  {
   "cell_type": "markdown",
   "metadata": {},
   "source": [
    "#### 15.6- The Father said that he could only buy five items this time. So he decided to arbitraly pick wich ones to buy this time.\n",
    "\n",
    "##### Hint: use the `.pop()` method."
   ]
  },
  {
   "cell_type": "code",
   "execution_count": 219,
   "metadata": {},
   "outputs": [
    {
     "name": "stdout",
     "output_type": "stream",
     "text": [
      "['yogurt', 'deodorant', 'cherries', 'gums', 'blueberries']\n"
     ]
    }
   ],
   "source": [
    "# Your code here\n",
    "buy_items = []\n",
    "for i in range(5):\n",
    "    item = house_list.pop()\n",
    "    buy_items.append(item)\n",
    "print(buy_items)"
   ]
  }
 ],
 "metadata": {
  "kernelspec": {
   "display_name": "Python 3 (ipykernel)",
   "language": "python",
   "name": "python3"
  },
  "language_info": {
   "codemirror_mode": {
    "name": "ipython",
    "version": 3
   },
   "file_extension": ".py",
   "mimetype": "text/x-python",
   "name": "python",
   "nbconvert_exporter": "python",
   "pygments_lexer": "ipython3",
   "version": "3.9.13"
  }
 },
 "nbformat": 4,
 "nbformat_minor": 2
}
