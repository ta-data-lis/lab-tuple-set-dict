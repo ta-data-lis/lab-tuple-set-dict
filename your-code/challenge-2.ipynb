{
 "cells": [
  {
   "cell_type": "markdown",
   "metadata": {},
   "source": [
    "## Challenge 2: Sets\n",
    "\n",
    "There are a lot to learn about Python Sets and the information presented in the lesson is limited due to its length. To learn Python Sets in depth you are strongly encouraged to review the W3Schools tutorial on [Python Sets Examples and Methods](https://www.w3schools.com/python/python_sets.asp) before you work on this lab. Some difficult questions in this lab have their solutions in the W3Schools tutorial.\n",
    "\n",
    "#### First, import the Python `random` libary"
   ]
  },
  {
   "cell_type": "code",
   "execution_count": 1,
   "metadata": {},
   "outputs": [],
   "source": [
    "import random"
   ]
  },
  {
   "cell_type": "markdown",
   "metadata": {},
   "source": [
    "#### In the cell below, create a list named `sample_list_1` with 80 random values. \n",
    "\n",
    "Requirements:\n",
    "\n",
    "* Each value is an integer falling between 0 and 100.\n",
    "* Each value in the list is unique.\n",
    "\n",
    "Print `sample_list_1` to review its values\n",
    "\n",
    "*Hint: use `random.sample` ([reference](https://docs.python.org/3/library/random.html#random.sample)).*"
   ]
  },
  {
   "cell_type": "code",
   "execution_count": 87,
   "metadata": {},
   "outputs": [
    {
     "data": {
      "text/plain": [
       "[94,\n",
       " 86,\n",
       " 93,\n",
       " 73,\n",
       " 12,\n",
       " 22,\n",
       " 46,\n",
       " 75,\n",
       " 69,\n",
       " 37,\n",
       " 32,\n",
       " 11,\n",
       " 65,\n",
       " 77,\n",
       " 57,\n",
       " 40,\n",
       " 74,\n",
       " 16,\n",
       " 84,\n",
       " 58,\n",
       " 47,\n",
       " 51,\n",
       " 67,\n",
       " 45,\n",
       " 36,\n",
       " 25,\n",
       " 15,\n",
       " 59,\n",
       " 30,\n",
       " 71,\n",
       " 27,\n",
       " 54,\n",
       " 26,\n",
       " 98,\n",
       " 17,\n",
       " 91,\n",
       " 28,\n",
       " 18,\n",
       " 39,\n",
       " 70,\n",
       " 63,\n",
       " 97,\n",
       " 87,\n",
       " 52,\n",
       " 80,\n",
       " 8,\n",
       " 0,\n",
       " 29,\n",
       " 92,\n",
       " 4,\n",
       " 43,\n",
       " 3,\n",
       " 13,\n",
       " 82,\n",
       " 62,\n",
       " 7,\n",
       " 72,\n",
       " 49,\n",
       " 76,\n",
       " 99,\n",
       " 42,\n",
       " 56,\n",
       " 61,\n",
       " 34,\n",
       " 9,\n",
       " 50,\n",
       " 35,\n",
       " 68,\n",
       " 10,\n",
       " 23,\n",
       " 31,\n",
       " 55,\n",
       " 2,\n",
       " 20,\n",
       " 24,\n",
       " 33,\n",
       " 44,\n",
       " 64,\n",
       " 83,\n",
       " 5]"
      ]
     },
     "execution_count": 87,
     "metadata": {},
     "output_type": "execute_result"
    }
   ],
   "source": [
    "# Your code here\n",
    "import random\n",
    "\n",
    "sample_list_1= random.sample(range(100), k=80)\n",
    "\n",
    "sample_list_1"
   ]
  },
  {
   "cell_type": "markdown",
   "metadata": {},
   "source": [
    "#### Convert `sample_list_1` to a set called `set1`. Print the length of the set. Is its length still 80?"
   ]
  },
  {
   "cell_type": "code",
   "execution_count": 172,
   "metadata": {},
   "outputs": [
    {
     "name": "stdout",
     "output_type": "stream",
     "text": [
      "{1, 2, 3, 4, 5, 6, 7, 8, 9, 10, 11, 12, 13, 14, 15, 16, 17, 18, 19, 20, 21, 22, 23, 25, 27, 28, 30, 31, 35, 36, 37, 38, 39, 40, 41, 42, 45, 46, 47, 48, 49, 50, 52, 53, 55, 58, 59, 60, 62, 63, 65, 67, 68, 69, 70, 71, 72, 73, 75, 76, 77, 78, 79, 80, 81, 82, 83, 84, 86, 87, 88, 89, 90, 91, 92, 93, 94, 96, 97, 98}\n",
      "80\n"
     ]
    }
   ],
   "source": [
    "# Your code here\n",
    "\n",
    "import random\n",
    "\n",
    "sample_list_1= set(random.sample(range(100), k=80))\n",
    "\n",
    "set1=sample_list_1\n",
    "print(set1)\n",
    "print(len(set1))"
   ]
  },
  {
   "cell_type": "markdown",
   "metadata": {},
   "source": [
    "#### Create another list named `sample_list_2` with 80 random values.\n",
    "\n",
    "Requirements:\n",
    "\n",
    "* Each value is an integer falling between 0 and 100.\n",
    "* The values in the list don't have to be unique.\n",
    "\n",
    "*Hint: Use a FOR loop.*"
   ]
  },
  {
   "cell_type": "code",
   "execution_count": 181,
   "metadata": {},
   "outputs": [
    {
     "name": "stdout",
     "output_type": "stream",
     "text": [
      "[96, 27, 76, 1, 59, 35, 76, 31, 61, 28, 36, 85, 51, 16, 78, 57, 76, 62, 96, 13, 18, 12, 95, 69, 69, 42, 18, 29, 47, 43, 2, 20, 29, 23, 26, 25, 29, 0, 27, 54, 62, 75, 34, 87, 13, 37, 2, 39, 67, 76, 9, 30, 25, 81, 25, 73, 55, 4, 55, 18, 63, 100, 22, 75, 61, 26, 86, 87, 0, 59, 85, 36, 61, 14, 19, 71, 11, 4, 67, 59]\n"
     ]
    }
   ],
   "source": [
    "# Your code here\n",
    "\n",
    "import random\n",
    "   \n",
    "sample_list_2= [random.choice(range(101)) for i in range(80)]\n",
    "print(sample_list_2)\n",
    "\n",
    "#sample_list_2=[]\n",
    "\n",
    "#for n in range(100):\n",
    "#   sample_list_2.append(random.choice(range(1,80)))\n",
    "    \n",
    "#print(set(sample_list_2))\n"
   ]
  },
  {
   "cell_type": "markdown",
   "metadata": {},
   "source": [
    "#### Convert `sample_list_2` to a set called `set2`. Print the length of the set. Is its length still 80?"
   ]
  },
  {
   "cell_type": "code",
   "execution_count": 182,
   "metadata": {},
   "outputs": [
    {
     "name": "stdout",
     "output_type": "stream",
     "text": [
      "52\n"
     ]
    }
   ],
   "source": [
    "# Your code here\n",
    "\n",
    "set2= set(sample_list_2)\n",
    "\n",
    "print(len(set2))"
   ]
  },
  {
   "cell_type": "markdown",
   "metadata": {},
   "source": [
    "#### Identify the elements present in `set1` but not in `set2`. Assign the elements to a new set named `set3`."
   ]
  },
  {
   "cell_type": "code",
   "execution_count": 183,
   "metadata": {},
   "outputs": [
    {
     "name": "stdout",
     "output_type": "stream",
     "text": [
      "{66, 3, 98, 70, 7, 8, 77, 46, 15, 80, 82, 83, 52, 24, 90, 92}\n",
      "16\n"
     ]
    }
   ],
   "source": [
    "# Your code here\n",
    "\n",
    "\n",
    "set3=[]\n",
    "\n",
    "for i in set1:\n",
    "    if i not in set2:\n",
    "        set3.append(i)\n",
    "print(set(set3))\n",
    "\n",
    "print(len(set3))"
   ]
  },
  {
   "cell_type": "markdown",
   "metadata": {},
   "source": [
    "#### Identify the elements present in `set2` but not in `set1`. Assign the elements to a new set named `set4`."
   ]
  },
  {
   "cell_type": "code",
   "execution_count": 184,
   "metadata": {},
   "outputs": [
    {
     "name": "stdout",
     "output_type": "stream",
     "text": [
      "{0, 1, 2, 14, 16, 26, 27, 29, 30, 34, 35, 36, 37, 39, 43, 47, 51, 54, 55, 57, 59, 61, 62, 63, 69, 71, 73, 75, 76, 78, 81, 85, 95, 100}\n",
      "34\n"
     ]
    }
   ],
   "source": [
    "# Your code here\n",
    "\n",
    "set4=[]\n",
    "for i in set2:\n",
    "    if i not in set1:\n",
    "        set4.append(i)\n",
    "print(set(set4))\n",
    "print(len(set4))"
   ]
  },
  {
   "cell_type": "markdown",
   "metadata": {},
   "source": [
    "#### Now Identify the elements shared between `set1` and `set2`. Assign the elements to a new set named `set5`."
   ]
  },
  {
   "cell_type": "code",
   "execution_count": 185,
   "metadata": {},
   "outputs": [
    {
     "name": "stdout",
     "output_type": "stream",
     "text": [
      "{96, 67, 4, 9, 42, 11, 12, 13, 18, 19, 20, 22, 23, 86, 25, 87, 28, 31}\n",
      "18\n"
     ]
    }
   ],
   "source": [
    "# Your code here\n",
    "\n",
    "set5=[]\n",
    "\n",
    "for i in set1:\n",
    "    if i in set2:\n",
    "        set5.append(i)\n",
    "print(set(set5))\n",
    "print(len(set5))\n",
    "\n",
    "\n",
    "\n"
   ]
  },
  {
   "cell_type": "markdown",
   "metadata": {},
   "source": [
    "#### What is the relationship among the following values:\n",
    "\n",
    "* len(set1)\n",
    "* len(set2)\n",
    "* len(set3)\n",
    "* len(set4)\n",
    "* len(set5)\n",
    "\n",
    "Use a math formular to represent that relationship. Test your formular with Python code."
   ]
  },
  {
   "cell_type": "code",
   "execution_count": 193,
   "metadata": {},
   "outputs": [
    {
     "name": "stdout",
     "output_type": "stream",
     "text": [
      "80\n",
      "52\n",
      "16\n",
      "34\n",
      "18\n"
     ]
    }
   ],
   "source": [
    "# Your code here\n",
    "\n",
    "len_set1= 80\n",
    "len_set2= 52\n",
    "len_set3= 16\n",
    "len_set4= 34\n",
    "len_set5= 18\n",
    "\n",
    "len_set1== len_set3+len_set5\n",
    "print(len_set1)\n",
    "\n",
    "len_set2== len_set4+len_set5\n",
    "print(len_set2)\n",
    "\n",
    "len_set3== len_set1 - len_set5\n",
    "print(len_set3)\n",
    "\n",
    "len_set4== len_set2 - len_set5\n",
    "print(len_set4)\n",
    "\n",
    "len_set5== len_set1 - len_set2\n",
    "print(len_set5)\n",
    "\n",
    "\n",
    "\n",
    "\n"
   ]
  },
  {
   "cell_type": "markdown",
   "metadata": {},
   "source": [
    "#### Create an empty set called `set6`."
   ]
  },
  {
   "cell_type": "code",
   "execution_count": 94,
   "metadata": {},
   "outputs": [],
   "source": [
    "# Your code here\n",
    "set6 = set()\n"
   ]
  },
  {
   "cell_type": "markdown",
   "metadata": {},
   "source": [
    "#### Add `set3` and `set5` to `set6` using the Python Set `update` method."
   ]
  },
  {
   "cell_type": "code",
   "execution_count": 152,
   "metadata": {},
   "outputs": [
    {
     "name": "stdout",
     "output_type": "stream",
     "text": [
      "{0, 1, 2, 3, 4, 5, 6, 7, 8, 9, 10, 11, 12, 13, 14, 15, 16, 17, 18, 19, 20, 21, 22, 23, 24, 26, 27, 29, 31, 32, 33, 36, 37, 38, 39, 40, 42, 43, 44, 45, 46, 47, 48, 50, 51, 54, 55, 56, 57, 58, 59, 63, 64, 65, 66, 67, 68, 69, 73, 74, 75, 76, 77, 79, 80, 81, 82, 83, 84, 87, 88, 89, 90, 91, 92, 93, 94, 95, 96, 97}\n"
     ]
    }
   ],
   "source": [
    "# Your code here\n",
    "\n",
    "set6.update(set3,set5)\n",
    "print(set6)"
   ]
  },
  {
   "cell_type": "markdown",
   "metadata": {},
   "source": [
    "#### Check if `set1` and `set6` are equal."
   ]
  },
  {
   "cell_type": "code",
   "execution_count": 142,
   "metadata": {},
   "outputs": [
    {
     "name": "stdout",
     "output_type": "stream",
     "text": [
      "{0, 1, 2, 3, 4, 5, 6, 7, 8, 9, 10, 11, 12, 13, 14, 15, 16, 17, 18, 19, 20, 21, 22, 23, 24, 26, 27, 29, 31, 32, 33, 36, 37, 38, 39, 40, 42, 43, 44, 45, 46, 47, 48, 50, 51, 54, 55, 56, 57, 58, 59, 63, 64, 65, 66, 67, 68, 69, 73, 74, 75, 76, 77, 79, 80, 81, 82, 83, 84, 87, 88, 89, 90, 91, 92, 93, 94, 95, 96, 97}\n",
      "{0, 1, 2, 3, 4, 5, 6, 7, 8, 9, 10, 11, 12, 13, 14, 15, 16, 17, 18, 19, 20, 21, 22, 23, 24, 26, 27, 29, 31, 32, 33, 36, 37, 38, 39, 40, 42, 43, 44, 45, 46, 47, 48, 50, 51, 54, 55, 56, 57, 58, 59, 63, 64, 65, 66, 67, 68, 69, 73, 74, 75, 76, 77, 79, 80, 81, 82, 83, 84, 87, 88, 89, 90, 91, 92, 93, 94, 95, 96, 97}\n",
      "{0, 1, 2, 3, 4, 5, 6, 7, 8, 9, 10, 11, 12, 13, 14, 15, 16, 17, 18, 19, 20, 21, 22, 23, 24, 26, 27, 29, 31, 32, 33, 36, 37, 38, 39, 40, 42, 43, 44, 45, 46, 47, 48, 50, 51, 54, 55, 56, 57, 58, 59, 63, 64, 65, 66, 67, 68, 69, 73, 74, 75, 76, 77, 79, 80, 81, 82, 83, 84, 87, 88, 89, 90, 91, 92, 93, 94, 95, 96, 97}\n",
      "they are equals!\n"
     ]
    }
   ],
   "source": [
    "# Your code here\n",
    "\n",
    "print(set1)\n",
    "\n",
    "print(set6)\n",
    "\n",
    "are_equals=set.intersection(set1,set6)\n",
    "print(are_equals)\n",
    "\n",
    "if set1==set6:\n",
    "    print(\"they are equals!\")\n",
    "            \n",
    "#how to print only one time?\n"
   ]
  },
  {
   "cell_type": "markdown",
   "metadata": {},
   "source": [
    "#### Check if `set1` contains `set2` using the Python Set `issubset` method. Then check if `set1` contains `set3`.*"
   ]
  },
  {
   "cell_type": "code",
   "execution_count": 171,
   "metadata": {},
   "outputs": [
    {
     "name": "stdout",
     "output_type": "stream",
     "text": [
      "False\n",
      "True\n"
     ]
    }
   ],
   "source": [
    "# Your code here\n",
    "\n",
    "set3=set(set3)\n",
    "\n",
    "set1_contains_set2 = set2.issubset(set1)\n",
    "print(set1_contains_set2)\n",
    "\n",
    "set1_contains_set3 = set3.issubset(set1)\n",
    "print(set1_contains_set3)\n"
   ]
  },
  {
   "cell_type": "markdown",
   "metadata": {},
   "source": [
    "#### Using the Python Set `union` method, aggregate `set3`, `set4`, and `set5`. Then aggregate `set1` and `set2`. \n",
    "\n",
    "#### Check if the aggregated values are equal."
   ]
  },
  {
   "cell_type": "code",
   "execution_count": 161,
   "metadata": {},
   "outputs": [
    {
     "name": "stdout",
     "output_type": "stream",
     "text": [
      "{0, 1, 2, 3, 4, 5, 6, 7, 8, 9, 10, 11, 12, 13, 14, 15, 16, 17, 18, 19, 20, 21, 22, 23, 24, 26, 27, 29, 30, 31, 32, 33, 34, 35, 36, 37, 38, 39, 40, 41, 42, 43, 44, 45, 46, 47, 48, 49, 50, 51, 53, 54, 55, 56, 57, 58, 59, 60, 61, 62, 63, 64, 65, 66, 67, 68, 69, 71, 72, 73, 74, 75, 76, 77, 78, 79, 80, 81, 82, 83, 84, 85, 87, 88, 89, 90, 91, 92, 93, 94, 95, 96, 97}\n",
      "{0, 1, 2, 3, 4, 5, 6, 7, 8, 9, 10, 11, 12, 13, 14, 15, 16, 17, 18, 19, 20, 21, 22, 23, 24, 26, 27, 29, 30, 31, 32, 33, 34, 35, 36, 37, 38, 39, 40, 41, 42, 43, 44, 45, 46, 47, 48, 49, 50, 51, 53, 54, 55, 56, 57, 58, 59, 60, 61, 62, 63, 64, 65, 66, 67, 68, 69, 71, 72, 73, 74, 75, 76, 77, 78, 79, 80, 81, 82, 83, 84, 85, 87, 88, 89, 90, 91, 92, 93, 94, 95, 96, 97}\n"
     ]
    }
   ],
   "source": [
    "# Your code here\n",
    "\n",
    "set3=set(set3)\n",
    "\n",
    "union_sets1 = set3.union(set4,set5)\n",
    "\n",
    "union_sets2= union_sets1.union(set1,set2)\n",
    "\n",
    "print(union_sets1)\n",
    "\n",
    "print(union_sets2)\n"
   ]
  },
  {
   "cell_type": "markdown",
   "metadata": {},
   "source": [
    "#### Using the `pop` method, remove the first element from `set1`."
   ]
  },
  {
   "cell_type": "code",
   "execution_count": 163,
   "metadata": {},
   "outputs": [
    {
     "name": "stdout",
     "output_type": "stream",
     "text": [
      "{1, 2, 3, 4, 5, 6, 7, 8, 9, 10, 11, 12, 13, 14, 15, 16, 17, 18, 19, 20, 21, 22, 23, 24, 26, 27, 29, 31, 32, 33, 36, 37, 38, 39, 40, 42, 43, 44, 45, 46, 47, 48, 50, 51, 54, 55, 56, 57, 58, 59, 63, 64, 65, 66, 67, 68, 69, 73, 74, 75, 76, 77, 79, 80, 81, 82, 83, 84, 87, 88, 89, 90, 91, 92, 93, 94, 95, 96, 97}\n"
     ]
    }
   ],
   "source": [
    "# Your code here\n",
    "\n",
    "set1.pop()\n",
    "print(set1)"
   ]
  },
  {
   "cell_type": "markdown",
   "metadata": {},
   "source": [
    "#### Remove every element in the following list from `set1` if they are present in the set. Print the remaining elements.\n",
    "\n",
    "```\n",
    "list_to_remove = [1, 9, 11, 19, 21, 29, 31, 39, 41, 49, 51, 59, 61, 69, 71, 79, 81, 89, 91, 99]\n",
    "```"
   ]
  },
  {
   "cell_type": "code",
   "execution_count": 166,
   "metadata": {},
   "outputs": [
    {
     "name": "stdout",
     "output_type": "stream",
     "text": [
      "{2, 3, 4, 5, 6, 7, 8, 10, 12, 13, 14, 15, 16, 17, 18, 20, 22, 23, 24, 26, 27, 32, 33, 36, 37, 38, 40, 42, 43, 44, 45, 46, 47, 48, 50, 54, 55, 56, 57, 58, 63, 64, 65, 66, 67, 68, 73, 74, 75, 76, 77, 80, 82, 83, 84, 87, 88, 90, 92, 93, 94, 95, 96, 97}\n"
     ]
    }
   ],
   "source": [
    "# Your code here\n",
    "\n",
    "list_to_remove = [1, 9, 11, 19, 21, 29, 31, 39, 41, 49, 51, 59, 61, 69, 71, 79, 81, 89, 91, 99]\n",
    "\n",
    "set1.difference_update(list_to_remove) \n",
    "\n",
    "print(set1)\n",
    "\n",
    "\n"
   ]
  },
  {
   "cell_type": "code",
   "execution_count": null,
   "metadata": {},
   "outputs": [],
   "source": [
    "\n"
   ]
  },
  {
   "cell_type": "code",
   "execution_count": null,
   "metadata": {},
   "outputs": [],
   "source": []
  }
 ],
 "metadata": {
  "kernelspec": {
   "display_name": "Python 3",
   "language": "python",
   "name": "python3"
  },
  "language_info": {
   "codemirror_mode": {
    "name": "ipython",
    "version": 3
   },
   "file_extension": ".py",
   "mimetype": "text/x-python",
   "name": "python",
   "nbconvert_exporter": "python",
   "pygments_lexer": "ipython3",
   "version": "3.6.5"
  }
 },
 "nbformat": 4,
 "nbformat_minor": 2
}
