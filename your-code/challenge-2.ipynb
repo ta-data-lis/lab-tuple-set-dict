{
 "cells": [
  {
   "cell_type": "markdown",
   "metadata": {},
   "source": [
    "## Challenge 2: Sets\n",
    "\n",
    "There are a lot to learn about Python Sets and the information presented in the lesson is limited due to its length. To learn Python Sets in depth you are strongly encouraged to review the W3Schools tutorial on [Python Sets Examples and Methods](https://www.w3schools.com/python/python_sets.asp) before you work on this lab. Some difficult questions in this lab have their solutions in the W3Schools tutorial.\n",
    "\n",
    "#### First, import the Python `random` libary"
   ]
  },
  {
   "cell_type": "code",
   "execution_count": 1,
   "metadata": {},
   "outputs": [],
   "source": [
    "import random"
   ]
  },
  {
   "cell_type": "markdown",
   "metadata": {},
   "source": [
    "#### 1 - In the cell below, create a list named `sample_list_1` with 80 random values. \n",
    "\n",
    "Requirements:\n",
    "\n",
    "* Each value is an integer falling between 0 and 100.\n",
    "* Each value in the list is unique.\n",
    "\n",
    "Print `sample_list_1` to review its values\n",
    "\n",
    "*Hint: use `random.sample` ([reference](https://docs.python.org/3/library/random.html#random.sample)).*"
   ]
  },
  {
   "cell_type": "code",
   "execution_count": 2,
   "metadata": {},
   "outputs": [
    {
     "name": "stdout",
     "output_type": "stream",
     "text": [
      "80\n",
      "[55, 10, 72, 29, 81, 57, 73, 8, 96, 39, 32, 91, 30, 63, 100, 23, 86, 83, 78, 45, 11, 89, 71, 13, 67, 6, 7, 98, 27, 77, 14, 69, 25, 82, 75, 12, 22, 59, 49, 68, 85, 94, 38, 50, 61, 52, 84, 70, 62, 3, 31, 18, 90, 1, 99, 97, 87, 16, 19, 56, 95, 40, 48, 66, 42, 44, 37, 93, 33, 80, 47, 2, 88, 20, 79, 43, 15, 46, 64, 9]\n"
     ]
    }
   ],
   "source": [
    "# Your code here\n",
    "sample_list_1 = random.sample(range(101),80)\n",
    "\n",
    "print(len(sample_list_1))\n",
    "print(sample_list_1)"
   ]
  },
  {
   "cell_type": "markdown",
   "metadata": {},
   "source": [
    "#### 2 - Convert `sample_list_1` to a set called `set1`. Print the length of the set. Is its length still 80?"
   ]
  },
  {
   "cell_type": "code",
   "execution_count": 3,
   "metadata": {},
   "outputs": [
    {
     "name": "stdout",
     "output_type": "stream",
     "text": [
      "80\n",
      "{1, 2, 3, 6, 7, 8, 9, 10, 11, 12, 13, 14, 15, 16, 18, 19, 20, 22, 23, 25, 27, 29, 30, 31, 32, 33, 37, 38, 39, 40, 42, 43, 44, 45, 46, 47, 48, 49, 50, 52, 55, 56, 57, 59, 61, 62, 63, 64, 66, 67, 68, 69, 70, 71, 72, 73, 75, 77, 78, 79, 80, 81, 82, 83, 84, 85, 86, 87, 88, 89, 90, 91, 93, 94, 95, 96, 97, 98, 99, 100}\n"
     ]
    }
   ],
   "source": [
    "# Your code here\n",
    "set1=(set(sample_list_1))\n",
    "\n",
    "print(len(set1))\n",
    "print(set1)"
   ]
  },
  {
   "cell_type": "markdown",
   "metadata": {},
   "source": [
    "#### 3 - Create another list named `sample_list_2` with 80 random values.\n",
    "\n",
    "Requirements:\n",
    "\n",
    "* Each value is an integer falling between 0 and 100.\n",
    "* The values in the list don't have to be unique.\n",
    "\n",
    "*Hint: Use a FOR loop.*"
   ]
  },
  {
   "cell_type": "code",
   "execution_count": 4,
   "metadata": {},
   "outputs": [
    {
     "name": "stdout",
     "output_type": "stream",
     "text": [
      "80\n",
      "[95, 86, 91, 79, 46, 97, 82, 60, 40, 74, 75, 52, 50, 26, 68, 58, 91, 77, 87, 70, 87, 70, 56, 99, 91, 74, 55, 17, 32, 84, 97, 63, 80, 93, 63, 30, 74, 97, 83, 38, 26, 99, 54, 49, 7, 12, 41, 99, 9, 39, 83, 27, 53, 43, 37, 61, 83, 27, 45, 44, 23, 65, 31, 40, 45, 91, 3, 54, 88, 9, 33, 49, 23, 79, 35, 67, 92, 76, 0, 30]\n"
     ]
    }
   ],
   "source": [
    "# Your code here\n",
    "#sample_list_2 =[random.sample(100,80) for i in range(101)]\n",
    "\n",
    "sample_list_2 = [random.randrange(0,100) for i in range(80)]\n",
    "\n",
    "\n",
    "print(len(sample_list_2))\n",
    "print(sample_list_2)"
   ]
  },
  {
   "cell_type": "markdown",
   "metadata": {},
   "source": [
    "#### 4 - Convert `sample_list_2` to a set called `set2`. Print the length of the set. Is its length still 80?"
   ]
  },
  {
   "cell_type": "code",
   "execution_count": 5,
   "metadata": {},
   "outputs": [
    {
     "name": "stdout",
     "output_type": "stream",
     "text": [
      "56\n",
      "{0, 3, 7, 9, 12, 17, 23, 26, 27, 30, 31, 32, 33, 35, 37, 38, 39, 40, 41, 43, 44, 45, 46, 49, 50, 52, 53, 54, 55, 56, 58, 60, 61, 63, 65, 67, 68, 70, 74, 75, 76, 77, 79, 80, 82, 83, 84, 86, 87, 88, 91, 92, 93, 95, 97, 99}\n",
      "\n",
      "\n",
      "Duplicates Not Allowed, Sets cannot have two items with the same value.\n"
     ]
    }
   ],
   "source": [
    "# Your code here\n",
    "set2=(set(sample_list_2))\n",
    "\n",
    "print(len(set2))\n",
    "print(set2)\n",
    "print(\"\\n\")\n",
    "print(\"Duplicates Not Allowed, Sets cannot have two items with the same value.\")"
   ]
  },
  {
   "cell_type": "markdown",
   "metadata": {},
   "source": [
    "#### 5 - Identify the elements present in `set1` but not in `set2`. Assign the elements to a new set named `set3`."
   ]
  },
  {
   "cell_type": "code",
   "execution_count": 6,
   "metadata": {},
   "outputs": [
    {
     "name": "stdout",
     "output_type": "stream",
     "text": [
      "{1, 2, 6, 8, 10, 11, 13, 14, 15, 16, 18, 19, 20, 22, 25, 29, 42, 47, 48, 57, 59, 62, 64, 66, 69, 71, 72, 73, 78, 81, 85, 89, 90, 94, 96, 98, 100}\n",
      "\n",
      " The difference() method returns a set that contains the difference between two sets.\n"
     ]
    }
   ],
   "source": [
    "# Your code here\n",
    "set1=(set(sample_list_1))\n",
    "set2=(set(sample_list_2))\n",
    "\n",
    "set3=(set1.difference(set2))\n",
    "\n",
    "print(set3)\n",
    "print(\"\\n\",\"The difference() method returns a set that contains the difference between two sets.\")"
   ]
  },
  {
   "cell_type": "markdown",
   "metadata": {},
   "source": [
    "#### 6 - Identify the elements present in `set2` but not in `set1`. Assign the elements to a new set named `set4`."
   ]
  },
  {
   "cell_type": "code",
   "execution_count": 7,
   "metadata": {},
   "outputs": [
    {
     "name": "stdout",
     "output_type": "stream",
     "text": [
      "{0, 65, 35, 58, 41, 74, 76, 92, 17, 53, 54, 26, 60}\n",
      "\n",
      " The difference() method returns a set that contains the difference between two sets.\n"
     ]
    }
   ],
   "source": [
    "# Your code here\n",
    "set1=(set(sample_list_1))\n",
    "set2=(set(sample_list_2))\n",
    "\n",
    "set4=(set2.difference(set1))\n",
    "\n",
    "print(set4)\n",
    "print(\"\\n\",\"The difference() method returns a set that contains the difference between two sets.\")"
   ]
  },
  {
   "cell_type": "markdown",
   "metadata": {},
   "source": [
    "#### 7 - Now Identify the elements shared between `set1` and `set2`. Assign the elements to a new set named `set5`."
   ]
  },
  {
   "cell_type": "code",
   "execution_count": 8,
   "metadata": {},
   "outputs": [
    {
     "name": "stdout",
     "output_type": "stream",
     "text": [
      "{3, 7, 9, 12, 23, 27, 30, 31, 32, 33, 37, 38, 39, 40, 43, 44, 45, 46, 49, 50, 52, 55, 56, 61, 63, 67, 68, 70, 75, 77, 79, 80, 82, 83, 84, 86, 87, 88, 91, 93, 95, 97, 99}\n",
      "\n",
      " Returns a set, that is the intersection of two other sets\n"
     ]
    }
   ],
   "source": [
    "# Your code here\n",
    "set1=(set(sample_list_1))\n",
    "set2=(set(sample_list_2))\n",
    "\n",
    "set5=(set1.intersection(set2))\n",
    "\n",
    "print(set5)\n",
    "\n",
    "print(\"\\n\",\"Returns a set, that is the intersection of two other sets\")"
   ]
  },
  {
   "cell_type": "markdown",
   "metadata": {},
   "source": [
    "#### 8 - Create an empty set called `set6`."
   ]
  },
  {
   "cell_type": "code",
   "execution_count": 9,
   "metadata": {},
   "outputs": [
    {
     "name": "stdout",
     "output_type": "stream",
     "text": [
      "set()\n"
     ]
    }
   ],
   "source": [
    "# Your code here\n",
    "set6=set()\n",
    "\n",
    "print(set6)"
   ]
  },
  {
   "cell_type": "markdown",
   "metadata": {},
   "source": [
    "#### 9 - Add `set3` and `set5` to `set6` using the Python Set `update` method."
   ]
  },
  {
   "cell_type": "code",
   "execution_count": 25,
   "metadata": {},
   "outputs": [
    {
     "name": "stdout",
     "output_type": "stream",
     "text": [
      "\n",
      " {1, 2, 6, 8, 10, 11, 13, 14, 15, 16, 18, 19, 20, 22, 25, 29, 42, 47, 48, 57, 59, 62, 64, 66, 69, 71, 72, 73, 78, 81, 85, 89, 90, 94, 96, 98, 100}\n",
      "\n",
      " {3, 7, 9, 12, 23, 27, 30, 31, 32, 33, 37, 38, 39, 40, 43, 44, 45, 46, 49, 50, 52, 55, 56, 61, 63, 67, 68, 70, 75, 77, 79, 80, 82, 83, 84, 86, 87, 88, 91, 93, 95, 97, 99}\n",
      "\n",
      " \n",
      " {1, 2, 3, 6, 7, 8, 9, 10, 11, 12, 13, 14, 15, 16, 18, 19, 20, 22, 23, 25, 27, 29, 30, 31, 32, 33, 37, 38, 39, 40, 42, 43, 44, 45, 46, 47, 48, 49, 50, 52, 55, 56, 57, 59, 61, 62, 63, 64, 66, 67, 68, 69, 70, 71, 72, 73, 75, 77, 78, 79, 80, 81, 82, 83, 84, 85, 86, 87, 88, 89, 90, 91, 93, 94, 95, 96, 97, 98, 99, 100}\n"
     ]
    }
   ],
   "source": [
    "# Your code here\n",
    "\n",
    "set3=(set1.difference(set2))\n",
    "print(\"\\n\",set3)\n",
    "set5=(set1.intersection(set2))\n",
    "print(\"\\n\",set5)\n",
    "\n",
    "set_uni= set3.union(set5)\n",
    "\n",
    "set6.update(set_uni)\n",
    "\n",
    "print(\"\\n\",\"\\n\",set6)"
   ]
  },
  {
   "cell_type": "markdown",
   "metadata": {},
   "source": [
    "#### 10 - Check if `set1` and `set6` are equal."
   ]
  },
  {
   "cell_type": "code",
   "execution_count": 36,
   "metadata": {},
   "outputs": [
    {
     "name": "stdout",
     "output_type": "stream",
     "text": [
      "{1, 2, 3, 6, 7, 8, 9, 10, 11, 12, 13, 14, 15, 16, 18, 19, 20, 22, 23, 25, 27, 29, 30, 31, 32, 33, 37, 38, 39, 40, 42, 43, 44, 45, 46, 47, 48, 49, 50, 52, 55, 56, 57, 59, 61, 62, 63, 64, 66, 67, 68, 69, 70, 71, 72, 73, 75, 77, 78, 79, 80, 81, 82, 83, 84, 85, 86, 87, 88, 89, 90, 91, 93, 94, 95, 96, 97, 98, 99, 100} \n",
      "\n",
      "{1, 2, 3, 6, 7, 8, 9, 10, 11, 12, 13, 14, 15, 16, 18, 19, 20, 22, 23, 25, 27, 29, 30, 31, 32, 33, 37, 38, 39, 40, 42, 43, 44, 45, 46, 47, 48, 49, 50, 52, 55, 56, 57, 59, 61, 62, 63, 64, 66, 67, 68, 69, 70, 71, 72, 73, 75, 77, 78, 79, 80, 81, 82, 83, 84, 85, 86, 87, 88, 89, 90, 91, 93, 94, 95, 96, 97, 98, 99, 100} \n",
      "\n",
      "True \n",
      " The issuperset() method returns True if all items in the specified set exists in the original set, otherwise it retuns False.\n"
     ]
    }
   ],
   "source": [
    "# Your code here\n",
    "print(set1,\"\\n\")\n",
    "print(set6,\"\\n\")\n",
    "\n",
    "equal= set1.issuperset(set6)\n",
    "print(equal,\"\\n\",\"The issuperset() method returns True if all items in the specified set exists in the original set, otherwise it retuns False.\")\n"
   ]
  },
  {
   "cell_type": "markdown",
   "metadata": {},
   "source": [
    "#### 11 - Check if `set1` contains `set2` using the Python Set `issubset` method. Then check if `set1` contains `set3`.*"
   ]
  },
  {
   "cell_type": "code",
   "execution_count": 40,
   "metadata": {},
   "outputs": [
    {
     "name": "stdout",
     "output_type": "stream",
     "text": [
      "False\n",
      "False\n"
     ]
    }
   ],
   "source": [
    "# Your code here\n",
    "checkset1=set1.issubset(set2)\n",
    "\n",
    "print(checkset1)\n",
    "\n",
    "checkset2=set1.issubset(set3)\n",
    "print(checkset2)"
   ]
  },
  {
   "cell_type": "markdown",
   "metadata": {},
   "source": [
    "#### 12 -Using the Python Set `union` method, aggregate `set3`, `set4`, and `set5`. Then aggregate `set1` and `set2`. \n",
    "\n",
    "#### Check if the aggregated values are equal."
   ]
  },
  {
   "cell_type": "code",
   "execution_count": 106,
   "metadata": {},
   "outputs": [
    {
     "name": "stdout",
     "output_type": "stream",
     "text": [
      "{0, 1, 2, 3, 6, 7, 8, 9, 10, 11, 12, 13, 14, 15, 16, 17, 18, 19, 20, 22, 23, 25, 26, 27, 29, 30, 31, 32, 33, 35, 37, 38, 39, 40, 41, 42, 43, 44, 45, 46, 47, 48, 49, 50, 52, 53, 54, 55, 56, 57, 58, 59, 60, 61, 62, 63, 64, 65, 66, 67, 68, 69, 70, 71, 72, 73, 74, 75, 76, 77, 78, 79, 80, 81, 82, 83, 84, 85, 86, 87, 88, 89, 90, 91, 92, 93, 94, 95, 96, 97, 98, 99, 100}\n",
      "\n",
      " {0, 1, 2, 3, 6, 7, 8, 9, 10, 11, 12, 13, 14, 15, 16, 17, 18, 19, 20, 22, 23, 25, 26, 27, 29, 30, 31, 32, 33, 35, 37, 38, 39, 40, 41, 42, 43, 44, 45, 46, 47, 48, 49, 50, 52, 53, 54, 55, 56, 57, 58, 59, 60, 61, 62, 63, 64, 65, 66, 67, 68, 69, 70, 71, 72, 73, 74, 75, 76, 77, 78, 79, 80, 81, 82, 83, 84, 85, 86, 87, 88, 89, 90, 91, 92, 93, 94, 95, 96, 97, 98, 99, 100}\n"
     ]
    }
   ],
   "source": [
    "# Your code here\n",
    "aggregate=set3.union(set4,set5)\n",
    "print(aggregate)\n",
    "\n",
    "print(\"\\n\",aggregate.union(set2,set1))\n",
    "\n"
   ]
  },
  {
   "cell_type": "markdown",
   "metadata": {},
   "source": [
    "#### 13 -Using the `pop` method, remove the first element from `set1`."
   ]
  },
  {
   "cell_type": "code",
   "execution_count": 46,
   "metadata": {},
   "outputs": [
    {
     "name": "stdout",
     "output_type": "stream",
     "text": [
      "{2, 3, 6, 7, 8, 9, 10, 11, 12, 13, 14, 15, 16, 18, 19, 20, 22, 23, 25, 27, 29, 30, 31, 32, 33, 37, 38, 39, 40, 42, 43, 44, 45, 46, 47, 48, 49, 50, 52, 55, 56, 57, 59, 61, 62, 63, 64, 66, 67, 68, 69, 70, 71, 72, 73, 75, 77, 78, 79, 80, 81, 82, 83, 84, 85, 86, 87, 88, 89, 90, 91, 93, 94, 95, 96, 97, 98, 99, 100}\n",
      "\n",
      " {3, 6, 7, 8, 9, 10, 11, 12, 13, 14, 15, 16, 18, 19, 20, 22, 23, 25, 27, 29, 30, 31, 32, 33, 37, 38, 39, 40, 42, 43, 44, 45, 46, 47, 48, 49, 50, 52, 55, 56, 57, 59, 61, 62, 63, 64, 66, 67, 68, 69, 70, 71, 72, 73, 75, 77, 78, 79, 80, 81, 82, 83, 84, 85, 86, 87, 88, 89, 90, 91, 93, 94, 95, 96, 97, 98, 99, 100}\n"
     ]
    }
   ],
   "source": [
    "# Your code here\n",
    "print(set1)\n",
    "\n",
    "set1.pop()\n",
    "\n",
    "print(\"\\n\",set1)"
   ]
  },
  {
   "cell_type": "markdown",
   "metadata": {},
   "source": [
    "#### 14 -Remove every element in the following list from `set1` if they are present in the set. Print the remaining elements.\n",
    "\n",
    "```\n",
    "list_to_remove = [1, 9, 11, 19, 21, 29, 31, 39, 41, 49, 51, 59, 61, 69, 71, 79, 81, 89, 91, 99]\n",
    "```"
   ]
  },
  {
   "cell_type": "code",
   "execution_count": 55,
   "metadata": {},
   "outputs": [
    {
     "name": "stdout",
     "output_type": "stream",
     "text": [
      "{1, 9, 11, 19, 21, 29, 31, 39, 41, 49, 51, 59, 61, 69, 71, 79, 81, 89, 91, 99} \n",
      "\n",
      "{3, 6, 7, 8, 10, 12, 13, 14, 15, 16, 18, 20, 22, 23, 25, 27, 30, 32, 33, 37, 38, 40, 42, 43, 44, 45, 46, 47, 48, 50, 52, 55, 56, 57, 62, 63, 64, 66, 67, 68, 70, 72, 73, 75, 77, 78, 80, 82, 83, 84, 85, 86, 87, 88, 90, 93, 94, 95, 96, 97, 98, 100} \n",
      "\n",
      "{3, 6, 7, 8, 10, 12, 13, 14, 15, 16, 18, 20, 22, 23, 25, 27, 30, 32, 33, 37, 38, 40, 42, 43, 44, 45, 46, 47, 48, 50, 52, 55, 56, 57, 62, 63, 64, 66, 67, 68, 70, 72, 73, 75, 77, 78, 80, 82, 83, 84, 85, 86, 87, 88, 90, 93, 94, 95, 96, 97, 98, 100}\n"
     ]
    }
   ],
   "source": [
    "# Your code here\n",
    "list_to_remove = [1, 9, 11, 19, 21, 29, 31, 39, 41, 49, 51, 59, 61, 69, 71, 79, 81, 89, 91, 99]\n",
    "set_list_to_remove= set(list_to_remove)\n",
    "print(set_list_to_remove,\"\\n\")\n",
    "\n",
    "print(set1,\"\\n\")\n",
    "\n",
    "set1.difference_update(set_list_to_remove)\n",
    "\n",
    "print(set1)\n"
   ]
  },
  {
   "cell_type": "markdown",
   "metadata": {},
   "source": [
    "#### 15 -The objective of this lab is to provide you a overview of manipulating sets in Python and how they can be integrated within a real usecase\n",
    "#### For the exercises below it's strongly advised to quickly check this link: https://docs.python.org/2/library/sets.html#sets.Set\n",
    "#### Imagine you need to create the grocery list for your family! Below you will see a list of items each family member wants. There will be repetitions because this family has the habbit of each time they notice something is missing to write it down. The problem is that they don't really talk to each other and therefore some items in the list are repeated. With the collection of questions below you will see how they solve repetion and create a grocery list with unique elements.\n",
    "\n"
   ]
  },
  {
   "cell_type": "code",
   "execution_count": 56,
   "metadata": {},
   "outputs": [],
   "source": [
    "father_list = ['garlic', 'watermelon', 'toilet paper', 'yogurt', 'onions', 'gums', 'flour', 'cucumber', 'watermelon', 'yogurt', 'garlic']\n",
    "\n",
    "mother_list = []\n",
    "\n",
    "Jo_list = ['blueberries', 'sugar', 'watermelon', 'gums', 'tomatoes', 'yogurt', 'juice', 'milk', 'onions', 'garlic', 'cucumber', 'sugar', 'blueberries', 'gums', 'yogurt']\n",
    "\n",
    "Carlos_list = ['tomatoes', 'water', 'onions', 'blueberries', 'garlic', 'flour', 'cherries', 'tomatoes', 'onions', 'water', 'tomatoes', 'toilet paper']\n",
    "\n",
    "Mattia_list = []\n",
    "\n",
    "\n"
   ]
  },
  {
   "cell_type": "markdown",
   "metadata": {},
   "source": [
    "#### 15.1- As you can see there are items repeated in each list. Creat a sequence of iterable elements with dintinct items that each family member wants. You can do it in two different ways. Assign each one (set) to a variable with the name of the family member (ex: father_set)."
   ]
  },
  {
   "cell_type": "code",
   "execution_count": 81,
   "metadata": {},
   "outputs": [
    {
     "name": "stdout",
     "output_type": "stream",
     "text": [
      "{'watermelon', 'garlic', 'onions', 'cucumber', 'toilet paper', 'flour', 'gums', 'yogurt'} \n",
      "\n",
      "set() \n",
      "\n",
      "{'watermelon', 'garlic', 'blueberries', 'juice', 'tomatoes', 'onions', 'cucumber', 'milk', 'sugar', 'gums', 'yogurt'} \n",
      "\n",
      "{'garlic', 'blueberries', 'water', 'onions', 'tomatoes', 'cherries', 'toilet paper', 'flour'} \n",
      "\n",
      "set() \n",
      "\n"
     ]
    }
   ],
   "source": [
    "# Your code here\n",
    "father_set=set(father_list)\n",
    "print(father_set,\"\\n\")\n",
    "\n",
    "mother_set =set(mother_list)\n",
    "print(mother_set,\"\\n\")\n",
    "\n",
    "Jo_set =set(Jo_list)\n",
    "print(Jo_set,\"\\n\")\n",
    "\n",
    "Carlos_set =set(Carlos_list)\n",
    "print(Carlos_set,\"\\n\")\n",
    "\n",
    "Mattia_set =set(Mattia_list)\n",
    "print(Mattia_set,\"\\n\")\n",
    "\n",
    "\n"
   ]
  },
  {
   "cell_type": "markdown",
   "metadata": {},
   "source": [
    "#### 15.2- Q: Mattia wants the same items that his brother Carlos and his sister Jo but doesn't want anything they both want.\n",
    "\n",
    "##### Hint: check out the documentation for `x.symmetric_difference(y)`."
   ]
  },
  {
   "cell_type": "code",
   "execution_count": 83,
   "metadata": {},
   "outputs": [
    {
     "name": "stdout",
     "output_type": "stream",
     "text": [
      "{'watermelon', 'water', 'juice', 'cucumber', 'milk', 'sugar', 'cherries', 'toilet paper', 'flour', 'gums', 'yogurt'}\n"
     ]
    }
   ],
   "source": [
    "# Your code here\n",
    "Mattia_set=Carlos_set.symmetric_difference(Jo_set)\n",
    "\n",
    "print(Mattia_set)\n"
   ]
  },
  {
   "cell_type": "markdown",
   "metadata": {},
   "source": [
    "#### 15.3- The line of code below  will  generate a list of random elements from a collection of items, with replacement. Run it and from it create a sequence of unique elements and assign it to the variable mother.\n"
   ]
  },
  {
   "cell_type": "code",
   "execution_count": 84,
   "metadata": {},
   "outputs": [
    {
     "name": "stdout",
     "output_type": "stream",
     "text": [
      "['blueberries', 'watermelon', 'cucumber', 'yogurt', 'bread', 'water', 'sugar', 'juice', 'flour', 'deodorant']\n"
     ]
    }
   ],
   "source": [
    "import random\n",
    "items = ['milk', 'water', 'chocolate', 'blueberries', 'shampoo', 'flour', 'bread', 'sugar', 'watermelon', 'vinegar', 'tomatoes', 'yogurt', 'juice', 'gums', 'onions', 'garlic', 'cucumber', 'mushrooms', 'toilet paper', 'oranges', 'deodorant', 'cherries']\n",
    "\n",
    "mother_list = random.choices(items,k = 10) # https://docs.python.org/3/library/random.html\n",
    "\n",
    "print(mother_list)"
   ]
  },
  {
   "cell_type": "code",
   "execution_count": 85,
   "metadata": {},
   "outputs": [
    {
     "name": "stdout",
     "output_type": "stream",
     "text": [
      "{'watermelon', 'blueberries', 'water', 'cucumber', 'bread', 'juice', 'sugar', 'flour', 'deodorant', 'yogurt'} \n",
      "\n"
     ]
    }
   ],
   "source": [
    "# Your code here\n",
    "mother_set =set(mother_list)\n",
    "print(mother_set,\"\\n\")"
   ]
  },
  {
   "cell_type": "markdown",
   "metadata": {},
   "source": [
    "#### 15.4- Before leaving the house to the grocery store the father found a lot of toilet paper, so the mother decided to remove it from the items needed to be bought. Use the `.discard()` method to remove from each set created before the 'toilet paper'. \n",
    "\n",
    "#### Hint: Try to first create a list contaning the variables of each set created before, then loop through them and remove the unecessary item. \n",
    "\n",
    "##### Note: The`.discard()` method will remove and update the set without the need of reassignment.\n",
    "\n"
   ]
  },
  {
   "cell_type": "code",
   "execution_count": 122,
   "metadata": {},
   "outputs": [
    {
     "name": "stdout",
     "output_type": "stream",
     "text": [
      "{'watermelon', 'blueberries', 'water', 'cucumber', 'milk', 'cherries', 'flour', 'gums', 'yogurt', 'garlic', 'juice', 'bread', 'onions', 'tomatoes', 'sugar', 'deodorant'} \n",
      "\n",
      "{'watermelon', 'garlic', 'onions', 'cucumber', 'flour', 'gums', 'yogurt'} \n",
      "\n",
      "{'watermelon', 'blueberries', 'water', 'cucumber', 'bread', 'juice', 'sugar', 'flour', 'deodorant', 'yogurt'} \n",
      "\n",
      "{'watermelon', 'garlic', 'blueberries', 'juice', 'tomatoes', 'onions', 'cucumber', 'milk', 'sugar', 'gums', 'yogurt'} \n",
      "\n",
      "{'garlic', 'blueberries', 'water', 'onions', 'tomatoes', 'cherries', 'flour'} \n",
      "\n",
      "{'watermelon', 'water', 'juice', 'cucumber', 'milk', 'sugar', 'cherries', 'flour', 'gums', 'yogurt'} \n",
      "\n"
     ]
    }
   ],
   "source": [
    "# Your code here\n",
    "aggregate_grocery= mother_set.union(father_set,Jo_set, Carlos_set, Mattia_set)\n",
    "\n",
    "print(aggregate_grocery,'\\n')\n",
    "\n",
    "\n",
    "for product in aggregate_grocery:\n",
    "    if product == 'toilet paper':\n",
    "        mother_set.discard('toilet paper')\n",
    "        father_set.discard('toilet paper')\n",
    "        Jo_set.discard('toilet paper')\n",
    "        Carlos_set.discard('toilet paper')\n",
    "        Mattia_set.discard('toilet paper')\n",
    "    else:\n",
    "        continue\n",
    "\n",
    "        \n",
    "print(father_set,\"\\n\")\n",
    "print(mother_set,\"\\n\")\n",
    "print(Jo_set,\"\\n\")\n",
    "print(Carlos_set,\"\\n\")\n",
    "print(Mattia_set,\"\\n\")\n",
    "\n",
    "\n",
    "# mother_set.discard('toilet paper')\n",
    "\n",
    "# print(mother_set,\"\\n\")\n",
    "\n"
   ]
  },
  {
   "cell_type": "markdown",
   "metadata": {},
   "source": [
    "#### 15.5- Create a set with all the groceries needed to be bought for the house (no repetitions)."
   ]
  },
  {
   "cell_type": "code",
   "execution_count": 128,
   "metadata": {},
   "outputs": [
    {
     "name": "stdout",
     "output_type": "stream",
     "text": [
      "['garlic', 'watermelon', 'toilet paper', 'yogurt', 'onions', 'gums', 'flour', 'cucumber', 'watermelon', 'yogurt', 'garlic', 'blueberries', 'watermelon', 'cucumber', 'yogurt', 'bread', 'water', 'sugar', 'juice', 'flour', 'deodorant', 'blueberries', 'sugar', 'watermelon', 'gums', 'tomatoes', 'yogurt', 'juice', 'milk', 'onions', 'garlic', 'cucumber', 'sugar', 'blueberries', 'gums', 'yogurt', 'tomatoes', 'water', 'onions', 'blueberries', 'garlic', 'flour', 'cherries', 'tomatoes', 'onions', 'water', 'tomatoes', 'toilet paper'] \n",
      "\n",
      "{'watermelon', 'garlic', 'blueberries', 'water', 'onions', 'cucumber', 'bread', 'juice', 'tomatoes', 'milk', 'sugar', 'toilet paper', 'cherries', 'flour', 'gums', 'deodorant', 'yogurt'} \n",
      "\n"
     ]
    }
   ],
   "source": [
    "# Your code here\n",
    "family_list=father_list+mother_list+Jo_list+Carlos_list+Mattia_list\n",
    "print(family_list,\"\\n\")\n",
    "\n",
    "family_list_set=(set(family_list))\n",
    "print(family_list_set,\"\\n\")\n"
   ]
  },
  {
   "cell_type": "markdown",
   "metadata": {},
   "source": [
    "#### 15.6- The Father said that he could only buy five items this time. So he decided to arbitraly pick wich ones to buy this time.\n",
    "\n",
    "##### Hint: use the `.pop()` method."
   ]
  },
  {
   "cell_type": "code",
   "execution_count": 131,
   "metadata": {},
   "outputs": [
    {
     "name": "stdout",
     "output_type": "stream",
     "text": [
      "['watermelon', 'cucumber', 'milk', 'flour', 'sugar', 'juice', 'bread', 'garlic', 'water', 'tomatoes', 'toilet paper', 'yogurt']\n"
     ]
    }
   ],
   "source": [
    "# Your code here\n",
    "import random\n",
    "\n",
    "print(random.sample(family_list_set,len(family_list_set)-5))"
   ]
  }
 ],
 "metadata": {
  "kernelspec": {
   "display_name": "Python 3",
   "language": "python",
   "name": "python3"
  },
  "language_info": {
   "codemirror_mode": {
    "name": "ipython",
    "version": 3
   },
   "file_extension": ".py",
   "mimetype": "text/x-python",
   "name": "python",
   "nbconvert_exporter": "python",
   "pygments_lexer": "ipython3",
   "version": "3.8.8"
  }
 },
 "nbformat": 4,
 "nbformat_minor": 2
}
