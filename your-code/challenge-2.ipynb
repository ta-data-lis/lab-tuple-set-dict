{
 "cells": [
  {
   "cell_type": "markdown",
   "metadata": {},
   "source": [
    "## Challenge 2: Sets\n",
    "\n",
    "There are a lot to learn about Python Sets and the information presented in the lesson is limited due to its length. To learn Python Sets in depth you are strongly encouraged to review the W3Schools tutorial on [Python Sets Examples and Methods](https://www.w3schools.com/python/python_sets.asp) before you work on this lab. Some difficult questions in this lab have their solutions in the W3Schools tutorial.\n",
    "\n",
    "#### First, import the Python `random` libary"
   ]
  },
  {
   "cell_type": "code",
   "execution_count": 9,
   "metadata": {},
   "outputs": [],
   "source": [
    "import random"
   ]
  },
  {
   "cell_type": "markdown",
   "metadata": {},
   "source": [
    "#### 1 - In the cell below, create a list named `sample_list_1` with 80 random values. \n",
    "\n",
    "Requirements:\n",
    "\n",
    "* Each value is an integer falling between 0 and 100.\n",
    "* Each value in the list is unique.\n",
    "\n",
    "Print `sample_list_1` to review its values\n",
    "\n",
    "*Hint: use `random.sample` ([reference](https://docs.python.org/3/library/random.html#random.sample)).*"
   ]
  },
  {
   "cell_type": "code",
   "execution_count": 13,
   "metadata": {},
   "outputs": [
    {
     "name": "stdout",
     "output_type": "stream",
     "text": [
      "[0, 52, 64, 59, 41, 6, 96, 50, 28, 29, 20, 90, 61, 72, 27, 60, 1, 24, 39, 22, 77, 84, 88, 14, 13, 94, 33, 62, 43, 45, 15, 16, 53, 31, 37, 67, 21, 56, 55, 70, 73, 7, 26, 19, 79, 91, 78, 38, 92, 49, 68, 36, 23, 47, 2, 63, 34, 17, 86, 46, 51, 85, 66, 65, 83, 95, 99, 87, 93, 32, 18, 75, 74, 11, 89, 80, 5, 57, 44, 71]\n"
     ]
    }
   ],
   "source": [
    "sample_list_1= random.sample(range(100), 80)\n",
    "\n",
    "print(sample_list_1)"
   ]
  },
  {
   "cell_type": "markdown",
   "metadata": {},
   "source": [
    "#### 2 - Convert `sample_list_1` to a set called `set1`. Print the length of the set. Is its length still 80?"
   ]
  },
  {
   "cell_type": "code",
   "execution_count": 20,
   "metadata": {},
   "outputs": [
    {
     "name": "stdout",
     "output_type": "stream",
     "text": [
      "80\n"
     ]
    }
   ],
   "source": [
    "set1= set(sample_list_1)\n",
    "print(len(set1))\n"
   ]
  },
  {
   "cell_type": "markdown",
   "metadata": {},
   "source": [
    "#### 3 - Create another list named `sample_list_2` with 80 random values.\n",
    "\n",
    "Requirements:\n",
    "\n",
    "* Each value is an integer falling between 0 and 100.\n",
    "* The values in the list don't have to be unique.\n",
    "\n",
    "*Hint: Use a FOR loop.*"
   ]
  },
  {
   "cell_type": "code",
   "execution_count": 21,
   "metadata": {},
   "outputs": [
    {
     "name": "stdout",
     "output_type": "stream",
     "text": [
      "[26, 0, 10, 7, 48, 92, 47, 4, 44, 7, 74, 97, 8, 71, 77, 64, 9, 6, 40, 96, 96, 33, 88, 51, 73, 69, 73, 37, 81, 39, 26, 22, 4, 8, 74, 6, 14, 88, 44, 90, 19, 94, 64, 25, 95, 20, 84, 13, 97, 32, 44, 80, 62, 17, 47, 64, 13, 17, 13, 88, 88, 10, 74, 32, 42, 43, 32, 75, 43, 26, 78, 19, 37, 98, 71, 0, 74, 98, 17, 9]\n"
     ]
    }
   ],
   "source": [
    "sample_list_2=[]\n",
    "for values in range (80):\n",
    "    sample_list_2.append(random.randrange(0, 100))\n",
    "print(sample_list_2)\n",
    "    \n"
   ]
  },
  {
   "cell_type": "markdown",
   "metadata": {},
   "source": [
    "#### 4 - Convert `sample_list_2` to a set called `set2`. Print the length of the set. Is its length still 80?"
   ]
  },
  {
   "cell_type": "code",
   "execution_count": 22,
   "metadata": {},
   "outputs": [
    {
     "name": "stdout",
     "output_type": "stream",
     "text": [
      "46\n"
     ]
    }
   ],
   "source": [
    "# Your code here\n",
    "set2= set(sample_list_2)\n",
    "print(len(set2))"
   ]
  },
  {
   "cell_type": "markdown",
   "metadata": {},
   "source": [
    "#### 5 - Identify the elements present in `set1` but not in `set2`. Assign the elements to a new set named `set3`."
   ]
  },
  {
   "cell_type": "code",
   "execution_count": 25,
   "metadata": {},
   "outputs": [
    {
     "name": "stdout",
     "output_type": "stream",
     "text": [
      "{1, 2, 5, 11, 15, 16, 18, 21, 23, 24, 27, 28, 29, 31, 34, 36, 38, 41, 45, 46, 49, 50, 52, 53, 55, 56, 57, 59, 60, 61, 63, 65, 66, 67, 68, 70, 72, 79, 83, 85, 86, 87, 89, 91, 93, 99}\n"
     ]
    }
   ],
   "source": [
    "# Your code here\n",
    "set3= set1.difference(set2)\n",
    "print(set3)"
   ]
  },
  {
   "cell_type": "markdown",
   "metadata": {},
   "source": [
    "#### 6 - Identify the elements present in `set2` but not in `set1`. Assign the elements to a new set named `set4`."
   ]
  },
  {
   "cell_type": "code",
   "execution_count": 26,
   "metadata": {},
   "outputs": [
    {
     "name": "stdout",
     "output_type": "stream",
     "text": [
      "{97, 98, 4, 69, 8, 9, 10, 40, 42, 48, 81, 25}\n"
     ]
    }
   ],
   "source": [
    "# Your code here\n",
    "set4= set2.difference(set1)\n",
    "print(set4)"
   ]
  },
  {
   "cell_type": "markdown",
   "metadata": {},
   "source": [
    "#### 7 - Now Identify the elements shared between `set1` and `set2`. Assign the elements to a new set named `set5`."
   ]
  },
  {
   "cell_type": "code",
   "execution_count": 27,
   "metadata": {},
   "outputs": [
    {
     "name": "stdout",
     "output_type": "stream",
     "text": [
      "{0, 6, 7, 13, 14, 17, 19, 20, 22, 26, 32, 33, 37, 39, 43, 44, 47, 51, 62, 64, 71, 73, 74, 75, 77, 78, 80, 84, 88, 90, 92, 94, 95, 96}\n"
     ]
    }
   ],
   "source": [
    "# Your code here\n",
    "set5= set1.intersection(set2)\n",
    "print(set5)"
   ]
  },
  {
   "cell_type": "markdown",
   "metadata": {},
   "source": [
    "#### 8 - Create an empty set called `set6`."
   ]
  },
  {
   "cell_type": "code",
   "execution_count": 35,
   "metadata": {},
   "outputs": [],
   "source": [
    "# Your code here\n",
    "set6=set()"
   ]
  },
  {
   "cell_type": "markdown",
   "metadata": {},
   "source": [
    "#### 9 - Add `set3` and `set5` to `set6` using the Python Set `update` method."
   ]
  },
  {
   "cell_type": "code",
   "execution_count": 36,
   "metadata": {},
   "outputs": [
    {
     "name": "stdout",
     "output_type": "stream",
     "text": [
      "{0, 1, 2, 5, 6, 7, 11, 13, 14, 15, 16, 17, 18, 19, 20, 21, 22, 23, 24, 26, 27, 28, 29, 31, 32, 33, 34, 36, 37, 38, 39, 41, 43, 44, 45, 46, 47, 49, 50, 51, 52, 53, 55, 56, 57, 59, 60, 61, 62, 63, 64, 65, 66, 67, 68, 70, 71, 72, 73, 74, 75, 77, 78, 79, 80, 83, 84, 85, 86, 87, 88, 89, 90, 91, 92, 93, 94, 95, 96, 99}\n"
     ]
    }
   ],
   "source": [
    "# Your code here\n",
    "set6.update(set3)\n",
    "set6.update(set5)\n",
    "print(set6)"
   ]
  },
  {
   "cell_type": "markdown",
   "metadata": {},
   "source": [
    "#### 10 - Check if `set1` and `set6` are equal."
   ]
  },
  {
   "cell_type": "code",
   "execution_count": 37,
   "metadata": {},
   "outputs": [
    {
     "name": "stdout",
     "output_type": "stream",
     "text": [
      "set()\n"
     ]
    }
   ],
   "source": [
    "# Your code here\n",
    "set1= set6.difference(set1)\n",
    "print(set1)"
   ]
  },
  {
   "cell_type": "markdown",
   "metadata": {},
   "source": [
    "#### 11 - Check if `set1` contains `set2` using the Python Set `issubset` method. Then check if `set1` contains `set3`.*"
   ]
  },
  {
   "cell_type": "code",
   "execution_count": 39,
   "metadata": {},
   "outputs": [
    {
     "data": {
      "text/plain": [
       "True"
      ]
     },
     "execution_count": 39,
     "metadata": {},
     "output_type": "execute_result"
    }
   ],
   "source": [
    "# Your code here\n",
    "set1.issubset(set2)\n",
    "set1.issubset(set3)"
   ]
  },
  {
   "cell_type": "markdown",
   "metadata": {},
   "source": [
    "#### 12 -Using the Python Set `union` method, aggregate `set3`, `set4`, and `set5`. Then aggregate `set1` and `set2`. \n",
    "\n",
    "#### Check if the aggregated values are equal."
   ]
  },
  {
   "cell_type": "code",
   "execution_count": 44,
   "metadata": {},
   "outputs": [
    {
     "name": "stdout",
     "output_type": "stream",
     "text": [
      "{1, 2, 4, 5, 8, 9, 10, 11, 15, 16, 18, 21, 23, 24, 25, 27, 28, 29, 31, 34, 36, 38, 40, 41, 42, 45, 46, 48, 49, 50, 52, 53, 55, 56, 57, 59, 60, 61, 63, 65, 66, 67, 68, 69, 70, 72, 79, 81, 83, 85, 86, 87, 89, 91, 93, 97, 98, 99}\n",
      "{0, 1, 2, 4, 5, 6, 7, 8, 9, 10, 11, 13, 14, 15, 16, 17, 18, 19, 20, 21, 22, 23, 24, 25, 26, 27, 28, 29, 31, 32, 33, 34, 36, 37, 38, 39, 40, 41, 42, 43, 44, 45, 46, 47, 48, 49, 50, 51, 52, 53, 55, 56, 57, 59, 60, 61, 62, 63, 64, 65, 66, 67, 68, 69, 70, 71, 72, 73, 74, 75, 77, 78, 79, 80, 81, 83, 84, 85, 86, 87, 88, 89, 90, 91, 92, 93, 94, 95, 96, 97, 98, 99}\n"
     ]
    }
   ],
   "source": [
    "# Your code here\n",
    "agg_set = set3.union(set4)\n",
    "print(agg_set)\n",
    "agg_set2= set3.union(set4,set5,set1,set2)\n",
    "print(agg_set2)"
   ]
  },
  {
   "cell_type": "markdown",
   "metadata": {},
   "source": [
    "#### 13 -Using the `pop` method, remove the first element from `set1`."
   ]
  },
  {
   "cell_type": "code",
   "execution_count": 51,
   "metadata": {},
   "outputs": [
    {
     "name": "stdout",
     "output_type": "stream",
     "text": [
      "80\n"
     ]
    },
    {
     "data": {
      "text/plain": [
       "0"
      ]
     },
     "execution_count": 51,
     "metadata": {},
     "output_type": "execute_result"
    }
   ],
   "source": [
    "# Your code here\n",
    "set1= set(sample_list_1)\n",
    "print(len(set1))\n",
    "set1.pop()"
   ]
  },
  {
   "cell_type": "markdown",
   "metadata": {},
   "source": [
    "#### 14 -Remove every element in the following list from `set1` if they are present in the set. Print the remaining elements.\n",
    "\n",
    "```\n",
    "list_to_remove = [1, 9, 11, 19, 21, 29, 31, 39, 41, 49, 51, 59, 61, 69, 71, 79, 81, 89, 91, 99]\n",
    "```"
   ]
  },
  {
   "cell_type": "code",
   "execution_count": 52,
   "metadata": {},
   "outputs": [
    {
     "name": "stdout",
     "output_type": "stream",
     "text": [
      "{2, 5, 6, 7, 13, 14, 15, 16, 17, 18, 20, 22, 23, 24, 26, 27, 28, 32, 33, 34, 36, 37, 38, 43, 44, 45, 46, 47, 50, 52, 53, 55, 56, 57, 60, 62, 63, 64, 65, 66, 67, 68, 70, 72, 73, 74, 75, 77, 78, 80, 83, 84, 85, 86, 87, 88, 90, 92, 93, 94, 95, 96}\n"
     ]
    }
   ],
   "source": [
    "# Your code here\n",
    "list_to_remove = [1, 9, 11, 19, 21, 29, 31, 39, 41, 49, 51, 59, 61, 69, 71, 79, 81, 89, 91, 99]\n",
    "for i in list_to_remove:\n",
    "    if i in set1:\n",
    "        set1.remove(i)\n",
    "print(set1)"
   ]
  },
  {
   "cell_type": "markdown",
   "metadata": {},
   "source": [
    "#### 15 -The objective of this lab is to provide you a overview of manipulating sets in Python and how they can be integrated within a real usecase\n",
    "#### For the exercises below it's strongly advised to quickly check this link: https://docs.python.org/2/library/sets.html#sets.Set\n",
    "#### Imagine you need to create the grocery list for your family! Below you will see a list of items each family member wants. There will be repetitions because this family has the habbit of each time they notice something is missing to write it down. The problem is that they don't really talk to each other and therefore some items in the list are repeated. With the collection of questions below you will see how they solve repetion and create a grocery list with unique elements.\n",
    "\n"
   ]
  },
  {
   "cell_type": "code",
   "execution_count": null,
   "metadata": {},
   "outputs": [],
   "source": [
    "father_list = ['garlic', 'watermelon', 'toilet paper', 'yogurt', 'onions', 'gums', 'flour', 'cucumber', 'watermelon', 'yogurt', 'garlic']\n",
    "\n",
    "mother_list = []\n",
    "\n",
    "Jo_list = ['blueberries', 'sugar', 'watermelon', 'gums', 'tomatoes', 'yogurt', 'juice', 'milk', 'onions', 'garlic', 'cucumber', 'sugar', 'blueberries', 'gums', 'yogurt']\n",
    "\n",
    "Carlos_list = ['tomatoes', 'water', 'onions', 'blueberries', 'garlic', 'flour', 'cherries', 'tomatoes', 'onions', 'water', 'tomatoes', 'toilet paper']\n",
    "\n",
    "Mattia_list = []\n",
    "\n",
    "\n"
   ]
  },
  {
   "cell_type": "markdown",
   "metadata": {},
   "source": [
    "#### 15.1- As you can see there are items repeated in each list. Creat a sequence of iterable elements with dintinct items that each family member wants. You can do it in two different ways. Assign each one (set) to a variable with the name of the family member (ex: father_set)."
   ]
  },
  {
   "cell_type": "code",
   "execution_count": null,
   "metadata": {},
   "outputs": [],
   "source": [
    "# Your code here\n"
   ]
  },
  {
   "cell_type": "markdown",
   "metadata": {},
   "source": [
    "#### 15.2- Q: Mattia wants the same items that his brother Carlos and his sister Jo but doesn't want anything they both want.\n",
    "\n",
    "##### Hint: check out the documentation for `x.symmetric_difference(y)`."
   ]
  },
  {
   "cell_type": "code",
   "execution_count": null,
   "metadata": {},
   "outputs": [],
   "source": [
    "# Your code here\n"
   ]
  },
  {
   "cell_type": "markdown",
   "metadata": {},
   "source": [
    "#### 15.3- The line of code below  will  generate a list of random elements from a collection of items, with replacement. Run it and from it create a sequence of unique elements and assign it to the variable mother.\n"
   ]
  },
  {
   "cell_type": "code",
   "execution_count": null,
   "metadata": {},
   "outputs": [],
   "source": [
    "import random\n",
    "items = ['milk', 'water', 'chocolate', 'blueberries', 'shampoo', 'flour', 'bread', 'sugar', 'watermelon', 'vinegar', 'tomatoes', 'yogurt', 'juice', 'gums', 'onions', 'garlic', 'cucumber', 'mushrooms', 'toilet paper', 'oranges', 'deodorant', 'cherries']\n",
    "\n",
    "mother_list = random.choices(items,k = 10) # https://docs.python.org/3/library/random.html\n",
    "\n",
    "print(mother_list)"
   ]
  },
  {
   "cell_type": "code",
   "execution_count": null,
   "metadata": {},
   "outputs": [],
   "source": [
    "# Your code here\n"
   ]
  },
  {
   "cell_type": "markdown",
   "metadata": {},
   "source": [
    "#### 15.4- Before leaving the house to the grocery store the father found a lot of toilet paper, so the mother decided to remove it from the items needed to be bought. Use the `.discard()` method to remove from each set created before the 'toilet paper'. \n",
    "\n",
    "#### Hint: Try to first create a list contaning the variables of each set created before, then loop through them and remove the unecessary item. \n",
    "\n",
    "##### Note: The`.discard()` method will remove and update the set without the need of reassignment.\n",
    "\n"
   ]
  },
  {
   "cell_type": "code",
   "execution_count": null,
   "metadata": {},
   "outputs": [],
   "source": [
    "# Your code here\n"
   ]
  },
  {
   "cell_type": "markdown",
   "metadata": {},
   "source": [
    "#### 15.5- Create a set with all the groceries needed to be bought for the house (no repetitions)."
   ]
  },
  {
   "cell_type": "code",
   "execution_count": null,
   "metadata": {},
   "outputs": [],
   "source": [
    "# Your code here\n"
   ]
  },
  {
   "cell_type": "markdown",
   "metadata": {},
   "source": [
    "#### 15.6- The Father said that he could only buy five items this time. So he decided to arbitraly pick wich ones to buy this time.\n",
    "\n",
    "##### Hint: use the `.pop()` method."
   ]
  },
  {
   "cell_type": "code",
   "execution_count": null,
   "metadata": {},
   "outputs": [],
   "source": [
    "# Your code here\n"
   ]
  }
 ],
 "metadata": {
  "kernelspec": {
   "display_name": "Python 3",
   "language": "python",
   "name": "python3"
  },
  "language_info": {
   "codemirror_mode": {
    "name": "ipython",
    "version": 3
   },
   "file_extension": ".py",
   "mimetype": "text/x-python",
   "name": "python",
   "nbconvert_exporter": "python",
   "pygments_lexer": "ipython3",
   "version": "3.8.8"
  }
 },
 "nbformat": 4,
 "nbformat_minor": 4
}
