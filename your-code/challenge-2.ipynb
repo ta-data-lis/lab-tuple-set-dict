{
 "cells": [
  {
   "cell_type": "markdown",
   "metadata": {},
   "source": [
    "## Challenge 2: Sets\n",
    "\n",
    "There are a lot to learn about Python Sets and the information presented in the lesson is limited due to its length. To learn Python Sets in depth you are strongly encouraged to review the W3Schools tutorial on [Python Sets Examples and Methods](https://www.w3schools.com/python/python_sets.asp) before you work on this lab. Some difficult questions in this lab have their solutions in the W3Schools tutorial.\n",
    "\n",
    "#### First, import the Python `random` libary"
   ]
  },
  {
   "cell_type": "code",
   "execution_count": 24,
   "metadata": {},
   "outputs": [],
   "source": [
    "import random"
   ]
  },
  {
   "cell_type": "markdown",
   "metadata": {},
   "source": [
    "#### 1 - In the cell below, create a list named `sample_list_1` with 80 random values. \n",
    "\n",
    "Requirements:\n",
    "\n",
    "* Each value is an integer falling between 0 and 100.\n",
    "* Each value in the list is unique.\n",
    "\n",
    "Print `sample_list_1` to review its values\n",
    "\n",
    "*Hint: use `random.sample` ([reference](https://docs.python.org/3/library/random.html#random.sample)).*"
   ]
  },
  {
   "cell_type": "code",
   "execution_count": 25,
   "metadata": {},
   "outputs": [
    {
     "name": "stdout",
     "output_type": "stream",
     "text": [
      "[52, 45, 86, 17, 88, 100, 19, 64, 47, 44, 69, 12, 53, 39, 75, 77, 43, 38, 50, 73, 81, 79, 91, 58, 20, 63, 95, 85, 55, 33, 65, 5, 36, 1, 21, 71, 4, 18, 6, 51, 87, 16, 54, 22, 94, 84, 59, 23, 10, 3, 31, 99, 80, 56, 68, 66, 8, 49, 93, 60, 37, 61, 90, 14, 15, 46, 41, 9, 48, 89, 2, 0, 70, 28, 82, 97, 72, 40, 25, 26]\n"
     ]
    }
   ],
   "source": [
    "# Your code here\n",
    "sample_list_1 = random.sample(range(0, 101), 80)\n",
    "print(sample_list_1)"
   ]
  },
  {
   "cell_type": "markdown",
   "metadata": {},
   "source": [
    "#### 2 - Convert `sample_list_1` to a set called `set1`. Print the length of the set. Is its length still 80?"
   ]
  },
  {
   "cell_type": "code",
   "execution_count": 26,
   "metadata": {},
   "outputs": [
    {
     "name": "stdout",
     "output_type": "stream",
     "text": [
      "80\n",
      "Yes, length still equals 80\n"
     ]
    }
   ],
   "source": [
    "# Your code here\n",
    "set1 = set(sample_list_1)\n",
    "\n",
    "print(len(set1))\n",
    "\n",
    "if(len(set1))==80:\n",
    "    print(\"Yes, length still equals 80\")\n",
    "else:\n",
    "    print(\"No, length does not still equals 80\")"
   ]
  },
  {
   "cell_type": "markdown",
   "metadata": {},
   "source": [
    "#### 3 - Create another list named `sample_list_2` with 80 random values.\n",
    "\n",
    "Requirements:\n",
    "\n",
    "* Each value is an integer falling between 0 and 100.\n",
    "* The values in the list don't have to be unique.\n",
    "\n",
    "*Hint: Use a FOR loop.*"
   ]
  },
  {
   "cell_type": "code",
   "execution_count": 27,
   "metadata": {},
   "outputs": [
    {
     "name": "stdout",
     "output_type": "stream",
     "text": [
      "[60, 40, 43, 71, 59, 90, 60, 24, 10, 55, 4, 46, 65, 29, 7, 37, 80, 40, 36, 10, 64, 13, 93, 20, 37, 62, 44, 31, 13, 42, 85, 87, 51, 67, 21, 44, 98, 11, 25, 69, 36, 68, 29, 52, 60, 68, 3, 24, 47, 97, 5, 18, 44, 3, 35, 52, 42, 48, 69, 30, 63, 40, 50, 82, 14, 98, 57, 98, 20, 81, 5, 1, 39, 11, 13, 4, 64, 76, 24, 43]\n"
     ]
    }
   ],
   "source": [
    "# Your code here\n",
    "sample_list_2 = []\n",
    "for i in range(80):\n",
    "    a = random.sample(range(0, 101), 1)\n",
    "    sample_list_2.append(a[0])\n",
    "\n",
    "print(sample_list_2)"
   ]
  },
  {
   "cell_type": "markdown",
   "metadata": {},
   "source": [
    "#### 4 - Convert `sample_list_2` to a set called `set2`. Print the length of the set. Is its length still 80?"
   ]
  },
  {
   "cell_type": "code",
   "execution_count": 28,
   "metadata": {},
   "outputs": [
    {
     "name": "stdout",
     "output_type": "stream",
     "text": [
      "53\n",
      "No, length does not still equals 80\n"
     ]
    }
   ],
   "source": [
    "# Your code here\n",
    "set2=set(sample_list_2)\n",
    "\n",
    "print(len(set2))\n",
    "\n",
    "if(len(set2))==80:\n",
    "    print(\"Yes, length still equals 80\")\n",
    "else:\n",
    "    print(\"No, length does not still equals 80\")"
   ]
  },
  {
   "cell_type": "markdown",
   "metadata": {},
   "source": [
    "#### 5 - Identify the elements present in `set1` but not in `set2`. Assign the elements to a new set named `set3`."
   ]
  },
  {
   "cell_type": "code",
   "execution_count": 29,
   "metadata": {},
   "outputs": [
    {
     "name": "stdout",
     "output_type": "stream",
     "text": [
      "{0, 2, 6, 8, 9, 12, 15, 16, 17, 19, 22, 23, 26, 28, 33, 38, 41, 45, 49, 53, 54, 56, 58, 61, 66, 70, 72, 73, 75, 77, 79, 84, 86, 88, 89, 91, 94, 95, 99, 100}\n",
      "{0, 2, 6, 8, 9, 12, 15, 16, 17, 19, 22, 23, 26, 28, 33, 38, 41, 45, 49, 53, 54, 56, 58, 61, 66, 70, 72, 73, 75, 77, 79, 84, 86, 88, 89, 91, 94, 95, 99, 100}\n"
     ]
    }
   ],
   "source": [
    "# Your code here\n",
    "set3 = set1 - set2\n",
    "print(set3)\n",
    "\n",
    "set3=set1.difference(set2)\n",
    "print(set3)"
   ]
  },
  {
   "cell_type": "markdown",
   "metadata": {},
   "source": [
    "#### 6 - Identify the elements present in `set2` but not in `set1`. Assign the elements to a new set named `set4`."
   ]
  },
  {
   "cell_type": "code",
   "execution_count": 30,
   "metadata": {},
   "outputs": [
    {
     "name": "stdout",
     "output_type": "stream",
     "text": [
      "{98, 35, 67, 7, 42, 11, 76, 13, 62, 24, 57, 29, 30}\n",
      "{98, 35, 67, 7, 42, 11, 76, 13, 62, 24, 57, 29, 30}\n"
     ]
    }
   ],
   "source": [
    "# Your code here\n",
    "set4 = set2 - set1\n",
    "print(set4)\n",
    "\n",
    "set4=set2.difference(set1)\n",
    "print(set4)"
   ]
  },
  {
   "cell_type": "markdown",
   "metadata": {},
   "source": [
    "#### 7 - Now Identify the elements shared between `set1` and `set2`. Assign the elements to a new set named `set5`."
   ]
  },
  {
   "cell_type": "code",
   "execution_count": 31,
   "metadata": {},
   "outputs": [
    {
     "name": "stdout",
     "output_type": "stream",
     "text": [
      "{1, 3, 4, 5, 10, 14, 18, 20, 21, 25, 31, 36, 37, 39, 40, 43, 44, 46, 47, 48, 50, 51, 52, 55, 59, 60, 63, 64, 65, 68, 69, 71, 80, 81, 82, 85, 87, 90, 93, 97}\n"
     ]
    }
   ],
   "source": [
    "# Your code here\n",
    "set5=set1.intersection(set2)\n",
    "print(set5)"
   ]
  },
  {
   "cell_type": "markdown",
   "metadata": {},
   "source": [
    "#### 8 - Create an empty set called `set6`."
   ]
  },
  {
   "cell_type": "code",
   "execution_count": 32,
   "metadata": {},
   "outputs": [],
   "source": [
    "# Your code here\n",
    "set6 =set()"
   ]
  },
  {
   "cell_type": "markdown",
   "metadata": {},
   "source": [
    "#### 9 - Add `set3` and `set5` to `set6` using the Python Set `update` method."
   ]
  },
  {
   "cell_type": "code",
   "execution_count": 33,
   "metadata": {},
   "outputs": [
    {
     "name": "stdout",
     "output_type": "stream",
     "text": [
      "{0, 1, 2, 3, 4, 5, 6, 8, 9, 10, 12, 14, 15, 16, 17, 18, 19, 20, 21, 22, 23, 25, 26, 28, 31, 33, 36, 37, 38, 39, 40, 41, 43, 44, 45, 46, 47, 48, 49, 50, 51, 52, 53, 54, 55, 56, 58, 59, 60, 61, 63, 64, 65, 66, 68, 69, 70, 71, 72, 73, 75, 77, 79, 80, 81, 82, 84, 85, 86, 87, 88, 89, 90, 91, 93, 94, 95, 97, 99, 100}\n"
     ]
    }
   ],
   "source": [
    "# Your code here\n",
    "set6.update(set3)\n",
    "set6.update(set5)\n",
    "print(set6)"
   ]
  },
  {
   "cell_type": "markdown",
   "metadata": {},
   "source": [
    "#### 10 - Check if `set1` and `set6` are equal."
   ]
  },
  {
   "cell_type": "code",
   "execution_count": 34,
   "metadata": {},
   "outputs": [
    {
     "name": "stdout",
     "output_type": "stream",
     "text": [
      "set1 and set6 are equal\n"
     ]
    }
   ],
   "source": [
    "# Your code here\n",
    "if set1==set6:\n",
    "    print(\"set1 and set6 are equal\")\n",
    "else:\n",
    "    Print(\"set1 and set6 are not equal\")"
   ]
  },
  {
   "cell_type": "markdown",
   "metadata": {},
   "source": [
    "#### 11 - Check if `set1` contains `set2` using the Python Set `issubset` method. Then check if `set1` contains `set3`.*"
   ]
  },
  {
   "cell_type": "code",
   "execution_count": 35,
   "metadata": {},
   "outputs": [
    {
     "name": "stdout",
     "output_type": "stream",
     "text": [
      "False\n",
      "True\n"
     ]
    }
   ],
   "source": [
    "# Your code here\n",
    "\n",
    "#set1 contains set2\n",
    "z1 = set2.issubset(set1)\n",
    "print(z1)\n",
    "\n",
    "#set2 contains set1\n",
    "z2 = set3.issubset(set1)\n",
    "print(z2)"
   ]
  },
  {
   "cell_type": "markdown",
   "metadata": {},
   "source": [
    "#### 12 -Using the Python Set `union` method, aggregate `set3`, `set4`, and `set5`. Then aggregate `set1` and `set2`. \n",
    "\n",
    "#### Check if the aggregated values are equal."
   ]
  },
  {
   "cell_type": "code",
   "execution_count": 36,
   "metadata": {},
   "outputs": [
    {
     "name": "stdout",
     "output_type": "stream",
     "text": [
      "Yes, they are\n"
     ]
    }
   ],
   "source": [
    "# Your code here\n",
    "aggre1 = set3.union(set4, set5)\n",
    "aggre2 = set1.union(set2)\n",
    "\n",
    "if aggre1 == aggre2:\n",
    "    print(\"Yes, they are\")\n",
    "else:\n",
    "    print(\"No, they are not\")"
   ]
  },
  {
   "cell_type": "markdown",
   "metadata": {},
   "source": [
    "#### 13 -Using the `pop` method, remove the first element from `set1`."
   ]
  },
  {
   "cell_type": "code",
   "execution_count": 37,
   "metadata": {},
   "outputs": [],
   "source": [
    "# Your code here\n",
    "\n",
    "#Pop method can only be used to drop/remove one random element from the set. It can not be use to drop/remove a specific \n",
    "#element from the set. Remeber that a set is a collection which is unordered, unchangeable, and unindexed.\n",
    "\n",
    "#https://www.w3schools.com/python/ref_set_pop.asp"
   ]
  },
  {
   "cell_type": "markdown",
   "metadata": {},
   "source": [
    "#### 14 -Remove every element in the following list from `set1` if they are present in the set. Print the remaining elements.\n",
    "\n",
    "```\n",
    "list_to_remove = [1, 9, 11, 19, 21, 29, 31, 39, 41, 49, 51, 59, 61, 69, 71, 79, 81, 89, 91, 99]\n",
    "```"
   ]
  },
  {
   "cell_type": "code",
   "execution_count": 38,
   "metadata": {},
   "outputs": [
    {
     "name": "stdout",
     "output_type": "stream",
     "text": [
      "{0, 2, 3, 4, 5, 6, 8, 10, 12, 14, 15, 16, 17, 18, 20, 22, 23, 25, 26, 28, 33, 36, 37, 38, 40, 43, 44, 45, 46, 47, 48, 50, 52, 53, 54, 55, 56, 58, 60, 63, 64, 65, 66, 68, 70, 72, 73, 75, 77, 80, 82, 84, 85, 86, 87, 88, 90, 93, 94, 95, 97, 100}\n"
     ]
    }
   ],
   "source": [
    "# Your code here\n",
    "\n",
    "list_to_remove = [1, 9, 11, 19, 21, 29, 31, 39, 41, 49, 51, 59, 61, 69, 71, 79, 81, 89, 91, 99]\n",
    "\n",
    "for element in list_to_remove:\n",
    "    if element in set1:\n",
    "        set1.discard(element)\n",
    "    \n",
    "print(set1)\n",
    "#https://www.w3schools.com/python/ref_set_discard.asp"
   ]
  },
  {
   "cell_type": "markdown",
   "metadata": {},
   "source": [
    "#### 15 -The objective of this lab is to provide you a overview of manipulating sets in Python and how they can be integrated within a real usecase\n",
    "#### For the exercises below it's strongly advised to quickly check this link: https://docs.python.org/2/library/sets.html#sets.Set\n",
    "#### Imagine you need to create the grocery list for your family! Below you will see a list of items each family member wants. There will be repetitions because this family has the habbit of each time they notice something is missing to write it down. The problem is that they don't really talk to each other and therefore some items in the list are repeated. With the collection of questions below you will see how they solve repetion and create a grocery list with unique elements.\n",
    "\n"
   ]
  },
  {
   "cell_type": "code",
   "execution_count": 39,
   "metadata": {},
   "outputs": [],
   "source": [
    "father_list = ['garlic', 'watermelon', 'toilet paper', 'yogurt', 'onions', 'gums', 'flour', 'cucumber', 'watermelon', 'yogurt', 'garlic']\n",
    "\n",
    "mother_list = []\n",
    "\n",
    "Jo_list = ['blueberries', 'sugar', 'watermelon', 'gums', 'tomatoes', 'yogurt', 'juice', 'milk', 'onions', 'garlic', 'cucumber', 'sugar', 'blueberries', 'gums', 'yogurt']\n",
    "\n",
    "Carlos_list = ['tomatoes', 'water', 'onions', 'blueberries', 'garlic', 'flour', 'cherries', 'tomatoes', 'onions', 'water', 'tomatoes', 'toilet paper']\n",
    "\n",
    "Mattia_list = []\n",
    "\n",
    "\n"
   ]
  },
  {
   "cell_type": "markdown",
   "metadata": {},
   "source": [
    "#### 15.1- As you can see there are items repeated in each list. Creat a sequence of iterable elements with dintinct items that each family member wants. You can do it in two different ways. Assign each one (set) to a variable with the name of the family member (ex: father_set)."
   ]
  },
  {
   "cell_type": "code",
   "execution_count": 40,
   "metadata": {},
   "outputs": [
    {
     "name": "stdout",
     "output_type": "stream",
     "text": [
      "father_set:  {'cucumber', 'flour', 'watermelon', 'garlic', 'yogurt', 'onions', 'gums', 'toilet paper'} \n",
      "\n",
      "mother_set:  set() \n",
      "\n",
      "Jo_set:  {'cucumber', 'juice', 'watermelon', 'blueberries', 'sugar', 'gums', 'yogurt', 'onions', 'garlic', 'tomatoes', 'milk'} \n",
      "\n",
      "Carlos_set:  {'flour', 'water', 'cherries', 'blueberries', 'garlic', 'onions', 'tomatoes', 'toilet paper'} \n",
      "\n",
      "Mattia_set:  set() \n",
      "\n",
      "father_set:  ['garlic', 'watermelon', 'toilet paper', 'yogurt', 'onions', 'gums', 'flour', 'cucumber'] \n",
      "\n",
      "mother_set:  [] \n",
      "\n",
      "Jo_set:  ['blueberries', 'sugar', 'watermelon', 'gums', 'tomatoes', 'yogurt', 'juice', 'milk', 'onions', 'garlic', 'cucumber'] \n",
      "\n",
      "Carlos_set:  ['tomatoes', 'water', 'onions', 'blueberries', 'garlic', 'flour', 'cherries', 'toilet paper'] \n",
      "\n",
      "Mattia_set2:  [] \n",
      "\n"
     ]
    }
   ],
   "source": [
    "# Your code here\n",
    "\n",
    "#1st Way - Convert list to set\n",
    "father_set=set(father_list)\n",
    "print(\"father_set: \", father_set,\"\\n\")\n",
    "\n",
    "mother_set =set(mother_list)\n",
    "print(\"mother_set: \",mother_set,\"\\n\")\n",
    "\n",
    "Jo_set =set(Jo_list)\n",
    "print(\"Jo_set: \",Jo_set,\"\\n\")\n",
    "\n",
    "Carlos_set =set(Carlos_list)\n",
    "print(\"Carlos_set: \",Carlos_set,\"\\n\")\n",
    "\n",
    "Mattia_set =set(Mattia_list)\n",
    "print(\"Mattia_set: \", Mattia_set,\"\\n\")\n",
    "\n",
    "#2nd Way - Eliminate Duplicates (https://www.w3schools.com/python/python_howto_remove_duplicates.asp)\n",
    "\n",
    "father_set2 = list(dict.fromkeys(father_list))\n",
    "print(\"father_set: \", father_set2,\"\\n\")\n",
    "\n",
    "mother_set2 = list(dict.fromkeys(mother_list))\n",
    "print(\"mother_set: \", mother_set2,\"\\n\")\n",
    "\n",
    "Jo_set2 = list(dict.fromkeys(Jo_list))\n",
    "print(\"Jo_set: \", Jo_set2,\"\\n\")\n",
    "\n",
    "Carlos_set2 = list(dict.fromkeys(Carlos_list))\n",
    "print(\"Carlos_set: \", Carlos_set2,\"\\n\")\n",
    "\n",
    "Mattia_set2 = list(dict.fromkeys(Mattia_list))\n",
    "print(\"Mattia_set2: \", Mattia_set2,\"\\n\")\n"
   ]
  },
  {
   "cell_type": "markdown",
   "metadata": {},
   "source": [
    "#### 15.2- Q: Mattia wants the same items that his brother Carlos and his sister Jo but doesn't want anything they both want.\n",
    "\n",
    "##### Hint: check out the documentation for `x.symmetric_difference(y)`."
   ]
  },
  {
   "cell_type": "code",
   "execution_count": 41,
   "metadata": {},
   "outputs": [
    {
     "name": "stdout",
     "output_type": "stream",
     "text": [
      "Mattia_set:  {'cucumber', 'juice', 'flour', 'water', 'watermelon', 'cherries', 'sugar', 'gums', 'yogurt', 'milk', 'toilet paper'} \n",
      "\n",
      "Mattia_set:  {'cucumber', 'juice', 'flour', 'water', 'watermelon', 'cherries', 'sugar', 'gums', 'yogurt', 'milk', 'toilet paper'} \n",
      "\n"
     ]
    }
   ],
   "source": [
    "# Your code here\n",
    "Mattia_set=Carlos_set.symmetric_difference(Jo_set)\n",
    "print(\"Mattia_set: \", Mattia_set,\"\\n\")\n",
    "\n",
    "#Test other way\n",
    "Mattia_set= Carlos_set.union(Jo_set) - Carlos_set.intersection(Jo_set)\n",
    "print(\"Mattia_set: \", Mattia_set,\"\\n\")"
   ]
  },
  {
   "cell_type": "markdown",
   "metadata": {},
   "source": [
    "#### 15.3- The line of code below  will  generate a list of random elements from a collection of items, with replacement. Run it and from it create a sequence of unique elements and assign it to the variable mother.\n"
   ]
  },
  {
   "cell_type": "code",
   "execution_count": 42,
   "metadata": {},
   "outputs": [
    {
     "name": "stdout",
     "output_type": "stream",
     "text": [
      "['watermelon', 'milk', 'yogurt', 'toilet paper', 'oranges', 'bread', 'juice', 'cherries', 'gums', 'sugar']\n"
     ]
    }
   ],
   "source": [
    "import random\n",
    "items = ['milk', 'water', 'chocolate', 'blueberries', 'shampoo', 'flour', 'bread', 'sugar', 'watermelon', 'vinegar', 'tomatoes', 'yogurt', 'juice', 'gums', 'onions', 'garlic', 'cucumber', 'mushrooms', 'toilet paper', 'oranges', 'deodorant', 'cherries']\n",
    "\n",
    "mother_list = random.choices(items,k = 10) # https://docs.python.org/3/library/random.html\n",
    "\n",
    "print(mother_list)\n"
   ]
  },
  {
   "cell_type": "code",
   "execution_count": 43,
   "metadata": {},
   "outputs": [
    {
     "name": "stdout",
     "output_type": "stream",
     "text": [
      "mother_set:  {'juice', 'watermelon', 'cherries', 'sugar', 'gums', 'yogurt', 'bread', 'oranges', 'milk', 'toilet paper'} \n",
      "\n"
     ]
    }
   ],
   "source": [
    "# Your code here\n",
    "mother_set=set(mother_list)\n",
    "print(\"mother_set: \",mother_set,\"\\n\")\n"
   ]
  },
  {
   "cell_type": "markdown",
   "metadata": {},
   "source": [
    "#### 15.4- Before leaving the house to the grocery store the father found a lot of toilet paper, so the mother decided to remove it from the items needed to be bought. Use the `.discard()` method to remove from each set created before the 'toilet paper'. \n",
    "\n",
    "#### Hint: Try to first create a list contaning the variables of each set created before, then loop through them and remove the unecessary item. \n",
    "\n",
    "##### Note: The`.discard()` method will remove and update the set without the need of reassignment.\n",
    "\n"
   ]
  },
  {
   "cell_type": "code",
   "execution_count": 44,
   "metadata": {},
   "outputs": [
    {
     "name": "stdout",
     "output_type": "stream",
     "text": [
      "{'cucumber', 'flour', 'gums', 'yogurt', 'bread', 'oranges', 'milk', 'toilet paper', 'juice', 'water', 'watermelon', 'cherries', 'blueberries', 'sugar', 'garlic', 'onions', 'tomatoes'} \n",
      "\n",
      "{'cucumber', 'flour', 'watermelon', 'garlic', 'yogurt', 'onions', 'gums'} \n",
      "\n",
      "{'juice', 'watermelon', 'cherries', 'sugar', 'gums', 'yogurt', 'bread', 'oranges', 'milk'} \n",
      "\n",
      "{'cucumber', 'juice', 'watermelon', 'blueberries', 'sugar', 'gums', 'yogurt', 'onions', 'garlic', 'tomatoes', 'milk'} \n",
      "\n",
      "{'flour', 'water', 'cherries', 'blueberries', 'garlic', 'onions', 'tomatoes'} \n",
      "\n",
      "{'cucumber', 'juice', 'flour', 'water', 'watermelon', 'cherries', 'sugar', 'gums', 'yogurt', 'milk'} \n",
      "\n"
     ]
    }
   ],
   "source": [
    "aggregate_grocery= mother_set.union(father_set,Jo_set, Carlos_set, Mattia_set)\n",
    "\n",
    "\n",
    "print(aggregate_grocery,'\\n')\n",
    "\n",
    "for product in aggregate_grocery:\n",
    "    if product == 'toilet paper':\n",
    "        mother_set.discard('toilet paper')\n",
    "        father_set.discard('toilet paper')\n",
    "        Jo_set.discard('toilet paper')\n",
    "        Carlos_set.discard('toilet paper')\n",
    "        Mattia_set.discard('toilet paper')\n",
    "    else:\n",
    "        continue\n",
    "        \n",
    "        \n",
    "print(father_set,\"\\n\")\n",
    "print(mother_set,\"\\n\")\n",
    "print(Jo_set,\"\\n\")\n",
    "print(Carlos_set,\"\\n\")\n",
    "print(Mattia_set,\"\\n\")\n",
    "\n"
   ]
  },
  {
   "cell_type": "markdown",
   "metadata": {},
   "source": [
    "#### 15.5- Create a set with all the groceries needed to be bought for the house (no repetitions)."
   ]
  },
  {
   "cell_type": "code",
   "execution_count": 45,
   "metadata": {},
   "outputs": [
    {
     "name": "stdout",
     "output_type": "stream",
     "text": [
      "{'cucumber', 'flour', 'gums', 'yogurt', 'bread', 'oranges', 'milk', 'juice', 'water', 'watermelon', 'cherries', 'blueberries', 'sugar', 'garlic', 'onions', 'tomatoes'} \n",
      "\n",
      "{'cucumber', 'chocolate', 'juice', 'flour', 'water', 'watermelon', 'cherries', 'blueberries', 'sugar', 'garlic', 'yogurt', 'onions', 'gums', 'tomatoes', 'milk'} \n",
      "\n"
     ]
    }
   ],
   "source": [
    "# Your code here\n",
    "1#Create a common list\n",
    "aggregate_grocery= mother_set.union(father_set,Jo_set, Carlos_set, Mattia_set)\n",
    "print(aggregate_grocery,\"\\n\")   \n",
    "\n",
    "3#Discard \"toilet paper\" from the set\n",
    "if \"toilet paper\" in aggregate_grocery:\n",
    "    aggregate_grocery.discard(\"toilet paper\")\n",
    "    \n",
    "    \n",
    "print(family_list_set,\"\\n\")   \n"
   ]
  },
  {
   "cell_type": "markdown",
   "metadata": {},
   "source": [
    "#### 15.6- The Father said that he could only buy five items this time. So he decided to arbitraly pick wich ones to buy this time.\n",
    "\n",
    "##### Hint: use the `.pop()` method."
   ]
  },
  {
   "cell_type": "code",
   "execution_count": 46,
   "metadata": {},
   "outputs": [
    {
     "name": "stdout",
     "output_type": "stream",
     "text": [
      "['cucumber', 'chocolate', 'juice', 'flour', 'water'] \n",
      "\n",
      "['onions', 'garlic', 'sugar', 'yogurt', 'watermelon']\n"
     ]
    }
   ],
   "source": [
    "# Your code here\n",
    "#1stMehod:\n",
    "List_five_elements=[]\n",
    "for i in range(5):\n",
    "    element = family_list_set.pop()\n",
    "    List_five_elements.append(element)\n",
    "    \n",
    "print(List_five_elements,\"\\n\")\n",
    "\n",
    "    \n",
    "\n",
    "#2nd Method\n",
    "import random\n",
    "print(random.sample(family_list_set,len(family_list_set)-5))"
   ]
  },
  {
   "cell_type": "code",
   "execution_count": null,
   "metadata": {},
   "outputs": [],
   "source": []
  }
 ],
 "metadata": {
  "kernelspec": {
   "display_name": "Python 3",
   "language": "python",
   "name": "python3"
  },
  "language_info": {
   "codemirror_mode": {
    "name": "ipython",
    "version": 3
   },
   "file_extension": ".py",
   "mimetype": "text/x-python",
   "name": "python",
   "nbconvert_exporter": "python",
   "pygments_lexer": "ipython3",
   "version": "3.8.8"
  }
 },
 "nbformat": 4,
 "nbformat_minor": 2
}
