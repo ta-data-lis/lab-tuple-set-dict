{
 "cells": [
  {
   "cell_type": "markdown",
   "metadata": {},
   "source": [
    "## Challenge 2: Sets\n",
    "\n",
    "There are a lot to learn about Python Sets and the information presented in the lesson is limited due to its length. To learn Python Sets in depth you are strongly encouraged to review the W3Schools tutorial on [Python Sets Examples and Methods](https://www.w3schools.com/python/python_sets.asp) before you work on this lab. Some difficult questions in this lab have their solutions in the W3Schools tutorial.\n",
    "\n",
    "#### First, import the Python `random` libary"
   ]
  },
  {
   "cell_type": "code",
   "execution_count": null,
   "metadata": {},
   "outputs": [],
   "source": [
    "import random"
   ]
  },
  {
   "cell_type": "markdown",
   "metadata": {},
   "source": [
    "#### 1 - In the cell below, create a list named `sample_list_1` with 80 random values. \n",
    "\n",
    "Requirements:\n",
    "\n",
    "* Each value is an integer falling between 0 and 100.\n",
    "* Each value in the list is unique.\n",
    "\n",
    "Print `sample_list_1` to review its values\n",
    "\n",
    "*Hint: use `random.sample` ([reference](https://docs.python.org/3/library/random.html#random.sample)).*"
   ]
  },
  {
   "cell_type": "code",
   "execution_count": null,
   "metadata": {},
   "outputs": [],
   "source": [
    "# Your code here\n",
    "#Let's define a seed in order to the result be the same each time the code is run\n",
    "random.seed(5)\n",
    "\n",
    "# List sample_list_1 creation\n",
    "sample_list_1 = random.sample(range(101), k=80)\n",
    "\n",
    "#Let's print the list sample_list_1\n",
    "print(sample_list_1)\n",
    "\n",
    "#Just to confirm the reference documentation was understood\n",
    "print('The list sample_list_1 has', len(sample_list_1), 'elements.')"
   ]
  },
  {
   "cell_type": "markdown",
   "metadata": {},
   "source": [
    "#### 2 - Convert `sample_list_1` to a set called `set1`. Print the length of the set. Is its length still 80?"
   ]
  },
  {
   "cell_type": "code",
   "execution_count": null,
   "metadata": {},
   "outputs": [],
   "source": [
    "# Your code here\n",
    "#Conversion of list sample_list_1 to set set1\n",
    "set1 = set(sample_list_1)\n",
    "\n",
    "#Let us print the length of set\n",
    "print('The set set1 has', len(set1), 'elements.')\n",
    "\n",
    "# The length of set set1 shall be the same of list sample_list_1, because the function sample of\n",
    "# module random had counts with no value attributed, which takes None if missing "
   ]
  },
  {
   "cell_type": "markdown",
   "metadata": {},
   "source": [
    "#### 3 - Create another list named `sample_list_2` with 80 random values.\n",
    "\n",
    "Requirements:\n",
    "\n",
    "* Each value is an integer falling between 0 and 100.\n",
    "* The values in the list don't have to be unique.\n",
    "\n",
    "*Hint: Use a FOR loop.*"
   ]
  },
  {
   "cell_type": "code",
   "execution_count": null,
   "metadata": {},
   "outputs": [],
   "source": [
    "# Your code here\n",
    "#Let's define a seed in order to the result be the same each time the code is run\n",
    "random.seed(5)\n",
    "\n",
    "# Initialization of list sample_list_2\n",
    "sample_list_2 = []\n",
    "\n",
    "# List sample_list_2 creation and printing\n",
    "for i in range(8):\n",
    "    sample_list_2.extend(random.sample(range(101), k=10))\n",
    "print(sample_list_2)\n",
    "\n",
    "#Let's check the number of elements in the list\n",
    "print('The list sample_list_2 has', len(sample_list_2), 'elements.')\n"
   ]
  },
  {
   "cell_type": "markdown",
   "metadata": {},
   "source": [
    "#### 4 - Convert `sample_list_2` to a set called `set2`. Print the length of the set. Is its length still 80?"
   ]
  },
  {
   "cell_type": "code",
   "execution_count": null,
   "metadata": {},
   "outputs": [],
   "source": [
    "# Your code here\n",
    "\n",
    "#Conversion of list sample_list_2 to set set2\n",
    "set2 = set(sample_list_2)\n",
    "\n",
    "#Let us print the length of set\n",
    "print('The set set2 has', len(set2), 'elements.')\n",
    "\n",
    "# The length of set set2 may have or have not the same length of list sample_list_2, because the\n",
    "# function sample of module random was generated 8 times with a length of ten elements each time"
   ]
  },
  {
   "cell_type": "markdown",
   "metadata": {},
   "source": [
    "#### 5 - Identify the elements present in `set1` but not in `set2`. Assign the elements to a new set named `set3`."
   ]
  },
  {
   "cell_type": "code",
   "execution_count": null,
   "metadata": {},
   "outputs": [],
   "source": [
    "# Your code here\n",
    "#The elements in common between set1 and set2 will be removed from set1\n",
    "set3 = set1.difference(set2) \n",
    "print(set3)"
   ]
  },
  {
   "cell_type": "markdown",
   "metadata": {},
   "source": [
    "#### 6 - Identify the elements present in `set2` but not in `set1`. Assign the elements to a new set named `set4`."
   ]
  },
  {
   "cell_type": "code",
   "execution_count": null,
   "metadata": {},
   "outputs": [],
   "source": [
    "# Your code here\n",
    "#The elements in common between set1 and set2 will be removed from set2\n",
    "set4 = set2.difference(set1) \n",
    "print(set4)"
   ]
  },
  {
   "cell_type": "markdown",
   "metadata": {},
   "source": [
    "#### 7 - Now Identify the elements shared between `set1` and `set2`. Assign the elements to a new set named `set5`."
   ]
  },
  {
   "cell_type": "code",
   "execution_count": null,
   "metadata": {},
   "outputs": [],
   "source": [
    "# Your code here\n",
    "#The elements in common between set1 and set2 will be assigned to set5\n",
    "set5 = set1.intersection(set2) \n",
    "print(set5)"
   ]
  },
  {
   "cell_type": "markdown",
   "metadata": {},
   "source": [
    "#### 8 - Create an empty set called `set6`."
   ]
  },
  {
   "cell_type": "code",
   "execution_count": null,
   "metadata": {},
   "outputs": [],
   "source": [
    "# Your code here\n",
    "# Creation of empty set and printing of its content\n",
    "set6 = set()\n",
    "print(set6)\n",
    "\n",
    "#Let's check its type\n",
    "type(set6)"
   ]
  },
  {
   "cell_type": "markdown",
   "metadata": {},
   "source": [
    "#### 9 - Add `set3` and `set5` to `set6` using the Python Set `update` method."
   ]
  },
  {
   "cell_type": "code",
   "execution_count": null,
   "metadata": {},
   "outputs": [],
   "source": [
    "# Your code here\n",
    "#Use of method update with set set6\n",
    "set6.update(set3, set5)"
   ]
  },
  {
   "cell_type": "markdown",
   "metadata": {},
   "source": [
    "#### 10 - Check if `set1` and `set6` are equal."
   ]
  },
  {
   "cell_type": "code",
   "execution_count": null,
   "metadata": {},
   "outputs": [],
   "source": [
    "# Your code here\n",
    "#Let's check if set1 and set6 are equal with if clauses\n",
    "if set1 == set6:\n",
    "    print('set1 and set6 are equal.')\n",
    "else:\n",
    "    print('set1 and set6 are not equal.')"
   ]
  },
  {
   "cell_type": "markdown",
   "metadata": {},
   "source": [
    "#### 11 - Check if `set1` contains `set2` using the Python Set `issubset` method. Then check if `set1` contains `set3`.*"
   ]
  },
  {
   "cell_type": "code",
   "execution_count": null,
   "metadata": {},
   "outputs": [],
   "source": [
    "# Your code here\n",
    "#set1 contains set2?\n",
    "print('It is', set2.issubset(set1),'that set2 is contained within set1.')\n",
    "\n",
    "#set1 contains set3?\n",
    "print('It is', set3.issubset(set1),'that set3 is contained within set1.')"
   ]
  },
  {
   "cell_type": "markdown",
   "metadata": {},
   "source": [
    "#### 12 -Using the Python Set `union` method, aggregate `set3`, `set4`, and `set5`. Then aggregate `set1` and `set2`. \n",
    "\n",
    "#### Check if the aggregated values are equal."
   ]
  },
  {
   "cell_type": "code",
   "execution_count": null,
   "metadata": {},
   "outputs": [],
   "source": [
    "# Your code here\n",
    "#Aggregation of set3, set4 asnd set5\n",
    "set3_4_5 = set3.union(set4, set5)\n",
    "\n",
    "#Aggregation of set1 and set2\n",
    "set1_2 = set1.union(set2)\n",
    "\n",
    "#Let's check if set1_2 and set3_4_5 are equal with if clauses\n",
    "if set1_2 == set3_4_5:\n",
    "    print('set1_2 and set3_4_5 are equal.')\n",
    "else:\n",
    "    print('set1_2 and set3_4_5 are not equal.')"
   ]
  },
  {
   "cell_type": "markdown",
   "metadata": {},
   "source": [
    "#### 13 -Using the `pop` method, remove the first element from `set1`."
   ]
  },
  {
   "cell_type": "code",
   "execution_count": null,
   "metadata": {},
   "outputs": [],
   "source": [
    "# Your code here\n",
    "# Check of the set1 content\n",
    "print(set1)\n",
    "print(len(set1))\n",
    "\n",
    "# removal of the first element of set1, using a copy of it (set1_to_pop)\n",
    "set1_to_pop = set1.copy()\n",
    "set1_to_pop.pop()\n",
    "\n",
    "# Check if the item removed is in set1, using a copy of it (set1_to_pop)\n",
    "print(set1_to_pop)\n",
    "print(len(set1_to_pop))"
   ]
  },
  {
   "cell_type": "markdown",
   "metadata": {},
   "source": [
    "#### 14 -Remove every element in the following list from `set1` if they are present in the set. Print the remaining elements.\n",
    "\n",
    "```\n",
    "list_to_remove = [1, 9, 11, 19, 21, 29, 31, 39, 41, 49, 51, 59, 61, 69, 71, 79, 81, 89, 91, 99]\n",
    "```"
   ]
  },
  {
   "cell_type": "code",
   "execution_count": null,
   "metadata": {},
   "outputs": [],
   "source": [
    "# Your code here\n",
    "# Initialization of the list which contains the elements to remove from set1\n",
    "list_to_remove = [1, 9, 11, 19, 21, 29, 31, 39, 41, 49, 51, 59, 61, 69, 71, 79, 81, 89, 91, 99]\n",
    "\n",
    "# Check of the set1 content\n",
    "print(set1)\n",
    "print(len(set1))\n",
    "\n",
    "# removal of the elements contained in list_to_remove, using a copy of it (set1_to_discard)\n",
    "set1_to_discard = set1.copy()\n",
    "{set1_to_discard.discard(i) for i in list_to_remove}\n",
    "\n",
    "# Check if the item removed is in set1, using a copy of it (set1_to_pop)\n",
    "print(set1_to_discard)\n",
    "print(len(set1_to_discard))\n"
   ]
  },
  {
   "cell_type": "markdown",
   "metadata": {},
   "source": [
    "#### 15 -The objective of this lab is to provide you a overview of manipulating sets in Python and how they can be integrated within a real usecase\n",
    "#### For the exercises below it's strongly advised to quickly check this link: https://docs.python.org/2/library/sets.html#sets.Set\n",
    "#### Imagine you need to create the grocery list for your family! Below you will see a list of items each family member wants. There will be repetitions because this family has the habbit of each time they notice something is missing to write it down. The problem is that they don't really talk to each other and therefore some items in the list are repeated. With the collection of questions below you will see how they solve repetion and create a grocery list with unique elements.\n",
    "\n"
   ]
  },
  {
   "cell_type": "code",
   "execution_count": null,
   "metadata": {},
   "outputs": [],
   "source": [
    "father_list = ['garlic', 'watermelon', 'toilet paper', 'yogurt', 'onions', 'gums', 'flour',\\\n",
    "               'cucumber', 'watermelon', 'yogurt', 'garlic']\n",
    "\n",
    "mother_list = []\n",
    "\n",
    "Jo_list = ['blueberries', 'sugar', 'watermelon', 'gums', 'tomatoes', 'yogurt', 'juice', 'milk',\\\n",
    "           'onions', 'garlic', 'cucumber', 'sugar', 'blueberries', 'gums', 'yogurt']\n",
    "\n",
    "Carlos_list = ['tomatoes', 'water', 'onions', 'blueberries', 'garlic', 'flour', 'cherries',\\\n",
    "               'tomatoes', 'onions', 'water', 'tomatoes', 'toilet paper']\n",
    "\n",
    "Mattia_list = []\n",
    "\n",
    "\n"
   ]
  },
  {
   "cell_type": "markdown",
   "metadata": {},
   "source": [
    "#### 15.1- As you can see there are items repeated in each list. Create a sequence of iterable elements with dintinct items that each family member wants. You can do it in two different ways. Assign each one (set) to a variable with the name of the family member (ex: father_set)."
   ]
  },
  {
   "cell_type": "code",
   "execution_count": null,
   "metadata": {},
   "outputs": [],
   "source": [
    "# Your code here\n",
    "# Transform each list in a set\n",
    "father_set = set(father_list)\n",
    "mother_set = set(mother_list)\n",
    "Jo_set = set(Jo_list)\n",
    "Carlos_set = set(Carlos_list)\n",
    "Mattia_set = set(Mattia_list)\n",
    "\n",
    "#Let's check the content of each set\n",
    "print('The list of father without repeated items:', father_set)\n",
    "print('The list of mother without repeated items:', mother_set)\n",
    "print('The list of Jo without repeated items:', Jo_set)\n",
    "print('The list of Carlos without repeated items:', Carlos_set)\n",
    "print('The list of Mattia without repeated items:', Mattia_set)\n",
    "\n"
   ]
  },
  {
   "cell_type": "markdown",
   "metadata": {},
   "source": [
    "#### 15.2- Q: Mattia wants the same items that his brother Carlos and his sister Jo but doesn't want anything they both want.\n",
    "\n",
    "##### Hint: check out the documentation for `x.symmetric_difference(y)`."
   ]
  },
  {
   "cell_type": "code",
   "execution_count": null,
   "metadata": {},
   "outputs": [],
   "source": [
    "# Your code here\n",
    "#Let's check the content of Jo and Carlos sets\n",
    "print('The list of Jo without repeated items:', Jo_set)\n",
    "print('The list of Carlos without repeated items:', Carlos_set)\n",
    "\n",
    "# Update of Mattia list (or set in this case :-) )\n",
    "Mattia_set = Jo_set.symmetric_difference(Carlos_set)\n",
    "print('The new list of Mattia without repeated items:', Mattia_set)\n"
   ]
  },
  {
   "cell_type": "markdown",
   "metadata": {},
   "source": [
    "#### 15.3- The line of code below  will  generate a list of random elements from a collection of items, with replacement. Run it and from it create a sequence of unique elements and assign it to the variable mother.\n"
   ]
  },
  {
   "cell_type": "code",
   "execution_count": null,
   "metadata": {},
   "outputs": [],
   "source": [
    "import random\n",
    "\n",
    "#In order to check always the same items (for analysis purpose)\n",
    "random.seed(5)\n",
    "\n",
    "items = ['milk', 'water', 'chocolate', 'blueberries', 'shampoo', 'flour', 'bread', 'sugar',\\\n",
    "         'watermelon', 'vinegar', 'tomatoes', 'yogurt', 'juice', 'gums', 'onions', 'garlic',\\\n",
    "         'cucumber', 'mushrooms', 'toilet paper', 'oranges', 'deodorant', 'cherries']\n",
    "\n",
    "mother_list = random.choices(items,k = 10) # https://docs.python.org/3/library/random.html\n",
    "\n",
    "print(mother_list)"
   ]
  },
  {
   "cell_type": "code",
   "execution_count": null,
   "metadata": {},
   "outputs": [],
   "source": [
    "# Your code here\n",
    "# Update of mother list (or set in this case :-) )\n",
    "mother_set = set(mother_list)\n",
    "print('The new list of mother without repeated items:', mother_set)"
   ]
  },
  {
   "cell_type": "markdown",
   "metadata": {},
   "source": [
    "#### 15.4- Before leaving the house to the grocery store the father found a lot of toilet paper, so the mother decided to remove it from the items needed to be bought. Use the `.discard()` method to remove from each set created before the 'toilet paper'. \n",
    "\n",
    "#### Hint: Try to first create a list contaning the variables of each set created before, then loop through them and remove the unecessary item. \n",
    "\n",
    "##### Note: The`.discard()` method will remove and update the set without the need of reassignment.\n",
    "\n"
   ]
  },
  {
   "cell_type": "code",
   "execution_count": null,
   "metadata": {},
   "outputs": [],
   "source": [
    "# Your code here\n",
    "# Copy of each set\n",
    "father_set_final = father_set.copy()\n",
    "mother_set_final = mother_set.copy()\n",
    "Jo_set_final = Jo_set.copy()\n",
    "Carlos_set_final = Carlos_set.copy()\n",
    "Mattia_set_final = Mattia_set.copy()\n",
    "\n",
    "# Definition of the list of lists\n",
    "list_of_lists = [father_set_final, mother_set_final, Jo_set_final, Carlos_set_final,\\\n",
    "                 Mattia_set_final]\n",
    "\n",
    "# Print of the content of each set before removal of 'toilet paper'\n",
    "for i in list_of_lists:\n",
    "    print(i)\n",
    "\n",
    "# Removal of 'toilet paper' from each set\n",
    "for i in list_of_lists:\n",
    "    i.discard('toilet paper')\n",
    "\n",
    "# Print of the content of each set after removal of 'toilet paper'\n",
    "for i in list_of_lists:\n",
    "    print(i)"
   ]
  },
  {
   "cell_type": "markdown",
   "metadata": {},
   "source": [
    "#### 15.5- Create a set with all the groceries needed to be bought for the house (no repetitions)."
   ]
  },
  {
   "cell_type": "code",
   "execution_count": null,
   "metadata": {},
   "outputs": [],
   "source": [
    "# Your code here\n",
    "# Let's define the final set by doing the union of each set obtained in the previous exercise\n",
    "# (15.4)\n",
    "final_set = father_set_final.union(mother_set_final).union(Jo_set_final).union(Carlos_set_final)\\\n",
    ".union(Mattia_set_final)\n",
    "print(final_set)"
   ]
  },
  {
   "cell_type": "markdown",
   "metadata": {},
   "source": [
    "#### 15.6- The Father said that he could only buy five items this time. So he decided to arbitraly pick wich ones to buy this time.\n",
    "\n",
    "##### Hint: use the `.pop()` method."
   ]
  },
  {
   "cell_type": "code",
   "execution_count": null,
   "metadata": {},
   "outputs": [],
   "source": [
    "# Your code here\n",
    "#In order to check always the same items (for analysis purpose)\n",
    "random.seed(5) # Due to the choice of this seed number, there is an interesting phenomena in the\\\n",
    "               # list obtained for this time\n",
    "\n",
    "# The list for this time has to be the following. The set obtained previously needs to be passed\\\n",
    "# to method .choices() as a list\n",
    "list_for_this_time = random.choices(list(final_set), k = 5)\n",
    "print(list_for_this_time)"
   ]
  }
 ],
 "metadata": {
  "kernelspec": {
   "display_name": "Python 3",
   "language": "python",
   "name": "python3"
  },
  "language_info": {
   "codemirror_mode": {
    "name": "ipython",
    "version": 3
   },
   "file_extension": ".py",
   "mimetype": "text/x-python",
   "name": "python",
   "nbconvert_exporter": "python",
   "pygments_lexer": "ipython3",
   "version": "3.8.8"
  }
 },
 "nbformat": 4,
 "nbformat_minor": 2
}
