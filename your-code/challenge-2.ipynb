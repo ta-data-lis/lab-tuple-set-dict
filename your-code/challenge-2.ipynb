{
 "cells": [
  {
   "cell_type": "markdown",
   "metadata": {},
   "source": [
    "## Challenge 2: Sets\n",
    "\n",
    "There are a lot to learn about Python Sets and the information presented in the lesson is limited due to its length. To learn Python Sets in depth you are strongly encouraged to review the W3Schools tutorial on [Python Sets Examples and Methods](https://www.w3schools.com/python/python_sets.asp) before you work on this lab. Some difficult questions in this lab have their solutions in the W3Schools tutorial.\n",
    "\n",
    "#### First, import the Python `random` libary"
   ]
  },
  {
   "cell_type": "code",
   "execution_count": 131,
   "metadata": {},
   "outputs": [],
   "source": [
    "import random"
   ]
  },
  {
   "cell_type": "markdown",
   "metadata": {},
   "source": [
    "#### 1 - In the cell below, create a list named `sample_list_1` with 80 random values. \n",
    "\n",
    "Requirements:\n",
    "\n",
    "* Each value is an integer falling between 0 and 100.\n",
    "* Each value in the list is unique.\n",
    "\n",
    "Print `sample_list_1` to review its values\n",
    "\n",
    "*Hint: use `random.sample` ([reference](https://docs.python.org/3/library/random.html#random.sample)).*"
   ]
  },
  {
   "cell_type": "code",
   "execution_count": 132,
   "metadata": {},
   "outputs": [
    {
     "name": "stdout",
     "output_type": "stream",
     "text": [
      "[48, 2, 61, 63, 8, 32, 88, 12, 27, 45, 53, 38, 24, 16, 84, 37, 76, 93, 72, 30, 81, 15, 78, 46, 23, 66, 55, 99, 79, 3, 52, 69, 40, 98, 57, 90, 6, 4, 58, 20, 7, 34, 18, 33, 83, 14, 21, 91, 49, 36, 29, 75, 64, 51, 82, 77, 44, 35, 86, 67, 62, 47, 13, 50, 60, 74, 41, 73, 9, 26, 89, 19, 5, 97, 68, 59, 1, 96, 92, 94]\n",
      "sample_list_1 lenght is : 80\n"
     ]
    }
   ],
   "source": [
    "# Your code here\n",
    "sample_list_1=random.sample(range(0,100),80)\n",
    "print(sample_list_1)\n",
    "print(\"sample_list_1 lenght is :\",len(sample_list_1))\n",
    "# Notes: using the sample method we will get unique values"
   ]
  },
  {
   "cell_type": "markdown",
   "metadata": {},
   "source": [
    "#### 2 - Convert `sample_list_1` to a set called `set1`. Print the length of the set. Is its length still 80?"
   ]
  },
  {
   "cell_type": "code",
   "execution_count": 133,
   "metadata": {},
   "outputs": [
    {
     "name": "stdout",
     "output_type": "stream",
     "text": [
      "{1, 2, 3, 4, 5, 6, 7, 8, 9, 12, 13, 14, 15, 16, 18, 19, 20, 21, 23, 24, 26, 27, 29, 30, 32, 33, 34, 35, 36, 37, 38, 40, 41, 44, 45, 46, 47, 48, 49, 50, 51, 52, 53, 55, 57, 58, 59, 60, 61, 62, 63, 64, 66, 67, 68, 69, 72, 73, 74, 75, 76, 77, 78, 79, 81, 82, 83, 84, 86, 88, 89, 90, 91, 92, 93, 94, 96, 97, 98, 99}\n",
      "the set1 lenght: 80 Type: <class 'set'>\n"
     ]
    }
   ],
   "source": [
    "# Your code here\n",
    "set1=set(sample_list_1)\n",
    "print(set1)\n",
    "print(\"the set1 lenght:\",len(set1),\"Type:\", type(set1))\n"
   ]
  },
  {
   "cell_type": "markdown",
   "metadata": {},
   "source": [
    "#### 3 - Create another list named `sample_list_2` with 80 random values.\n",
    "\n",
    "Requirements:\n",
    "\n",
    "* Each value is an integer falling between 0 and 100.\n",
    "* The values in the list don't have to be unique.\n",
    "\n",
    "*Hint: Use a FOR loop.*"
   ]
  },
  {
   "cell_type": "code",
   "execution_count": 134,
   "metadata": {},
   "outputs": [
    {
     "name": "stdout",
     "output_type": "stream",
     "text": [
      "[55, 40, 10, 1, 63, 62, 29, 72, 93, 15, 83, 66, 55, 36, 93, 5, 98, 46, 30, 77, 36, 68, 99, 45, 1, 71, 7, 20, 3, 33, 4, 99, 7, 71, 21, 74, 10, 80, 80, 18, 93, 69, 24, 69, 41, 51, 76, 40, 47, 69, 99, 76, 42, 20, 90, 92, 46, 69, 24, 61, 30, 58, 40, 93, 18, 61, 34, 89, 66, 80, 19, 78, 31, 68, 13, 40, 28, 31, 9, 16]\n",
      "The sample_list_2 lenght is: 80\n"
     ]
    }
   ],
   "source": [
    "# Your code here\n",
    "sample_list_2=[]\n",
    "for i in range(0,80):\n",
    "    n=random.randint(0,100)\n",
    "    sample_list_2.append(n)\n",
    "print(sample_list_2)\n",
    "print(\"The sample_list_2 lenght is:\",len(sample_list_2))\n",
    "#Note: using the FOR loop to generate random values not necessary unique"
   ]
  },
  {
   "cell_type": "markdown",
   "metadata": {},
   "source": [
    "#### 4 - Convert `sample_list_2` to a set called `set2`. Print the length of the set. Is its length still 80?"
   ]
  },
  {
   "cell_type": "code",
   "execution_count": 135,
   "metadata": {},
   "outputs": [
    {
     "name": "stdout",
     "output_type": "stream",
     "text": [
      "{1, 3, 4, 5, 7, 9, 10, 13, 15, 16, 18, 19, 20, 21, 24, 28, 29, 30, 31, 33, 34, 36, 40, 41, 42, 45, 46, 47, 51, 55, 58, 61, 62, 63, 66, 68, 69, 71, 72, 74, 76, 77, 78, 80, 83, 89, 90, 92, 93, 98, 99}\n",
      "the set2 lenght: 51 and Type: <class 'set'>\n"
     ]
    },
    {
     "data": {
      "text/plain": [
       "' we we transform the list to set it will present one of the duplicate element only. that is why the len of the list =80 > len of the set = 54'"
      ]
     },
     "execution_count": 135,
     "metadata": {},
     "output_type": "execute_result"
    }
   ],
   "source": [
    "# Your code here\n",
    "set2=set(sample_list_2)\n",
    "print(set2)\n",
    "print(\"the set2 lenght:\",len(set2),\"and Type:\", type(set2))\n",
    "\n",
    "''' we we transform the list to set it will present one of the duplicate element only. that is why the len of the list =80 > len of the set = 54'''"
   ]
  },
  {
   "cell_type": "markdown",
   "metadata": {},
   "source": [
    "#### 5 - Identify the elements present in `set1` but not in `set2`. Assign the elements to a new set named `set3`."
   ]
  },
  {
   "cell_type": "code",
   "execution_count": 136,
   "metadata": {},
   "outputs": [
    {
     "name": "stdout",
     "output_type": "stream",
     "text": [
      "set3 presents the elements in set1 but not in set2: {2, 6, 8, 12, 14, 23, 26, 27, 32, 35, 37, 38, 44, 48, 49, 50, 52, 53, 57, 59, 60, 64, 67, 73, 75, 79, 81, 82, 84, 86, 88, 91, 94, 96, 97}\n",
      "set3 lenght: 35 and Type: <class 'set'>\n"
     ]
    }
   ],
   "source": [
    "# Your code here\n",
    "set3=set1-set2\n",
    "print(\"set3 presents the elements in set1 but not in set2:\",set3)\n",
    "print(\"set3 lenght:\",len(set3),\"and Type:\",type(set3))"
   ]
  },
  {
   "cell_type": "markdown",
   "metadata": {},
   "source": [
    "#### 6 - Identify the elements present in `set2` but not in `set1`. Assign the elements to a new set named `set4`."
   ]
  },
  {
   "cell_type": "code",
   "execution_count": 137,
   "metadata": {},
   "outputs": [
    {
     "name": "stdout",
     "output_type": "stream",
     "text": [
      "set4 presents the elements in set2 but not in set1: {71, 10, 42, 80, 28, 31}\n",
      "set4 lenght: 6 and Type: <class 'set'>\n"
     ]
    }
   ],
   "source": [
    "# Your code here\n",
    "set4=set2-set1\n",
    "print(\"set4 presents the elements in set2 but not in set1:\",set4)\n",
    "print(\"set4 lenght:\",len(set4),\"and Type:\",type(set4))"
   ]
  },
  {
   "cell_type": "markdown",
   "metadata": {},
   "source": [
    "#### 7 - Now Identify the elements shared between `set1` and `set2`. Assign the elements to a new set named `set5`."
   ]
  },
  {
   "cell_type": "code",
   "execution_count": 138,
   "metadata": {},
   "outputs": [
    {
     "name": "stdout",
     "output_type": "stream",
     "text": [
      "set5 presents the elements that intersect between set1 and set2: {1, 3, 4, 5, 7, 9, 13, 15, 16, 18, 19, 20, 21, 24, 29, 30, 33, 34, 36, 40, 41, 45, 46, 47, 51, 55, 58, 61, 62, 63, 66, 68, 69, 72, 74, 76, 77, 78, 83, 89, 90, 92, 93, 98, 99}\n",
      "set5 lenght: 45 and Type: <class 'set'>\n"
     ]
    }
   ],
   "source": [
    "# Your code here\n",
    "set5=set1.intersection(set2)\n",
    "print(\"set5 presents the elements that intersect between set1 and set2:\",set5)\n",
    "print(\"set5 lenght:\",len(set5),\"and Type:\",type(set5))"
   ]
  },
  {
   "cell_type": "markdown",
   "metadata": {},
   "source": [
    "#### 8 - Create an empty set called `set6`."
   ]
  },
  {
   "cell_type": "code",
   "execution_count": 139,
   "metadata": {},
   "outputs": [
    {
     "name": "stdout",
     "output_type": "stream",
     "text": [
      "<class 'set'>\n",
      "set()\n"
     ]
    }
   ],
   "source": [
    "# Your code here\n",
    "set6=set()\n",
    "print(type(set6))\n",
    "print(set6)"
   ]
  },
  {
   "cell_type": "markdown",
   "metadata": {},
   "source": [
    "#### 9 - Add `set3` and `set5` to `set6` using the Python Set `update` method."
   ]
  },
  {
   "cell_type": "code",
   "execution_count": 140,
   "metadata": {},
   "outputs": [
    {
     "name": "stdout",
     "output_type": "stream",
     "text": [
      "set6: {1, 2, 3, 4, 5, 6, 7, 8, 9, 12, 13, 14, 15, 16, 18, 19, 20, 21, 23, 24, 26, 27, 29, 30, 32, 33, 34, 35, 36, 37, 38, 40, 41, 44, 45, 46, 47, 48, 49, 50, 51, 52, 53, 55, 57, 58, 59, 60, 61, 62, 63, 64, 66, 67, 68, 69, 72, 73, 74, 75, 76, 77, 78, 79, 81, 82, 83, 84, 86, 88, 89, 90, 91, 92, 93, 94, 96, 97, 98, 99} lenght: 80\n"
     ]
    }
   ],
   "source": [
    "# Your code here\n",
    "set6.update(set5,set3)\n",
    "\n",
    "print(\"set6:\",set6,\"lenght:\",len(set6))"
   ]
  },
  {
   "cell_type": "markdown",
   "metadata": {},
   "source": [
    "#### 10 - Check if `set1` and `set6` are equal."
   ]
  },
  {
   "cell_type": "code",
   "execution_count": 141,
   "metadata": {},
   "outputs": [
    {
     "data": {
      "text/plain": [
       "True"
      ]
     },
     "execution_count": 141,
     "metadata": {},
     "output_type": "execute_result"
    }
   ],
   "source": [
    "# Your code here\n",
    "set1==set6"
   ]
  },
  {
   "cell_type": "markdown",
   "metadata": {},
   "source": [
    "#### 11 - Check if `set1` contains `set2` using the Python Set `issubset` method. Then check if `set1` contains `set3`.*"
   ]
  },
  {
   "cell_type": "code",
   "execution_count": 142,
   "metadata": {},
   "outputs": [
    {
     "name": "stdout",
     "output_type": "stream",
     "text": [
      "set1 contains set2? False\n",
      "set1 contains set3? True\n"
     ]
    }
   ],
   "source": [
    "# Your code here\n",
    "print(\"set1 contains set2?\",set2.issubset(set1))\n",
    "print(\"set1 contains set3?\",set3.issubset(set1))"
   ]
  },
  {
   "cell_type": "markdown",
   "metadata": {},
   "source": [
    "#### 12 -Using the Python Set `union` method, aggregate `set3`, `set4`, and `set5`. Then aggregate `set1` and `set2`. \n",
    "\n",
    "#### Check if the aggregated values are equal."
   ]
  },
  {
   "cell_type": "code",
   "execution_count": 143,
   "metadata": {},
   "outputs": [
    {
     "name": "stdout",
     "output_type": "stream",
     "text": [
      "is the union of set 3,4and 5 equlas the union of set 1 and 2? True\n"
     ]
    }
   ],
   "source": [
    "# Your code here\n",
    "set_3_4_5=(set3.union(set4)).union(set5)\n",
    "set_1_2=set1.union(set2)\n",
    "print(\"is the union of set 3,4and 5 equlas the union of set 1 and 2?\",set_3_4_5==set_1_2)"
   ]
  },
  {
   "cell_type": "markdown",
   "metadata": {},
   "source": [
    "#### 13 -Using the `pop` method, remove the first element from `set1`."
   ]
  },
  {
   "cell_type": "code",
   "execution_count": 144,
   "metadata": {},
   "outputs": [
    {
     "name": "stdout",
     "output_type": "stream",
     "text": [
      "{1, 2, 3, 4, 5, 6, 7, 8, 9, 12, 13, 14, 15, 16, 18, 19, 20, 21, 23, 24, 26, 27, 29, 30, 32, 33, 34, 35, 36, 37, 38, 40, 41, 44, 45, 46, 47, 48, 49, 50, 51, 52, 53, 55, 57, 58, 59, 60, 61, 62, 63, 64, 66, 67, 68, 69, 72, 73, 74, 75, 76, 77, 78, 79, 81, 82, 83, 84, 86, 88, 89, 90, 91, 92, 93, 94, 96, 97, 98, 99}\n",
      "1\n",
      "{2, 3, 4, 5, 6, 7, 8, 9, 12, 13, 14, 15, 16, 18, 19, 20, 21, 23, 24, 26, 27, 29, 30, 32, 33, 34, 35, 36, 37, 38, 40, 41, 44, 45, 46, 47, 48, 49, 50, 51, 52, 53, 55, 57, 58, 59, 60, 61, 62, 63, 64, 66, 67, 68, 69, 72, 73, 74, 75, 76, 77, 78, 79, 81, 82, 83, 84, 86, 88, 89, 90, 91, 92, 93, 94, 96, 97, 98, 99}\n"
     ]
    }
   ],
   "source": [
    "# Your code here\n",
    "print(set1)\n",
    "list1=[i for i in set1]\n",
    "#print(list1)\n",
    "removed_element=list1.pop(0)\n",
    "print(removed_element)\n",
    "#print(list1)\n",
    "set1={i for i in list1}\n",
    "print(set1)\n",
    "\n",
    "\n"
   ]
  },
  {
   "cell_type": "markdown",
   "metadata": {},
   "source": [
    "#### 14 -Remove every element in the following list from `set1` if they are present in the set. Print the remaining elements.\n",
    "\n",
    "```\n",
    "list_to_remove = [1, 9, 11, 19, 21, 29, 31, 39, 41, 49, 51, 59, 61, 69, 71, 79, 81, 89, 91, 99]\n",
    "```"
   ]
  },
  {
   "cell_type": "code",
   "execution_count": 156,
   "metadata": {},
   "outputs": [
    {
     "name": "stdout",
     "output_type": "stream",
     "text": [
      "{2, 3, 4, 5, 6, 7, 8, 12, 13, 14, 15, 16, 18, 20, 23, 24, 26, 27, 30, 32, 33, 34, 35, 36, 37, 38, 40, 44, 45, 46, 47, 48, 50, 52, 53, 55, 57, 58, 60, 62, 63, 64, 66, 67, 68, 72, 73, 74, 75, 76, 77, 78, 82, 83, 84, 86, 88, 90, 92, 93, 94, 96, 97, 98}\n"
     ]
    }
   ],
   "source": [
    "# Your code here\n",
    "list_to_remove = [1, 9, 11, 19, 21, 29, 31, 39, 41, 49, 51, 59, 61, 69, 71, 79, 81, 89, 91, 99]\n",
    "#print(list_to_remove)\n",
    "list_set1=[i for i in set1]\n",
    "#print(list_set1)\n",
    "for i in list_to_remove:\n",
    "    for j in list_set1:\n",
    "        if int(j)==i:\n",
    "            set1.remove(j)\n",
    "print(set1)\n"
   ]
  },
  {
   "cell_type": "markdown",
   "metadata": {},
   "source": [
    "#### 15 -The objective of this lab is to provide you a overview of manipulating sets in Python and how they can be integrated within a real usecase\n",
    "#### For the exercises below it's strongly advised to quickly check this link: https://docs.python.org/2/library/sets.html#sets.Set\n",
    "#### Imagine you need to create the grocery list for your family! Below you will see a list of items each family member wants. There will be repetitions because this family has the habbit of each time they notice something is missing to write it down. The problem is that they don't really talk to each other and therefore some items in the list are repeated. With the collection of questions below you will see how they solve repetion and create a grocery list with unique elements.\n",
    "\n"
   ]
  },
  {
   "cell_type": "code",
   "execution_count": 221,
   "metadata": {},
   "outputs": [],
   "source": [
    "father_list = ['garlic', 'watermelon', 'toilet paper', 'yogurt', 'onions', 'gums', 'flour', 'cucumber', 'watermelon', 'yogurt', 'garlic']\n",
    "\n",
    "mother_list = []\n",
    "\n",
    "Jo_list = ['blueberries', 'sugar', 'watermelon', 'gums', 'tomatoes', 'yogurt', 'juice', 'milk', 'onions', 'garlic', 'cucumber', 'sugar', 'blueberries', 'gums', 'yogurt']\n",
    "\n",
    "Carlos_list = ['tomatoes', 'water', 'onions', 'blueberries', 'garlic', 'flour', 'cherries', 'tomatoes', 'onions', 'water', 'tomatoes', 'toilet paper']\n",
    "\n",
    "Mattia_list = []\n",
    "\n",
    "\n"
   ]
  },
  {
   "cell_type": "markdown",
   "metadata": {},
   "source": [
    "#### 15.1- As you can see there are items repeated in each list. Creat a sequence of iterable elements with dintinct items that each family member wants. You can do it in two different ways. Assign each one (set) to a variable with the name of the family member (ex: father_set)."
   ]
  },
  {
   "cell_type": "code",
   "execution_count": 222,
   "metadata": {},
   "outputs": [
    {
     "name": "stdout",
     "output_type": "stream",
     "text": [
      "{'father_set': {'toilet paper', 'gums', 'garlic', 'onions', 'cucumber', 'flour', 'watermelon', 'yogurt'}, 'mother_set': set(), 'Jo_set': {'tomatoes', 'juice', 'gums', 'garlic', 'blueberries', 'onions', 'sugar', 'milk', 'cucumber', 'watermelon', 'yogurt'}, 'Carlos_set': {'tomatoes', 'toilet paper', 'garlic', 'blueberries', 'water', 'onions', 'flour', 'cherries'}, 'Mattia_set': set()}\n"
     ]
    }
   ],
   "source": [
    "# Your code here\n",
    "grocery_list={}\n",
    "grocery_list[\"father_set\"]={i for i in father_list}\n",
    "grocery_list[\"mother_set\"]={i for i in mother_list}\n",
    "grocery_list[\"Jo_set\"]={i for i in Jo_list}\n",
    "grocery_list[\"Carlos_set\"]={i for i in Carlos_list}\n",
    "grocery_list[\"Mattia_set\"]={i for i in Mattia_list}\n",
    "print(grocery_list)"
   ]
  },
  {
   "cell_type": "markdown",
   "metadata": {},
   "source": [
    "#### 15.2- Q: Mattia wants the same items that his brother Carlos and his sister Jo but doesn't want anything they both want.\n",
    "\n",
    "##### Hint: check out the documentation for `x.symmetric_difference(y)`."
   ]
  },
  {
   "cell_type": "code",
   "execution_count": 223,
   "metadata": {},
   "outputs": [
    {
     "name": "stdout",
     "output_type": "stream",
     "text": [
      "{'juice', 'gums', 'toilet paper', 'cherries', 'water', 'sugar', 'milk', 'cucumber', 'flour', 'watermelon', 'yogurt'}\n"
     ]
    }
   ],
   "source": [
    "# Your code here\n",
    "#print(grocery_list[\"Carlos_set\"].intersection(grocery_list[\"Jo_set\"]))\n",
    "grocery_list[\"Mattia_set\"]=grocery_list[\"Carlos_set\"].symmetric_difference(grocery_list[\"Jo_set\"])\n",
    "print(grocery_list[\"Mattia_set\"])\n",
    "#print(grocery_list)\n"
   ]
  },
  {
   "cell_type": "markdown",
   "metadata": {},
   "source": [
    "#### 15.3- The line of code below  will  generate a list of random elements from a collection of items, with replacement. Run it and from it create a sequence of unique elements and assign it to the variable mother.\n"
   ]
  },
  {
   "cell_type": "code",
   "execution_count": 224,
   "metadata": {},
   "outputs": [
    {
     "name": "stdout",
     "output_type": "stream",
     "text": [
      "['sugar', 'tomatoes', 'tomatoes', 'oranges', 'shampoo', 'vinegar', 'watermelon', 'cucumber', 'sugar', 'tomatoes']\n"
     ]
    }
   ],
   "source": [
    "import random\n",
    "items = ['milk', 'water', 'chocolate', 'blueberries', 'shampoo', 'flour', 'bread', 'sugar', 'watermelon', 'vinegar', 'tomatoes', 'yogurt', 'juice', 'gums', 'onions', 'garlic', 'cucumber', 'mushrooms', 'toilet paper', 'oranges', 'deodorant', 'cherries']\n",
    "\n",
    "mother_list = random.choices(items,k = 10) # https://docs.python.org/3/library/random.html\n",
    "\n",
    "print(mother_list)"
   ]
  },
  {
   "cell_type": "code",
   "execution_count": 225,
   "metadata": {},
   "outputs": [
    {
     "name": "stdout",
     "output_type": "stream",
     "text": [
      "{'father_set': {'toilet paper', 'gums', 'garlic', 'onions', 'cucumber', 'flour', 'watermelon', 'yogurt'}, 'mother_set': {'tomatoes', 'oranges', 'shampoo', 'sugar', 'vinegar', 'cucumber', 'watermelon'}, 'Jo_set': {'tomatoes', 'juice', 'gums', 'garlic', 'blueberries', 'onions', 'sugar', 'milk', 'cucumber', 'watermelon', 'yogurt'}, 'Carlos_set': {'tomatoes', 'toilet paper', 'garlic', 'blueberries', 'water', 'onions', 'flour', 'cherries'}, 'Mattia_set': {'juice', 'gums', 'toilet paper', 'cherries', 'water', 'sugar', 'milk', 'cucumber', 'flour', 'watermelon', 'yogurt'}}\n"
     ]
    }
   ],
   "source": [
    "# Your code here\n",
    "grocery_list[\"mother_set\"]={i for i in mother_list}\n",
    "print(grocery_list)"
   ]
  },
  {
   "cell_type": "markdown",
   "metadata": {},
   "source": [
    "#### 15.4- Before leaving the house to the grocery store the father found a lot of toilet paper, so the mother decided to remove it from the items needed to be bought. Use the `.discard()` method to remove from each set created before the 'toilet paper'. \n",
    "\n",
    "#### Hint: Try to first create a list contaning the variables of each set created before, then loop through them and remove the unecessary item. \n",
    "\n",
    "##### Note: The`.discard()` method will remove and update the set without the need of reassignment.\n",
    "\n"
   ]
  },
  {
   "cell_type": "code",
   "execution_count": 227,
   "metadata": {},
   "outputs": [
    {
     "name": "stdout",
     "output_type": "stream",
     "text": [
      "{'oranges', 'garlic', 'onions', 'milk', 'vinegar', 'cucumber', 'cherries', 'tomatoes', 'toilet paper', 'gums', 'juice', 'shampoo', 'blueberries', 'water', 'sugar', 'flour', 'watermelon', 'yogurt'}\n",
      "['oranges', 'garlic', 'onions', 'milk', 'vinegar', 'cucumber', 'cherries', 'tomatoes', 'gums', 'juice', 'shampoo', 'blueberries', 'water', 'sugar', 'flour', 'watermelon', 'yogurt']\n",
      "{'father_set': {'gums', 'garlic', 'onions', 'cucumber', 'flour', 'watermelon', 'yogurt'}, 'mother_set': {'tomatoes', 'oranges', 'shampoo', 'sugar', 'vinegar', 'cucumber', 'watermelon'}, 'Jo_set': {'tomatoes', 'juice', 'gums', 'garlic', 'blueberries', 'onions', 'sugar', 'milk', 'cucumber', 'watermelon', 'yogurt'}, 'Carlos_set': {'tomatoes', 'garlic', 'blueberries', 'water', 'onions', 'flour', 'cherries'}, 'Mattia_set': {'juice', 'gums', 'cherries', 'water', 'sugar', 'milk', 'cucumber', 'flour', 'watermelon', 'yogurt'}}\n"
     ]
    }
   ],
   "source": [
    "# Your code here\n",
    "grocery_set=set()\n",
    "grocery_set=grocery_list[\"father_set\"].union(grocery_list[\"mother_set\"].union(grocery_list[\"Jo_set\"].union(grocery_list[\"Carlos_set\"].union(grocery_list[\"Mattia_set\"]))))\n",
    "#print(grocery_set)\n",
    "list_groceries=[i for i in grocery_set]\n",
    "#print(list_groceries)\n",
    "list_groceries_updated=[i for i in list_groceries if i!=\"toilet paper\"]\n",
    "print(list_groceries_updated)\n",
    "\n",
    "for i in grocery_list:\n",
    "    grocery_list[i].discard(\"toilet paper\")\n",
    "print(grocery_list)"
   ]
  },
  {
   "cell_type": "markdown",
   "metadata": {},
   "source": [
    "#### 15.5- Create a set with all the groceries needed to be bought for the house (no repetitions)."
   ]
  },
  {
   "cell_type": "code",
   "execution_count": 231,
   "metadata": {},
   "outputs": [
    {
     "name": "stdout",
     "output_type": "stream",
     "text": [
      "{'oranges', 'garlic', 'onions', 'milk', 'vinegar', 'cucumber', 'cherries', 'tomatoes', 'juice', 'gums', 'shampoo', 'blueberries', 'water', 'sugar', 'flour', 'watermelon', 'yogurt'}\n"
     ]
    }
   ],
   "source": [
    "# Your code here\n",
    "grocery_set=set()\n",
    "grocery_set=grocery_list[\"father_set\"].union(grocery_list[\"mother_set\"].union(grocery_list[\"Jo_set\"].union(grocery_list[\"Carlos_set\"].union(grocery_list[\"Mattia_set\"]))))\n",
    "print(grocery_set)"
   ]
  },
  {
   "cell_type": "markdown",
   "metadata": {},
   "source": [
    "#### 15.6- The Father said that he could only buy five items this time. So he decided to arbitraly pick wich ones to buy this time.\n",
    "\n",
    "##### Hint: use the `.pop()` method."
   ]
  },
  {
   "cell_type": "code",
   "execution_count": 233,
   "metadata": {},
   "outputs": [
    {
     "name": "stdout",
     "output_type": "stream",
     "text": [
      "{'tomatoes', 'juice', 'gums', 'cucumber', 'cherries'}\n"
     ]
    }
   ],
   "source": [
    "# Your code here\n",
    "final_grocery_set={grocery_set.pop() for i in range(0,5)}\n",
    "\n",
    "print(final_grocery_set)"
   ]
  }
 ],
 "metadata": {
  "kernelspec": {
   "display_name": "Python 3",
   "language": "python",
   "name": "python3"
  },
  "language_info": {
   "codemirror_mode": {
    "name": "ipython",
    "version": 3
   },
   "file_extension": ".py",
   "mimetype": "text/x-python",
   "name": "python",
   "nbconvert_exporter": "python",
   "pygments_lexer": "ipython3",
   "version": "3.7.4"
  }
 },
 "nbformat": 4,
 "nbformat_minor": 2
}
