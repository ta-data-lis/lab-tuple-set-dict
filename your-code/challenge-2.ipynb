{
 "cells": [
  {
   "cell_type": "markdown",
   "metadata": {},
   "source": [
    "## Challenge 2: Sets\n",
    "\n",
    "There are a lot to learn about Python Sets and the information presented in the lesson is limited due to its length. To learn Python Sets in depth you are strongly encouraged to review the W3Schools tutorial on [Python Sets Examples and Methods](https://www.w3schools.com/python/python_sets.asp) before you work on this lab. Some difficult questions in this lab have their solutions in the W3Schools tutorial.\n",
    "\n",
    "#### First, import the Python `random` libary"
   ]
  },
  {
   "cell_type": "code",
   "execution_count": 131,
   "metadata": {},
   "outputs": [],
   "source": [
    "import random"
   ]
  },
  {
   "cell_type": "markdown",
   "metadata": {},
   "source": [
    "#### 1 - In the cell below, create a list named `sample_list_1` with 80 random values. \n",
    "\n",
    "Requirements:\n",
    "\n",
    "* Each value is an integer falling between 0 and 100.\n",
    "* Each value in the list is unique.\n",
    "\n",
    "Print `sample_list_1` to review its values\n",
    "\n",
    "*Hint: use `random.sample` ([reference](https://docs.python.org/3/library/random.html#random.sample)).*"
   ]
  },
  {
   "cell_type": "code",
   "execution_count": 132,
   "metadata": {},
   "outputs": [
    {
     "name": "stdout",
     "output_type": "stream",
     "text": [
      "[46, 5, 0, 55, 17, 93, 71, 32, 49, 52, 65, 48, 15, 70, 9, 90, 12, 45, 96, 54, 18, 10, 57, 51, 60, 50, 47, 38, 13, 87, 26, 63, 59, 21, 91, 89, 40, 28, 77, 85, 33, 44, 78, 72, 6, 74, 4, 83, 8, 61, 39, 82, 19, 95, 31, 16, 76, 67, 22, 37, 99, 92, 80, 41, 1, 3, 2, 20, 35, 14, 62, 11, 24, 7, 97, 64, 53, 68, 100, 66]\n"
     ]
    }
   ],
   "source": [
    "import random\n",
    "sample_list_1 = random.sample(range(101),80)\n",
    "print (sample_list_1)\n",
    "\n"
   ]
  },
  {
   "cell_type": "markdown",
   "metadata": {},
   "source": [
    "#### 2 - Convert `sample_list_1` to a set called `set1`. Print the length of the set. Is its length still 80?"
   ]
  },
  {
   "cell_type": "code",
   "execution_count": 133,
   "metadata": {},
   "outputs": [
    {
     "data": {
      "text/plain": [
       "80"
      ]
     },
     "execution_count": 133,
     "metadata": {},
     "output_type": "execute_result"
    }
   ],
   "source": [
    "import random\n",
    "set1 = sample_list_1\n",
    "type (set1)\n",
    "len(set1) # yes is still 80! "
   ]
  },
  {
   "cell_type": "markdown",
   "metadata": {},
   "source": [
    "#### 3 - Create another list named `sample_list_2` with 80 random values.\n",
    "\n",
    "Requirements:\n",
    "\n",
    "* Each value is an integer falling between 0 and 100.\n",
    "* The values in the list don't have to be unique.\n",
    "\n",
    "*Hint: Use a FOR loop.*"
   ]
  },
  {
   "cell_type": "code",
   "execution_count": 219,
   "metadata": {},
   "outputs": [
    {
     "name": "stdout",
     "output_type": "stream",
     "text": [
      "[65, 46, 76, 13, 0, 66, 91, 59, 60, 27, 36, 88, 49, 100, 77, 67, 22, 93, 34, 80, 32, 47, 10, 4, 73, 72, 20, 6, 16, 75, 89, 30, 83, 61, 78, 96, 26, 8, 24, 1, 28, 95, 84, 85, 35, 74, 43, 39, 98, 3, 79, 64, 29, 11, 31, 97, 68, 44, 62, 86, 25, 90, 92, 52, 14, 94, 69, 23, 45, 37, 2, 48, 50, 15, 38, 53, 87, 40, 12, 33]\n"
     ]
    }
   ],
   "source": [
    "\n",
    "sample_list_2 = random.sample (range (101), 80)     # nao consigo usar o for...\n",
    "print (sample_list_2)\n",
    "\n"
   ]
  },
  {
   "cell_type": "markdown",
   "metadata": {},
   "source": [
    "#### 4 - Convert `sample_list_2` to a set called `set2`. Print the length of the set. Is its length still 80?"
   ]
  },
  {
   "cell_type": "code",
   "execution_count": 135,
   "metadata": {},
   "outputs": [
    {
     "data": {
      "text/plain": [
       "80"
      ]
     },
     "execution_count": 135,
     "metadata": {},
     "output_type": "execute_result"
    }
   ],
   "source": [
    "set2 = sample_list_2\n",
    "len (set2)   #yes"
   ]
  },
  {
   "cell_type": "markdown",
   "metadata": {},
   "source": [
    "#### 5 - Identify the elements present in `set1` but not in `set2`. Assign the elements to a new set named `set3`."
   ]
  },
  {
   "cell_type": "code",
   "execution_count": 136,
   "metadata": {},
   "outputs": [
    {
     "name": "stdout",
     "output_type": "stream",
     "text": [
      "[46, 17, 52, 65, 96, 57, 51, 47, 78, 76, 67, 37, 99, 41, 20, 14, 64, 68, 100]\n"
     ]
    }
   ],
   "source": [
    "set3 = [x for x in set1 if x not in set2]\n",
    "print (set3)"
   ]
  },
  {
   "cell_type": "markdown",
   "metadata": {},
   "source": [
    "#### 6 - Identify the elements present in `set2` but not in `set1`. Assign the elements to a new set named `set4`."
   ]
  },
  {
   "cell_type": "code",
   "execution_count": 137,
   "metadata": {},
   "outputs": [
    {
     "name": "stdout",
     "output_type": "stream",
     "text": [
      "[84, 58, 56, 23, 98, 34, 27, 29, 94, 30, 42, 69, 25, 86, 73, 36, 75, 81, 79]\n"
     ]
    }
   ],
   "source": [
    "set4 = [x for x in set2 if x not in set1]\n",
    "print (set4)\n"
   ]
  },
  {
   "cell_type": "markdown",
   "metadata": {},
   "source": [
    "#### 7 - Now Identify the elements shared between `set1` and `set2`. Assign the elements to a new set named `set5`."
   ]
  },
  {
   "cell_type": "code",
   "execution_count": 138,
   "metadata": {},
   "outputs": [
    {
     "name": "stdout",
     "output_type": "stream",
     "text": [
      "[5, 0, 55, 93, 71, 32, 49, 48, 15, 70, 9, 90, 12, 45, 54, 18, 10, 60, 50, 38, 13, 87, 26, 63, 59, 21, 91, 89, 40, 28, 77, 85, 33, 44, 72, 6, 74, 4, 83, 8, 61, 39, 82, 19, 95, 31, 16, 22, 92, 80, 1, 3, 2, 35, 62, 11, 24, 7, 97, 53, 66]\n"
     ]
    }
   ],
   "source": [
    "# intersection\n",
    "set5 = [ x for x in set1 if x in set2]\n",
    "print (set5)"
   ]
  },
  {
   "cell_type": "markdown",
   "metadata": {},
   "source": [
    "#### 8 - Create an empty set called `set6`."
   ]
  },
  {
   "cell_type": "code",
   "execution_count": 139,
   "metadata": {},
   "outputs": [],
   "source": [
    "set6 = set()\n",
    "\n",
    "\n"
   ]
  },
  {
   "cell_type": "markdown",
   "metadata": {},
   "source": [
    "#### 9 - Add `set3` and `set5` to `set6` using the Python Set `update` method."
   ]
  },
  {
   "cell_type": "code",
   "execution_count": 140,
   "metadata": {},
   "outputs": [
    {
     "name": "stdout",
     "output_type": "stream",
     "text": [
      "{0, 1, 2, 3, 4, 5, 6, 7, 8, 9, 10, 11, 12, 13, 14, 15, 16, 17, 18, 19, 20, 21, 22, 24, 26, 28, 31, 32, 33, 35, 37, 38, 39, 40, 41, 44, 45, 46, 47, 48, 49, 50, 51, 52, 53, 54, 55, 57, 59, 60, 61, 62, 63, 64, 65, 66, 67, 68, 70, 71, 72, 74, 76, 77, 78, 80, 82, 83, 85, 87, 89, 90, 91, 92, 93, 95, 96, 97, 99, 100}\n"
     ]
    }
   ],
   "source": [
    "\n",
    "set6.update(set3)\n",
    "set6.update(set5)\n",
    "print(set6)\n"
   ]
  },
  {
   "cell_type": "markdown",
   "metadata": {},
   "source": [
    "#### 10 - Check if `set1` and `set6` are equal."
   ]
  },
  {
   "cell_type": "code",
   "execution_count": 141,
   "metadata": {},
   "outputs": [
    {
     "data": {
      "text/plain": [
       "False"
      ]
     },
     "execution_count": 141,
     "metadata": {},
     "output_type": "execute_result"
    }
   ],
   "source": [
    "set1 == set6\n",
    "    \n"
   ]
  },
  {
   "cell_type": "markdown",
   "metadata": {},
   "source": [
    "#### 11 - Check if `set1` contains `set2` using the Python Set `issubset` method. Then check if `set1` contains `set3`.*"
   ]
  },
  {
   "cell_type": "code",
   "execution_count": 215,
   "metadata": {},
   "outputs": [
    {
     "name": "stdout",
     "output_type": "stream",
     "text": [
      "{0, 2, 3, 4, 5, 6, 7, 8, 10, 12, 13, 14, 15, 16, 17, 18, 20, 22, 24, 26, 28, 32, 33, 35, 37, 38, 40, 44, 45, 46, 47, 48, 50, 52, 53, 54, 55, 57, 60, 62, 63, 64, 65, 66, 67, 68, 70, 72, 74, 76, 77, 78, 80, 82, 83, 85, 87, 90, 92, 93, 95, 96, 97, 100}\n",
      "{0, 1, 2, 3, 4, 5, 6, 7, 8, 9, 10, 11, 12, 13, 15, 16, 18, 19, 21, 22, 23, 24, 25, 26, 27, 28, 29, 30, 31, 32, 33, 34, 35, 36, 38, 39, 40, 42, 44, 45, 48, 49, 50, 53, 54, 55, 56, 58, 59, 60, 61, 62, 63, 66, 69, 70, 71, 72, 73, 74, 75, 77, 79, 80, 81, 82, 83, 84, 85, 86, 87, 89, 90, 91, 92, 93, 94, 95, 97, 98}\n",
      "{64, 65, 67, 68, 76, 14, 78, 17, 20, 96, 99, 100, 37, 41, 46, 47, 51, 52, 57}\n",
      "False\n",
      "False\n"
     ]
    }
   ],
   "source": [
    "print (set1)\n",
    "print (set2)\n",
    "print (set3)\n",
    "\n",
    "set1 = {46, 5, 0, 55, 17, 93, 32, 52, 65, 48, 15, 70, 90, 12, 45, 96, 54, 18, 10, 57, 60, 50, 47, 38, 13, 87, 26, 63, 40, 28, 77, 85, 33, 44, 78, 72, 6, 74, 4, 83, 8, 82, 95, 16, 76, 67, 22, 37, 92, 80, 3, 2, 20, 35, 14, 62, 24, 7, 97, 64, 53, 68, 100, 66}\n",
    "set2 = {49, 93, 66, 95, 84, 58, 21, 2, 56, 23, 10, 8, 87, 59, 82, 70, 19, 1, 98, 77, 34, 38, 3, 27, 85, 24, 5, 29, 6, 28, 89, 63, 94, 22, 30, 15, 55, 16, 80, 42, 60, 69, 50, 0, 92, 35, 39, 45, 26, 25, 83, 61, 86, 33, 48, 54, 72, 13, 91, 32, 73, 90, 4, 40, 18, 31, 44, 36, 9, 62, 75, 11, 74, 81, 79, 71, 12, 7, 97, 53}\n",
    "set3 = {46, 17, 52, 65, 96, 57, 51, 47, 78, 76, 67, 37, 99, 41, 20, 14, 64, 68, 100}\n",
    "\n",
    "print(set2.issubset(set1)) \n",
    "\n",
    "print(set3.issubset(set1))"
   ]
  },
  {
   "cell_type": "markdown",
   "metadata": {},
   "source": [
    "#### 12 -Using the Python Set `union` method, aggregate `set3`, `set4`, and `set5`. Then aggregate `set1` and `set2`. \n",
    "\n",
    "#### Check if the aggregated values are equal."
   ]
  },
  {
   "cell_type": "code",
   "execution_count": 218,
   "metadata": {},
   "outputs": [
    {
     "name": "stdout",
     "output_type": "stream",
     "text": [
      "{0, 1, 2, 3, 4, 5, 6, 7, 8, 9, 10, 11, 12, 13, 14, 15, 16, 17, 18, 19, 20, 21, 22, 23, 24, 25, 26, 27, 28, 29, 30, 31, 32, 33, 34, 35, 36, 37, 38, 39, 40, 41, 42, 44, 45, 46, 47, 48, 49, 50, 51, 52, 53, 54, 55, 56, 57, 58, 59, 60, 61, 62, 63, 64, 65, 66, 67, 68, 69, 70, 71, 72, 73, 74, 75, 76, 77, 78, 79, 80, 81, 82, 83, 84, 85, 86, 87, 89, 90, 91, 92, 93, 94, 95, 96, 97, 98, 99, 100}\n",
      "{0, 1, 2, 3, 4, 5, 6, 7, 8, 9, 10, 11, 12, 13, 14, 15, 16, 17, 18, 19, 20, 21, 22, 23, 24, 25, 26, 27, 28, 29, 30, 31, 32, 33, 34, 35, 36, 37, 38, 39, 40, 42, 44, 45, 46, 47, 48, 49, 50, 52, 53, 54, 55, 56, 57, 58, 59, 60, 61, 62, 63, 64, 65, 66, 67, 68, 69, 70, 71, 72, 73, 74, 75, 76, 77, 78, 79, 80, 81, 82, 83, 84, 85, 86, 87, 89, 90, 91, 92, 93, 94, 95, 96, 97, 98, 100}\n",
      "diferente\n"
     ]
    }
   ],
   "source": [
    "\n",
    "set345 = set3.union(set4, set5)\n",
    "print(set345)\n",
    "\n",
    "set12 = set1.union(set2)\n",
    "print(set12)\n",
    "\n",
    "\n",
    "if set345 == set12:\n",
    "    print(\"==\")\n",
    "else:\n",
    "    print(\"diferente\")\n"
   ]
  },
  {
   "cell_type": "markdown",
   "metadata": {},
   "source": [
    "#### 13 -Using the `pop` method, remove the first element from `set1`."
   ]
  },
  {
   "cell_type": "code",
   "execution_count": null,
   "metadata": {},
   "outputs": [
    {
     "name": "stdout",
     "output_type": "stream",
     "text": [
      "[50, 24, 69, 64, 15, 91, 14, 36, 92, 74, 62, 6, 96, 58, 53, 5, 51, 76, 93, 66, 46, 45, 68, 48, 95, 79, 25, 60, 71, 47, 82, 97, 33, 99, 19, 85, 26, 89, 52, 83, 35, 28, 98, 38, 16, 8, 21, 94, 57, 100, 88, 27, 86, 22, 84, 77, 54, 87, 43, 56, 13, 2, 23, 59, 63, 12, 67, 7, 75, 49, 10, 78]\n",
      "50\n",
      "[24, 69, 64, 15, 91, 14, 36, 92, 74, 62, 6, 96, 58, 53, 5, 51, 76, 93, 66, 46, 45, 68, 48, 95, 79, 25, 60, 71, 47, 82, 97, 33, 99, 19, 85, 26, 89, 52, 83, 35, 28, 98, 38, 16, 8, 21, 94, 57, 100, 88, 27, 86, 22, 84, 77, 54, 87, 43, 56, 13, 2, 23, 59, 63, 12, 67, 7, 75, 49, 10, 78]\n"
     ]
    }
   ],
   "source": [
    "print(set1)\n",
    "first_element = set1.pop(0)\n",
    "print(first_element)\n",
    "print(set1)\n"
   ]
  },
  {
   "cell_type": "markdown",
   "metadata": {},
   "source": [
    "#### 14 -Remove every element in the following list from `set1` if they are present in the set. Print the remaining elements.\n",
    "\n",
    "```\n",
    "list_to_remove = [1, 9, 11, 19, 21, 29, 31, 39, 41, 49, 51, 59, 61, 69, 71, 79, 81, 89, 91, 99]\n",
    "```"
   ]
  },
  {
   "cell_type": "code",
   "execution_count": 143,
   "metadata": {},
   "outputs": [
    {
     "name": "stdout",
     "output_type": "stream",
     "text": [
      "[46, 5, 0, 55, 17, 93, 71, 32, 49, 52, 65, 48, 15, 70, 9, 90, 12, 45, 96, 54, 18, 10, 57, 51, 60, 50, 47, 38, 13, 87, 26, 63, 59, 21, 91, 89, 40, 28, 77, 85, 33, 44, 78, 72, 6, 74, 4, 83, 8, 61, 39, 82, 19, 95, 31, 16, 76, 67, 22, 37, 99, 92, 80, 41, 1, 3, 2, 20, 35, 14, 62, 11, 24, 7, 97, 64, 53, 68, 100, 66]\n",
      "[46, 5, 0, 55, 17, 93, 32, 52, 65, 48, 15, 70, 90, 12, 45, 96, 54, 18, 10, 57, 60, 50, 47, 38, 13, 87, 26, 63, 40, 28, 77, 85, 33, 44, 78, 72, 6, 74, 4, 83, 8, 82, 95, 16, 76, 67, 22, 37, 92, 80, 3, 2, 20, 35, 14, 62, 24, 7, 97, 64, 53, 68, 100, 66]\n"
     ]
    }
   ],
   "source": [
    "print (set1)\n",
    "list_to_remove = [1, 9, 11, 19, 21, 29, 31, 39, 41, 49, 51, 59, 61, 69, 71, 79, 81, 89, 91, 99]\n",
    "\n",
    "for element in list_to_remove:\n",
    "    if element in set1:\n",
    "        set1.remove(element)\n",
    "\n",
    "print(set1)\n"
   ]
  },
  {
   "cell_type": "markdown",
   "metadata": {},
   "source": [
    "#### 15 -The objective of this lab is to provide you a overview of manipulating sets in Python and how they can be integrated within a real usecase\n",
    "#### For the exercises below it's strongly advised to quickly check this link: https://docs.python.org/2/library/sets.html#sets.Set\n",
    "#### Imagine you need to create the grocery list for your family! Below you will see a list of items each family member wants. There will be repetitions because this family has the habbit of each time they notice something is missing to write it down. The problem is that they don't really talk to each other and therefore some items in the list are repeated. With the collection of questions below you will see how they solve repetion and create a grocery list with unique elements.\n",
    "\n"
   ]
  },
  {
   "cell_type": "code",
   "execution_count": 154,
   "metadata": {},
   "outputs": [],
   "source": [
    "father_list = ['garlic', 'watermelon', 'toilet paper', 'yogurt', 'onions', 'gums', 'flour', 'cucumber', 'watermelon', 'yogurt', 'garlic']\n",
    "\n",
    "mother_list = []\n",
    "\n",
    "Jo_list = ['blueberries', 'sugar', 'watermelon', 'gums', 'tomatoes', 'yogurt', 'juice', 'milk', 'onions', 'garlic', 'cucumber', 'sugar', 'blueberries', 'gums', 'yogurt']\n",
    "\n",
    "Carlos_list = ['tomatoes', 'water', 'onions', 'blueberries', 'garlic', 'flour', 'cherries', 'tomatoes', 'onions', 'water', 'tomatoes', 'toilet paper']\n",
    "\n",
    "Mattia_list = []\n"
   ]
  },
  {
   "cell_type": "markdown",
   "metadata": {},
   "source": [
    "#### 15.1- As you can see there are items repeated in each list. Creat a sequence of iterable elements with dintinct items that each family member wants. You can do it in two different ways. Assign each one (set) to a variable with the name of the family member (ex: father_set)."
   ]
  },
  {
   "cell_type": "code",
   "execution_count": 155,
   "metadata": {},
   "outputs": [
    {
     "name": "stdout",
     "output_type": "stream",
     "text": [
      "set()\n",
      "{'cucumber', 'flour', 'gums', 'yogurt', 'watermelon', 'garlic', 'toilet paper', 'onions'}\n",
      "{'cucumber', 'gums', 'yogurt', 'blueberries', 'watermelon', 'tomatoes', 'milk', 'garlic', 'sugar', 'juice', 'onions'}\n",
      "{'flour', 'water', 'tomatoes', 'blueberries', 'garlic', 'cherries', 'toilet paper', 'onions'}\n",
      "set()\n"
     ]
    }
   ],
   "source": [
    "father_list = ['garlic', 'watermelon', 'toilet paper', 'yogurt', 'onions', 'gums', 'flour', 'cucumber', 'watermelon', 'yogurt', 'garlic']\n",
    "\n",
    "mother_list = []\n",
    "\n",
    "Jo_list = ['blueberries', 'sugar', 'watermelon', 'gums', 'tomatoes', 'yogurt', 'juice', 'milk', 'onions', 'garlic', 'cucumber', 'sugar', 'blueberries', 'gums', 'yogurt']\n",
    "\n",
    "Carlos_list = ['tomatoes', 'water', 'onions', 'blueberries', 'garlic', 'flour', 'cherries', 'tomatoes', 'onions', 'water', 'tomatoes', 'toilet paper']\n",
    "\n",
    "Mattia_list = []\n",
    "\n",
    "mother_set = set(mother_list)\n",
    "father_set = set(father_list)\n",
    "Jo_set = set(Jo_list)\n",
    "Carlos_set = set (Carlos_list)\n",
    "Mattia_set = set(Mattia_list)\n",
    "\n",
    "\n",
    "print(mother_set)\n",
    "print(father_set)\n",
    "print(Jo_set)\n",
    "print(Carlos_set)\n",
    "print(Mattia_set)\n"
   ]
  },
  {
   "attachments": {},
   "cell_type": "markdown",
   "metadata": {},
   "source": [
    "#### 15.2- Q: Mattia wants the same items that his brother Carlos and his sister Jo but doesn't want anything they both want.\n",
    "\n",
    "##### Hint: check out the documentation for `x.symmetric_difference(y)`.  #s.symmetric_difference_update"
   ]
  },
  {
   "cell_type": "code",
   "execution_count": 210,
   "metadata": {},
   "outputs": [
    {
     "name": "stdout",
     "output_type": "stream",
     "text": [
      "{'cucumber', 'flour', 'sugar', 'gums', 'water', 'yogurt', 'watermelon', 'cherries', 'toilet paper', 'milk', 'juice'}\n"
     ]
    }
   ],
   "source": [
    "Carlos_set = {'flour', 'water', 'tomatoes', 'blueberries', 'garlic', 'cherries', 'toilet paper', 'onions'}\n",
    "Jo_set = {'cucumber', 'gums', 'yogurt', 'blueberries', 'watermelon', 'tomatoes', 'milk', 'garlic', 'sugar', 'juice', 'onions'}\n",
    "\n",
    "\n",
    "both_want = Carlos_set.intersection(Jo_set)\n",
    "\n",
    "mattia_set = (Carlos_set.union(Jo_set)).difference(both_want)\n",
    "\n",
    "print(mattia_set)\n"
   ]
  },
  {
   "cell_type": "markdown",
   "metadata": {},
   "source": [
    "#### 15.3- The line of code below  will  generate a list of random elements from a collection of items, with replacement. Run it and from it create a sequence of unique elements and assign it to the variable mother.\n"
   ]
  },
  {
   "cell_type": "code",
   "execution_count": 160,
   "metadata": {},
   "outputs": [
    {
     "name": "stdout",
     "output_type": "stream",
     "text": [
      "['watermelon', 'juice', 'tomatoes', 'tomatoes', 'gums', 'vinegar', 'sugar', 'juice', 'deodorant', 'water']\n"
     ]
    }
   ],
   "source": [
    "import random\n",
    "items = ['milk', 'water', 'chocolate', 'blueberries', 'shampoo', 'flour', 'bread', 'sugar', 'watermelon', 'vinegar', 'tomatoes', 'yogurt', 'juice', 'gums', 'onions', 'garlic', 'cucumber', 'mushrooms', 'toilet paper', 'oranges', 'deodorant', 'cherries']\n",
    "\n",
    "mother_list = random.choices(items,k = 10) # https://docs.python.org/3/library/random.html\n",
    "\n",
    "print(mother_list)"
   ]
  },
  {
   "cell_type": "code",
   "execution_count": 171,
   "metadata": {},
   "outputs": [
    {
     "name": "stdout",
     "output_type": "stream",
     "text": [
      "['watermelon', 'juice', 'tomatoes', 'tomatoes', 'gums', 'vinegar', 'sugar', 'juice', 'deodorant', 'water']\n"
     ]
    }
   ],
   "source": [
    "mother_list = ['watermelon', 'juice', 'tomatoes', 'tomatoes', 'gums', 'vinegar', 'sugar', 'juice', 'deodorant', 'water']\n",
    "print (mother_list)"
   ]
  },
  {
   "cell_type": "markdown",
   "metadata": {},
   "source": [
    "#### 15.4- Before leaving the house to the grocery store the father found a lot of toilet paper, so the mother decided to remove it from the items needed to be bought. Use the `.discard()` method to remove from each set created before the 'toilet paper'. \n",
    "\n",
    "#### Hint: Try to first create a list contaning the variables of each set created before, then loop through them and remove the unecessary item. \n",
    "\n",
    "##### Note: The`.discard()` method will remove and update the set without the need of reassignment.\n",
    "\n"
   ]
  },
  {
   "cell_type": "code",
   "execution_count": 176,
   "metadata": {},
   "outputs": [
    {
     "name": "stdout",
     "output_type": "stream",
     "text": [
      "{'flour', 'water', 'tomatoes', 'blueberries', 'garlic', 'cherries', 'onions'}\n",
      "{'cucumber', 'gums', 'yogurt', 'blueberries', 'watermelon', 'tomatoes', 'garlic', 'milk', 'sugar', 'juice', 'onions'}\n",
      "{'cucumber', 'flour', 'gums', 'water', 'yogurt', 'watermelon', 'milk', 'cherries', 'sugar', 'juice'}\n",
      "{'vinegar', 'gums', 'water', 'deodorant', 'tomatoes', 'watermelon', 'sugar', 'juice'}\n",
      "{'cucumber', 'flour', 'gums', 'yogurt', 'watermelon', 'garlic', 'onions'}\n"
     ]
    }
   ],
   "source": [
    "mother_set = {'watermelon', 'juice', 'tomatoes', 'tomatoes', 'gums', 'vinegar', 'sugar', 'juice', 'deodorant', 'water'}\n",
    "father_set = {'cucumber', 'flour', 'gums', 'yogurt', 'watermelon', 'garlic', 'toilet paper', 'onions'}\n",
    "Jo_set = {'cucumber', 'sugar', 'gums', 'yogurt', 'blueberries', 'watermelon', 'tomatoes', 'garlic', 'milk', 'juice', 'onions'}\n",
    "Carlos_set = {'flour', 'water', 'tomatoes', 'blueberries', 'garlic', 'cherries', 'toilet paper', 'onions'}\n",
    "Mattia_set = {'cucumber', 'flour', 'sugar', 'gums', 'water', 'yogurt', 'watermelon', 'cherries', 'toilet paper', 'milk', 'juice'}\n",
    "\n",
    "no_paper = [Carlos_set, Jo_set, Mattia_set,mother_set, father_set]\n",
    "for x in no_paper:\n",
    "    x.discard('toilet paper')\n",
    "\n",
    "print(Carlos_set)\n",
    "print(Jo_set)\n",
    "print(Mattia_set)\n",
    "print (mother_set)\n",
    "print (father_set)"
   ]
  },
  {
   "cell_type": "markdown",
   "metadata": {},
   "source": [
    "#### 15.5- Create a set with all the groceries needed to be bought for the house (no repetitions)."
   ]
  },
  {
   "cell_type": "code",
   "execution_count": 180,
   "metadata": {},
   "outputs": [
    {
     "name": "stdout",
     "output_type": "stream",
     "text": [
      "{'vinegar', 'cucumber', 'gums', 'water', 'deodorant', 'tomatoes', 'blueberries', 'garlic', 'cherries', 'milk', 'juice', 'flour', 'yogurt', 'watermelon', 'sugar', 'onions'}\n"
     ]
    }
   ],
   "source": [
    "Carlos_set = {'flour', 'water', 'tomatoes', 'blueberries', 'garlic', 'cherries', 'onions'}\n",
    "Jo_set ={'cucumber', 'gums', 'yogurt', 'blueberries', 'watermelon', 'tomatoes', 'garlic', 'milk', 'sugar', 'juice', 'onions'}\n",
    "Mattia_set = {'cucumber', 'flour', 'gums', 'water', 'yogurt', 'watermelon', 'milk', 'cherries', 'sugar', 'juice'}\n",
    "mother_set = {'vinegar', 'gums', 'water', 'deodorant', 'tomatoes', 'watermelon', 'sugar', 'juice'}\n",
    "father_set = {'cucumber', 'flour', 'gums', 'yogurt', 'watermelon', 'garlic', 'onions'}\n",
    "\n",
    "all_groceries = Carlos_set.union(Jo_set, Mattia_set, mother_set,father_set)\n",
    "print (all_groceries)\n"
   ]
  },
  {
   "cell_type": "markdown",
   "metadata": {},
   "source": [
    "#### 15.6- The Father said that he could only buy five items this time. So he decided to arbitraly pick wich ones to buy this time.\n",
    "\n",
    "##### Hint: use the `.pop()` method."
   ]
  },
  {
   "cell_type": "code",
   "execution_count": 209,
   "metadata": {},
   "outputs": [
    {
     "name": "stdout",
     "output_type": "stream",
     "text": [
      "['vinegar', 'cucumber', 'gums', 'water', 'deodorant']\n"
     ]
    }
   ],
   "source": [
    "\n",
    "all_groceries = {'vinegar', 'cucumber', 'gums', 'water', 'deodorant', 'tomatoes', 'blueberries', 'garlic', 'cherries', 'milk', 'juice', 'flour', 'yogurt', 'watermelon', 'sugar', 'onions'}\n",
    "\n",
    "new_list = []\n",
    "\n",
    "for i in range(5):\n",
    "    selected_item = all_groceries.pop()\n",
    "    new_list.append(selected_item)\n",
    "\n",
    "print(new_list)\n"
   ]
  }
 ],
 "metadata": {
  "kernelspec": {
   "display_name": "Python 3",
   "language": "python",
   "name": "python3"
  },
  "language_info": {
   "codemirror_mode": {
    "name": "ipython",
    "version": 3
   },
   "file_extension": ".py",
   "mimetype": "text/x-python",
   "name": "python",
   "nbconvert_exporter": "python",
   "pygments_lexer": "ipython3",
   "version": "3.11.2"
  }
 },
 "nbformat": 4,
 "nbformat_minor": 2
}
