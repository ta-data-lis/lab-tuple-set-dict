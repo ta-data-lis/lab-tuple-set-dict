{
 "cells": [
  {
   "cell_type": "markdown",
   "metadata": {
    "id": "5hLQ0MVNYKKo"
   },
   "source": [
    "The objective of this lesson is to review Python's main native data structures. In the previous class we reviewed lists. These are extremely flexible and useful however, once we are trying to scale to more complex data structures, we need to have other resources. Today we will look at:\n",
    "\n",
    "* Dictionaries\n",
    "* Tuples\n",
    "* Sets"
   ]
  },
  {
   "cell_type": "code",
   "execution_count": null,
   "metadata": {
    "colab": {
     "base_uri": "https://localhost:8080/"
    },
    "id": "GVU7bhoC0oW0",
    "outputId": "6f45ceca-1484-4f97-c913-df1734a9c033"
   },
   "outputs": [
    {
     "name": "stdout",
     "output_type": "stream",
     "text": [
      "Apr\n",
      "Dec\n"
     ]
    }
   ],
   "source": [
    "# we can think of dictionaries in one of two (equivalent) ways\n",
    "# 1- as a \"list\" that is indexed not on integers but on arbitrary types\n",
    "# 2- as a lookup table\n",
    "\n",
    "#e.g. we saw in last class the list of months\n",
    "months = ['Jan','Feb','Mar','Apr','May','Jun','Jul','Aug','Sep','Oct','Nov','Dec']\n",
    "\n",
    "#can be used to extract, e.g. \"month number 4\", or \"the last month\"\n",
    "print(months[3])\n",
    "print(months[-1])"
   ]
  },
  {
   "cell_type": "code",
   "execution_count": null,
   "metadata": {
    "colab": {
     "base_uri": "https://localhost:8080/"
    },
    "id": "82dhRiR20oW2",
    "outputId": "8a3b0ff2-7614-4d92-df3e-d82a84ca7c4b"
   },
   "outputs": [
    {
     "name": "stdout",
     "output_type": "stream",
     "text": [
      "{'Jack': 'Jan', 'Stan': 'Apr', 'Roy': 'Jul', 'Gus': 'Oct', 'Lee': 'Dec'}\n"
     ]
    }
   ],
   "source": [
    "# but suppose a case where you have a small company where a monthly task (say inventory) is rotated by the several employees\n",
    "# in this case I don't care about the index of the month, I care about which month corresponds to \"Jack\" or \"Stan\"\n",
    "\n",
    "my_dict = {}\n",
    "\n",
    "my_dict['Jack'] = 'Jan'\n",
    "my_dict['Stan'] = 'Apr'\n",
    "my_dict['Roy'] = 'Jul'\n",
    "my_dict['Gus'] = 'Oct'\n",
    "my_dict['Lee'] = 'Dec'\n",
    "\n",
    "\n",
    "print(my_dict)"
   ]
  },
  {
   "cell_type": "code",
   "execution_count": null,
   "metadata": {
    "colab": {
     "base_uri": "https://localhost:8080/",
     "height": 37
    },
    "id": "CA3hVcMF0oW3",
    "outputId": "f6412a5f-9668-46bc-f7a7-b7c4d1fcaf16"
   },
   "outputs": [
    {
     "data": {
      "application/vnd.google.colaboratory.intrinsic+json": {
       "type": "string"
      },
      "text/plain": [
       "'Jul'"
      ]
     },
     "execution_count": 5,
     "metadata": {
      "tags": []
     },
     "output_type": "execute_result"
    }
   ],
   "source": [
    "my_dict['Roy']"
   ]
  },
  {
   "cell_type": "code",
   "execution_count": null,
   "metadata": {
    "id": "Xc7BvJXT0oW4"
   },
   "outputs": [],
   "source": [
    "#my_dict.keys()\n",
    "#my_dict.values()"
   ]
  },
  {
   "cell_type": "code",
   "execution_count": null,
   "metadata": {
    "colab": {
     "base_uri": "https://localhost:8080/"
    },
    "id": "xRRQyjLVYH03",
    "outputId": "cc58c876-a57b-4448-842a-ba052b67f21c"
   },
   "outputs": [
    {
     "name": "stdout",
     "output_type": "stream",
     "text": [
      "{'David': 'Data Education Team', 'Jose': 'Data Education Team & Data Student', 'Euclides': 'Data Student', 'Miguel': 'WebDev Education Team', 'Munique': 'Data Student & Administration Team'}\n"
     ]
    }
   ],
   "source": [
    "# notation of dictionary key:value\n",
    "# notice order of output\n",
    "\n",
    "my_dict = {}\n",
    "my_dict['David'] = \"Data Education Team\"\n",
    "my_dict['Jose'] = \"Data Education Team & Data Student\"\n",
    "my_dict['Euclides'] = \"Data Student\"\n",
    "my_dict['Miguel'] = \"WebDev Education Team\"\n",
    "my_dict['Munique'] = \"Data Student & Administration Team\"\n",
    "\n",
    "print(my_dict)"
   ]
  },
  {
   "cell_type": "code",
   "execution_count": null,
   "metadata": {
    "colab": {
     "base_uri": "https://localhost:8080/",
     "height": 35
    },
    "id": "BPFy4VDQUh-R",
    "outputId": "52817016-1537-41ad-d984-8c9f4836de48"
   },
   "outputs": [
    {
     "data": {
      "application/vnd.google.colaboratory.intrinsic+json": {
       "type": "string"
      },
      "text/plain": [
       "'Data Education Team'"
      ]
     },
     "execution_count": 52,
     "metadata": {
      "tags": []
     },
     "output_type": "execute_result"
    }
   ],
   "source": [
    "my_dict['David']"
   ]
  },
  {
   "cell_type": "code",
   "execution_count": null,
   "metadata": {
    "id": "Rjq0LW7Hy5eX"
   },
   "outputs": [],
   "source": [
    "#keys, items, values"
   ]
  },
  {
   "cell_type": "code",
   "execution_count": null,
   "metadata": {
    "colab": {
     "base_uri": "https://localhost:8080/"
    },
    "id": "aEd0pAwT4_Rv",
    "outputId": "2f9ece23-2bfb-4652-eda2-cdd49e033051"
   },
   "outputs": [
    {
     "data": {
      "text/plain": [
       "dict_keys(['David', 'Jose', 'Euclides', 'Miguel', 'Munique'])"
      ]
     },
     "execution_count": 53,
     "metadata": {
      "tags": []
     },
     "output_type": "execute_result"
    }
   ],
   "source": [
    "my_dict.keys()"
   ]
  },
  {
   "cell_type": "code",
   "execution_count": null,
   "metadata": {
    "colab": {
     "base_uri": "https://localhost:8080/"
    },
    "id": "seiPgNQvRGQk",
    "outputId": "02914858-8ecf-4334-882c-52415fc2c170"
   },
   "outputs": [
    {
     "data": {
      "text/plain": [
       "['Jose', 'Euclides', 'Miguel', 'Munique']"
      ]
     },
     "execution_count": 54,
     "metadata": {
      "tags": []
     },
     "output_type": "execute_result"
    }
   ],
   "source": [
    "#just like with 'range' before, you can \"cast\" dictionary keys to a list\n",
    "\n",
    "my_list = list(mydict.keys())\n",
    "my_list"
   ]
  },
  {
   "cell_type": "code",
   "execution_count": null,
   "metadata": {
    "colab": {
     "base_uri": "https://localhost:8080/"
    },
    "id": "s51zq6RqT9-u",
    "outputId": "7d298828-5192-4c73-ba6c-3295b6ae02ed"
   },
   "outputs": [
    {
     "data": {
      "text/plain": [
       "dict_keys"
      ]
     },
     "execution_count": 10,
     "metadata": {
      "tags": []
     },
     "output_type": "execute_result"
    }
   ],
   "source": [
    "# lets see some properties of the keys of a dictionary -> type? indexable? iterable?\n",
    "\n",
    "# own type\n",
    "type(my_dict.keys())\n",
    "\n",
    "# iterable -> check\n",
    "#for key in my_dict.keys():\n",
    "#  print(key)\n",
    "\n",
    "# but each individual key retains its type\n",
    "#for key in my_dict.keys():\n",
    "#  print(type(key))\n",
    "\n",
    "# indexed? Not so much\n",
    "# my_dict.keys()[2]"
   ]
  },
  {
   "cell_type": "code",
   "execution_count": null,
   "metadata": {
    "colab": {
     "base_uri": "https://localhost:8080/"
    },
    "id": "zIw-iFv-ZEpb",
    "outputId": "4cb4e9da-f4ea-4542-bfac-83aa929e8be5"
   },
   "outputs": [
    {
     "data": {
      "text/plain": [
       "dict_values(['Data Education Team', 'Data Education Team & Data Student', 'Data Student', 'WebDev Education Team', 'Data Student & Administration Team'])"
      ]
     },
     "execution_count": 56,
     "metadata": {
      "tags": []
     },
     "output_type": "execute_result"
    }
   ],
   "source": [
    "# we can do the same things with values\n",
    "my_dict.values()"
   ]
  },
  {
   "cell_type": "code",
   "execution_count": null,
   "metadata": {
    "colab": {
     "base_uri": "https://localhost:8080/"
    },
    "id": "b5uP36IAU02x",
    "outputId": "a39b18e9-6e28-4ab5-c8d4-a37e7eccd1bf"
   },
   "outputs": [
    {
     "data": {
      "text/plain": [
       "dict_items([('David', 'Data Education Team'), ('Jose', 'Data Education Team & Data Student'), ('Euclides', 'Data Student'), ('Miguel', 'WebDev Education Team'), ('Munique', 'Data Student & Administration Team')])"
      ]
     },
     "execution_count": 57,
     "metadata": {
      "tags": []
     },
     "output_type": "execute_result"
    }
   ],
   "source": [
    "# and items\n",
    "my_dict.items()"
   ]
  },
  {
   "cell_type": "code",
   "execution_count": null,
   "metadata": {
    "colab": {
     "base_uri": "https://localhost:8080/"
    },
    "id": "suhmtL68VoEp",
    "outputId": "c2abd6a9-486a-4078-d73e-63bd0a82ce45"
   },
   "outputs": [
    {
     "data": {
      "text/plain": [
       "{127330414: 'Webdev Student',\n",
       " 'David': 'Data Education Team',\n",
       " 'Euclides': 'Data Student',\n",
       " 'Jose': 'Data Education Team & Data Student',\n",
       " 'Miguel': 'WebDev Education Team',\n",
       " 'Munique': 'Data Student & Administration Team'}"
      ]
     },
     "execution_count": 11,
     "metadata": {
      "tags": []
     },
     "output_type": "execute_result"
    }
   ],
   "source": [
    "# new items don't have to ype match (but they should)\n",
    "my_dict[127330414] = \"Webdev Student\"\n",
    "my_dict"
   ]
  },
  {
   "cell_type": "code",
   "execution_count": null,
   "metadata": {
    "colab": {
     "base_uri": "https://localhost:8080/"
    },
    "id": "bW1oCiY4VLaT",
    "outputId": "a37d26d2-1864-4ab0-bdc3-6573b77fe065"
   },
   "outputs": [
    {
     "name": "stdout",
     "output_type": "stream",
     "text": [
      "Data Education Team\n",
      "{'Jose': 'Data Education Team & Data Student', 'Euclides': 'Data Student', 'Miguel': 'WebDev Education Team', 'Munique': 'Data Student & Administration Team', 127330414: 'Webdev Student'}\n"
     ]
    }
   ],
   "source": [
    "# pop still works on indexes (but now indexes are the keys) and remove still works on values\n",
    "a = my_dict.pop(\"David\")\n",
    "print(a)\n",
    "print(my_dict)"
   ]
  },
  {
   "cell_type": "code",
   "execution_count": null,
   "metadata": {
    "colab": {
     "base_uri": "https://localhost:8080/",
     "height": 195
    },
    "id": "r2_0_Bs_WJE0",
    "outputId": "23a992df-b4c9-439c-a2bc-2c4b41525ce4"
   },
   "outputs": [
    {
     "ename": "AttributeError",
     "evalue": "ignored",
     "output_type": "error",
     "traceback": [
      "\u001b[0;31m---------------------------------------------------------------------------\u001b[0m",
      "\u001b[0;31mAttributeError\u001b[0m                            Traceback (most recent call last)",
      "\u001b[0;32m<ipython-input-60-44280a187a5a>\u001b[0m in \u001b[0;36m<module>\u001b[0;34m()\u001b[0m\n\u001b[1;32m      1\u001b[0m \u001b[0;31m# remove does not work on dictionaries\u001b[0m\u001b[0;34m\u001b[0m\u001b[0;34m\u001b[0m\u001b[0;34m\u001b[0m\u001b[0m\n\u001b[0;32m----> 2\u001b[0;31m \u001b[0mmy_dict\u001b[0m\u001b[0;34m.\u001b[0m\u001b[0mremove\u001b[0m\u001b[0;34m(\u001b[0m\u001b[0;34m\"Data Student\"\u001b[0m\u001b[0;34m)\u001b[0m\u001b[0;34m\u001b[0m\u001b[0;34m\u001b[0m\u001b[0m\n\u001b[0m\u001b[1;32m      3\u001b[0m \u001b[0mprint\u001b[0m\u001b[0;34m(\u001b[0m\u001b[0mmy_dict\u001b[0m\u001b[0;34m)\u001b[0m\u001b[0;34m\u001b[0m\u001b[0;34m\u001b[0m\u001b[0m\n",
      "\u001b[0;31mAttributeError\u001b[0m: 'dict' object has no attribute 'remove'"
     ]
    }
   ],
   "source": [
    "# remove does not work on dictionaries\n",
    "my_dict.remove(\"Data Student\")\n",
    "print(my_dict)"
   ]
  },
  {
   "cell_type": "code",
   "execution_count": null,
   "metadata": {
    "id": "n_RPmL2bW5M8"
   },
   "outputs": [],
   "source": [
    "# let's create a dictionary that counts the number of occurences of each letter in a string\n",
    "# (i.e. you give it a letter and it tells you back how often it appears)\n",
    "sentence = \"one ring to rule them all one ring to find them one ring to bring them all and in the darkness bind them\""
   ]
  },
  {
   "cell_type": "code",
   "execution_count": null,
   "metadata": {
    "colab": {
     "base_uri": "https://localhost:8080/"
    },
    "id": "ii6viuovArW3",
    "outputId": "87b8896f-0dfe-42df-c7b7-bf0b64debc0a"
   },
   "outputs": [
    {
     "name": "stdout",
     "output_type": "stream",
     "text": [
      "{'o': 6, 'n': 12, 'e': 10, ' ': 22, 'r': 6, 'i': 7, 'g': 4, 't': 8, 'u': 1, 'l': 5, 'h': 5, 'm': 4, 'a': 4, 'f': 1, 'd': 4, 'b': 2, 'k': 1, 's': 2}\n"
     ]
    }
   ],
   "source": [
    "count_letters = {}\n",
    "for letter in sentence:\n",
    "  if letter in count_letters.keys():\n",
    "    count_letters[letter] += 1\n",
    "  else:\n",
    "    count_letters[letter] = 1\n",
    "\n",
    "print(count_letters)"
   ]
  },
  {
   "cell_type": "code",
   "execution_count": null,
   "metadata": {
    "colab": {
     "base_uri": "https://localhost:8080/"
    },
    "id": "okuf2KXmX4Rg",
    "outputId": "ccdc2585-95c8-4517-925f-281b54441672"
   },
   "outputs": [
    {
     "data": {
      "text/plain": [
       "4"
      ]
     },
     "execution_count": 63,
     "metadata": {
      "tags": []
     },
     "output_type": "execute_result"
    }
   ],
   "source": [
    "count_letters['a']"
   ]
  },
  {
   "cell_type": "code",
   "execution_count": null,
   "metadata": {
    "colab": {
     "base_uri": "https://localhost:8080/"
    },
    "id": "BGjhK2ugXrYr",
    "outputId": "5ad186e3-8dd5-45b8-9302-774706b7b9ba"
   },
   "outputs": [
    {
     "name": "stdout",
     "output_type": "stream",
     "text": [
      "['one', 'ring', 'to', 'rule', 'them', 'all', 'one', 'ring', 'to', 'find', 'them', 'one', 'ring', 'to', 'bring', 'them', 'all', 'and', 'in', 'the', 'darkness', 'bind', 'them']\n"
     ]
    }
   ],
   "source": [
    "# do it yourself: create a dictionary that counts the number of occurences of each word in a string\n",
    "word_list = sentence.split(\" \")\n",
    "print(word_list)"
   ]
  },
  {
   "cell_type": "code",
   "execution_count": null,
   "metadata": {
    "id": "a79JehPgX8Yh"
   },
   "outputs": [],
   "source": [
    "# solution\n",
    "count_words = {}\n",
    "for word in word_list:\n",
    "  if word in count_words.keys():\n",
    "    count_words[word] += 1\n",
    "  else:\n",
    "    count_words[word] = 1"
   ]
  },
  {
   "cell_type": "code",
   "execution_count": null,
   "metadata": {
    "colab": {
     "base_uri": "https://localhost:8080/"
    },
    "id": "EQoSZD1kYNay",
    "outputId": "1517bf89-0062-478e-a640-66dddd6151c8"
   },
   "outputs": [
    {
     "data": {
      "text/plain": [
       "3"
      ]
     },
     "execution_count": 66,
     "metadata": {
      "tags": []
     },
     "output_type": "execute_result"
    }
   ],
   "source": [
    "count_words['ring']"
   ]
  },
  {
   "cell_type": "code",
   "execution_count": null,
   "metadata": {
    "id": "JLfKObZVDScb"
   },
   "outputs": [],
   "source": [
    "# other solution using list count() method --> counts the number of times a word appear\n",
    "\n",
    "count_words = {}\n",
    "\n",
    "for word in word_list:\n",
    "  count_words[word] = word_list.count(word)\n"
   ]
  },
  {
   "cell_type": "code",
   "execution_count": null,
   "metadata": {
    "colab": {
     "base_uri": "https://localhost:8080/"
    },
    "id": "GfTyVhsQCc6Z",
    "outputId": "3437702f-2b95-4dcf-8e95-638b80b99f99"
   },
   "outputs": [
    {
     "data": {
      "text/plain": [
       "{'all': 2,\n",
       " 'and': 1,\n",
       " 'bind': 1,\n",
       " 'bring': 1,\n",
       " 'darkness': 1,\n",
       " 'find': 1,\n",
       " 'in': 1,\n",
       " 'one': 3,\n",
       " 'ring': 3,\n",
       " 'rule': 1,\n",
       " 'the': 1,\n",
       " 'them': 4,\n",
       " 'to': 3}"
      ]
     },
     "execution_count": 6,
     "metadata": {
      "tags": []
     },
     "output_type": "execute_result"
    }
   ],
   "source": [
    "# advanced using list count() method and dictionay comprehension\n",
    "\n",
    "{word : word_list.count(word) for word in word_list}"
   ]
  },
  {
   "cell_type": "code",
   "execution_count": null,
   "metadata": {
    "colab": {
     "base_uri": "https://localhost:8080/"
    },
    "id": "_RiFP2n7ZjM2",
    "outputId": "43e45ecb-b72a-4a1f-a751-0f67d0123d60"
   },
   "outputs": [
    {
     "data": {
      "text/plain": [
       "{'ant': 'insect', 'cat': 'mammal', 'dog': 'mammal', 'parrot': 'bird'}"
      ]
     },
     "execution_count": 67,
     "metadata": {
      "tags": []
     },
     "output_type": "execute_result"
    }
   ],
   "source": [
    "#building dictionaries from lists\n",
    "keys = ['dog','cat','ant','parrot'] \n",
    "values = ['mammal','mammal','insect','bird'] \n",
    "\n",
    "#zip and dictionary comprehensions\n",
    "dict_animals = {x: y for x,y in zip(keys,values)} # zip puts the two lists together and creates a zip object where each element of the first list is associated to the respective element on the secod list\n",
    "dict_animals"
   ]
  },
  {
   "cell_type": "code",
   "execution_count": null,
   "metadata": {
    "colab": {
     "base_uri": "https://localhost:8080/"
    },
    "id": "Cy1gBYkfD-Vl",
    "outputId": "e81cef1d-3911-4bfc-bb29-442790c21bd2"
   },
   "outputs": [
    {
     "data": {
      "text/plain": [
       "[('dog', 'mammal'), ('cat', 'mammal'), ('ant', 'insect'), ('parrot', 'bird')]"
      ]
     },
     "execution_count": 68,
     "metadata": {
      "tags": []
     },
     "output_type": "execute_result"
    }
   ],
   "source": [
    "# deep dive into zip \n",
    "\n",
    "list(zip(keys,values)) # zip puts the two lists together and creates a zip object where each element of the first list is associated to the respective element on the secod list"
   ]
  },
  {
   "cell_type": "code",
   "execution_count": null,
   "metadata": {
    "colab": {
     "base_uri": "https://localhost:8080/"
    },
    "id": "VBMzxNl64tBY",
    "outputId": "8313f6a8-9f93-424e-846a-4d0db72d672e"
   },
   "outputs": [
    {
     "data": {
      "text/plain": [
       "{'David': ('Data Education Team',),\n",
       " 'Euclides': ('Data Student',),\n",
       " 'Jose': ('Data Education Team', 'Data Student'),\n",
       " 'Miguel': ('WebDev Education Team',),\n",
       " 'Munique': ('Data Student', 'Administration Team')}"
      ]
     },
     "execution_count": 13,
     "metadata": {
      "tags": []
     },
     "output_type": "execute_result"
    }
   ],
   "source": [
    "#the above dictionary was a bit silly it's difficult to relate \"\"Data Education Team & Data Student\" to \"Data Education Team\" because they are different strings\n",
    "categories = [\"Data Student\", \"WebDev Studdent\", \"WebDev Education Team\", \"Data Education Team\", \"Administration Team\"]\n",
    "\n",
    "# welcome to Tuples!\n",
    "my_improved_dict = {}\n",
    "my_improved_dict['David'] = (\"Data Education Team\",)\n",
    "my_improved_dict['Jose'] = (\"Data Education Team\", \"Data Student\")\n",
    "my_improved_dict['Euclides'] = (\"Data Student\",)\n",
    "my_improved_dict['Miguel'] = (\"WebDev Education Team\",)\n",
    "my_improved_dict['Munique'] = (\"Data Student\", \"Administration Team\")\n",
    "my_improved_dict"
   ]
  },
  {
   "cell_type": "code",
   "execution_count": null,
   "metadata": {
    "colab": {
     "base_uri": "https://localhost:8080/"
    },
    "id": "rP3Iy3s3aRPi",
    "outputId": "33291342-7a48-4b78-8775-96218b32d096"
   },
   "outputs": [
    {
     "data": {
      "text/plain": [
       "('Data Education Team',)"
      ]
     },
     "execution_count": 15,
     "metadata": {
      "tags": []
     },
     "output_type": "execute_result"
    }
   ],
   "source": [
    "# now how can I access the interiors of a Tuple?\n",
    "my_improved_dict[\"David\"][0]\n",
    "\n",
    "# don't mess too much with tuples, you cant do much with them once they have been created\n",
    "# my_improved_dict[\"David\"].append(\"WebDev Student\")\n",
    "\n",
    "# why using them, then? They are crazy efficient.- The less functionality something has, the more efficient it is at doing that limited set of things\n",
    "# conversely the more flexibility something has, the more we pay in performance for that flexibility"
   ]
  },
  {
   "cell_type": "code",
   "execution_count": null,
   "metadata": {
    "colab": {
     "base_uri": "https://localhost:8080/"
    },
    "id": "YzhiMmm0a6E9",
    "outputId": "23d1e4c5-e9d4-40a0-954c-ecc6a72e62a5"
   },
   "outputs": [
    {
     "data": {
      "text/plain": [
       "False"
      ]
     },
     "execution_count": 17,
     "metadata": {
      "tags": []
     },
     "output_type": "execute_result"
    }
   ],
   "source": [
    "# this is still not ideal, if I want to check if José and Munique share a role, tuples are not the way to go\n",
    "my_improved_dict[\"Munique\"][0]==my_improved_dict[\"Jose\"][0]\n",
    "my_improved_dict[\"Munique\"][1]==my_improved_dict[\"Jose\"][0]\n",
    "my_improved_dict[\"Munique\"][0]==my_improved_dict[\"Jose\"][1]\n",
    "my_improved_dict[\"Munique\"][1]==my_improved_dict[\"Jose\"][1]"
   ]
  },
  {
   "cell_type": "code",
   "execution_count": null,
   "metadata": {
    "colab": {
     "base_uri": "https://localhost:8080/"
    },
    "id": "dfbWPJqvd2fl",
    "outputId": "d7c535d2-c464-4766-decc-1a046265d1fd"
   },
   "outputs": [
    {
     "data": {
      "text/plain": [
       "{'Canada', 'United States'}"
      ]
     },
     "execution_count": 19,
     "metadata": {
      "tags": []
     },
     "output_type": "execute_result"
    }
   ],
   "source": [
    "# sets are good for set operations (not surprisingly)\n",
    "# they ignore repeated elements\n",
    "\n",
    "G7 = {\"United States\", \"United Kingdom\", \"Japan\", \"France\", \"Germany\", \"Canada\", \"Italy\"}\n",
    "NA = {\"Antigua and Barbuda\",\"Bahamas\",\"Barbados\",\"Belize\",\"Canada\",\"Costa Rica\",\"Cuba\",\"Mexico\",\"Nicaragua\",\"Panama\",\"Trinidad and Tobago\",\"United States\"}\n",
    "\n",
    "G7.intersection(NA)\n",
    "#G7.union(NA)\n",
    "#NA.difference(G7)\n",
    "#G7.difference(NA)"
   ]
  },
  {
   "cell_type": "code",
   "execution_count": null,
   "metadata": {
    "colab": {
     "base_uri": "https://localhost:8080/"
    },
    "id": "Dg3nUrU4caca",
    "outputId": "dd3ffc0a-23a1-4d7e-fe6a-0d0638416bc7"
   },
   "outputs": [
    {
     "data": {
      "text/plain": [
       "True"
      ]
     },
     "execution_count": 87,
     "metadata": {
      "tags": []
     },
     "output_type": "execute_result"
    }
   ],
   "source": [
    "'Canada' in NA"
   ]
  },
  {
   "cell_type": "code",
   "execution_count": null,
   "metadata": {
    "colab": {
     "base_uri": "https://localhost:8080/"
    },
    "id": "_HtF1lctcwiD",
    "outputId": "96c8ba9a-8e5f-4e20-fa4c-df5b0f1c858c"
   },
   "outputs": [
    {
     "data": {
      "text/plain": [
       "False"
      ]
     },
     "execution_count": 88,
     "metadata": {
      "tags": []
     },
     "output_type": "execute_result"
    }
   ],
   "source": [
    "'Barbados' in G7"
   ]
  },
  {
   "cell_type": "code",
   "execution_count": null,
   "metadata": {
    "colab": {
     "base_uri": "https://localhost:8080/"
    },
    "id": "eVnxcTFHczbp",
    "outputId": "bb71df6f-12e9-4dc2-973b-7cb66d90bb54"
   },
   "outputs": [
    {
     "data": {
      "text/plain": [
       "True"
      ]
     },
     "execution_count": 89,
     "metadata": {
      "tags": []
     },
     "output_type": "execute_result"
    }
   ],
   "source": [
    "'Barbados' not in G7"
   ]
  },
  {
   "cell_type": "code",
   "execution_count": null,
   "metadata": {
    "id": "GaHvKWUPc4MS"
   },
   "outputs": [],
   "source": [
    "# sets are iterable, but not indexed\n",
    "#for country in G7:\n",
    "#  print(country)\n",
    "\n",
    "#G7[2]"
   ]
  },
  {
   "cell_type": "code",
   "execution_count": null,
   "metadata": {
    "colab": {
     "base_uri": "https://localhost:8080/"
    },
    "id": "hvHqisDodWlC",
    "outputId": "d2fc2f27-d871-47fe-e14b-6e7f4bc956d7"
   },
   "outputs": [
    {
     "data": {
      "text/plain": [
       "{'David': {'Data Education Team'},\n",
       " 'Euclides': {'Data Student'},\n",
       " 'Jose': {'Data Education Team', 'Data Student'},\n",
       " 'Miguel': {'WebDev Education Team'},\n",
       " 'Munique': {'Administration Team', 'Data Student'}}"
      ]
     },
     "execution_count": 22,
     "metadata": {
      "tags": []
     },
     "output_type": "execute_result"
    }
   ],
   "source": [
    "my_improved_dict = {}\n",
    "my_improved_dict['David'] = {\"Data Education Team\"}\n",
    "my_improved_dict['Jose'] = {\"Data Education Team\", \"Data Student\"}\n",
    "my_improved_dict['Euclides'] = {\"Data Student\"}\n",
    "my_improved_dict['Miguel'] = {\"WebDev Education Team\"}\n",
    "my_improved_dict['Munique'] = {\"Data Student\", \"Administration Team\"}\n",
    "my_improved_dict"
   ]
  },
  {
   "cell_type": "code",
   "execution_count": null,
   "metadata": {
    "colab": {
     "base_uri": "https://localhost:8080/"
    },
    "id": "F8gYINlBdiqZ",
    "outputId": "f3a0acd0-5bd7-4213-82a5-3a7eb846f27f"
   },
   "outputs": [
    {
     "data": {
      "text/plain": [
       "{'Administration Team'}"
      ]
     },
     "execution_count": 23,
     "metadata": {
      "tags": []
     },
     "output_type": "execute_result"
    }
   ],
   "source": [
    "#do it yourself: find if Jose and Munique have roles in common\n",
    "my_improved_dict['Jose'].intersection(my_improved_dict['Munique'])\n",
    "#find all roles that Munique has that José does not\n",
    "my_improved_dict['Munique'].difference(my_improved_dict['Jose'])"
   ]
  },
  {
   "cell_type": "code",
   "execution_count": null,
   "metadata": {
    "colab": {
     "base_uri": "https://localhost:8080/"
    },
    "id": "du0kvvu7V9lb",
    "outputId": "496ccd2a-3a84-49b3-9d02-7c1a5cc2f261"
   },
   "outputs": [
    {
     "name": "stdout",
     "output_type": "stream",
     "text": [
      "{'b', 'c', 'd', 'r'}\n"
     ]
    },
    {
     "data": {
      "text/plain": [
       "True"
      ]
     },
     "execution_count": 99,
     "metadata": {
      "tags": []
     },
     "output_type": "execute_result"
    }
   ],
   "source": [
    "# how about a set comprehension?\n",
    "\n",
    "new_set = {letter for letter in 'abracadabra' if letter != 'a'}\n",
    "print(new_set)\n",
    "\n",
    "new_set.issubset({'a','b','r','c','d',3,'l'})"
   ]
  },
  {
   "cell_type": "code",
   "execution_count": null,
   "metadata": {
    "id": "qxhC6QymeHMk"
   },
   "outputs": [],
   "source": []
  }
 ],
 "metadata": {
  "colab": {
   "collapsed_sections": [],
   "name": "dicts_sets_tuples.ipynb",
   "provenance": []
  },
  "kernelspec": {
   "display_name": "Python 3",
   "language": "python",
   "name": "python3"
  },
  "language_info": {
   "codemirror_mode": {
    "name": "ipython",
    "version": 3
   },
   "file_extension": ".py",
   "mimetype": "text/x-python",
   "name": "python",
   "nbconvert_exporter": "python",
   "pygments_lexer": "ipython3",
   "version": "3.8.8"
  }
 },
 "nbformat": 4,
 "nbformat_minor": 1
}
