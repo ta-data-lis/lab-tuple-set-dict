{
 "cells": [
  {
   "cell_type": "code",
   "execution_count": 36,
   "metadata": {},
   "outputs": [],
   "source": [
    "def accum(thi):\n",
    "    thi.split()\n",
    "    return thi[0].upper(), thi[1]*2, thi[2]*3, thi[3]*4\n",
    "\n",
    "thi = \"thiago\""
   ]
  },
  {
   "cell_type": "code",
   "execution_count": 37,
   "metadata": {},
   "outputs": [
    {
     "data": {
      "text/plain": [
       "('T', 'hh', 'iii', 'aaaa')"
      ]
     },
     "execution_count": 37,
     "metadata": {},
     "output_type": "execute_result"
    }
   ],
   "source": [
    "\n",
    "accum(thi)"
   ]
  },
  {
   "cell_type": "code",
   "execution_count": 25,
   "metadata": {},
   "outputs": [
    {
     "ename": "SyntaxError",
     "evalue": "invalid syntax (4202282594.py, line 2)",
     "output_type": "error",
     "traceback": [
      "\u001b[0;36m  Cell \u001b[0;32mIn[25], line 2\u001b[0;36m\u001b[0m\n\u001b[0;31m    return [A-Z][a-z]*2[a-z]*3+\u001b[0m\n\u001b[0m                               ^\u001b[0m\n\u001b[0;31mSyntaxError\u001b[0m\u001b[0;31m:\u001b[0m invalid syntax\n"
     ]
    }
   ],
   "source": [
    "def accum(x):\n",
    "    return [A-Z][a-z]*2[a-z]*3+"
   ]
  },
  {
   "cell_type": "code",
   "execution_count": 60,
   "metadata": {},
   "outputs": [],
   "source": [
    "def accum(thi):\n",
    "    thi.split()\n",
    "    for i in thi.split():\n",
    "        return i[0].title(), i[1].title()*2, i[2].title()*3\n",
    "\n",
    "    \n",
    "\n",
    "thi = \"thiagomello\""
   ]
  },
  {
   "cell_type": "code",
   "execution_count": 56,
   "metadata": {},
   "outputs": [
    {
     "data": {
      "text/plain": [
       "('T', 'HH', 'III')"
      ]
     },
     "execution_count": 56,
     "metadata": {},
     "output_type": "execute_result"
    }
   ],
   "source": [
    "accum(thi)"
   ]
  },
  {
   "cell_type": "code",
   "execution_count": 61,
   "metadata": {},
   "outputs": [
    {
     "data": {
      "text/plain": [
       "['thiagomello']"
      ]
     },
     "execution_count": 61,
     "metadata": {},
     "output_type": "execute_result"
    }
   ],
   "source": [
    "thi = \"thiagomello\"\n",
    "\n",
    "thi.split()"
   ]
  },
  {
   "cell_type": "code",
   "execution_count": 76,
   "metadata": {},
   "outputs": [
    {
     "name": "stdout",
     "output_type": "stream",
     "text": [
      "A-Bb-Ccc-Dddd\n"
     ]
    }
   ],
   "source": [
    "def accum(s):\n",
    "    new_string = \"\"\n",
    "    for i, c in enumerate(s):\n",
    "        new_string += c.upper() + c.lower() * i + '-'\n",
    "    return new_string.strip('-')\n",
    "\n",
    "print(accum(\"abcd\"))"
   ]
  },
  {
   "cell_type": "code",
   "execution_count": 77,
   "metadata": {},
   "outputs": [
    {
     "data": {
      "text/plain": [
       "'T-Hh-Iii-Aaaa-Ggggg-Oooooo-Mmmmmmm-Eeeeeeee-Lllllllll-Llllllllll-Ooooooooooo'"
      ]
     },
     "execution_count": 77,
     "metadata": {},
     "output_type": "execute_result"
    }
   ],
   "source": [
    "accum(\"thiagomello\")"
   ]
  },
  {
   "cell_type": "code",
   "execution_count": 74,
   "metadata": {},
   "outputs": [],
   "source": [
    "#Actual resolution\n",
    "\n",
    "def accum(s):\n",
    "    i = 0\n",
    "    result = ''\n",
    "\n",
    "    for letter in s:\n",
    "        result += letter.upper() + letter.lower() * i + '-'\n",
    "        i += 1\n",
    "\n",
    "    return result[:-1]"
   ]
  },
  {
   "cell_type": "code",
   "execution_count": 75,
   "metadata": {},
   "outputs": [
    {
     "data": {
      "text/plain": [
       "'T-Hh-Iii-Aaaa-Ggggg-Oooooo-Mmmmmmm-Eeeeeeee-Lllllllll-Llllllllll-Ooooooooooo'"
      ]
     },
     "execution_count": 75,
     "metadata": {},
     "output_type": "execute_result"
    }
   ],
   "source": [
    "accum(\"thiagomello\")"
   ]
  }
 ],
 "metadata": {
  "kernelspec": {
   "display_name": "Python 3",
   "language": "python",
   "name": "python3"
  },
  "language_info": {
   "codemirror_mode": {
    "name": "ipython",
    "version": 3
   },
   "file_extension": ".py",
   "mimetype": "text/x-python",
   "name": "python",
   "nbconvert_exporter": "python",
   "pygments_lexer": "ipython3",
   "version": "3.11.1"
  },
  "orig_nbformat": 4,
  "vscode": {
   "interpreter": {
    "hash": "aee8b7b246df8f9039afb4144a1f6fd8d2ca17a180786b69acc140d282b71a49"
   }
  }
 },
 "nbformat": 4,
 "nbformat_minor": 2
}
