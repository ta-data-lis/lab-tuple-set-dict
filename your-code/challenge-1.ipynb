{
 "cells": [
  {
   "cell_type": "markdown",
   "metadata": {},
   "source": [
    "## Challenge 1: Tuples\n",
    "\n",
    "#### Do you know you can create tuples with only one element?\n",
    "\n",
    "**In the cell below, define a variable `tup` with a single element `\"I\"`.**\n",
    "\n",
    "*Hint: you need to add a comma (`,`) after the single element.*"
   ]
  },
  {
   "cell_type": "code",
   "execution_count": null,
   "metadata": {},
   "outputs": [],
   "source": [
    "#Definition of variable tup, taking the hint into consideration\n",
    "tup = ('I',)\n",
    "\n",
    "#Print the content of variable tup\n",
    "print(tup)"
   ]
  },
  {
   "cell_type": "markdown",
   "metadata": {},
   "source": [
    "#### Print the type of `tup`. \n",
    "\n",
    "Make sure its type is correct (i.e. *tuple* instead of *str*)."
   ]
  },
  {
   "cell_type": "code",
   "execution_count": null,
   "metadata": {},
   "outputs": [],
   "source": [
    "# Just to check the type of variable tup\n",
    "type(tup) "
   ]
  },
  {
   "cell_type": "markdown",
   "metadata": {},
   "source": [
    "#### Now try to append the following elements to `tup`. \n",
    "\n",
    "Are you able to do it? Explain.\n",
    "\n",
    "```\n",
    "\"r\", \"o\", \"n\", \"h\", \"a\", \"c\", \"k',\n",
    "```"
   ]
  },
  {
   "cell_type": "code",
   "execution_count": null,
   "metadata": {},
   "outputs": [],
   "source": [
    "# Your code here\n",
    "tup ('I',)\n",
    "\n",
    "tup = ('I',)+ 'r'\n",
    "\n",
    "# OR\n",
    "\n",
    "tup.append('r')\n",
    "\n",
    "# Your explanation here\n",
    "# It is not possible to append strings to tuples.\n",
    "# If the following code is run an error will appear. ### tup = ('I',) + 'r' ### or even trying\n",
    "# to use the following code ### tup.append('r') ### After a fast look, it seems that append is\n",
    "# not an available method for tuples"
   ]
  },
  {
   "cell_type": "markdown",
   "metadata": {},
   "source": [
    "#### How about re-assign a new value to an existing tuple?\n",
    "\n",
    "Re-assign the following elements to `tup`. Are you able to do it? Explain.\n",
    "\n",
    "```\n",
    "\"I\", \"r\", \"o\", \"n\", \"h\", \"a\", \"c\", \"k\"\n",
    "```"
   ]
  },
  {
   "cell_type": "code",
   "execution_count": null,
   "metadata": {},
   "outputs": [],
   "source": [
    "# Your code here\n",
    "# tuple defined previously\n",
    "tup = ('I',)\n",
    "print(tup)\n",
    "\n",
    "# tuple to add (\"r\", \"o\", \"n\", \"h\", \"a\", \"c\", \"k\")\n",
    "tup_to_add = (\"r\", \"o\", \"n\", \"h\", \"a\", \"c\", \"k\")\n",
    "print(tup_to_add)\n",
    "\n",
    "# concatenation of two tuples, storing it on the tuple tup defined at the beginning\n",
    "tup = tup + tup_to_add\n",
    "print(tup)\n",
    "\n",
    "# Your explanation here\n",
    "# It is possible to concatenate tuples and re-assign it to the original tuple."
   ]
  },
  {
   "cell_type": "markdown",
   "metadata": {},
   "source": [
    "#### Split `tup` into `tup1` and `tup2` with 4 elements in each. \n",
    "\n",
    "`tup1` should be `(\"I\", \"r\", \"o\", \"n\")` and `tup2` should be `(\"h\", \"a\", \"c\", \"k\")`.\n",
    "\n",
    "*Hint: use positive index numbers for `tup1` assignment and use negative index numbers for `tup2` assignment. Positive index numbers count from the beginning whereas negative index numbers count from the end of the sequence.*\n",
    "\n",
    "Also print `tup1` and `tup2`."
   ]
  },
  {
   "cell_type": "code",
   "execution_count": null,
   "metadata": {},
   "outputs": [],
   "source": [
    "# Your code here\n",
    "# Definition of original tuple\n",
    "tup = ('I', 'r', 'o', 'n', 'h', 'a', 'c', 'k')\n",
    "\n",
    "#Just to check if the length of tuple is an even number\n",
    "print(len(tup))\n",
    "\n",
    "#If it is so, the split of original tuple can be perfomed as below\n",
    "#From the beginning\n",
    "tup1 = tup[:int(len(tup)/2)]\n",
    "print(tup1)\n",
    "\n",
    "#From the end\n",
    "tup2 = tup[-int(len(tup)/2):]\n",
    "print(tup2)"
   ]
  },
  {
   "cell_type": "markdown",
   "metadata": {},
   "source": [
    "#### Add `tup1` and `tup2` into `tup3` using the `+` operator.\n",
    "\n",
    "Then print `tup3` and check if `tup3` equals to `tup`."
   ]
  },
  {
   "cell_type": "code",
   "execution_count": null,
   "metadata": {},
   "outputs": [],
   "source": [
    "# Your code here\n",
    "tup3 = tup1 + tup2\n",
    "print(tup3)\n",
    "\n",
    "#It shal be equal to tuple tup, since the split was based on it."
   ]
  },
  {
   "cell_type": "markdown",
   "metadata": {},
   "source": [
    "#### Count the number of elements in `tup1` and `tup2`. Then add the two counts together and check if the sum is the same as the number of elements in `tup3`"
   ]
  },
  {
   "cell_type": "code",
   "execution_count": null,
   "metadata": {},
   "outputs": [],
   "source": [
    "# Your code here\n",
    "\n",
    "#Initialization of dictionaries\n",
    "count_dict_tup1 = {}\n",
    "count_dict_tup2 = {}\n",
    "count_dict_tup3 = {}\n",
    "\n",
    "# This for loop counts the number of times that each element appears in tup1\n",
    "for element in tup1:\n",
    "    if element in count_dict_tup1.keys():\n",
    "        count_dict_tup1[element] += 1\n",
    "    else:\n",
    "        count_dict_tup1[element] = 1\n",
    "\n",
    "# This for loop counts the number of times that each element appears in tup2\n",
    "for element in tup2:\n",
    "    if element in count_dict_tup2.keys():\n",
    "        count_dict_tup2[element] += 1\n",
    "    else:\n",
    "        count_dict_tup2[element] = 1\n",
    "\n",
    "# This for loop counts the number of times that each element appears in tup3\n",
    "for element in tup3:\n",
    "    if element in count_dict_tup3.keys():\n",
    "        count_dict_tup3[element] += 1\n",
    "    else:\n",
    "        count_dict_tup3[element] = 1\n",
    "\n",
    "# The counter of tup1 (dictionary) was stored in a different dictionary which will be updated\n",
    "# with the items (keys, which are the letters and values, which are the number os times that each\n",
    "# letter occur) of tup2\n",
    "count_dict_concat = count_dict_tup1\n",
    "count_dict_concat.update(count_dict_tup2)\n",
    "\n",
    "# In this part of code the dictionary which contains the data of both tup1 and tup2 \n",
    "# (count_dict_concat) is compared with the dictionary which contains the data of tup3\n",
    "if count_dict_tup3 == count_dict_concat:\n",
    "    print('The concatenated tuple seems to have the same letters with the same numbers of times.')\n",
    "else:\n",
    "    print('Some magic occurred. Please RUUUN!')"
   ]
  },
  {
   "cell_type": "markdown",
   "metadata": {},
   "source": [
    "#### What is the index number of `\"h\"` in `tup3`?"
   ]
  },
  {
   "cell_type": "code",
   "execution_count": null,
   "metadata": {},
   "outputs": [],
   "source": [
    "# Your code here\n",
    "tup3.index('h')\n",
    "\n",
    "#Letter 'h' is the fifth letter of tup3."
   ]
  },
  {
   "cell_type": "markdown",
   "metadata": {},
   "source": [
    "#### Now, use a FOR loop to check whether each letter in the following list is present in `tup3`:\n",
    "\n",
    "```\n",
    "letters = [\"a\", \"b\", \"c\", \"d\", \"e\"]\n",
    "```\n",
    "\n",
    "For each letter you check, print `True` if it is present in `tup3` otherwise print `False`.\n",
    "\n",
    "*Hint: you only need to loop `letters`. You don't need to loop `tup3` because there is a Python operator `in` you can use. See [reference](https://stackoverflow.com/questions/17920147/how-to-check-if-a-tuple-contains-an-element-in-python).*"
   ]
  },
  {
   "cell_type": "code",
   "execution_count": null,
   "metadata": {},
   "outputs": [],
   "source": [
    "# Your code here\n",
    "\n",
    "#Initialization of list letters\n",
    "letters = [\"a\", \"b\", \"c\", \"d\", \"e\"]\n",
    "\n",
    "for i in letters: #It iterates each letter contained in list letters\n",
    "    if i in tup3: \n",
    "        print(i,'---> True') #Action to be performed if the letter of list letters is contained in\n",
    "                             #tuple tup3\n",
    "    else:\n",
    "        print(i,'---> False') #Action to be performed if the letter of list letters is not \n",
    "                              # contained in tuple tup3    "
   ]
  },
  {
   "cell_type": "markdown",
   "metadata": {},
   "source": [
    "#### How many times does each letter in `letters` appear in `tup3`?\n",
    "\n",
    "Print out the number of occurrence of each letter."
   ]
  },
  {
   "cell_type": "code",
   "execution_count": null,
   "metadata": {},
   "outputs": [],
   "source": [
    "# Your code here\n",
    "\n",
    "#Initialization of list letters\n",
    "letters = [\"a\", \"b\", \"c\", \"d\", \"e\"]\n",
    "\n",
    "for i in letters: #It iterates each letter contained in list letters.\n",
    "    print(i, 'from list letters is', tup3.count(i), 'times in tuple tup3.') #The method count()\n",
    "# is used to check the amount of times that each letter that appears in list letters appears in\n",
    "# tuple tup3"
   ]
  }
 ],
 "metadata": {
  "kernelspec": {
   "display_name": "Python 3",
   "language": "python",
   "name": "python3"
  },
  "language_info": {
   "codemirror_mode": {
    "name": "ipython",
    "version": 3
   },
   "file_extension": ".py",
   "mimetype": "text/x-python",
   "name": "python",
   "nbconvert_exporter": "python",
   "pygments_lexer": "ipython3",
   "version": "3.8.8"
  }
 },
 "nbformat": 4,
 "nbformat_minor": 2
}
